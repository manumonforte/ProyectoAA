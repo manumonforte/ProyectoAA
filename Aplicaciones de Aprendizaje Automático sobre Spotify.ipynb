{
 "cells": [
  {
   "cell_type": "markdown",
   "metadata": {},
   "source": [
    "# Aplicaciones de Aprendizaje Automático sobre Spotify "
   ]
  },
  {
   "cell_type": "markdown",
   "metadata": {},
   "source": [
    "## Propósito del documento"
   ]
  },
  {
   "cell_type": "markdown",
   "metadata": {},
   "source": [
    "El objetivo del documento es explicar la aplicación de diferentes técnicas de aprendizaje automático sobre el dataset de [Spotify Tracks DB](https://www.kaggle.com/zaheenhamidani/ultimate-spotify-tracks-db). El objetivo del proyecto será estudiar diferentes configuraciones de las técnicas  para determinar la popularidad que tendrá una canción."
   ]
  },
  {
   "cell_type": "markdown",
   "metadata": {},
   "source": [
    "## Descripción del Dataset"
   ]
  },
  {
   "cell_type": "markdown",
   "metadata": {},
   "source": [
    "El dataset tiene un tamaño de 32,15 MB, contiene 232,725 pistas de música. Los datos para cada una de las pistas de música son los siguientes:\n",
    "- **Genre**: Género (Película, Jazz, Reggaeton...)\n",
    "- **artist_name**: Nombre del artista\n",
    "- **track_name**: Nombre de la pista\n",
    "- **track_id**: El id de Spotify para la pista.\n",
    "- **Popularity**: Ínidice de popularidad de una pista (0- 100)\n",
    "- **Acousticness**: Una medida de confianza de 0.0 a 1.0 de si la pista es acústica. 1,0 representa una alta confianza de que la pista es acústica.\n",
    "- **Danceability**: describe lo adecuado que es un tema para el baile basado en una combinación de elementos musicales como el tempo, la estabilidad del ritmo, la fuerza del compás y la regularidad general. Un valor de 0.0 es el menos bailable y 1.0 es el más bailable. \n",
    "- **Duration_ms**: La duración de la pista en milisegundos.  \n",
    "- **Energy**: La energía es una medida de 0,0 a 1,0 y representa una medida perceptiva de la intensidad y la actividad. Típicamente, las huellas de energía se sienten rápidas, fuertes y ruidosas.\n",
    "- **Instrumentalness**: Predice si una pista no contiene voces. Los sonidos \"Ooh\" y \"aah\" son tratados como instrumentales en este contexto. Las pistas de rap o de palabra hablada son claramente \"vocales\". \n",
    "- **Key**: La clave general estimada de la pista. Los números enteros se asignan a los lanzamientos usando la notación estándar de la clase de lanzamiento. Por ejemplo, 0 = C, 1 = C♯/D♭, 2 = D, y así sucesivamente. Si no se detectó ninguna clave, el valor es -1.\n",
    "- **Liveness**: Detecta la presencia de una audiencia en la grabación ( 1 música en concierto)\n",
    "- **Loudness**: La sonoridad global de una pista en decibelios (dB)\n",
    "- **Mode**: El modo indica la modalidad (mayor o menor) de una pista, el tipo de escala de la que se deriva su contenido melódico. La mayor se representa por 1 y la menor por 0. \n",
    "- **Speechiness**:  detecta la presencia de palabras habladas en una pista\n",
    "- **Tempo**: El tempo global estimado de una pista en pulsaciones por minuto (BPM). En la terminología musical, el tempo es la velocidad o el ritmo de una pieza dada y se deriva directamente de la duración media del tiempo\n",
    "- **Time_signature**: Una firma de tiempo global estimada de una pista. La signatura de tiempo (metro) es una convención notacional para especificar cuántos latidos hay en cada barra (o medida).\n",
    "- **Valence**: Una medida de 0.0 a 1.0 que describe la positividad musical transmitida por una pista (1 muy positivo)"
   ]
  },
  {
   "cell_type": "markdown",
   "metadata": {},
   "source": [
    "## Librerías"
   ]
  },
  {
   "cell_type": "code",
   "execution_count": 1,
   "metadata": {},
   "outputs": [
    {
     "name": "stdout",
     "output_type": "stream",
     "text": [
      "Requirement already up-to-date: category_encoders in c:\\users\\manu_\\anaconda3\\lib\\site-packages (2.2.2)\n",
      "Requirement already satisfied, skipping upgrade: statsmodels>=0.9.0 in c:\\users\\manu_\\anaconda3\\lib\\site-packages (from category_encoders) (0.9.0)\n",
      "Requirement already satisfied, skipping upgrade: patsy>=0.5.1 in c:\\users\\manu_\\anaconda3\\lib\\site-packages (from category_encoders) (0.5.1)\n",
      "Requirement already satisfied, skipping upgrade: pandas>=0.21.1 in c:\\users\\manu_\\anaconda3\\lib\\site-packages (from category_encoders) (0.24.2)\n",
      "Requirement already satisfied, skipping upgrade: scipy>=1.0.0 in c:\\users\\manu_\\anaconda3\\lib\\site-packages (from category_encoders) (1.4.1)\n",
      "Requirement already satisfied, skipping upgrade: scikit-learn>=0.20.0 in c:\\users\\manu_\\anaconda3\\lib\\site-packages (from category_encoders) (0.20.3)\n",
      "Requirement already satisfied, skipping upgrade: numpy>=1.14.0 in c:\\users\\manu_\\anaconda3\\lib\\site-packages (from category_encoders) (1.16.2)\n",
      "Requirement already satisfied, skipping upgrade: six in c:\\users\\manu_\\anaconda3\\lib\\site-packages (from patsy>=0.5.1->category_encoders) (1.12.0)\n",
      "Requirement already satisfied, skipping upgrade: python-dateutil>=2.5.0 in c:\\users\\manu_\\anaconda3\\lib\\site-packages (from pandas>=0.21.1->category_encoders) (2.8.0)\n",
      "Requirement already satisfied, skipping upgrade: pytz>=2011k in c:\\users\\manu_\\anaconda3\\lib\\site-packages (from pandas>=0.21.1->category_encoders) (2018.9)\n"
     ]
    }
   ],
   "source": [
    "!pip install --upgrade category_encoders"
   ]
  },
  {
   "cell_type": "code",
   "execution_count": 2,
   "metadata": {},
   "outputs": [],
   "source": [
    "import pandas as pd\n",
    "import numpy as np\n",
    "from numpy import argmax\n",
    "from sklearn.preprocessing import LabelBinarizer\n",
    "import numpy.ma as ma\n",
    "from sklearn.linear_model import LogisticRegression\n",
    "from sklearn.svm import SVC\n",
    "from sklearn.metrics import accuracy_score\n",
    "\n",
    "from numpy import inf\n",
    "from pandas.io.parsers import read_csv\n",
    "from matplotlib import pyplot as plt\n",
    "from matplotlib import cm\n",
    "from matplotlib.ticker import LinearLocator, FormatStrFormatter\n",
    "from mpl_toolkits.mplot3d import Axes3D\n",
    "import warnings\n",
    "warnings.filterwarnings('ignore')\n",
    "\n",
    "###########################\n",
    "####     OUR CLASES     ###\n",
    "###########################\n",
    "from LogisticRegression import OurLogisticRegression"
   ]
  },
  {
   "cell_type": "markdown",
   "metadata": {},
   "source": [
    "## Lectura de Datos"
   ]
  },
  {
   "cell_type": "code",
   "execution_count": 3,
   "metadata": {},
   "outputs": [],
   "source": [
    "data = pd.read_csv(\"data/SpotifyFeatures.csv\")"
   ]
  },
  {
   "cell_type": "code",
   "execution_count": 4,
   "metadata": {},
   "outputs": [
    {
     "data": {
      "text/plain": [
       "(232725, 18)"
      ]
     },
     "execution_count": 4,
     "metadata": {},
     "output_type": "execute_result"
    }
   ],
   "source": [
    "data.shape"
   ]
  },
  {
   "cell_type": "code",
   "execution_count": 5,
   "metadata": {},
   "outputs": [
    {
     "data": {
      "text/html": [
       "<div>\n",
       "<style scoped>\n",
       "    .dataframe tbody tr th:only-of-type {\n",
       "        vertical-align: middle;\n",
       "    }\n",
       "\n",
       "    .dataframe tbody tr th {\n",
       "        vertical-align: top;\n",
       "    }\n",
       "\n",
       "    .dataframe thead th {\n",
       "        text-align: right;\n",
       "    }\n",
       "</style>\n",
       "<table border=\"1\" class=\"dataframe\">\n",
       "  <thead>\n",
       "    <tr style=\"text-align: right;\">\n",
       "      <th></th>\n",
       "      <th>genre</th>\n",
       "      <th>artist_name</th>\n",
       "      <th>track_name</th>\n",
       "      <th>track_id</th>\n",
       "      <th>popularity</th>\n",
       "      <th>acousticness</th>\n",
       "      <th>danceability</th>\n",
       "      <th>duration_ms</th>\n",
       "      <th>energy</th>\n",
       "      <th>instrumentalness</th>\n",
       "      <th>key</th>\n",
       "      <th>liveness</th>\n",
       "      <th>loudness</th>\n",
       "      <th>mode</th>\n",
       "      <th>speechiness</th>\n",
       "      <th>tempo</th>\n",
       "      <th>time_signature</th>\n",
       "      <th>valence</th>\n",
       "    </tr>\n",
       "  </thead>\n",
       "  <tbody>\n",
       "    <tr>\n",
       "      <th>0</th>\n",
       "      <td>Movie</td>\n",
       "      <td>Henri Salvador</td>\n",
       "      <td>C'est beau de faire un Show</td>\n",
       "      <td>0BRjO6ga9RKCKjfDqeFgWV</td>\n",
       "      <td>0</td>\n",
       "      <td>0.611</td>\n",
       "      <td>0.389</td>\n",
       "      <td>99373</td>\n",
       "      <td>0.910</td>\n",
       "      <td>0.000</td>\n",
       "      <td>C#</td>\n",
       "      <td>0.3460</td>\n",
       "      <td>-1.828</td>\n",
       "      <td>Major</td>\n",
       "      <td>0.0525</td>\n",
       "      <td>166.969</td>\n",
       "      <td>4/4</td>\n",
       "      <td>0.814</td>\n",
       "    </tr>\n",
       "    <tr>\n",
       "      <th>1</th>\n",
       "      <td>Movie</td>\n",
       "      <td>Martin &amp; les fées</td>\n",
       "      <td>Perdu d'avance (par Gad Elmaleh)</td>\n",
       "      <td>0BjC1NfoEOOusryehmNudP</td>\n",
       "      <td>1</td>\n",
       "      <td>0.246</td>\n",
       "      <td>0.590</td>\n",
       "      <td>137373</td>\n",
       "      <td>0.737</td>\n",
       "      <td>0.000</td>\n",
       "      <td>F#</td>\n",
       "      <td>0.1510</td>\n",
       "      <td>-5.559</td>\n",
       "      <td>Minor</td>\n",
       "      <td>0.0868</td>\n",
       "      <td>174.003</td>\n",
       "      <td>4/4</td>\n",
       "      <td>0.816</td>\n",
       "    </tr>\n",
       "    <tr>\n",
       "      <th>2</th>\n",
       "      <td>Movie</td>\n",
       "      <td>Joseph Williams</td>\n",
       "      <td>Don't Let Me Be Lonely Tonight</td>\n",
       "      <td>0CoSDzoNIKCRs124s9uTVy</td>\n",
       "      <td>3</td>\n",
       "      <td>0.952</td>\n",
       "      <td>0.663</td>\n",
       "      <td>170267</td>\n",
       "      <td>0.131</td>\n",
       "      <td>0.000</td>\n",
       "      <td>C</td>\n",
       "      <td>0.1030</td>\n",
       "      <td>-13.879</td>\n",
       "      <td>Minor</td>\n",
       "      <td>0.0362</td>\n",
       "      <td>99.488</td>\n",
       "      <td>5/4</td>\n",
       "      <td>0.368</td>\n",
       "    </tr>\n",
       "    <tr>\n",
       "      <th>3</th>\n",
       "      <td>Movie</td>\n",
       "      <td>Henri Salvador</td>\n",
       "      <td>Dis-moi Monsieur Gordon Cooper</td>\n",
       "      <td>0Gc6TVm52BwZD07Ki6tIvf</td>\n",
       "      <td>0</td>\n",
       "      <td>0.703</td>\n",
       "      <td>0.240</td>\n",
       "      <td>152427</td>\n",
       "      <td>0.326</td>\n",
       "      <td>0.000</td>\n",
       "      <td>C#</td>\n",
       "      <td>0.0985</td>\n",
       "      <td>-12.178</td>\n",
       "      <td>Major</td>\n",
       "      <td>0.0395</td>\n",
       "      <td>171.758</td>\n",
       "      <td>4/4</td>\n",
       "      <td>0.227</td>\n",
       "    </tr>\n",
       "    <tr>\n",
       "      <th>4</th>\n",
       "      <td>Movie</td>\n",
       "      <td>Fabien Nataf</td>\n",
       "      <td>Ouverture</td>\n",
       "      <td>0IuslXpMROHdEPvSl1fTQK</td>\n",
       "      <td>4</td>\n",
       "      <td>0.950</td>\n",
       "      <td>0.331</td>\n",
       "      <td>82625</td>\n",
       "      <td>0.225</td>\n",
       "      <td>0.123</td>\n",
       "      <td>F</td>\n",
       "      <td>0.2020</td>\n",
       "      <td>-21.150</td>\n",
       "      <td>Major</td>\n",
       "      <td>0.0456</td>\n",
       "      <td>140.576</td>\n",
       "      <td>4/4</td>\n",
       "      <td>0.390</td>\n",
       "    </tr>\n",
       "  </tbody>\n",
       "</table>\n",
       "</div>"
      ],
      "text/plain": [
       "   genre        artist_name                        track_name  \\\n",
       "0  Movie     Henri Salvador       C'est beau de faire un Show   \n",
       "1  Movie  Martin & les fées  Perdu d'avance (par Gad Elmaleh)   \n",
       "2  Movie    Joseph Williams    Don't Let Me Be Lonely Tonight   \n",
       "3  Movie     Henri Salvador    Dis-moi Monsieur Gordon Cooper   \n",
       "4  Movie       Fabien Nataf                         Ouverture   \n",
       "\n",
       "                 track_id  popularity  acousticness  danceability  \\\n",
       "0  0BRjO6ga9RKCKjfDqeFgWV           0         0.611         0.389   \n",
       "1  0BjC1NfoEOOusryehmNudP           1         0.246         0.590   \n",
       "2  0CoSDzoNIKCRs124s9uTVy           3         0.952         0.663   \n",
       "3  0Gc6TVm52BwZD07Ki6tIvf           0         0.703         0.240   \n",
       "4  0IuslXpMROHdEPvSl1fTQK           4         0.950         0.331   \n",
       "\n",
       "   duration_ms  energy  instrumentalness key  liveness  loudness   mode  \\\n",
       "0        99373   0.910             0.000  C#    0.3460    -1.828  Major   \n",
       "1       137373   0.737             0.000  F#    0.1510    -5.559  Minor   \n",
       "2       170267   0.131             0.000   C    0.1030   -13.879  Minor   \n",
       "3       152427   0.326             0.000  C#    0.0985   -12.178  Major   \n",
       "4        82625   0.225             0.123   F    0.2020   -21.150  Major   \n",
       "\n",
       "   speechiness    tempo time_signature  valence  \n",
       "0       0.0525  166.969            4/4    0.814  \n",
       "1       0.0868  174.003            4/4    0.816  \n",
       "2       0.0362   99.488            5/4    0.368  \n",
       "3       0.0395  171.758            4/4    0.227  \n",
       "4       0.0456  140.576            4/4    0.390  "
      ]
     },
     "execution_count": 5,
     "metadata": {},
     "output_type": "execute_result"
    }
   ],
   "source": [
    "data.head(5)"
   ]
  },
  {
   "cell_type": "markdown",
   "metadata": {},
   "source": [
    "### Selección de variables dependientes ( x<sub>1 </sub>... x<sub>n </sub>) y Variable objetivo (y)"
   ]
  },
  {
   "cell_type": "markdown",
   "metadata": {},
   "source": [
    "Las variables dependientes serán:\n",
    "- acousticness\n",
    "- danceability\n",
    "- duration_ms\n",
    "- energy\n",
    "- instrumentalness\n",
    "- key\n",
    "- liveness \n",
    "- mode\n",
    "- speechiness\n",
    "- tempo\n",
    "- time_signature\n",
    "- valence\n",
    "- genre\n",
    "\n",
    "La variable objetivo será la popularidad de la canción"
   ]
  },
  {
   "cell_type": "code",
   "execution_count": 6,
   "metadata": {},
   "outputs": [],
   "source": [
    "features = ['acousticness', 'danceability', 'duration_ms', 'energy',\n",
    "       'instrumentalness', 'liveness', 'mode',\n",
    "       'speechiness', 'tempo', 'valence', 'A', 'A#', 'B',\n",
    "       'C', 'C#', 'D', 'D#', 'E', 'F', 'F#', 'G', 'G#', 'A Capella',\n",
    "       'Alternative', 'Anime', 'Blues', \"Children's Music\",\n",
    "       'Classical', 'Comedy', 'Country', 'Dance', 'Electronic', 'Folk',\n",
    "       'Hip-Hop', 'Indie', 'Jazz', 'Movie', 'Opera', 'Pop', 'R&B', 'Rap',\n",
    "       'Reggae', 'Reggaeton', 'Rock', 'Ska', 'Soul', 'Soundtrack', 'World']\n",
    "target = 'popularity'\n",
    "target_classified = 'popularity_class'"
   ]
  },
  {
   "cell_type": "markdown",
   "metadata": {},
   "source": [
    "## Preprocesamiento"
   ]
  },
  {
   "cell_type": "markdown",
   "metadata": {},
   "source": [
    "Antes de la elaboración de los modelos y las prueba de los mismos con diferentes configuraciones, debemos realizar un preoprocesado de los datos, en aquellas columnas que han sido seleccionadas para pertencer a los ejemplos de entrenamiento y no son númericas"
   ]
  },
  {
   "cell_type": "markdown",
   "metadata": {},
   "source": [
    "#### Columna mode"
   ]
  },
  {
   "cell_type": "markdown",
   "metadata": {},
   "source": [
    "Primero comprobaremos los diferentesvalores que tiene la columna"
   ]
  },
  {
   "cell_type": "code",
   "execution_count": 7,
   "metadata": {},
   "outputs": [
    {
     "data": {
      "text/plain": [
       "array(['Major', 'Minor'], dtype=object)"
      ]
     },
     "execution_count": 7,
     "metadata": {},
     "output_type": "execute_result"
    }
   ],
   "source": [
    "data['mode'].unique()"
   ]
  },
  {
   "cell_type": "markdown",
   "metadata": {},
   "source": [
    "Como podemos comprobar la columna solo tiene valores Minor & Major, por ello, se colocará un 0 cuando el valor de la celda sea Minor y un 1 cuando el valor de la celda sea Major."
   ]
  },
  {
   "cell_type": "code",
   "execution_count": 8,
   "metadata": {},
   "outputs": [
    {
     "data": {
      "text/html": [
       "<div>\n",
       "<style scoped>\n",
       "    .dataframe tbody tr th:only-of-type {\n",
       "        vertical-align: middle;\n",
       "    }\n",
       "\n",
       "    .dataframe tbody tr th {\n",
       "        vertical-align: top;\n",
       "    }\n",
       "\n",
       "    .dataframe thead th {\n",
       "        text-align: right;\n",
       "    }\n",
       "</style>\n",
       "<table border=\"1\" class=\"dataframe\">\n",
       "  <thead>\n",
       "    <tr style=\"text-align: right;\">\n",
       "      <th></th>\n",
       "      <th>genre</th>\n",
       "      <th>artist_name</th>\n",
       "      <th>track_name</th>\n",
       "      <th>track_id</th>\n",
       "      <th>popularity</th>\n",
       "      <th>acousticness</th>\n",
       "      <th>danceability</th>\n",
       "      <th>duration_ms</th>\n",
       "      <th>energy</th>\n",
       "      <th>instrumentalness</th>\n",
       "      <th>key</th>\n",
       "      <th>liveness</th>\n",
       "      <th>loudness</th>\n",
       "      <th>mode</th>\n",
       "      <th>speechiness</th>\n",
       "      <th>tempo</th>\n",
       "      <th>time_signature</th>\n",
       "      <th>valence</th>\n",
       "    </tr>\n",
       "  </thead>\n",
       "  <tbody>\n",
       "    <tr>\n",
       "      <th>205269</th>\n",
       "      <td>Soundtrack</td>\n",
       "      <td>John Debney</td>\n",
       "      <td>Peaceful But Primitive / Procession</td>\n",
       "      <td>0kLUHkrrTK4TmtbIOOuoCg</td>\n",
       "      <td>29</td>\n",
       "      <td>0.46200</td>\n",
       "      <td>0.172</td>\n",
       "      <td>216173</td>\n",
       "      <td>0.116</td>\n",
       "      <td>0.96000</td>\n",
       "      <td>C</td>\n",
       "      <td>0.110</td>\n",
       "      <td>-20.957</td>\n",
       "      <td>1</td>\n",
       "      <td>0.0391</td>\n",
       "      <td>114.353</td>\n",
       "      <td>5/4</td>\n",
       "      <td>0.0399</td>\n",
       "    </tr>\n",
       "    <tr>\n",
       "      <th>140932</th>\n",
       "      <td>Indie</td>\n",
       "      <td>Foreign Air</td>\n",
       "      <td>Everything Is Good Now</td>\n",
       "      <td>6DVLyw8MXDpyM6bm1UWZE3</td>\n",
       "      <td>45</td>\n",
       "      <td>0.13100</td>\n",
       "      <td>0.533</td>\n",
       "      <td>178680</td>\n",
       "      <td>0.720</td>\n",
       "      <td>0.00417</td>\n",
       "      <td>B</td>\n",
       "      <td>0.203</td>\n",
       "      <td>-5.485</td>\n",
       "      <td>1</td>\n",
       "      <td>0.0247</td>\n",
       "      <td>97.023</td>\n",
       "      <td>4/4</td>\n",
       "      <td>0.5980</td>\n",
       "    </tr>\n",
       "    <tr>\n",
       "      <th>145124</th>\n",
       "      <td>Indie</td>\n",
       "      <td>Tennyson</td>\n",
       "      <td>Lay-by</td>\n",
       "      <td>4l6Ni4ym9y3am94yvuKHcY</td>\n",
       "      <td>47</td>\n",
       "      <td>0.00671</td>\n",
       "      <td>0.313</td>\n",
       "      <td>271333</td>\n",
       "      <td>0.466</td>\n",
       "      <td>0.93300</td>\n",
       "      <td>A</td>\n",
       "      <td>0.427</td>\n",
       "      <td>-9.963</td>\n",
       "      <td>0</td>\n",
       "      <td>0.0341</td>\n",
       "      <td>175.563</td>\n",
       "      <td>3/4</td>\n",
       "      <td>0.1620</td>\n",
       "    </tr>\n",
       "    <tr>\n",
       "      <th>152339</th>\n",
       "      <td>R&amp;B</td>\n",
       "      <td>Ella Mai</td>\n",
       "      <td>Naked - Bonus Track</td>\n",
       "      <td>0SbOpoBzBBCqWIcvo94JeD</td>\n",
       "      <td>73</td>\n",
       "      <td>0.78200</td>\n",
       "      <td>0.356</td>\n",
       "      <td>197183</td>\n",
       "      <td>0.388</td>\n",
       "      <td>0.00000</td>\n",
       "      <td>A</td>\n",
       "      <td>0.109</td>\n",
       "      <td>-8.532</td>\n",
       "      <td>1</td>\n",
       "      <td>0.0652</td>\n",
       "      <td>175.123</td>\n",
       "      <td>4/4</td>\n",
       "      <td>0.5730</td>\n",
       "    </tr>\n",
       "    <tr>\n",
       "      <th>75262</th>\n",
       "      <td>Children's Music</td>\n",
       "      <td>Radha</td>\n",
       "      <td>Hokey Tokey</td>\n",
       "      <td>0X2NarN0QYahyMvbBZjZZf</td>\n",
       "      <td>0</td>\n",
       "      <td>0.31100</td>\n",
       "      <td>0.614</td>\n",
       "      <td>373733</td>\n",
       "      <td>0.397</td>\n",
       "      <td>0.00000</td>\n",
       "      <td>C</td>\n",
       "      <td>0.434</td>\n",
       "      <td>-8.606</td>\n",
       "      <td>1</td>\n",
       "      <td>0.3890</td>\n",
       "      <td>72.237</td>\n",
       "      <td>4/4</td>\n",
       "      <td>0.5410</td>\n",
       "    </tr>\n",
       "  </tbody>\n",
       "</table>\n",
       "</div>"
      ],
      "text/plain": [
       "                   genre  artist_name                           track_name  \\\n",
       "205269        Soundtrack  John Debney  Peaceful But Primitive / Procession   \n",
       "140932             Indie  Foreign Air               Everything Is Good Now   \n",
       "145124             Indie     Tennyson                               Lay-by   \n",
       "152339               R&B     Ella Mai                  Naked - Bonus Track   \n",
       "75262   Children's Music        Radha                          Hokey Tokey   \n",
       "\n",
       "                      track_id  popularity  acousticness  danceability  \\\n",
       "205269  0kLUHkrrTK4TmtbIOOuoCg          29       0.46200         0.172   \n",
       "140932  6DVLyw8MXDpyM6bm1UWZE3          45       0.13100         0.533   \n",
       "145124  4l6Ni4ym9y3am94yvuKHcY          47       0.00671         0.313   \n",
       "152339  0SbOpoBzBBCqWIcvo94JeD          73       0.78200         0.356   \n",
       "75262   0X2NarN0QYahyMvbBZjZZf           0       0.31100         0.614   \n",
       "\n",
       "        duration_ms  energy  instrumentalness key  liveness  loudness  mode  \\\n",
       "205269       216173   0.116           0.96000   C     0.110   -20.957     1   \n",
       "140932       178680   0.720           0.00417   B     0.203    -5.485     1   \n",
       "145124       271333   0.466           0.93300   A     0.427    -9.963     0   \n",
       "152339       197183   0.388           0.00000   A     0.109    -8.532     1   \n",
       "75262        373733   0.397           0.00000   C     0.434    -8.606     1   \n",
       "\n",
       "        speechiness    tempo time_signature  valence  \n",
       "205269       0.0391  114.353            5/4   0.0399  \n",
       "140932       0.0247   97.023            4/4   0.5980  \n",
       "145124       0.0341  175.563            3/4   0.1620  \n",
       "152339       0.0652  175.123            4/4   0.5730  \n",
       "75262        0.3890   72.237            4/4   0.5410  "
      ]
     },
     "execution_count": 8,
     "metadata": {},
     "output_type": "execute_result"
    }
   ],
   "source": [
    "data.loc[data['mode'] == 'Minor', 'mode'] = 0\n",
    "data.loc[data['mode'] == 'Major', 'mode'] = 1\n",
    "data.sample(5)"
   ]
  },
  {
   "cell_type": "markdown",
   "metadata": {},
   "source": [
    "#### Columna key"
   ]
  },
  {
   "cell_type": "markdown",
   "metadata": {},
   "source": [
    "Tras leer varios artículos, hemos aprendido que no es bueno que en columna con muchos posibles valores categóricos, transformarla en una columna solo con valores que representen al valor categórico, ya que los algunos modelos asignan mayor importancia a valores más altos, poor ello debemos creearnos columnas de tipo bool con nombres de los valores categóricos y poner un 1 si se trata de este valor categórico y cero en caso contrario, esta técnica se denomina OneHotEncoder. Procedemos a crearlas:"
   ]
  },
  {
   "cell_type": "code",
   "execution_count": 9,
   "metadata": {},
   "outputs": [],
   "source": [
    "lb = LabelBinarizer()\n",
    "data = data.join(pd.DataFrame(lb.fit_transform(data[\"key\"]),columns=lb.classes_,index=data.index))"
   ]
  },
  {
   "cell_type": "markdown",
   "metadata": {},
   "source": [
    "#### Columna Genre"
   ]
  },
  {
   "cell_type": "code",
   "execution_count": 10,
   "metadata": {},
   "outputs": [],
   "source": [
    "lb = LabelBinarizer()\n",
    "data = data.join(pd.DataFrame(lb.fit_transform(data[\"genre\"]),columns=lb.classes_,index=data.index))"
   ]
  },
  {
   "cell_type": "markdown",
   "metadata": {},
   "source": [
    "#### Generar variable objetivo multiclase"
   ]
  },
  {
   "cell_type": "markdown",
   "metadata": {},
   "source": [
    "Previamente, dado que actuamente la variable popularidad es una variable continua deberemos discretizarla,para ello se crearán las siguientes clases:\n",
    "- Alta (2): Popularidad > 70\n",
    "- Popularidad Media (1) : 40 <= Popularidad <= 70\n",
    "- Popularidad Baja (0): Popularidad < 40"
   ]
  },
  {
   "cell_type": "code",
   "execution_count": 11,
   "metadata": {},
   "outputs": [],
   "source": [
    "def label (row):\n",
    "    if row['popularity'] < 40  :\n",
    "        return 0\n",
    "    elif row['popularity'] > 70 :\n",
    "        return 2\n",
    "    return 1"
   ]
  },
  {
   "cell_type": "code",
   "execution_count": 12,
   "metadata": {},
   "outputs": [],
   "source": [
    "data['popularity_class'] = data.apply (lambda row: label(row), axis=1)"
   ]
  },
  {
   "cell_type": "markdown",
   "metadata": {},
   "source": [
    "### Selección conjunto entrenamiento, validación, test"
   ]
  },
  {
   "cell_type": "markdown",
   "metadata": {},
   "source": [
    "A lo largo del proyecto se utilizarán tres conjuntos de datos para la realización de pruebas:\n",
    "- **Entrenamiento**: 70% de las pistas de música\n",
    "- **Validación**: 20% de las pistas de música\n",
    "- **Test**: 10% de las pistas de música"
   ]
  },
  {
   "cell_type": "code",
   "execution_count": 13,
   "metadata": {},
   "outputs": [],
   "source": [
    "data = data.sample(frac=1)"
   ]
  },
  {
   "cell_type": "code",
   "execution_count": 14,
   "metadata": {},
   "outputs": [
    {
     "data": {
      "text/html": [
       "<div>\n",
       "<style scoped>\n",
       "    .dataframe tbody tr th:only-of-type {\n",
       "        vertical-align: middle;\n",
       "    }\n",
       "\n",
       "    .dataframe tbody tr th {\n",
       "        vertical-align: top;\n",
       "    }\n",
       "\n",
       "    .dataframe thead th {\n",
       "        text-align: right;\n",
       "    }\n",
       "</style>\n",
       "<table border=\"1\" class=\"dataframe\">\n",
       "  <thead>\n",
       "    <tr style=\"text-align: right;\">\n",
       "      <th></th>\n",
       "      <th>genre</th>\n",
       "      <th>artist_name</th>\n",
       "      <th>track_name</th>\n",
       "      <th>track_id</th>\n",
       "      <th>popularity</th>\n",
       "      <th>acousticness</th>\n",
       "      <th>danceability</th>\n",
       "      <th>duration_ms</th>\n",
       "      <th>energy</th>\n",
       "      <th>instrumentalness</th>\n",
       "      <th>...</th>\n",
       "      <th>R&amp;B</th>\n",
       "      <th>Rap</th>\n",
       "      <th>Reggae</th>\n",
       "      <th>Reggaeton</th>\n",
       "      <th>Rock</th>\n",
       "      <th>Ska</th>\n",
       "      <th>Soul</th>\n",
       "      <th>Soundtrack</th>\n",
       "      <th>World</th>\n",
       "      <th>popularity_class</th>\n",
       "    </tr>\n",
       "  </thead>\n",
       "  <tbody>\n",
       "    <tr>\n",
       "      <th>204072</th>\n",
       "      <td>Soundtrack</td>\n",
       "      <td>James Horner</td>\n",
       "      <td>I See You (From \"Avatar\")</td>\n",
       "      <td>1I8oH6Bbh110fOOvuHGGEC</td>\n",
       "      <td>35</td>\n",
       "      <td>0.923000</td>\n",
       "      <td>0.176</td>\n",
       "      <td>280573</td>\n",
       "      <td>0.184</td>\n",
       "      <td>0.755</td>\n",
       "      <td>...</td>\n",
       "      <td>0</td>\n",
       "      <td>0</td>\n",
       "      <td>0</td>\n",
       "      <td>0</td>\n",
       "      <td>0</td>\n",
       "      <td>0</td>\n",
       "      <td>0</td>\n",
       "      <td>1</td>\n",
       "      <td>0</td>\n",
       "      <td>0</td>\n",
       "    </tr>\n",
       "    <tr>\n",
       "      <th>970</th>\n",
       "      <td>Country</td>\n",
       "      <td>Bottleneck</td>\n",
       "      <td>Off the Rails (feat. Upchurch)</td>\n",
       "      <td>46EBSHECmtgkJUZZwTXebE</td>\n",
       "      <td>43</td>\n",
       "      <td>0.026300</td>\n",
       "      <td>0.739</td>\n",
       "      <td>192327</td>\n",
       "      <td>0.914</td>\n",
       "      <td>0.000</td>\n",
       "      <td>...</td>\n",
       "      <td>0</td>\n",
       "      <td>0</td>\n",
       "      <td>0</td>\n",
       "      <td>0</td>\n",
       "      <td>0</td>\n",
       "      <td>0</td>\n",
       "      <td>0</td>\n",
       "      <td>0</td>\n",
       "      <td>0</td>\n",
       "      <td>1</td>\n",
       "    </tr>\n",
       "    <tr>\n",
       "      <th>2969</th>\n",
       "      <td>Alternative</td>\n",
       "      <td>Three Days Grace</td>\n",
       "      <td>Gone Forever</td>\n",
       "      <td>2Xe2YAxNPqWCNpZ8RagBdO</td>\n",
       "      <td>57</td>\n",
       "      <td>0.017500</td>\n",
       "      <td>0.409</td>\n",
       "      <td>221093</td>\n",
       "      <td>0.761</td>\n",
       "      <td>0.000</td>\n",
       "      <td>...</td>\n",
       "      <td>0</td>\n",
       "      <td>0</td>\n",
       "      <td>0</td>\n",
       "      <td>0</td>\n",
       "      <td>0</td>\n",
       "      <td>0</td>\n",
       "      <td>0</td>\n",
       "      <td>0</td>\n",
       "      <td>0</td>\n",
       "      <td>1</td>\n",
       "    </tr>\n",
       "    <tr>\n",
       "      <th>187782</th>\n",
       "      <td>Ska</td>\n",
       "      <td>Strung Out</td>\n",
       "      <td>Never Speak Again</td>\n",
       "      <td>6FFkdcbOojABjexNBuIlk8</td>\n",
       "      <td>25</td>\n",
       "      <td>0.000037</td>\n",
       "      <td>0.239</td>\n",
       "      <td>241627</td>\n",
       "      <td>0.947</td>\n",
       "      <td>0.772</td>\n",
       "      <td>...</td>\n",
       "      <td>0</td>\n",
       "      <td>0</td>\n",
       "      <td>0</td>\n",
       "      <td>0</td>\n",
       "      <td>0</td>\n",
       "      <td>1</td>\n",
       "      <td>0</td>\n",
       "      <td>0</td>\n",
       "      <td>0</td>\n",
       "      <td>0</td>\n",
       "    </tr>\n",
       "    <tr>\n",
       "      <th>163892</th>\n",
       "      <td>Reggaeton</td>\n",
       "      <td>Son Tentacion</td>\n",
       "      <td>Con la Misma Moneda</td>\n",
       "      <td>0XqXQR4GThOnJxbJ1MNYng</td>\n",
       "      <td>37</td>\n",
       "      <td>0.398000</td>\n",
       "      <td>0.697</td>\n",
       "      <td>258587</td>\n",
       "      <td>0.621</td>\n",
       "      <td>0.000</td>\n",
       "      <td>...</td>\n",
       "      <td>0</td>\n",
       "      <td>0</td>\n",
       "      <td>0</td>\n",
       "      <td>1</td>\n",
       "      <td>0</td>\n",
       "      <td>0</td>\n",
       "      <td>0</td>\n",
       "      <td>0</td>\n",
       "      <td>0</td>\n",
       "      <td>0</td>\n",
       "    </tr>\n",
       "  </tbody>\n",
       "</table>\n",
       "<p>5 rows × 58 columns</p>\n",
       "</div>"
      ],
      "text/plain": [
       "              genre       artist_name                      track_name  \\\n",
       "204072   Soundtrack      James Horner       I See You (From \"Avatar\")   \n",
       "970         Country        Bottleneck  Off the Rails (feat. Upchurch)   \n",
       "2969    Alternative  Three Days Grace                    Gone Forever   \n",
       "187782          Ska        Strung Out               Never Speak Again   \n",
       "163892    Reggaeton     Son Tentacion             Con la Misma Moneda   \n",
       "\n",
       "                      track_id  popularity  acousticness  danceability  \\\n",
       "204072  1I8oH6Bbh110fOOvuHGGEC          35      0.923000         0.176   \n",
       "970     46EBSHECmtgkJUZZwTXebE          43      0.026300         0.739   \n",
       "2969    2Xe2YAxNPqWCNpZ8RagBdO          57      0.017500         0.409   \n",
       "187782  6FFkdcbOojABjexNBuIlk8          25      0.000037         0.239   \n",
       "163892  0XqXQR4GThOnJxbJ1MNYng          37      0.398000         0.697   \n",
       "\n",
       "        duration_ms  energy  instrumentalness  ... R&B  Rap  Reggae  \\\n",
       "204072       280573   0.184             0.755  ...   0    0       0   \n",
       "970          192327   0.914             0.000  ...   0    0       0   \n",
       "2969         221093   0.761             0.000  ...   0    0       0   \n",
       "187782       241627   0.947             0.772  ...   0    0       0   \n",
       "163892       258587   0.621             0.000  ...   0    0       0   \n",
       "\n",
       "        Reggaeton  Rock  Ska Soul  Soundtrack  World  popularity_class  \n",
       "204072          0     0    0    0           1      0                 0  \n",
       "970             0     0    0    0           0      0                 1  \n",
       "2969            0     0    0    0           0      0                 1  \n",
       "187782          0     0    1    0           0      0                 0  \n",
       "163892          1     0    0    0           0      0                 0  \n",
       "\n",
       "[5 rows x 58 columns]"
      ]
     },
     "execution_count": 14,
     "metadata": {},
     "output_type": "execute_result"
    }
   ],
   "source": [
    "data.sample(5)"
   ]
  },
  {
   "cell_type": "code",
   "execution_count": 15,
   "metadata": {},
   "outputs": [],
   "source": [
    "train = data[:int(data.shape[0] * 0.7)]\n",
    "val = data[int(data.shape[0] * 0.7):int(data.shape[0] * 0.9)]\n",
    "test = data[int(data.shape[0] * 0.9):]"
   ]
  },
  {
   "cell_type": "code",
   "execution_count": 16,
   "metadata": {},
   "outputs": [
    {
     "name": "stdout",
     "output_type": "stream",
     "text": [
      "La estructura del dataframe de Test es (162907, 58)\n",
      "La estructura del dataframe de Test es (46545, 58)\n",
      "La estructura del dataframe de Test es (23273, 58)\n"
     ]
    }
   ],
   "source": [
    "print('La estructura del dataframe de Test es {}'.format(train.shape))\n",
    "print('La estructura del dataframe de Test es {}'.format(val.shape))\n",
    "print('La estructura del dataframe de Test es {}'.format(test.shape))"
   ]
  },
  {
   "cell_type": "markdown",
   "metadata": {},
   "source": [
    "## Regresión Lineal"
   ]
  },
  {
   "cell_type": "markdown",
   "metadata": {},
   "source": [
    "- Separamos datos en entrenamiento, validación y test\n",
    "- Normalizamos datos\n",
    "- Averiguamos coste y thethas optimas (linearCostGrad y después optimize)\n",
    "- ¿Se usa la funcion optimice de scipy (como en la practica 5 de Regresión Lineal Regularizada)? ¿O se hace todo con nuestro código como en la práctica 1?\n",
    "- Pintamos error en datos de entrenamiento y de validación.\n",
    "- Elegimos parámetro de regularización.\n",
    "- Creamos modelo.\n"
   ]
  },
  {
   "cell_type": "code",
   "execution_count": 17,
   "metadata": {},
   "outputs": [],
   "source": [
    "def cost(thetas, X, Y, reg=0):\n",
    "    m = X.shape[0]\n",
    "    H = np.dot(X, thetas)\n",
    "    cost = (1/(2*m)) * np.sum((H-Y.T)**2) + ( reg / (2 * m) ) * np.sum(thetas[1:]**2)\n",
    "    return cost\n",
    "\n",
    "def gradient(thetas, X, Y, reg=0):\n",
    "    tt = np.copy(thetas)\n",
    "    tt[0]=0\n",
    "    m = X.shape[0]\n",
    "    H = np.dot(X, thetas)\n",
    "    gradient = ((1 / m) * np.dot(H-Y.T,X)) + ((reg/m) * tt)\n",
    "    return gradient\n",
    "\n",
    "def linearCostGrad(thetas,X,Y,reg=0):\n",
    "    return (cost(thetas,X,Y,reg),gradient(thetas,X,Y).flatten())\n",
    "\n",
    "def polinomial_data(X,p):\n",
    "    X_poly = X\n",
    "    for i in range(1, p):\n",
    "        X_poly = np.column_stack((X_poly, np.power(X, i+1)))   \n",
    "    return X_poly\n",
    "\n",
    "def normalize(X):\n",
    "    medias = np.mean(X,axis=0)\n",
    "    sigmas = np.std(X,axis=0)\n",
    "    \n",
    "    X_normalizada = (X - medias) / sigmas\n",
    "    \n",
    "    return (X_normalizada, medias, sigmas)"
   ]
  },
  {
   "cell_type": "code",
   "execution_count": null,
   "metadata": {},
   "outputs": [],
   "source": []
  },
  {
   "cell_type": "code",
   "execution_count": null,
   "metadata": {},
   "outputs": [],
   "source": []
  },
  {
   "cell_type": "code",
   "execution_count": null,
   "metadata": {},
   "outputs": [],
   "source": []
  },
  {
   "cell_type": "markdown",
   "metadata": {},
   "source": [
    "## Regresión Logística"
   ]
  },
  {
   "cell_type": "markdown",
   "metadata": {},
   "source": [
    "Previamente, dado que actuamente la variable popularidad es una variable continua deberemos discretizarla,para ello se escogerá la columna 'popularity class' como variable objetivo donde:\n",
    "- Alta (2): Popularidad > 70\n",
    "- Popularidad Media (1) : 40 <= Popularidad <= 70\n",
    "- Popularidad Baja (0): Popularidad < 40"
   ]
  },
  {
   "cell_type": "code",
   "execution_count": 25,
   "metadata": {},
   "outputs": [],
   "source": [
    "X_train = np.array(train[features])\n",
    "Y_train = np.array(train[target_classified])\n",
    "X_val = np.array(val[features])\n",
    "Y_val = np.array(val[target_classified])\n",
    "X_test = np.array(test[features])\n",
    "Y_test = np.array(test[target_classified])"
   ]
  },
  {
   "cell_type": "markdown",
   "metadata": {},
   "source": [
    "#### Regresión Logística Implementada"
   ]
  },
  {
   "cell_type": "code",
   "execution_count": 26,
   "metadata": {},
   "outputs": [],
   "source": [
    "log_reg = OurLogisticRegression(num_features=X_train.shape[1],num_labels=2)"
   ]
  },
  {
   "cell_type": "code",
   "execution_count": 27,
   "metadata": {},
   "outputs": [],
   "source": [
    "log_reg.fit(X=X_train, Y=Y_train)"
   ]
  },
  {
   "cell_type": "code",
   "execution_count": 28,
   "metadata": {},
   "outputs": [
    {
     "data": {
      "text/plain": [
       "82.75217531421205"
      ]
     },
     "execution_count": 28,
     "metadata": {},
     "output_type": "execute_result"
    }
   ],
   "source": [
    "log_reg.score(Y_val,log_reg.predict(X_val))"
   ]
  },
  {
   "cell_type": "markdown",
   "metadata": {},
   "source": [
    "En esta primera prueba hemos obtenido una precisión del 83%, para estudiar distintas configuraciones aplicaremos curvas de validación, con el objetivo de ver cual es el mejor hiperparámetro reg"
   ]
  },
  {
   "cell_type": "markdown",
   "metadata": {},
   "source": [
    "Comprobamos como evoluciona la precisión en función del parámetro de regualrización:\n",
    "    "
   ]
  },
  {
   "cell_type": "code",
   "execution_count": 29,
   "metadata": {},
   "outputs": [
    {
     "name": "stdout",
     "output_type": "stream",
     "text": [
      "El mejor parámetro de regularización es : 7\n"
     ]
    },
    {
     "data": {
      "image/png": "[encoded data removed]",
      "text/plain": [
       "<Figure size 1440x576 with 1 Axes>"
      ]
     },
     "metadata": {
      "needs_background": "light"
     },
     "output_type": "display_data"
    }
   ],
   "source": [
    "regs = [0, 0.01, 0.03, 0.1, 0.3, 1, 3,4,5,6,7,8,9,10]\n",
    "acc_train_list = []\n",
    "acc_val_list = []\n",
    "best_reg = None\n",
    "less_diff = inf\n",
    "for reg in regs:\n",
    "    log_reg = OurLogisticRegression(num_features=X_train.shape[1],num_labels=2,reg=reg)\n",
    "    log_reg.fit(X=X_train, Y=Y_train)\n",
    "    acc_train = log_reg.score(Y_train,log_reg.predict(X_train))\n",
    "    acc_val = log_reg.score(Y_val,log_reg.predict(X_val))\n",
    "    acc_train_list.append(acc_train)\n",
    "    acc_val_list.append(acc_val)\n",
    "    if(less_diff > abs(acc_val-acc_train)):\n",
    "        best_reg = reg\n",
    "        less_diff = abs(acc_val-acc_train)\n",
    "plt.figure(figsize=(20,8))\n",
    "plt.plot(regs,acc_train_list, color=\"blue\")\n",
    "plt.plot(regs,acc_val_list, color=\"orange\")\n",
    "plt.legend(['train', 'val'])\n",
    "plt.ylabel('accuracy')\n",
    "plt.xlabel('Reg param')\n",
    "plt.title(\"Evolución de la precisión en función de la regularización\")\n",
    "print(\"El mejor parámetro de regularización es : {}\".format(best_reg))"
   ]
  },
  {
   "cell_type": "markdown",
   "metadata": {},
   "source": [
    "Se ha escogido como parámetro de regularización 0, ya que no sufre Overfitting ni Underfitting, es decir, adquiere buen resultado con muestras nuevas una vez entrenado. Una vez seleccionado el parámetro de regularización procedemos a crear un modelo con dicho parámetro, entrarlo con los datos de entrenamiento y obtener resultado para el nuevo conjunto de datos de test."
   ]
  },
  {
   "cell_type": "code",
   "execution_count": 30,
   "metadata": {},
   "outputs": [
    {
     "name": "stdout",
     "output_type": "stream",
     "text": [
      "La precisión del algoritmo implementado por los alumnos es: 83.10918231426976\n"
     ]
    }
   ],
   "source": [
    "log_reg = OurLogisticRegression(num_features=X_train.shape[1],num_labels=2,reg=0.1)\n",
    "log_reg.fit(X=X_train, Y=Y_train)\n",
    "print(\"La precisión del algoritmo implementado por los alumnos es: {}\".format(log_reg.score(Y_test,log_reg.predict(X_test))))"
   ]
  },
  {
   "cell_type": "markdown",
   "metadata": {},
   "source": [
    "Observamos que tras las curvas de validación se ha mejorado ligeramente la precisión del modelo"
   ]
  },
  {
   "cell_type": "markdown",
   "metadata": {},
   "source": [
    "#### Regresión Logística Scikit-learn"
   ]
  },
  {
   "cell_type": "markdown",
   "metadata": {},
   "source": [
    "En este apartado se realizarán pruebas sobre los diferentes modelos de optimización existentes en Regresión Logística en la librería de scikit-learn. Primero obtendremos el algoritmo con mayor número de porcentaje sobre los datos de validación y tras ello se aplicarán diferentes configuraciones, para finalmente realizar predicciones sobre el tercer conjunto de datos, Test."
   ]
  },
  {
   "cell_type": "code",
   "execution_count": 31,
   "metadata": {},
   "outputs": [],
   "source": [
    "models = ['newton-cg', 'lbfgs', 'liblinear', 'sag', 'saga']"
   ]
  },
  {
   "cell_type": "code",
   "execution_count": 32,
   "metadata": {},
   "outputs": [
    {
     "name": "stdout",
     "output_type": "stream",
     "text": [
      "La precisión con el algoritmo newton-cg sobre los datos de validación es: 82.69416693522398 % \n",
      "La precisión con el algoritmo lbfgs sobre los datos de validación es: 53.39349017080245 % \n",
      "La precisión con el algoritmo liblinear sobre los datos de validación es: 54.25502202169943 % \n",
      "La precisión con el algoritmo sag sobre los datos de validación es: 53.39349017080245 % \n",
      "La precisión con el algoritmo saga sobre los datos de validación es: 53.39349017080245 % \n"
     ]
    }
   ],
   "source": [
    "for solver in models:\n",
    "    if solver == \"liblinear\":\n",
    "        model = LogisticRegression(solver=solver)\n",
    "    else: \n",
    "        model = LogisticRegression(solver=solver, multi_class =\"multinomial\")\n",
    "    model.fit(X=X_train, y=Y_train)\n",
    "    print(\"La precisión con el algoritmo {} sobre los datos de validación es: {} % \".format(solver, model.score(X_val, Y_val) * 100))"
   ]
  },
  {
   "cell_type": "markdown",
   "metadata": {},
   "source": [
    "Escogemos el algoritmo de optimización newton-cg y probamos diferentes configuraciones creando una curva de validación:"
   ]
  },
  {
   "cell_type": "code",
   "execution_count": null,
   "metadata": {},
   "outputs": [],
   "source": [
    "C_params = [0.1, 0.5, 1 ,1.5, 2, 3, 5, 10]\n",
    "acc_train_list = []\n",
    "acc_val_list= []\n",
    "best_param = None\n",
    "best_acc = 0\n",
    "for C in C_params:\n",
    "    model = LogisticRegression(solver='newton-cg', multi_class =\"multinomial\", C=C)\n",
    "    model.fit(X=X_train, y=Y_train)\n",
    "    acc_train_list.append(log_reg.score(Y_train,model.predict(X_train)))\n",
    "    acc_val_list.append(log_reg.score(Y_val,model.predict(X_val)))  "
   ]
  },
  {
   "cell_type": "code",
   "execution_count": 34,
   "metadata": {},
   "outputs": [
    {
     "data": {
      "text/plain": [
       "Text(0.5, 1.0, 'Evolución de la precisión en función del parámetro C')"
      ]
     },
     "execution_count": 34,
     "metadata": {},
     "output_type": "execute_result"
    },
    {
     "data": {
      "image/png": "[encoded data removed]",
      "text/plain": [
       "<Figure size 1440x576 with 1 Axes>"
      ]
     },
     "metadata": {
      "needs_background": "light"
     },
     "output_type": "display_data"
    }
   ],
   "source": [
    "plt.figure(figsize=(20,8))\n",
    "plt.plot(C_params,acc_train_list, color=\"blue\")\n",
    "plt.plot(C_params,acc_val_list, color=\"orange\")\n",
    "plt.legend(['train', 'val'])\n",
    "plt.ylabel('accuracy')\n",
    "plt.xlabel('C param')\n",
    "plt.title(\"Evolución de la precisión en función del parámetro C\")"
   ]
  },
  {
   "cell_type": "markdown",
   "metadata": {},
   "source": [
    "Tras obtener la mejor configuración (C=1.5) ,la aplicamos al tercer conjunto de datos"
   ]
  },
  {
   "cell_type": "code",
   "execution_count": 35,
   "metadata": {},
   "outputs": [
    {
     "name": "stdout",
     "output_type": "stream",
     "text": [
      "La precisión del algoritmo implementado por la librería scikit-learn es: 83.10918231426976\n"
     ]
    }
   ],
   "source": [
    "model = LogisticRegression(solver='newton-cg', multi_class =\"multinomial\", C=1.5)\n",
    "model.fit(X=X_train, y=Y_train)\n",
    "print(\"La precisión del algoritmo implementado por la librería scikit-learn es: {}\".format(log_reg.score(Y_test,log_reg.predict(X_test))))"
   ]
  },
  {
   "cell_type": "markdown",
   "metadata": {},
   "source": [
    "Como conclusión a este apartado de Regresión Logística podemos afirmar que la mejor precisión obtenida tanto por la implementación realizada por los alumnos como la librería scikit learn, otorgan una precisión del 83,1%. Las curvas de validación realizadas varían muy poco, aún asi se ha escogido los mejores hiperparámetros para la realización del modelo."
   ]
  },
  {
   "cell_type": "markdown",
   "metadata": {},
   "source": [
    "## Redes Neuronales"
   ]
  },
  {
   "cell_type": "markdown",
   "metadata": {},
   "source": [
    "## Máquinas de vector de soporte"
   ]
  },
  {
   "cell_type": "markdown",
   "metadata": {},
   "source": [
    "Previamente, dado que actuamente la variable popularidad es una variable continua deberemos discretizarla,para ello se escogerá la columna 'popularity class' como variable objetivo donde:\n",
    "- Alta (2): Popularidad > 70\n",
    "- Popularidad Media (1) : 40 <= Popularidad <= 70\n",
    "- Popularidad Baja (0): Popularidad < 40"
   ]
  },
  {
   "cell_type": "markdown",
   "metadata": {},
   "source": [
    "Dado que esta técnica tiene un coste en tiempo muy elevado, antes de realizar curvas de validación se ha optado por añadir curvas de aprendizaje para conocer a partir de qué cantidad de datos no se adquiere una mejora sustancial del modelo.Se estudiará el comportamiento de dos algoritmos de optimización:"
   ]
  },
  {
   "cell_type": "markdown",
   "metadata": {},
   "source": [
    "#### Kernel Lineal"
   ]
  },
  {
   "cell_type": "markdown",
   "metadata": {},
   "source": [
    "Primero, realziamos una curva de aprendizaje para conocer a partir de qué número de ejemplos, dejamos de obtener una mejora sustancial en la precisión del modelo:"
   ]
  },
  {
   "cell_type": "code",
   "execution_count": 19,
   "metadata": {},
   "outputs": [
    {
     "data": {
      "text/plain": [
       "Text(0.5, 1.0, 'Evolución de la precisión')"
      ]
     },
     "execution_count": 19,
     "metadata": {},
     "output_type": "execute_result"
    },
    {
     "data": {
      "image/png": "[encoded data removed]",
      "text/plain": [
       "<Figure size 432x288 with 1 Axes>"
      ]
     },
     "metadata": {
      "needs_background": "light"
     },
     "output_type": "display_data"
    }
   ],
   "source": [
    "acc_train_list = []\n",
    "acc_val_list = []\n",
    "sizes = [100,500,1000,2000,3000]\n",
    "\n",
    "for size in sizes:\n",
    "    #Get new sets\n",
    "    new_train = train[:size]\n",
    "    new_val = val[:size]\n",
    "    X_train = np.array(new_train[features])\n",
    "    Y_train = np.array(new_train[target_classified])\n",
    "    X_val = np.array(new_val[features])\n",
    "    Y_val = np.array(new_val[target_classified])\n",
    "    #Train with this size\n",
    "    svm = SVC(kernel='linear', C=1)\n",
    "    svm.fit(X_train, Y_train)\n",
    "    #Get acc\n",
    "    acc_train = accuracy_score(Y_train,svm.predict(X_train))\n",
    "    acc_val = accuracy_score(Y_val,svm.predict(X_val))\n",
    "    acc_train_list.append(acc_train)\n",
    "    acc_val_list.append(acc_val)\n",
    "    \n",
    "plt.plot(sizes,acc_train_list, color=\"blue\")\n",
    "plt.plot(sizes,acc_val_list, color=\"orange\")\n",
    "plt.legend(['train', 'val'])\n",
    "plt.ylabel('accuracy')\n",
    "plt.xlabel('Número de ejemplos')\n",
    "plt.title(\"Evolución de la precisión\")"
   ]
  },
  {
   "cell_type": "markdown",
   "metadata": {},
   "source": [
    "Como podemos ver en la gráfica anterior, los valores no terminan de converger hacia un mismo punto, por loq ue probando con conjutnos mas grándes podamos obtener una mayor precisión, por tanto volvemos a realziar una curva de aprendizaje llegando a tamaños de con jutnos de datos mayores."
   ]
  },
  {
   "cell_type": "code",
   "execution_count": null,
   "metadata": {},
   "outputs": [],
   "source": [
    "acc_train_list = []\n",
    "acc_val_list = []\n",
    "sizes = [100,500,3000,10000]\n",
    "\n",
    "for size in sizes:\n",
    "    #Get new sets\n",
    "    new_train = train[:size]\n",
    "    new_val = val[:size]\n",
    "    X_train = np.array(new_train[features])\n",
    "    Y_train = np.array(new_train[target_classified])\n",
    "    X_val = np.array(new_val[features])\n",
    "    Y_val = np.array(new_val[target_classified])\n",
    "    #Train with this size\n",
    "    svm = SVC(kernel='linear', C=1)\n",
    "    svm.fit(X_train, Y_train)\n",
    "    #Get acc\n",
    "    acc_train = accuracy_score(Y_train,svm.predict(X_train))\n",
    "    acc_val = accuracy_score(Y_val,svm.predict(X_val))\n",
    "    acc_train_list.append(acc_train)\n",
    "    acc_val_list.append(acc_val)\n",
    "    \n",
    "plt.plot(sizes,acc_train_list, color=\"blue\")\n",
    "plt.plot(sizes,acc_val_list, color=\"orange\")\n",
    "plt.legend(['train', 'val'])\n",
    "plt.ylabel('accuracy')\n",
    "plt.xlabel('Número de ejemplos')\n",
    "plt.title(\"Evolución de la precisión\")"
   ]
  },
  {
   "cell_type": "markdown",
   "metadata": {},
   "source": [
    "Como podemos observar en la gráfica anterior, convergen los valores de train y de test en conjutnos de datos con un tamaño de X elementos por lo que quiere decir que añadir mayor número de datos no cambiará en gran medida la precisión del modelo. Por tanto a continuación se realizan cruvas de validación para conocer el mejor valor del hiperparámetro C."
   ]
  },
  {
   "cell_type": "code",
   "execution_count": 20,
   "metadata": {},
   "outputs": [],
   "source": [
    "new_train = train[:X_trainainainw_val = val[:]\n",
    "X_train = np.array(new_train[features])\n",
    "Y_train = np.array(new_train[target_classified])\n",
    "X_val = np.array(new_val[features])\n",
    "Y_val = np.array(new_val[target_classified])"
   ]
  },
  {
   "cell_type": "code",
   "execution_count": null,
   "metadata": {},
   "outputs": [],
   "source": [
    "C_params = [0.01, 1, 10]\n",
    "acc = []\n",
    "acc_train_list = []\n",
    "acc_val_list = []\n",
    "best_reg = None\n",
    "less_diff = inf\n",
    "for C in C_params:\n",
    "    svm = SVC(kernel='linear', C=C)\n",
    "    svm.fit(X_train, Y_train)\n",
    "    acc_train = log_reg.score(Y_train,log_reg.predict(X_train))\n",
    "    acc_val = log_reg.score(Y_val,log_reg.predict(X_val))\n",
    "    acc_train_list.append(acc_train)\n",
    "    acc_val_list.append(acc_val)\n",
    "    if(less_diff > abs(acc_val-acc_train)):\n",
    "        best_reg = reg\n",
    "        less_diff = abs(acc_val-acc_train)    \n",
    "plt.plot(regs,acc_train_list, color=\"blue\")\n",
    "plt.plot(regs,acc_val_list, color=\"orange\")\n",
    "plt.legend(['train', 'val'])\n",
    "plt.ylabel('accuracy')\n",
    "plt.xlabel('C')\n",
    "plt.title(\"Evolución de la precisión\")\n",
    "print(\"El mejor parámetro C es : {}\".format(best_reg))"
   ]
  },
  {
   "cell_type": "markdown",
   "metadata": {},
   "source": [
    "En la gráfica anterior podemos comprobar que el mejor parámetro es (C=X), una vez que hemos obtenido la mejor configuración procedemos a aplicarla en los datos de test"
   ]
  },
  {
   "cell_type": "code",
   "execution_count": 27,
   "metadata": {},
   "outputs": [
    {
     "ename": "NameError",
     "evalue": "name 'log_reg' is not defined",
     "output_type": "error",
     "traceback": [
      "\u001b[1;31m---------------------------------------------------------------------------\u001b[0m",
      "\u001b[1;31mNameError\u001b[0m                                 Traceback (most recent call last)",
      "\u001b[1;32m<ipython-input-27-bdafb066ee05>\u001b[0m in \u001b[0;36m<module>\u001b[1;34m\u001b[0m\n\u001b[0;32m      1\u001b[0m \u001b[0msvm\u001b[0m \u001b[1;33m=\u001b[0m \u001b[0mSVC\u001b[0m\u001b[1;33m(\u001b[0m\u001b[0mkernel\u001b[0m\u001b[1;33m=\u001b[0m\u001b[1;34m'linear'\u001b[0m\u001b[1;33m,\u001b[0m \u001b[0mC\u001b[0m\u001b[1;33m=\u001b[0m\u001b[1;36m1\u001b[0m\u001b[1;33m)\u001b[0m\u001b[1;33m\u001b[0m\u001b[1;33m\u001b[0m\u001b[0m\n\u001b[0;32m      2\u001b[0m \u001b[0msvm\u001b[0m\u001b[1;33m.\u001b[0m\u001b[0mfit\u001b[0m\u001b[1;33m(\u001b[0m\u001b[0mX_train\u001b[0m\u001b[1;33m,\u001b[0m \u001b[0mY_train\u001b[0m\u001b[1;33m)\u001b[0m\u001b[1;33m\u001b[0m\u001b[1;33m\u001b[0m\u001b[0m\n\u001b[1;32m----> 3\u001b[1;33m \u001b[0mprint\u001b[0m\u001b[1;33m(\u001b[0m\u001b[1;34m\"La precisión obtenida por SVM con kernel lineal es; {}\"\u001b[0m\u001b[1;33m.\u001b[0m\u001b[0mformat\u001b[0m\u001b[1;33m(\u001b[0m\u001b[0mlog_reg\u001b[0m\u001b[1;33m.\u001b[0m\u001b[0mscore\u001b[0m\u001b[1;33m(\u001b[0m\u001b[0mY_train\u001b[0m\u001b[1;33m,\u001b[0m\u001b[0mlog_reg\u001b[0m\u001b[1;33m.\u001b[0m\u001b[0mpredict\u001b[0m\u001b[1;33m(\u001b[0m\u001b[0mX_train\u001b[0m\u001b[1;33m)\u001b[0m\u001b[1;33m)\u001b[0m\u001b[1;33m)\u001b[0m\u001b[1;33m)\u001b[0m\u001b[1;33m\u001b[0m\u001b[1;33m\u001b[0m\u001b[0m\n\u001b[0m",
      "\u001b[1;31mNameError\u001b[0m: name 'log_reg' is not defined"
     ]
    }
   ],
   "source": [
    "svm = SVC(kernel='linear', C=1)\n",
    "svm.fit(X_train, Y_train)\n",
    "print(\"La precisión obtenida por SVM con kernel lineal es; {}\".format(accuracy_score(Y_train,svm.predict(X_train))))"
   ]
  },
  {
   "cell_type": "markdown",
   "metadata": {},
   "source": [
    "#### Kernel rbf"
   ]
  },
  {
   "cell_type": "code",
   "execution_count": null,
   "metadata": {},
   "outputs": [],
   "source": [
    "acc_train_list = []\n",
    "acc_val_list = []\n",
    "sizes = [100,500,1000,2000,3000]\n",
    "\n",
    "for size in sizes:\n",
    "    #Get new sets\n",
    "    new_train = train[:size]\n",
    "    new_val = val[:size]\n",
    "    X_train = np.array(new_train[features])\n",
    "    Y_train = np.array(new_train[target_classified])\n",
    "    X_val = np.array(new_val[features])\n",
    "    Y_val = np.array(new_val[target_classified])\n",
    "    #Train with this size\n",
    "    svm = SVC(kernel='linear', C=1, sigma=0.1)\n",
    "    svm.fit(X_train, Y_train)\n",
    "    #Get acc\n",
    "    acc_train = accuracy_score(Y_train,svm.predict(X_train))\n",
    "    acc_val = accuracy_score(Y_val,svm.predict(X_val))\n",
    "    acc_train_list.append(acc_train)\n",
    "    acc_val_list.append(acc_val)\n",
    "    \n",
    "plt.plot(sizes,acc_train_list, color=\"blue\")\n",
    "plt.plot(sizes,acc_val_list, color=\"orange\")\n",
    "plt.legend(['train', 'val'])\n",
    "plt.ylabel('accuracy')\n",
    "plt.xlabel('Número de ejemplos')\n",
    "plt.title(\"Evolución de la precisión\")"
   ]
  },
  {
   "cell_type": "markdown",
   "metadata": {},
   "source": [
    "A continuación, crearemos una curva de validación, para comprobar cual es el mejor valor del hiperparámetro C y gama. Una vez obtenida la mejor configuración del hiperparametro C y gamma lo aplicaremos a los datos de Test."
   ]
  },
  {
   "cell_type": "code",
   "execution_count": null,
   "metadata": {},
   "outputs": [],
   "source": [
    "C_params = [0.01, 1, 10, 30]\n",
    "gamma_params = np.logspace(-3, -1, 3)\n",
    "acc_train_list = []\n",
    "acc_val_list = []\n",
    "index = 1\n",
    "plt.subplots(3,3,figsize=(10,10))\n",
    "for C in C_params:\n",
    "    acc = []\n",
    "    for gamma in gamma_params: \n",
    "        svm = SVC(kernel='rbf', C=C, gamma=gamma)\n",
    "        svm.fit(X_train, Y_train)\n",
    "        acc_train = log_reg.score(Y_train,log_reg.predict(X_train))\n",
    "        acc_val = log_reg.score(Y_val,log_reg.predict(X_val))\n",
    "        acc_train_list.append(acc_train)\n",
    "        acc_val_list.append(acc_val)\n",
    "    plt.subplot(3, 3, index)\n",
    "    plt.tight_layout()\n",
    "    plt.plot(regs,acc_train_list, color=\"blue\")\n",
    "    plt.plot(regs,acc_val_list, color=\"orange\")\n",
    "    plt.legend(['train', 'val'])\n",
    "    plt.ylabel('accuracy')\n",
    "    plt.xlabel('C')\n",
    "    plt.title(\"Evolución de la precisión en función del parámetro C con gamma = {}\".format(sigma))\n",
    "    index +=1"
   ]
  },
  {
   "cell_type": "markdown",
   "metadata": {},
   "source": [
    "En la gráficas anteriores podemos comprobar que el mejor parámetro es (C=X) y gamma = , una vez que hemos obtenido la mejor configuración procedemos a aplicarla en los datos de test"
   ]
  },
  {
   "cell_type": "code",
   "execution_count": null,
   "metadata": {},
   "outputs": [],
   "source": [
    "svm = SVC(kernel='rbf', C=, gamma=)\n",
    "svm.fit(X_train, Y_train)\n",
    "print(\"La precisión obtenida por SVM con kernel lineal es; {}\".format(log_reg.score(Y_train,log_reg.predict(X_train)))"
   ]
  },
  {
   "cell_type": "markdown",
   "metadata": {},
   "source": [
    "## Conclusiones"
   ]
  }
 ],
 "metadata": {
  "kernelspec": {
   "display_name": "Python 3",
   "language": "python",
   "name": "python3"
  },
  "language_info": {
   "codemirror_mode": {
    "name": "ipython",
    "version": 3
   },
   "file_extension": ".py",
   "mimetype": "text/x-python",
   "name": "python",
   "nbconvert_exporter": "python",
   "pygments_lexer": "ipython3",
   "version": "3.7.2"
  }
 },
 "nbformat": 4,
 "nbformat_minor": 2
}
