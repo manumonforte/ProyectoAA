{
 "cells": [
  {
   "cell_type": "markdown",
   "metadata": {},
   "source": [
    "# Aplicaciones de Aprendizaje Automático sobre Spotify "
   ]
  },
  {
   "cell_type": "markdown",
   "metadata": {},
   "source": [
    "## Propósito del documento"
   ]
  },
  {
   "cell_type": "markdown",
   "metadata": {},
   "source": [
    "El objetivo del documento es explicar la aplicación de diferentes técnicas de aprendizaje automático sobre el dataset de [Spotify Tracks DB](https://www.kaggle.com/zaheenhamidani/ultimate-spotify-tracks-db). El objetivo del proyecto será estudiar diferentes configuraciones de las técnicas  para determinar la popularidad que tendrá una canción."
   ]
  },
  {
   "cell_type": "markdown",
   "metadata": {},
   "source": [
    "## Descripción del Dataset"
   ]
  },
  {
   "cell_type": "markdown",
   "metadata": {},
   "source": [
    "El dataset tiene un tamaño de 32,15 MB, contiene 232,725 pistas de música. Los datos para cada una de las pistas de música son los siguientes:\n",
    "- **Genre**: Género (Película, Jazz, Reggaeton...)\n",
    "- **artist_name**: Nombre del artista\n",
    "- **track_name**: Nombre de la pista\n",
    "- **track_id**: El id de Spotify para la pista.\n",
    "- **Popularity**: Ínidice de popularidad de una pista (0- 100)\n",
    "- **Acousticness**: Una medida de confianza de 0.0 a 1.0 de si la pista es acústica. 1,0 representa una alta confianza de que la pista es acústica.\n",
    "- **Danceability**: describe lo adecuado que es un tema para el baile basado en una combinación de elementos musicales como el tempo, la estabilidad del ritmo, la fuerza del compás y la regularidad general. Un valor de 0.0 es el menos bailable y 1.0 es el más bailable. \n",
    "- **Duration_ms**: La duración de la pista en milisegundos.  \n",
    "- **Energy**: La energía es una medida de 0,0 a 1,0 y representa una medida perceptiva de la intensidad y la actividad. Típicamente, las huellas de energía se sienten rápidas, fuertes y ruidosas.\n",
    "- **Instrumentalness**: Predice si una pista no contiene voces. Los sonidos \"Ooh\" y \"aah\" son tratados como instrumentales en este contexto. Las pistas de rap o de palabra hablada son claramente \"vocales\". \n",
    "- **Key**: La clave general estimada de la pista. Los números enteros se asignan a los lanzamientos usando la notación estándar de la clase de lanzamiento. Por ejemplo, 0 = C, 1 = C♯/D♭, 2 = D, y así sucesivamente. Si no se detectó ninguna clave, el valor es -1.\n",
    "- **Liveness**: Detecta la presencia de una audiencia en la grabación ( 1 música en concierto)\n",
    "- **Loudness**: La sonoridad global de una pista en decibelios (dB)\n",
    "- **Mode**: El modo indica la modalidad (mayor o menor) de una pista, el tipo de escala de la que se deriva su contenido melódico. La mayor se representa por 1 y la menor por 0. \n",
    "- **Speechiness**:  detecta la presencia de palabras habladas en una pista\n",
    "- **Tempo**: El tempo global estimado de una pista en pulsaciones por minuto (BPM). En la terminología musical, el tempo es la velocidad o el ritmo de una pieza dada y se deriva directamente de la duración media del tiempo\n",
    "- **Time_signature**: Una firma de tiempo global estimada de una pista. La signatura de tiempo (metro) es una convención notacional para especificar cuántos latidos hay en cada barra (o medida).\n",
    "- **Valence**: Una medida de 0.0 a 1.0 que describe la positividad musical transmitida por una pista (1 muy positivo)"
   ]
  },
  {
   "cell_type": "markdown",
   "metadata": {},
   "source": [
    "## Librerías"
   ]
  },
  {
   "cell_type": "code",
   "execution_count": 50,
   "metadata": {},
   "outputs": [
    {
     "name": "stdout",
     "output_type": "stream",
     "text": [
      "WARNING: pip is being invoked by an old script wrapper. This will fail in a future version of pip.\n",
      "Please see https://github.com/pypa/pip/issues/5599 for advice on fixing the underlying issue.\n",
      "To avoid this problem you can invoke Python with '-m pip' instead of running pip directly.\n",
      "Requirement already up-to-date: category_encoders in /home/rvindel/anaconda3/lib/python3.7/site-packages (2.2.2)\n",
      "Requirement already satisfied, skipping upgrade: numpy>=1.14.0 in /home/rvindel/anaconda3/lib/python3.7/site-packages (from category_encoders) (1.17.2)\n",
      "Requirement already satisfied, skipping upgrade: scikit-learn>=0.20.0 in /home/rvindel/anaconda3/lib/python3.7/site-packages (from category_encoders) (0.21.3)\n",
      "Requirement already satisfied, skipping upgrade: statsmodels>=0.9.0 in /home/rvindel/anaconda3/lib/python3.7/site-packages (from category_encoders) (0.10.1)\n",
      "Requirement already satisfied, skipping upgrade: pandas>=0.21.1 in /home/rvindel/anaconda3/lib/python3.7/site-packages (from category_encoders) (0.25.1)\n",
      "Requirement already satisfied, skipping upgrade: patsy>=0.5.1 in /home/rvindel/anaconda3/lib/python3.7/site-packages (from category_encoders) (0.5.1)\n",
      "Requirement already satisfied, skipping upgrade: scipy>=1.0.0 in /home/rvindel/anaconda3/lib/python3.7/site-packages (from category_encoders) (1.3.1)\n",
      "Requirement already satisfied, skipping upgrade: joblib>=0.11 in /home/rvindel/anaconda3/lib/python3.7/site-packages (from scikit-learn>=0.20.0->category_encoders) (0.13.2)\n",
      "Requirement already satisfied, skipping upgrade: python-dateutil>=2.6.1 in /home/rvindel/anaconda3/lib/python3.7/site-packages (from pandas>=0.21.1->category_encoders) (2.8.0)\n",
      "Requirement already satisfied, skipping upgrade: pytz>=2017.2 in /home/rvindel/anaconda3/lib/python3.7/site-packages (from pandas>=0.21.1->category_encoders) (2019.3)\n",
      "Requirement already satisfied, skipping upgrade: six in /home/rvindel/anaconda3/lib/python3.7/site-packages (from patsy>=0.5.1->category_encoders) (1.12.0)\n",
      "\u001b[33mWARNING: You are using pip version 20.0.2; however, version 20.1.1 is available.\n",
      "You should consider upgrading via the '/home/rvindel/anaconda3/bin/python -m pip install --upgrade pip' command.\u001b[0m\n"
     ]
    }
   ],
   "source": [
    "!pip install --upgrade category_encoders"
   ]
  },
  {
   "cell_type": "code",
   "execution_count": 51,
   "metadata": {},
   "outputs": [],
   "source": [
    "import pandas as pd\n",
    "import numpy as np\n",
    "from numpy import argmax\n",
    "from sklearn.preprocessing import LabelBinarizer\n",
    "import numpy.ma as ma\n",
    "from sklearn.linear_model import LogisticRegression\n",
    "from sklearn.svm import SVC\n",
    "from sklearn.metrics import accuracy_score\n",
    "from scipy import optimize\n",
    "\n",
    "from numpy import inf\n",
    "from pandas.io.parsers import read_csv\n",
    "from matplotlib import pyplot as plt\n",
    "from matplotlib import cm\n",
    "from matplotlib.ticker import LinearLocator, FormatStrFormatter\n",
    "from mpl_toolkits.mplot3d import Axes3D\n",
    "import warnings\n",
    "warnings.filterwarnings('ignore')\n",
    "\n",
    "###########################\n",
    "####     OUR CLASES     ###\n",
    "###########################\n",
    "from LogisticRegression import OurLogisticRegression"
   ]
  },
  {
   "cell_type": "markdown",
   "metadata": {},
   "source": [
    "## Lectura de Datos"
   ]
  },
  {
   "cell_type": "code",
   "execution_count": 52,
   "metadata": {},
   "outputs": [],
   "source": [
    "data = pd.read_csv(\"data/SpotifyFeatures.csv\")"
   ]
  },
  {
   "cell_type": "code",
   "execution_count": 53,
   "metadata": {},
   "outputs": [
    {
     "data": {
      "text/plain": [
       "(232725, 18)"
      ]
     },
     "execution_count": 53,
     "metadata": {},
     "output_type": "execute_result"
    }
   ],
   "source": [
    "data.shape"
   ]
  },
  {
   "cell_type": "code",
   "execution_count": 54,
   "metadata": {},
   "outputs": [
    {
     "data": {
      "text/html": [
       "<div>\n",
       "<style scoped>\n",
       "    .dataframe tbody tr th:only-of-type {\n",
       "        vertical-align: middle;\n",
       "    }\n",
       "\n",
       "    .dataframe tbody tr th {\n",
       "        vertical-align: top;\n",
       "    }\n",
       "\n",
       "    .dataframe thead th {\n",
       "        text-align: right;\n",
       "    }\n",
       "</style>\n",
       "<table border=\"1\" class=\"dataframe\">\n",
       "  <thead>\n",
       "    <tr style=\"text-align: right;\">\n",
       "      <th></th>\n",
       "      <th>genre</th>\n",
       "      <th>artist_name</th>\n",
       "      <th>track_name</th>\n",
       "      <th>track_id</th>\n",
       "      <th>popularity</th>\n",
       "      <th>acousticness</th>\n",
       "      <th>danceability</th>\n",
       "      <th>duration_ms</th>\n",
       "      <th>energy</th>\n",
       "      <th>instrumentalness</th>\n",
       "      <th>key</th>\n",
       "      <th>liveness</th>\n",
       "      <th>loudness</th>\n",
       "      <th>mode</th>\n",
       "      <th>speechiness</th>\n",
       "      <th>tempo</th>\n",
       "      <th>time_signature</th>\n",
       "      <th>valence</th>\n",
       "    </tr>\n",
       "  </thead>\n",
       "  <tbody>\n",
       "    <tr>\n",
       "      <td>0</td>\n",
       "      <td>Movie</td>\n",
       "      <td>Henri Salvador</td>\n",
       "      <td>C'est beau de faire un Show</td>\n",
       "      <td>0BRjO6ga9RKCKjfDqeFgWV</td>\n",
       "      <td>0</td>\n",
       "      <td>0.611</td>\n",
       "      <td>0.389</td>\n",
       "      <td>99373</td>\n",
       "      <td>0.910</td>\n",
       "      <td>0.000</td>\n",
       "      <td>C#</td>\n",
       "      <td>0.3460</td>\n",
       "      <td>-1.828</td>\n",
       "      <td>Major</td>\n",
       "      <td>0.0525</td>\n",
       "      <td>166.969</td>\n",
       "      <td>4/4</td>\n",
       "      <td>0.814</td>\n",
       "    </tr>\n",
       "    <tr>\n",
       "      <td>1</td>\n",
       "      <td>Movie</td>\n",
       "      <td>Martin &amp; les fées</td>\n",
       "      <td>Perdu d'avance (par Gad Elmaleh)</td>\n",
       "      <td>0BjC1NfoEOOusryehmNudP</td>\n",
       "      <td>1</td>\n",
       "      <td>0.246</td>\n",
       "      <td>0.590</td>\n",
       "      <td>137373</td>\n",
       "      <td>0.737</td>\n",
       "      <td>0.000</td>\n",
       "      <td>F#</td>\n",
       "      <td>0.1510</td>\n",
       "      <td>-5.559</td>\n",
       "      <td>Minor</td>\n",
       "      <td>0.0868</td>\n",
       "      <td>174.003</td>\n",
       "      <td>4/4</td>\n",
       "      <td>0.816</td>\n",
       "    </tr>\n",
       "    <tr>\n",
       "      <td>2</td>\n",
       "      <td>Movie</td>\n",
       "      <td>Joseph Williams</td>\n",
       "      <td>Don't Let Me Be Lonely Tonight</td>\n",
       "      <td>0CoSDzoNIKCRs124s9uTVy</td>\n",
       "      <td>3</td>\n",
       "      <td>0.952</td>\n",
       "      <td>0.663</td>\n",
       "      <td>170267</td>\n",
       "      <td>0.131</td>\n",
       "      <td>0.000</td>\n",
       "      <td>C</td>\n",
       "      <td>0.1030</td>\n",
       "      <td>-13.879</td>\n",
       "      <td>Minor</td>\n",
       "      <td>0.0362</td>\n",
       "      <td>99.488</td>\n",
       "      <td>5/4</td>\n",
       "      <td>0.368</td>\n",
       "    </tr>\n",
       "    <tr>\n",
       "      <td>3</td>\n",
       "      <td>Movie</td>\n",
       "      <td>Henri Salvador</td>\n",
       "      <td>Dis-moi Monsieur Gordon Cooper</td>\n",
       "      <td>0Gc6TVm52BwZD07Ki6tIvf</td>\n",
       "      <td>0</td>\n",
       "      <td>0.703</td>\n",
       "      <td>0.240</td>\n",
       "      <td>152427</td>\n",
       "      <td>0.326</td>\n",
       "      <td>0.000</td>\n",
       "      <td>C#</td>\n",
       "      <td>0.0985</td>\n",
       "      <td>-12.178</td>\n",
       "      <td>Major</td>\n",
       "      <td>0.0395</td>\n",
       "      <td>171.758</td>\n",
       "      <td>4/4</td>\n",
       "      <td>0.227</td>\n",
       "    </tr>\n",
       "    <tr>\n",
       "      <td>4</td>\n",
       "      <td>Movie</td>\n",
       "      <td>Fabien Nataf</td>\n",
       "      <td>Ouverture</td>\n",
       "      <td>0IuslXpMROHdEPvSl1fTQK</td>\n",
       "      <td>4</td>\n",
       "      <td>0.950</td>\n",
       "      <td>0.331</td>\n",
       "      <td>82625</td>\n",
       "      <td>0.225</td>\n",
       "      <td>0.123</td>\n",
       "      <td>F</td>\n",
       "      <td>0.2020</td>\n",
       "      <td>-21.150</td>\n",
       "      <td>Major</td>\n",
       "      <td>0.0456</td>\n",
       "      <td>140.576</td>\n",
       "      <td>4/4</td>\n",
       "      <td>0.390</td>\n",
       "    </tr>\n",
       "  </tbody>\n",
       "</table>\n",
       "</div>"
      ],
      "text/plain": [
       "   genre        artist_name                        track_name  \\\n",
       "0  Movie     Henri Salvador       C'est beau de faire un Show   \n",
       "1  Movie  Martin & les fées  Perdu d'avance (par Gad Elmaleh)   \n",
       "2  Movie    Joseph Williams    Don't Let Me Be Lonely Tonight   \n",
       "3  Movie     Henri Salvador    Dis-moi Monsieur Gordon Cooper   \n",
       "4  Movie       Fabien Nataf                         Ouverture   \n",
       "\n",
       "                 track_id  popularity  acousticness  danceability  \\\n",
       "0  0BRjO6ga9RKCKjfDqeFgWV           0         0.611         0.389   \n",
       "1  0BjC1NfoEOOusryehmNudP           1         0.246         0.590   \n",
       "2  0CoSDzoNIKCRs124s9uTVy           3         0.952         0.663   \n",
       "3  0Gc6TVm52BwZD07Ki6tIvf           0         0.703         0.240   \n",
       "4  0IuslXpMROHdEPvSl1fTQK           4         0.950         0.331   \n",
       "\n",
       "   duration_ms  energy  instrumentalness key  liveness  loudness   mode  \\\n",
       "0        99373   0.910             0.000  C#    0.3460    -1.828  Major   \n",
       "1       137373   0.737             0.000  F#    0.1510    -5.559  Minor   \n",
       "2       170267   0.131             0.000   C    0.1030   -13.879  Minor   \n",
       "3       152427   0.326             0.000  C#    0.0985   -12.178  Major   \n",
       "4        82625   0.225             0.123   F    0.2020   -21.150  Major   \n",
       "\n",
       "   speechiness    tempo time_signature  valence  \n",
       "0       0.0525  166.969            4/4    0.814  \n",
       "1       0.0868  174.003            4/4    0.816  \n",
       "2       0.0362   99.488            5/4    0.368  \n",
       "3       0.0395  171.758            4/4    0.227  \n",
       "4       0.0456  140.576            4/4    0.390  "
      ]
     },
     "execution_count": 54,
     "metadata": {},
     "output_type": "execute_result"
    }
   ],
   "source": [
    "data.head(5)"
   ]
  },
  {
   "cell_type": "markdown",
   "metadata": {},
   "source": [
    "### Selección de variables dependientes ( x<sub>1 </sub>... x<sub>n </sub>) y Variable objetivo (y)"
   ]
  },
  {
   "cell_type": "markdown",
   "metadata": {},
   "source": [
    "Las variables dependientes serán:\n",
    "- acousticness\n",
    "- danceability\n",
    "- duration_ms\n",
    "- energy\n",
    "- instrumentalness\n",
    "- key\n",
    "- liveness \n",
    "- mode\n",
    "- speechiness\n",
    "- tempo\n",
    "- time_signature\n",
    "- valence\n",
    "- genre\n",
    "\n",
    "La variable objetivo será la popularidad de la canción"
   ]
  },
  {
   "cell_type": "code",
   "execution_count": 55,
   "metadata": {},
   "outputs": [],
   "source": [
    "features = ['acousticness', 'danceability', 'duration_ms', 'energy',\n",
    "       'instrumentalness', 'liveness', 'mode',\n",
    "       'speechiness', 'tempo', 'valence', 'A', 'A#', 'B',\n",
    "       'C', 'C#', 'D', 'D#', 'E', 'F', 'F#', 'G', 'G#', 'A Capella',\n",
    "       'Alternative', 'Anime', 'Blues', \"Children's Music\",\n",
    "       'Classical', 'Comedy', 'Country', 'Dance', 'Electronic', 'Folk',\n",
    "       'Hip-Hop', 'Indie', 'Jazz', 'Movie', 'Opera', 'Pop', 'R&B', 'Rap',\n",
    "       'Reggae', 'Reggaeton', 'Rock', 'Ska', 'Soul', 'Soundtrack', 'World']\n",
    "target = 'popularity'\n",
    "target_classified = 'popularity_class'"
   ]
  },
  {
   "cell_type": "markdown",
   "metadata": {},
   "source": [
    "## Preprocesamiento"
   ]
  },
  {
   "cell_type": "markdown",
   "metadata": {},
   "source": [
    "Antes de la elaboración de los modelos y las prueba de los mismos con diferentes configuraciones, debemos realizar un preoprocesado de los datos, en aquellas columnas que han sido seleccionadas para pertencer a los ejemplos de entrenamiento y no son númericas"
   ]
  },
  {
   "cell_type": "markdown",
   "metadata": {},
   "source": [
    "#### Columna mode"
   ]
  },
  {
   "cell_type": "markdown",
   "metadata": {},
   "source": [
    "Primero comprobaremos los diferentesvalores que tiene la columna"
   ]
  },
  {
   "cell_type": "code",
   "execution_count": 56,
   "metadata": {},
   "outputs": [
    {
     "data": {
      "text/plain": [
       "array(['Major', 'Minor'], dtype=object)"
      ]
     },
     "execution_count": 56,
     "metadata": {},
     "output_type": "execute_result"
    }
   ],
   "source": [
    "data['mode'].unique()"
   ]
  },
  {
   "cell_type": "markdown",
   "metadata": {},
   "source": [
    "Como podemos comprobar la columna solo tiene valores Minor & Major, por ello, se colocará un 0 cuando el valor de la celda sea Minor y un 1 cuando el valor de la celda sea Major."
   ]
  },
  {
   "cell_type": "code",
   "execution_count": 57,
   "metadata": {},
   "outputs": [
    {
     "data": {
      "text/html": [
       "<div>\n",
       "<style scoped>\n",
       "    .dataframe tbody tr th:only-of-type {\n",
       "        vertical-align: middle;\n",
       "    }\n",
       "\n",
       "    .dataframe tbody tr th {\n",
       "        vertical-align: top;\n",
       "    }\n",
       "\n",
       "    .dataframe thead th {\n",
       "        text-align: right;\n",
       "    }\n",
       "</style>\n",
       "<table border=\"1\" class=\"dataframe\">\n",
       "  <thead>\n",
       "    <tr style=\"text-align: right;\">\n",
       "      <th></th>\n",
       "      <th>genre</th>\n",
       "      <th>artist_name</th>\n",
       "      <th>track_name</th>\n",
       "      <th>track_id</th>\n",
       "      <th>popularity</th>\n",
       "      <th>acousticness</th>\n",
       "      <th>danceability</th>\n",
       "      <th>duration_ms</th>\n",
       "      <th>energy</th>\n",
       "      <th>instrumentalness</th>\n",
       "      <th>key</th>\n",
       "      <th>liveness</th>\n",
       "      <th>loudness</th>\n",
       "      <th>mode</th>\n",
       "      <th>speechiness</th>\n",
       "      <th>tempo</th>\n",
       "      <th>time_signature</th>\n",
       "      <th>valence</th>\n",
       "    </tr>\n",
       "  </thead>\n",
       "  <tbody>\n",
       "    <tr>\n",
       "      <td>93836</td>\n",
       "      <td>Indie</td>\n",
       "      <td>Wafia</td>\n",
       "      <td>I'm Good</td>\n",
       "      <td>2o6dL3brUkkiuFRdrLfdG7</td>\n",
       "      <td>59</td>\n",
       "      <td>0.0236</td>\n",
       "      <td>0.738</td>\n",
       "      <td>217136</td>\n",
       "      <td>0.696</td>\n",
       "      <td>0.000091</td>\n",
       "      <td>C#</td>\n",
       "      <td>0.3380</td>\n",
       "      <td>-3.590</td>\n",
       "      <td>1</td>\n",
       "      <td>0.0305</td>\n",
       "      <td>101.989</td>\n",
       "      <td>4/4</td>\n",
       "      <td>0.892</td>\n",
       "    </tr>\n",
       "    <tr>\n",
       "      <td>102047</td>\n",
       "      <td>Children’s Music</td>\n",
       "      <td>Elley Duhé</td>\n",
       "      <td>immortal - Snakehips Remix</td>\n",
       "      <td>52aLcfyEf3NvnxwlrluEB0</td>\n",
       "      <td>47</td>\n",
       "      <td>0.2640</td>\n",
       "      <td>0.641</td>\n",
       "      <td>189000</td>\n",
       "      <td>0.838</td>\n",
       "      <td>0.000000</td>\n",
       "      <td>G#</td>\n",
       "      <td>0.5610</td>\n",
       "      <td>-3.292</td>\n",
       "      <td>1</td>\n",
       "      <td>0.3290</td>\n",
       "      <td>106.757</td>\n",
       "      <td>5/4</td>\n",
       "      <td>0.628</td>\n",
       "    </tr>\n",
       "    <tr>\n",
       "      <td>35776</td>\n",
       "      <td>Anime</td>\n",
       "      <td>Capcom Sound Team</td>\n",
       "      <td>\"T\"- B</td>\n",
       "      <td>5HEsueWY6bbXUyI6YXq34F</td>\n",
       "      <td>13</td>\n",
       "      <td>0.7390</td>\n",
       "      <td>0.400</td>\n",
       "      <td>173000</td>\n",
       "      <td>0.437</td>\n",
       "      <td>0.967000</td>\n",
       "      <td>G</td>\n",
       "      <td>0.1320</td>\n",
       "      <td>-14.016</td>\n",
       "      <td>0</td>\n",
       "      <td>0.0503</td>\n",
       "      <td>143.135</td>\n",
       "      <td>4/4</td>\n",
       "      <td>0.142</td>\n",
       "    </tr>\n",
       "    <tr>\n",
       "      <td>131979</td>\n",
       "      <td>Reggae</td>\n",
       "      <td>Katchafire</td>\n",
       "      <td>Seriously</td>\n",
       "      <td>0LgfSXp1G6eq99WklFvb88</td>\n",
       "      <td>40</td>\n",
       "      <td>0.4710</td>\n",
       "      <td>0.795</td>\n",
       "      <td>201013</td>\n",
       "      <td>0.458</td>\n",
       "      <td>0.000000</td>\n",
       "      <td>A</td>\n",
       "      <td>0.3450</td>\n",
       "      <td>-7.122</td>\n",
       "      <td>1</td>\n",
       "      <td>0.0415</td>\n",
       "      <td>94.545</td>\n",
       "      <td>4/4</td>\n",
       "      <td>0.930</td>\n",
       "    </tr>\n",
       "    <tr>\n",
       "      <td>2092</td>\n",
       "      <td>Country</td>\n",
       "      <td>Waylon Jennings</td>\n",
       "      <td>Tonight the Bottle Let Me Down</td>\n",
       "      <td>5rF7hPs1SWWZZqmegjVVFL</td>\n",
       "      <td>42</td>\n",
       "      <td>0.3540</td>\n",
       "      <td>0.699</td>\n",
       "      <td>211760</td>\n",
       "      <td>0.513</td>\n",
       "      <td>0.155000</td>\n",
       "      <td>D</td>\n",
       "      <td>0.0658</td>\n",
       "      <td>-12.329</td>\n",
       "      <td>1</td>\n",
       "      <td>0.0278</td>\n",
       "      <td>136.194</td>\n",
       "      <td>4/4</td>\n",
       "      <td>0.728</td>\n",
       "    </tr>\n",
       "  </tbody>\n",
       "</table>\n",
       "</div>"
      ],
      "text/plain": [
       "                   genre        artist_name                      track_name  \\\n",
       "93836              Indie              Wafia                        I'm Good   \n",
       "102047  Children’s Music         Elley Duhé      immortal - Snakehips Remix   \n",
       "35776              Anime  Capcom Sound Team                          \"T\"- B   \n",
       "131979            Reggae         Katchafire                       Seriously   \n",
       "2092             Country    Waylon Jennings  Tonight the Bottle Let Me Down   \n",
       "\n",
       "                      track_id  popularity  acousticness  danceability  \\\n",
       "93836   2o6dL3brUkkiuFRdrLfdG7          59        0.0236         0.738   \n",
       "102047  52aLcfyEf3NvnxwlrluEB0          47        0.2640         0.641   \n",
       "35776   5HEsueWY6bbXUyI6YXq34F          13        0.7390         0.400   \n",
       "131979  0LgfSXp1G6eq99WklFvb88          40        0.4710         0.795   \n",
       "2092    5rF7hPs1SWWZZqmegjVVFL          42        0.3540         0.699   \n",
       "\n",
       "        duration_ms  energy  instrumentalness key  liveness  loudness  mode  \\\n",
       "93836        217136   0.696          0.000091  C#    0.3380    -3.590     1   \n",
       "102047       189000   0.838          0.000000  G#    0.5610    -3.292     1   \n",
       "35776        173000   0.437          0.967000   G    0.1320   -14.016     0   \n",
       "131979       201013   0.458          0.000000   A    0.3450    -7.122     1   \n",
       "2092         211760   0.513          0.155000   D    0.0658   -12.329     1   \n",
       "\n",
       "        speechiness    tempo time_signature  valence  \n",
       "93836        0.0305  101.989            4/4    0.892  \n",
       "102047       0.3290  106.757            5/4    0.628  \n",
       "35776        0.0503  143.135            4/4    0.142  \n",
       "131979       0.0415   94.545            4/4    0.930  \n",
       "2092         0.0278  136.194            4/4    0.728  "
      ]
     },
     "execution_count": 57,
     "metadata": {},
     "output_type": "execute_result"
    }
   ],
   "source": [
    "data.loc[data['mode'] == 'Minor', 'mode'] = 0\n",
    "data.loc[data['mode'] == 'Major', 'mode'] = 1\n",
    "data.sample(5)"
   ]
  },
  {
   "cell_type": "markdown",
   "metadata": {},
   "source": [
    "#### Columna key"
   ]
  },
  {
   "cell_type": "markdown",
   "metadata": {},
   "source": [
    "Tras leer varios artículos, hemos aprendido que no es bueno que en columna con muchos posibles valores categóricos, transformarla en una columna solo con valores que representen al valor categórico, ya que los algunos modelos asignan mayor importancia a valores más altos, poor ello debemos creearnos columnas de tipo bool con nombres de los valores categóricos y poner un 1 si se trata de este valor categórico y cero en caso contrario, esta técnica se denomina OneHotEncoder. Procedemos a crearlas:"
   ]
  },
  {
   "cell_type": "code",
   "execution_count": 58,
   "metadata": {},
   "outputs": [],
   "source": [
    "lb = LabelBinarizer()\n",
    "data = data.join(pd.DataFrame(lb.fit_transform(data[\"key\"]),columns=lb.classes_,index=data.index))"
   ]
  },
  {
   "cell_type": "markdown",
   "metadata": {},
   "source": [
    "#### Columna Genre"
   ]
  },
  {
   "cell_type": "code",
   "execution_count": 59,
   "metadata": {},
   "outputs": [],
   "source": [
    "lb = LabelBinarizer()\n",
    "data = data.join(pd.DataFrame(lb.fit_transform(data[\"genre\"]),columns=lb.classes_,index=data.index))"
   ]
  },
  {
   "cell_type": "markdown",
   "metadata": {},
   "source": [
    "#### Generar variable objetivo multiclase"
   ]
  },
  {
   "cell_type": "markdown",
   "metadata": {},
   "source": [
    "Previamente, dado que actuamente la variable popularidad es una variable continua deberemos discretizarla,para ello se crearán las siguientes clases:\n",
    "- Alta (2): Popularidad > 70\n",
    "- Popularidad Media (1) : 40 <= Popularidad <= 70\n",
    "- Popularidad Baja (0): Popularidad < 40"
   ]
  },
  {
   "cell_type": "code",
   "execution_count": 160,
   "metadata": {},
   "outputs": [],
   "source": [
    "def label (row):\n",
    "    if row['popularity'] < 40  :\n",
    "        return 0\n",
    "    elif row['popularity'] > 70 :\n",
    "        return 2\n",
    "    return 1"
   ]
  },
  {
   "cell_type": "code",
   "execution_count": 161,
   "metadata": {},
   "outputs": [],
   "source": [
    "data['popularity_class'] = data.apply (lambda row: label(row), axis=1)"
   ]
  },
  {
   "cell_type": "markdown",
   "metadata": {},
   "source": [
    "### Selección conjunto entrenamiento, validación, test"
   ]
  },
  {
   "cell_type": "markdown",
   "metadata": {},
   "source": [
    "A lo largo del proyecto se utilizarán tres conjuntos de datos para la realización de pruebas:\n",
    "- **Entrenamiento**: 70% de las pistas de música\n",
    "- **Validación**: 20% de las pistas de música\n",
    "- **Test**: 10% de las pistas de música"
   ]
  },
  {
   "cell_type": "code",
   "execution_count": 60,
   "metadata": {},
   "outputs": [],
   "source": [
    "data = data.sample(frac=1)"
   ]
  },
  {
   "cell_type": "code",
   "execution_count": 61,
   "metadata": {},
   "outputs": [
    {
     "data": {
      "text/html": [
       "<div>\n",
       "<style scoped>\n",
       "    .dataframe tbody tr th:only-of-type {\n",
       "        vertical-align: middle;\n",
       "    }\n",
       "\n",
       "    .dataframe tbody tr th {\n",
       "        vertical-align: top;\n",
       "    }\n",
       "\n",
       "    .dataframe thead th {\n",
       "        text-align: right;\n",
       "    }\n",
       "</style>\n",
       "<table border=\"1\" class=\"dataframe\">\n",
       "  <thead>\n",
       "    <tr style=\"text-align: right;\">\n",
       "      <th></th>\n",
       "      <th>genre</th>\n",
       "      <th>artist_name</th>\n",
       "      <th>track_name</th>\n",
       "      <th>track_id</th>\n",
       "      <th>popularity</th>\n",
       "      <th>acousticness</th>\n",
       "      <th>danceability</th>\n",
       "      <th>duration_ms</th>\n",
       "      <th>energy</th>\n",
       "      <th>instrumentalness</th>\n",
       "      <th>...</th>\n",
       "      <th>Pop</th>\n",
       "      <th>R&amp;B</th>\n",
       "      <th>Rap</th>\n",
       "      <th>Reggae</th>\n",
       "      <th>Reggaeton</th>\n",
       "      <th>Rock</th>\n",
       "      <th>Ska</th>\n",
       "      <th>Soul</th>\n",
       "      <th>Soundtrack</th>\n",
       "      <th>World</th>\n",
       "    </tr>\n",
       "  </thead>\n",
       "  <tbody>\n",
       "    <tr>\n",
       "      <td>124609</td>\n",
       "      <td>Classical</td>\n",
       "      <td>Ólafur Arnalds</td>\n",
       "      <td>Only The Winds</td>\n",
       "      <td>5i4FBbWB1J2c6RqZ4msUJ7</td>\n",
       "      <td>37</td>\n",
       "      <td>0.955000</td>\n",
       "      <td>0.484</td>\n",
       "      <td>321373</td>\n",
       "      <td>0.175</td>\n",
       "      <td>0.936000</td>\n",
       "      <td>...</td>\n",
       "      <td>0</td>\n",
       "      <td>0</td>\n",
       "      <td>0</td>\n",
       "      <td>0</td>\n",
       "      <td>0</td>\n",
       "      <td>0</td>\n",
       "      <td>0</td>\n",
       "      <td>0</td>\n",
       "      <td>0</td>\n",
       "      <td>0</td>\n",
       "    </tr>\n",
       "    <tr>\n",
       "      <td>83387</td>\n",
       "      <td>R&amp;B</td>\n",
       "      <td>Psalm</td>\n",
       "      <td>Luv</td>\n",
       "      <td>5RSDoebPUw0l6hcYkXp19l</td>\n",
       "      <td>46</td>\n",
       "      <td>0.644000</td>\n",
       "      <td>0.453</td>\n",
       "      <td>202559</td>\n",
       "      <td>0.566</td>\n",
       "      <td>0.040600</td>\n",
       "      <td>...</td>\n",
       "      <td>0</td>\n",
       "      <td>1</td>\n",
       "      <td>0</td>\n",
       "      <td>0</td>\n",
       "      <td>0</td>\n",
       "      <td>0</td>\n",
       "      <td>0</td>\n",
       "      <td>0</td>\n",
       "      <td>0</td>\n",
       "      <td>0</td>\n",
       "    </tr>\n",
       "    <tr>\n",
       "      <td>213713</td>\n",
       "      <td>Country</td>\n",
       "      <td>Dierks Bentley</td>\n",
       "      <td>The Mountain</td>\n",
       "      <td>0vF1odB4L0mw7GzbAehrBR</td>\n",
       "      <td>54</td>\n",
       "      <td>0.025300</td>\n",
       "      <td>0.471</td>\n",
       "      <td>284440</td>\n",
       "      <td>0.839</td>\n",
       "      <td>0.000043</td>\n",
       "      <td>...</td>\n",
       "      <td>0</td>\n",
       "      <td>0</td>\n",
       "      <td>0</td>\n",
       "      <td>0</td>\n",
       "      <td>0</td>\n",
       "      <td>0</td>\n",
       "      <td>0</td>\n",
       "      <td>0</td>\n",
       "      <td>0</td>\n",
       "      <td>0</td>\n",
       "    </tr>\n",
       "    <tr>\n",
       "      <td>140090</td>\n",
       "      <td>Indie</td>\n",
       "      <td>Death Cab for Cutie</td>\n",
       "      <td>You Are A Tourist</td>\n",
       "      <td>2bD1AW4yqiCurGCva6r88a</td>\n",
       "      <td>48</td>\n",
       "      <td>0.000254</td>\n",
       "      <td>0.569</td>\n",
       "      <td>286653</td>\n",
       "      <td>0.872</td>\n",
       "      <td>0.144000</td>\n",
       "      <td>...</td>\n",
       "      <td>0</td>\n",
       "      <td>0</td>\n",
       "      <td>0</td>\n",
       "      <td>0</td>\n",
       "      <td>0</td>\n",
       "      <td>0</td>\n",
       "      <td>0</td>\n",
       "      <td>0</td>\n",
       "      <td>0</td>\n",
       "      <td>0</td>\n",
       "    </tr>\n",
       "    <tr>\n",
       "      <td>51626</td>\n",
       "      <td>Blues</td>\n",
       "      <td>Jackie Neal</td>\n",
       "      <td>Down in da Club</td>\n",
       "      <td>57XsqI2gTdJ3T5W3c9sWD8</td>\n",
       "      <td>23</td>\n",
       "      <td>0.015400</td>\n",
       "      <td>0.853</td>\n",
       "      <td>239653</td>\n",
       "      <td>0.532</td>\n",
       "      <td>0.000008</td>\n",
       "      <td>...</td>\n",
       "      <td>0</td>\n",
       "      <td>0</td>\n",
       "      <td>0</td>\n",
       "      <td>0</td>\n",
       "      <td>0</td>\n",
       "      <td>0</td>\n",
       "      <td>0</td>\n",
       "      <td>0</td>\n",
       "      <td>0</td>\n",
       "      <td>0</td>\n",
       "    </tr>\n",
       "  </tbody>\n",
       "</table>\n",
       "<p>5 rows × 57 columns</p>\n",
       "</div>"
      ],
      "text/plain": [
       "            genre          artist_name         track_name  \\\n",
       "124609  Classical       Ólafur Arnalds     Only The Winds   \n",
       "83387         R&B                Psalm                Luv   \n",
       "213713    Country       Dierks Bentley       The Mountain   \n",
       "140090      Indie  Death Cab for Cutie  You Are A Tourist   \n",
       "51626       Blues          Jackie Neal    Down in da Club   \n",
       "\n",
       "                      track_id  popularity  acousticness  danceability  \\\n",
       "124609  5i4FBbWB1J2c6RqZ4msUJ7          37      0.955000         0.484   \n",
       "83387   5RSDoebPUw0l6hcYkXp19l          46      0.644000         0.453   \n",
       "213713  0vF1odB4L0mw7GzbAehrBR          54      0.025300         0.471   \n",
       "140090  2bD1AW4yqiCurGCva6r88a          48      0.000254         0.569   \n",
       "51626   57XsqI2gTdJ3T5W3c9sWD8          23      0.015400         0.853   \n",
       "\n",
       "        duration_ms  energy  instrumentalness  ... Pop  R&B  Rap  Reggae  \\\n",
       "124609       321373   0.175          0.936000  ...   0    0    0       0   \n",
       "83387        202559   0.566          0.040600  ...   0    1    0       0   \n",
       "213713       284440   0.839          0.000043  ...   0    0    0       0   \n",
       "140090       286653   0.872          0.144000  ...   0    0    0       0   \n",
       "51626        239653   0.532          0.000008  ...   0    0    0       0   \n",
       "\n",
       "        Reggaeton  Rock Ska  Soul  Soundtrack  World  \n",
       "124609          0     0   0     0           0      0  \n",
       "83387           0     0   0     0           0      0  \n",
       "213713          0     0   0     0           0      0  \n",
       "140090          0     0   0     0           0      0  \n",
       "51626           0     0   0     0           0      0  \n",
       "\n",
       "[5 rows x 57 columns]"
      ]
     },
     "execution_count": 61,
     "metadata": {},
     "output_type": "execute_result"
    }
   ],
   "source": [
    "data.sample(5)"
   ]
  },
  {
   "cell_type": "code",
   "execution_count": 62,
   "metadata": {},
   "outputs": [],
   "source": [
    "train = data[:int(data.shape[0] * 0.7)]\n",
    "val = data[int(data.shape[0] * 0.7):int(data.shape[0] * 0.9)]\n",
    "test = data[int(data.shape[0] * 0.9):]"
   ]
  },
  {
   "cell_type": "code",
   "execution_count": 63,
   "metadata": {},
   "outputs": [
    {
     "name": "stdout",
     "output_type": "stream",
     "text": [
      "La estructura del dataframe de Entrenamiento es (162907, 57)\n",
      "La estructura del dataframe de Validación es (46545, 57)\n",
      "La estructura del dataframe de Test es (23273, 57)\n"
     ]
    }
   ],
   "source": [
    "print('La estructura del dataframe de Entrenamiento es {}'.format(train.shape))\n",
    "print('La estructura del dataframe de Validación es {}'.format(val.shape))\n",
    "print('La estructura del dataframe de Test es {}'.format(test.shape))"
   ]
  },
  {
   "cell_type": "code",
   "execution_count": 64,
   "metadata": {},
   "outputs": [
    {
     "data": {
      "text/plain": [
       "(162907, 57)"
      ]
     },
     "execution_count": 64,
     "metadata": {},
     "output_type": "execute_result"
    }
   ],
   "source": [
    "train.shape"
   ]
  },
  {
   "cell_type": "markdown",
   "metadata": {},
   "source": [
    "## Regresión Lineal"
   ]
  },
  {
   "cell_type": "markdown",
   "metadata": {},
   "source": [
    "- Separamos datos en entrenamiento, validación y test\n",
    "- Normalizamos datos?\n",
    "- Averiguamos coste y thethas optimas (linearCostGrad y después optimize)\n",
    "- ¿Se usa la funcion optimice de scipy (como en la practica 5 de Regresión Lineal Regularizada)? ¿O se hace todo con nuestro código como en la práctica 1?\n",
    "- Pintamos error en datos de entrenamiento y de validación.\n",
    "- Elegimos parámetro de regularización.\n",
    "- Creamos modelo.\n"
   ]
  },
  {
   "cell_type": "code",
   "execution_count": 65,
   "metadata": {},
   "outputs": [],
   "source": [
    "def cost(thetas, X, Y, reg=0):\n",
    "    m = X.shape[0]\n",
    "    H = np.dot(X, thetas)\n",
    "    cost = (1/(2*m)) * np.sum((H-Y.T)**2) + ( reg / (2 * m) ) * np.sum(thetas[1:]**2)\n",
    "    return cost\n",
    "\n",
    "def gradient(thetas, X, Y, reg=0):\n",
    "    tt = np.copy(thetas)\n",
    "    tt[0]=0\n",
    "    m = X.shape[0]\n",
    "    H = np.dot(X, thetas)\n",
    "    gradient = ((1 / m) * np.dot(H-Y.T,X)) + ((reg/m) * tt)\n",
    "    return gradient\n",
    "\n",
    "def linearCostGrad(thetas,X,Y,reg=0):\n",
    "    return (cost(thetas,X,Y,reg),gradient(thetas,X,Y).flatten())"
   ]
  },
  {
   "cell_type": "markdown",
   "metadata": {},
   "source": [
    "#### Separamos en datos de entrenamiento, validación y test"
   ]
  },
  {
   "cell_type": "code",
   "execution_count": 66,
   "metadata": {},
   "outputs": [],
   "source": [
    "X_train = np.array(train[features])\n",
    "Y_train = np.array(train[target])\n",
    "X_val = np.array(val[features])\n",
    "Y_val = np.array(val[target])\n",
    "X_test = np.array(test[features])\n",
    "Y_test = np.array(test[target])"
   ]
  },
  {
   "cell_type": "markdown",
   "metadata": {},
   "source": [
    "### Inicializamos las Thetas"
   ]
  },
  {
   "cell_type": "code",
   "execution_count": 67,
   "metadata": {},
   "outputs": [],
   "source": [
    "thetas = np.ones(X_train.shape[1])\n",
    "initial_thetas = np.zeros(X_train.shape[1])"
   ]
  },
  {
   "cell_type": "code",
   "execution_count": 68,
   "metadata": {},
   "outputs": [
    {
     "data": {
      "text/plain": [
       "(34608890698.99324,\n",
       " array([8.73962542e+04, 1.27474248e+05, 6.91986869e+10, 1.33302605e+05,\n",
       "        3.76964171e+04, 5.11544965e+04, 1.52745800e+05, 2.80075273e+04,\n",
       "        2.75793633e+07, 1.02526298e+05, 2.31300962e+04, 1.56792911e+04,\n",
       "        1.78987699e+04, 2.76552359e+04, 2.30681974e+04, 2.44729373e+04,\n",
       "        7.68362724e+03, 1.80549585e+04, 2.07082186e+04, 1.53309562e+04,\n",
       "        2.65446593e+04, 1.50299612e+04, 1.11166028e+02, 9.33577703e+03,\n",
       "        8.83442815e+03, 9.76812207e+03, 3.34684824e+03, 1.24703591e+04,\n",
       "        9.75939677e+03, 8.02554405e+03, 8.43653285e+03, 1.08062785e+04,\n",
       "        9.36667708e+03, 8.76121473e+03, 9.16497250e+03, 1.09748387e+04,\n",
       "        7.10801790e+03, 9.29410805e+03, 8.88629804e+03, 8.58581800e+03,\n",
       "        8.67537886e+03, 9.07234192e+03, 8.85785623e+03, 9.40711736e+03,\n",
       "        7.32190333e+03, 9.14706085e+03, 8.02789926e+03, 1.24096883e+04]))"
      ]
     },
     "execution_count": 68,
     "metadata": {},
     "output_type": "execute_result"
    }
   ],
   "source": [
    "linearCostGrad(thetas,X_train,Y_train)"
   ]
  },
  {
   "cell_type": "markdown",
   "metadata": {},
   "source": [
    "### Obtenemos las Thetas optimas"
   ]
  },
  {
   "cell_type": "code",
   "execution_count": 69,
   "metadata": {},
   "outputs": [],
   "source": [
    "thetas_opt = optimize.minimize(fun=linearCostGrad,\n",
    "                       x0=initial_thetas,\n",
    "                       args=(X_train,Y_train),\n",
    "                       method='TNC',\n",
    "                       jac=True).x"
   ]
  },
  {
   "cell_type": "code",
   "execution_count": 70,
   "metadata": {
    "scrolled": true
   },
   "outputs": [
    {
     "data": {
      "text/plain": [
       "array([ 3.35807121e-01,  2.57882346e+00,  8.57605485e-07,  1.55395964e+00,\n",
       "       -1.66909589e+00, -2.58403811e+00, -2.97160885e-01, -4.36190459e+00,\n",
       "       -1.79612616e-03, -1.45566564e+00,  5.37871920e+01,  5.37264591e+01,\n",
       "        5.38826069e+01,  5.37260887e+01,  5.39296070e+01,  5.38295769e+01,\n",
       "        5.40603560e+01,  5.38223481e+01,  5.39519115e+01,  5.42570623e+01,\n",
       "        5.38432051e+01,  5.40654546e+01, -4.53801751e+01, -4.40612176e+00,\n",
       "       -2.98516818e+01, -1.93695225e+01, -4.97456178e+01, -2.39590933e+01,\n",
       "       -2.89583755e+01, -8.61508059e+00,  2.57043352e+00, -1.62295091e+01,\n",
       "       -4.59120030e+00,  3.99290022e+00,  1.48669279e-01, -1.33592274e+01,\n",
       "       -4.17555488e+01, -4.01847880e+01,  1.18436988e+01, -2.45173280e+00,\n",
       "        5.98803029e+00, -1.89333911e+01, -1.69185695e+01,  5.01839863e+00,\n",
       "       -2.55567957e+01, -7.73178912e+00, -1.89299419e+01, -1.86475988e+01])"
      ]
     },
     "execution_count": 70,
     "metadata": {},
     "output_type": "execute_result"
    }
   ],
   "source": [
    "thetas_opt"
   ]
  },
  {
   "cell_type": "code",
   "execution_count": 71,
   "metadata": {},
   "outputs": [
    {
     "data": {
      "text/plain": [
       "(46.158404879855645,\n",
       " array([ 2.68562644e-06, -7.13525830e-06,  4.57783569e-03, -9.36874198e-06,\n",
       "        -1.95352857e-06, -1.42878088e-06, -1.10985197e-05, -3.44464693e-06,\n",
       "        -1.40614356e-03, -2.48853102e-06,  3.57983264e-06,  4.75609207e-06,\n",
       "         4.80908513e-06,  4.44429611e-06, -5.52333955e-06,  1.33983937e-06,\n",
       "         4.25240920e-06,  9.89007386e-07,  9.96048359e-08,  4.58368750e-06,\n",
       "         3.80909076e-06, -1.51201173e-06,  4.68426457e-07,  3.04688618e-06,\n",
       "         5.44232488e-07,  3.36159345e-07, -5.43922304e-06,  4.42762918e-06,\n",
       "        -2.06657864e-06,  6.67073526e-06,  2.89304484e-06, -3.84222113e-06,\n",
       "         2.06886585e-06, -5.97914008e-06,  3.23776623e-06,  8.45781926e-07,\n",
       "        -1.21480794e-06, -2.31662087e-06,  1.03047113e-06, -3.72685029e-06,\n",
       "        -5.61371844e-06, -6.67368530e-07,  5.59261374e-07,  5.77043632e-06,\n",
       "        -3.14338695e-06,  1.95519419e-06, -4.33164735e-06,  1.89292494e-06]))"
      ]
     },
     "execution_count": 71,
     "metadata": {},
     "output_type": "execute_result"
    }
   ],
   "source": [
    "linearCostGrad(thetas_opt,X_train,Y_train)"
   ]
  },
  {
   "cell_type": "markdown",
   "metadata": {},
   "source": [
    "#### Curva de aprendizaje"
   ]
  },
  {
   "cell_type": "markdown",
   "metadata": {},
   "source": [
    "Primero, realziamos una curva de aprendizaje para conocer a partir de qué número de ejemplos, dejamos de obtener una mejora sustancial en la precisión del modelo:"
   ]
  },
  {
   "cell_type": "code",
   "execution_count": 72,
   "metadata": {},
   "outputs": [
    {
     "data": {
      "text/plain": [
       "(162907, 57)"
      ]
     },
     "execution_count": 72,
     "metadata": {},
     "output_type": "execute_result"
    }
   ],
   "source": [
    "train.shape"
   ]
  },
  {
   "cell_type": "code",
   "execution_count": 73,
   "metadata": {},
   "outputs": [
    {
     "data": {
      "text/plain": [
       "Text(0.5, 1.0, 'Evolución de la precisión')"
      ]
     },
     "execution_count": 73,
     "metadata": {},
     "output_type": "execute_result"
    },
    {
     "data": {
      "image/png": "[encoded data removed]",
      "text/plain": [
       "<Figure size 432x288 with 1 Axes>"
      ]
     },
     "metadata": {
      "needs_background": "light"
     },
     "output_type": "display_data"
    }
   ],
   "source": [
    "errors_train =  []\n",
    "errors_val = []\n",
    "sizes = [100,500,1000,2000,3000,4000,5000]\n",
    "\n",
    "for size in sizes:\n",
    "    #Get new sets\n",
    "    new_train = train[:size]\n",
    "    new_val = val[:size]\n",
    "    X_train = np.array(new_train[features])\n",
    "    Y_train = np.array(new_train[target])\n",
    "    X_val = np.array(new_val[features])\n",
    "    Y_val = np.array(new_val[target])\n",
    "    \n",
    "    \n",
    "    #Train with this size\n",
    "    initial_thetas = np.zeros(X_train.shape[1])\n",
    "    thetas = optimize.minimize(fun=linearCostGrad,\n",
    "                                   x0=initial_thetas,\n",
    "                                   args=(X_train,Y_train),\n",
    "                                   method='TNC',\n",
    "                                   jac=True).x\n",
    "    \n",
    "    \n",
    "    #Get error\n",
    "    errors_train.append(cost(thetas,X_train[0:size],Y_train[0:size]))\n",
    "    errors_val.append(cost(thetas,X_val,Y_val))\n",
    "    \n",
    "plt.plot(sizes,errors_train, color=\"blue\")\n",
    "plt.plot(sizes,errors_val, color=\"orange\")\n",
    "plt.legend(['train', 'val'])\n",
    "plt.ylabel('Error')\n",
    "plt.xlabel('Número de ejemplos')\n",
    "plt.title(\"Evolución de la precisión\")"
   ]
  },
  {
   "cell_type": "code",
   "execution_count": 75,
   "metadata": {},
   "outputs": [
    {
     "data": {
      "text/plain": [
       "Text(0.5, 1.0, 'Evolución de la precisión')"
      ]
     },
     "execution_count": 75,
     "metadata": {},
     "output_type": "execute_result"
    },
    {
     "data": {
      "image/png": "[encoded data removed]",
      "text/plain": [
       "<Figure size 432x288 with 1 Axes>"
      ]
     },
     "metadata": {
      "needs_background": "light"
     },
     "output_type": "display_data"
    }
   ],
   "source": [
    "errors_train =  []\n",
    "errors_val = []\n",
    "sizes = [10000,50000,100000,150000,162907]\n",
    "\n",
    "for size in sizes:\n",
    "    #Get new sets\n",
    "    new_train = train[:size]\n",
    "    new_val = val[:size]\n",
    "    X_train = np.array(new_train[features])\n",
    "    Y_train = np.array(new_train[target])\n",
    "    X_val = np.array(new_val[features])\n",
    "    Y_val = np.array(new_val[target])\n",
    "    \n",
    "    \n",
    "    #Train with this size\n",
    "    initial_thetas = np.zeros(X_train.shape[1])\n",
    "    thetas = optimize.minimize(fun=linearCostGrad,\n",
    "                                   x0=initial_thetas,\n",
    "                                   args=(X_train,Y_train),\n",
    "                                   method='TNC',\n",
    "                                   jac=True).x\n",
    "    \n",
    "    \n",
    "    #Get error\n",
    "    errors_train.append(cost(thetas,X_train[0:size],Y_train[0:size]))\n",
    "    errors_val.append(cost(thetas,X_val,Y_val))\n",
    "    \n",
    "plt.plot(sizes,errors_train, color=\"blue\")\n",
    "plt.plot(sizes,errors_val, color=\"orange\")\n",
    "plt.legend(['train', 'val'])\n",
    "plt.ylabel('Error')\n",
    "plt.xlabel('Número de ejemplos')\n",
    "plt.title(\"Evolución de la precisión\")"
   ]
  },
  {
   "cell_type": "markdown",
   "metadata": {},
   "source": [
    "Como podemos observar, a partir de 50000 datos de entrenamiento, la mejora que se obtiene en los datos de validación es prácticamente nula"
   ]
  },
  {
   "cell_type": "markdown",
   "metadata": {},
   "source": [
    "### Elección del Término de Regularización"
   ]
  },
  {
   "cell_type": "code",
   "execution_count": 80,
   "metadata": {},
   "outputs": [
    {
     "data": {
      "text/plain": [
       "<matplotlib.legend.Legend at 0x7f277bfbc810>"
      ]
     },
     "execution_count": 80,
     "metadata": {},
     "output_type": "execute_result"
    },
    {
     "data": {
      "image/png": "[encoded data removed]",
      "text/plain": [
       "<Figure size 432x288 with 1 Axes>"
      ]
     },
     "metadata": {
      "needs_background": "light"
     },
     "output_type": "display_data"
    }
   ],
   "source": [
    "reg =[0, 0.01, 0.1, 0.5, 1, 5, 10]\n",
    "errors_train = []\n",
    "errors_val = []\n",
    "\n",
    "for i in reg:\n",
    "    initial_thetas = np.zeros(X_train.shape[1])\n",
    "    thetas = optimize.minimize(fun=linearCostGrad,\n",
    "               x0=initial_thetas,\n",
    "               args=(X_train,Y_train,i),\n",
    "               method='TNC',\n",
    "               jac=True).x\n",
    "\n",
    "    errors_train.append(cost(thetas,X_train,Y_train,0))\n",
    "    errors_val.append(cost(thetas,X_val,Y_val,0))\n",
    "\n",
    "plt.plot(reg,errors_train, label='Train')\n",
    "plt.plot(reg,errors_val, label='CrossVal')\n",
    "plt.ylabel('Error')\n",
    "plt.xlabel('Término de regularización')\n",
    "plt.legend()"
   ]
  },
  {
   "cell_type": "markdown",
   "metadata": {},
   "source": [
    "Aunque tiene una mejora prácticamente nula, se puede ver que el mejor valor es sin término de regularización."
   ]
  },
  {
   "cell_type": "markdown",
   "metadata": {},
   "source": [
    "#### Resultado final"
   ]
  },
  {
   "cell_type": "markdown",
   "metadata": {},
   "source": [
    "Probamos en los datos \"test\" con la mejor configuración obtenida."
   ]
  },
  {
   "cell_type": "code",
   "execution_count": 78,
   "metadata": {},
   "outputs": [
    {
     "data": {
      "text/plain": [
       "(45.8248006509216,\n",
       " array([-2.49021376e-02, -1.00694495e-02, -2.67087642e+03, -2.28290715e-02,\n",
       "        -1.50249314e-02, -1.51531746e-02, -6.11091934e-03,  2.59454907e-03,\n",
       "        -5.74607673e+00, -3.20008294e-02,  3.86122155e-02, -1.17231075e-02,\n",
       "         5.18157418e-03, -2.44891331e-02, -1.07679217e-02, -1.96993537e-02,\n",
       "         3.36017972e-03, -3.26548945e-02,  3.78537922e-03,  4.83188580e-03,\n",
       "        -2.97899228e-02,  2.65820716e-02, -4.30547908e-04,  4.34857156e-03,\n",
       "         1.28843379e-02, -1.07213251e-02, -2.51769239e-03, -1.31700198e-02,\n",
       "         7.43919519e-03, -5.88499974e-03,  1.71788964e-02,  1.73884385e-02,\n",
       "        -6.33122291e-03, -1.32007906e-02,  3.30529081e-02, -3.17917379e-03,\n",
       "        -3.03614709e-02,  6.81669507e-03,  1.38965272e-02, -8.28765221e-03,\n",
       "        -1.58730657e-02, -2.50051510e-02,  1.91695047e-02, -2.47157662e-03,\n",
       "        -6.28281139e-03, -1.01330313e-02, -3.66920885e-03, -1.34984070e-02]))"
      ]
     },
     "execution_count": 78,
     "metadata": {},
     "output_type": "execute_result"
    }
   ],
   "source": [
    "initial_thetas = np.zeros(X_train.shape[1])\n",
    "thetas = optimize.minimize(fun=linearCostGrad,\n",
    "                           x0=initial_thetas,\n",
    "                           args=(X_train,Y_train,),\n",
    "                           method='TNC',\n",
    "                           jac=True).x\n",
    "linearCostGrad(thetas_opt,X_test,Y_test)"
   ]
  },
  {
   "cell_type": "markdown",
   "metadata": {},
   "source": [
    "Obtenemos un error de 45.82"
   ]
  },
  {
   "cell_type": "markdown",
   "metadata": {},
   "source": [
    "## Regresión Logística"
   ]
  },
  {
   "cell_type": "markdown",
   "metadata": {},
   "source": [
    "Previamente, dado que actuamente la variable popularidad es una variable continua deberemos discretizarla,para ello se escogerá la columna 'popularity class' como variable objetivo donde:\n",
    "- Alta (2): Popularidad > 70\n",
    "- Popularidad Media (1) : 40 <= Popularidad <= 70\n",
    "- Popularidad Baja (0): Popularidad < 40"
   ]
  },
  {
   "cell_type": "code",
   "execution_count": 25,
   "metadata": {},
   "outputs": [],
   "source": [
    "X_train = np.array(train[features])\n",
    "Y_train = np.array(train[target_classified])\n",
    "X_val = np.array(val[features])\n",
    "Y_val = np.array(val[target_classified])\n",
    "X_test = np.array(test[features])\n",
    "Y_test = np.array(test[target_classified])"
   ]
  },
  {
   "cell_type": "markdown",
   "metadata": {},
   "source": [
    "#### Regresión Logística Implementada"
   ]
  },
  {
   "cell_type": "code",
   "execution_count": 26,
   "metadata": {},
   "outputs": [],
   "source": [
    "log_reg = OurLogisticRegression(num_features=X_train.shape[1],num_labels=2)"
   ]
  },
  {
   "cell_type": "code",
   "execution_count": 27,
   "metadata": {},
   "outputs": [],
   "source": [
    "log_reg.fit(X=X_train, Y=Y_train)"
   ]
  },
  {
   "cell_type": "code",
   "execution_count": 28,
   "metadata": {},
   "outputs": [
    {
     "data": {
      "text/plain": [
       "82.75217531421205"
      ]
     },
     "execution_count": 28,
     "metadata": {},
     "output_type": "execute_result"
    }
   ],
   "source": [
    "log_reg.score(Y_val,log_reg.predict(X_val))"
   ]
  },
  {
   "cell_type": "markdown",
   "metadata": {},
   "source": [
    "En esta primera prueba hemos obtenido una precisión del 83%, para estudiar distintas configuraciones aplicaremos curvas de validación, con el objetivo de ver cual es el mejor hiperparámetro reg"
   ]
  },
  {
   "cell_type": "markdown",
   "metadata": {},
   "source": [
    "Comprobamos como evoluciona la precisión en función del parámetro de regualrización:\n",
    "    "
   ]
  },
  {
   "cell_type": "code",
   "execution_count": 29,
   "metadata": {},
   "outputs": [
    {
     "name": "stdout",
     "output_type": "stream",
     "text": [
      "El mejor parámetro de regularización es : 7\n"
     ]
    },
    {
     "data": {
      "image/png": "[encoded data removed]",
      "text/plain": [
       "<Figure size 1440x576 with 1 Axes>"
      ]
     },
     "metadata": {
      "needs_background": "light"
     },
     "output_type": "display_data"
    }
   ],
   "source": [
    "regs = [0, 0.01, 0.03, 0.1, 0.3, 1, 3,4,5,6,7,8,9,10]\n",
    "acc_train_list = []\n",
    "acc_val_list = []\n",
    "best_reg = None\n",
    "less_diff = inf\n",
    "for reg in regs:\n",
    "    log_reg = OurLogisticRegression(num_features=X_train.shape[1],num_labels=2,reg=reg)\n",
    "    log_reg.fit(X=X_train, Y=Y_train)\n",
    "    acc_train = log_reg.score(Y_train,log_reg.predict(X_train))\n",
    "    acc_val = log_reg.score(Y_val,log_reg.predict(X_val))\n",
    "    acc_train_list.append(acc_train)\n",
    "    acc_val_list.append(acc_val)\n",
    "    if(less_diff > abs(acc_val-acc_train)):\n",
    "        best_reg = reg\n",
    "        less_diff = abs(acc_val-acc_train)\n",
    "plt.figure(figsize=(20,8))\n",
    "plt.plot(regs,acc_train_list, color=\"blue\")\n",
    "plt.plot(regs,acc_val_list, color=\"orange\")\n",
    "plt.legend(['train', 'val'])\n",
    "plt.ylabel('accuracy')\n",
    "plt.xlabel('Reg param')\n",
    "plt.title(\"Evolución de la precisión en función de la regularización\")\n",
    "print(\"El mejor parámetro de regularización es : {}\".format(best_reg))"
   ]
  },
  {
   "cell_type": "markdown",
   "metadata": {},
   "source": [
    "Se ha escogido como parámetro de regularización 0, ya que no sufre Overfitting ni Underfitting, es decir, adquiere buen resultado con muestras nuevas una vez entrenado. Una vez seleccionado el parámetro de regularización procedemos a crear un modelo con dicho parámetro, entrarlo con los datos de entrenamiento y obtener resultado para el nuevo conjunto de datos de test."
   ]
  },
  {
   "cell_type": "code",
   "execution_count": 30,
   "metadata": {},
   "outputs": [
    {
     "name": "stdout",
     "output_type": "stream",
     "text": [
      "La precisión del algoritmo implementado por los alumnos es: 83.10918231426976\n"
     ]
    }
   ],
   "source": [
    "log_reg = OurLogisticRegression(num_features=X_train.shape[1],num_labels=2,reg=0.1)\n",
    "log_reg.fit(X=X_train, Y=Y_train)\n",
    "print(\"La precisión del algoritmo implementado por los alumnos es: {}\".format(log_reg.score(Y_test,log_reg.predict(X_test))))"
   ]
  },
  {
   "cell_type": "markdown",
   "metadata": {},
   "source": [
    "Observamos que tras las curvas de validación se ha mejorado ligeramente la precisión del modelo"
   ]
  },
  {
   "cell_type": "markdown",
   "metadata": {},
   "source": [
    "#### Regresión Logística Scikit-learn"
   ]
  },
  {
   "cell_type": "markdown",
   "metadata": {},
   "source": [
    "En este apartado se realizarán pruebas sobre los diferentes modelos de optimización existentes en Regresión Logística en la librería de scikit-learn. Primero obtendremos el algoritmo con mayor número de porcentaje sobre los datos de validación y tras ello se aplicarán diferentes configuraciones, para finalmente realizar predicciones sobre el tercer conjunto de datos, Test."
   ]
  },
  {
   "cell_type": "code",
   "execution_count": 31,
   "metadata": {},
   "outputs": [],
   "source": [
    "models = ['newton-cg', 'lbfgs', 'liblinear', 'sag', 'saga']"
   ]
  },
  {
   "cell_type": "code",
   "execution_count": 32,
   "metadata": {},
   "outputs": [
    {
     "name": "stdout",
     "output_type": "stream",
     "text": [
      "La precisión con el algoritmo newton-cg sobre los datos de validación es: 82.69416693522398 % \n",
      "La precisión con el algoritmo lbfgs sobre los datos de validación es: 53.39349017080245 % \n",
      "La precisión con el algoritmo liblinear sobre los datos de validación es: 54.25502202169943 % \n",
      "La precisión con el algoritmo sag sobre los datos de validación es: 53.39349017080245 % \n",
      "La precisión con el algoritmo saga sobre los datos de validación es: 53.39349017080245 % \n"
     ]
    }
   ],
   "source": [
    "for solver in models:\n",
    "    if solver == \"liblinear\":\n",
    "        model = LogisticRegression(solver=solver)\n",
    "    else: \n",
    "        model = LogisticRegression(solver=solver, multi_class =\"multinomial\")\n",
    "    model.fit(X=X_train, y=Y_train)\n",
    "    print(\"La precisión con el algoritmo {} sobre los datos de validación es: {} % \".format(solver, model.score(X_val, Y_val) * 100))"
   ]
  },
  {
   "cell_type": "markdown",
   "metadata": {},
   "source": [
    "Escogemos el algoritmo de optimización newton-cg y probamos diferentes configuraciones creando una curva de validación:"
   ]
  },
  {
   "cell_type": "code",
   "execution_count": null,
   "metadata": {},
   "outputs": [],
   "source": [
    "C_params = [0.1, 0.5, 1 ,1.5, 2, 3, 5, 10]\n",
    "acc_train_list = []\n",
    "acc_val_list= []\n",
    "best_param = None\n",
    "best_acc = 0\n",
    "for C in C_params:\n",
    "    model = LogisticRegression(solver='newton-cg', multi_class =\"multinomial\", C=C)\n",
    "    model.fit(X=X_train, y=Y_train)\n",
    "    acc_train_list.append(log_reg.score(Y_train,model.predict(X_train)))\n",
    "    acc_val_list.append(log_reg.score(Y_val,model.predict(X_val)))  "
   ]
  },
  {
   "cell_type": "code",
   "execution_count": 34,
   "metadata": {},
   "outputs": [
    {
     "data": {
      "text/plain": [
       "Text(0.5, 1.0, 'Evolución de la precisión en función del parámetro C')"
      ]
     },
     "execution_count": 34,
     "metadata": {},
     "output_type": "execute_result"
    },
    {
     "data": {
      "image/png": "[encoded data removed]",
      "text/plain": [
       "<Figure size 1440x576 with 1 Axes>"
      ]
     },
     "metadata": {
      "needs_background": "light"
     },
     "output_type": "display_data"
    }
   ],
   "source": [
    "plt.figure(figsize=(20,8))\n",
    "plt.plot(C_params,acc_train_list, color=\"blue\")\n",
    "plt.plot(C_params,acc_val_list, color=\"orange\")\n",
    "plt.legend(['train', 'val'])\n",
    "plt.ylabel('accuracy')\n",
    "plt.xlabel('C param')\n",
    "plt.title(\"Evolución de la precisión en función del parámetro C\")"
   ]
  },
  {
   "cell_type": "markdown",
   "metadata": {},
   "source": [
    "Tras obtener la mejor configuración (C=1.5) ,la aplicamos al tercer conjunto de datos"
   ]
  },
  {
   "cell_type": "code",
   "execution_count": 35,
   "metadata": {},
   "outputs": [
    {
     "name": "stdout",
     "output_type": "stream",
     "text": [
      "La precisión del algoritmo implementado por la librería scikit-learn es: 83.10918231426976\n"
     ]
    }
   ],
   "source": [
    "model = LogisticRegression(solver='newton-cg', multi_class =\"multinomial\", C=1.5)\n",
    "model.fit(X=X_train, y=Y_train)\n",
    "print(\"La precisión del algoritmo implementado por la librería scikit-learn es: {}\".format(log_reg.score(Y_test,log_reg.predict(X_test))))"
   ]
  },
  {
   "cell_type": "markdown",
   "metadata": {},
   "source": [
    "Como conclusión a este apartado de Regresión Logística podemos afirmar que la mejor precisión obtenida tanto por la implementación realizada por los alumnos como la librería scikit learn, otorgan una precisión del 83,1%. Las curvas de validación realizadas varían muy poco, aún asi se ha escogido los mejores hiperparámetros para la realización del modelo."
   ]
  },
  {
   "cell_type": "markdown",
   "metadata": {},
   "source": [
    "## Redes Neuronales"
   ]
  },
  {
   "cell_type": "markdown",
   "metadata": {},
   "source": [
    "## Máquinas de vector de soporte"
   ]
  },
  {
   "cell_type": "markdown",
   "metadata": {},
   "source": [
    "Previamente, dado que actuamente la variable popularidad es una variable continua deberemos discretizarla,para ello se escogerá la columna 'popularity class' como variable objetivo donde:\n",
    "- Alta (2): Popularidad > 70\n",
    "- Popularidad Media (1) : 40 <= Popularidad <= 70\n",
    "- Popularidad Baja (0): Popularidad < 40"
   ]
  },
  {
   "cell_type": "markdown",
   "metadata": {},
   "source": [
    "Dado que esta técnica tiene un coste en tiempo muy elevado, antes de realizar curvas de validación se ha optado por añadir curvas de aprendizaje para conocer a partir de qué cantidad de datos no se adquiere una mejora sustancial del modelo.Se estudiará el comportamiento de dos algoritmos de optimización:"
   ]
  },
  {
   "cell_type": "markdown",
   "metadata": {},
   "source": [
    "#### Kernel Lineal"
   ]
  },
  {
   "cell_type": "markdown",
   "metadata": {},
   "source": [
    "Primero, realziamos una curva de aprendizaje para conocer a partir de qué número de ejemplos, dejamos de obtener una mejora sustancial en la precisión del modelo:"
   ]
  },
  {
   "cell_type": "code",
   "execution_count": 19,
   "metadata": {},
   "outputs": [
    {
     "data": {
      "text/plain": [
       "Text(0.5, 1.0, 'Evolución de la precisión')"
      ]
     },
     "execution_count": 19,
     "metadata": {},
     "output_type": "execute_result"
    },
    {
     "data": {
      "image/png": "[encoded data removed]",
      "text/plain": [
       "<Figure size 432x288 with 1 Axes>"
      ]
     },
     "metadata": {
      "needs_background": "light"
     },
     "output_type": "display_data"
    }
   ],
   "source": [
    "acc_train_list = []\n",
    "acc_val_list = []\n",
    "sizes = [100,500,1000,2000,3000]\n",
    "\n",
    "for size in sizes:\n",
    "    #Get new sets\n",
    "    new_train = train[:size]\n",
    "    new_val = val[:size]\n",
    "    X_train = np.array(new_train[features])\n",
    "    Y_train = np.array(new_train[target_classified])\n",
    "    X_val = np.array(new_val[features])\n",
    "    Y_val = np.array(new_val[target_classified])\n",
    "    #Train with this size\n",
    "    svm = SVC(kernel='linear', C=1)\n",
    "    svm.fit(X_train, Y_train)\n",
    "    #Get acc\n",
    "    acc_train = accuracy_score(Y_train,svm.predict(X_train))\n",
    "    acc_val = accuracy_score(Y_val,svm.predict(X_val))\n",
    "    acc_train_list.append(acc_train)\n",
    "    acc_val_list.append(acc_val)\n",
    "    \n",
    "plt.plot(sizes,acc_train_list, color=\"blue\")\n",
    "plt.plot(sizes,acc_val_list, color=\"orange\")\n",
    "plt.legend(['train', 'val'])\n",
    "plt.ylabel('accuracy')\n",
    "plt.xlabel('Número de ejemplos')\n",
    "plt.title(\"Evolución de la precisión\")"
   ]
  },
  {
   "cell_type": "markdown",
   "metadata": {},
   "source": [
    "Como podemos ver en la gráfica anterior, los valores no terminan de converger hacia un mismo punto, por loq ue probando con conjutnos mas grándes podamos obtener una mayor precisión, por tanto volvemos a realziar una curva de aprendizaje llegando a tamaños de con jutnos de datos mayores."
   ]
  },
  {
   "cell_type": "code",
   "execution_count": null,
   "metadata": {},
   "outputs": [],
   "source": [
    "acc_train_list = []\n",
    "acc_val_list = []\n",
    "sizes = [100,500,3000,10000]\n",
    "\n",
    "for size in sizes:\n",
    "    #Get new sets\n",
    "    new_train = train[:size]\n",
    "    new_val = val[:size]\n",
    "    X_train = np.array(new_train[features])\n",
    "    Y_train = np.array(new_train[target_classified])\n",
    "    X_val = np.array(new_val[features])\n",
    "    Y_val = np.array(new_val[target_classified])\n",
    "    #Train with this size\n",
    "    svm = SVC(kernel='linear', C=1)\n",
    "    svm.fit(X_train, Y_train)\n",
    "    #Get acc\n",
    "    acc_train = accuracy_score(Y_train,svm.predict(X_train))\n",
    "    acc_val = accuracy_score(Y_val,svm.predict(X_val))\n",
    "    acc_train_list.append(acc_train)\n",
    "    acc_val_list.append(acc_val)\n",
    "    \n",
    "plt.plot(sizes,acc_train_list, color=\"blue\")\n",
    "plt.plot(sizes,acc_val_list, color=\"orange\")\n",
    "plt.legend(['train', 'val'])\n",
    "plt.ylabel('accuracy')\n",
    "plt.xlabel('Número de ejemplos')\n",
    "plt.title(\"Evolución de la precisión\")"
   ]
  },
  {
   "cell_type": "markdown",
   "metadata": {},
   "source": [
    "Como podemos observar en la gráfica anterior, convergen los valores de train y de test en conjutnos de datos con un tamaño de X elementos por lo que quiere decir que añadir mayor número de datos no cambiará en gran medida la precisión del modelo. Por tanto a continuación se realizan cruvas de validación para conocer el mejor valor del hiperparámetro C."
   ]
  },
  {
   "cell_type": "code",
   "execution_count": 20,
   "metadata": {},
   "outputs": [],
   "source": [
    "new_train = train[:X_trainainainw_val = val[:]\n",
    "X_train = np.array(new_train[features])\n",
    "Y_train = np.array(new_train[target_classified])\n",
    "X_val = np.array(new_val[features])\n",
    "Y_val = np.array(new_val[target_classified])"
   ]
  },
  {
   "cell_type": "code",
   "execution_count": null,
   "metadata": {},
   "outputs": [],
   "source": [
    "C_params = [0.01, 1, 10]\n",
    "acc = []\n",
    "acc_train_list = []\n",
    "acc_val_list = []\n",
    "best_reg = None\n",
    "less_diff = inf\n",
    "for C in C_params:\n",
    "    svm = SVC(kernel='linear', C=C)\n",
    "    svm.fit(X_train, Y_train)\n",
    "    acc_train = log_reg.score(Y_train,log_reg.predict(X_train))\n",
    "    acc_val = log_reg.score(Y_val,log_reg.predict(X_val))\n",
    "    acc_train_list.append(acc_train)\n",
    "    acc_val_list.append(acc_val)\n",
    "    if(less_diff > abs(acc_val-acc_train)):\n",
    "        best_reg = reg\n",
    "        less_diff = abs(acc_val-acc_train)    \n",
    "plt.plot(regs,acc_train_list, color=\"blue\")\n",
    "plt.plot(regs,acc_val_list, color=\"orange\")\n",
    "plt.legend(['train', 'val'])\n",
    "plt.ylabel('accuracy')\n",
    "plt.xlabel('C')\n",
    "plt.title(\"Evolución de la precisión\")\n",
    "print(\"El mejor parámetro C es : {}\".format(best_reg))"
   ]
  },
  {
   "cell_type": "markdown",
   "metadata": {},
   "source": [
    "En la gráfica anterior podemos comprobar que el mejor parámetro es (C=X), una vez que hemos obtenido la mejor configuración procedemos a aplicarla en los datos de test"
   ]
  },
  {
   "cell_type": "code",
   "execution_count": 27,
   "metadata": {},
   "outputs": [
    {
     "ename": "NameError",
     "evalue": "name 'log_reg' is not defined",
     "output_type": "error",
     "traceback": [
      "\u001b[1;31m---------------------------------------------------------------------------\u001b[0m",
      "\u001b[1;31mNameError\u001b[0m                                 Traceback (most recent call last)",
      "\u001b[1;32m<ipython-input-27-bdafb066ee05>\u001b[0m in \u001b[0;36m<module>\u001b[1;34m\u001b[0m\n\u001b[0;32m      1\u001b[0m \u001b[0msvm\u001b[0m \u001b[1;33m=\u001b[0m \u001b[0mSVC\u001b[0m\u001b[1;33m(\u001b[0m\u001b[0mkernel\u001b[0m\u001b[1;33m=\u001b[0m\u001b[1;34m'linear'\u001b[0m\u001b[1;33m,\u001b[0m \u001b[0mC\u001b[0m\u001b[1;33m=\u001b[0m\u001b[1;36m1\u001b[0m\u001b[1;33m)\u001b[0m\u001b[1;33m\u001b[0m\u001b[1;33m\u001b[0m\u001b[0m\n\u001b[0;32m      2\u001b[0m \u001b[0msvm\u001b[0m\u001b[1;33m.\u001b[0m\u001b[0mfit\u001b[0m\u001b[1;33m(\u001b[0m\u001b[0mX_train\u001b[0m\u001b[1;33m,\u001b[0m \u001b[0mY_train\u001b[0m\u001b[1;33m)\u001b[0m\u001b[1;33m\u001b[0m\u001b[1;33m\u001b[0m\u001b[0m\n\u001b[1;32m----> 3\u001b[1;33m \u001b[0mprint\u001b[0m\u001b[1;33m(\u001b[0m\u001b[1;34m\"La precisión obtenida por SVM con kernel lineal es; {}\"\u001b[0m\u001b[1;33m.\u001b[0m\u001b[0mformat\u001b[0m\u001b[1;33m(\u001b[0m\u001b[0mlog_reg\u001b[0m\u001b[1;33m.\u001b[0m\u001b[0mscore\u001b[0m\u001b[1;33m(\u001b[0m\u001b[0mY_train\u001b[0m\u001b[1;33m,\u001b[0m\u001b[0mlog_reg\u001b[0m\u001b[1;33m.\u001b[0m\u001b[0mpredict\u001b[0m\u001b[1;33m(\u001b[0m\u001b[0mX_train\u001b[0m\u001b[1;33m)\u001b[0m\u001b[1;33m)\u001b[0m\u001b[1;33m)\u001b[0m\u001b[1;33m)\u001b[0m\u001b[1;33m\u001b[0m\u001b[1;33m\u001b[0m\u001b[0m\n\u001b[0m",
      "\u001b[1;31mNameError\u001b[0m: name 'log_reg' is not defined"
     ]
    }
   ],
   "source": [
    "svm = SVC(kernel='linear', C=1)\n",
    "svm.fit(X_train, Y_train)\n",
    "print(\"La precisión obtenida por SVM con kernel lineal es; {}\".format(accuracy_score(Y_train,svm.predict(X_train))))"
   ]
  },
  {
   "cell_type": "markdown",
   "metadata": {},
   "source": [
    "#### Kernel rbf"
   ]
  },
  {
   "cell_type": "code",
   "execution_count": null,
   "metadata": {},
   "outputs": [],
   "source": [
    "acc_train_list = []\n",
    "acc_val_list = []\n",
    "sizes = [100,500,1000,2000,3000]\n",
    "\n",
    "for size in sizes:\n",
    "    #Get new sets\n",
    "    new_train = train[:size]\n",
    "    new_val = val[:size]\n",
    "    X_train = np.array(new_train[features])\n",
    "    Y_train = np.array(new_train[target_classified])\n",
    "    X_val = np.array(new_val[features])\n",
    "    Y_val = np.array(new_val[target_classified])\n",
    "    #Train with this size\n",
    "    svm = SVC(kernel='linear', C=1, sigma=0.1)\n",
    "    svm.fit(X_train, Y_train)\n",
    "    #Get acc\n",
    "    acc_train = accuracy_score(Y_train,svm.predict(X_train))\n",
    "    acc_val = accuracy_score(Y_val,svm.predict(X_val))\n",
    "    acc_train_list.append(acc_train)\n",
    "    acc_val_list.append(acc_val)\n",
    "    \n",
    "plt.plot(sizes,acc_train_list, color=\"blue\")\n",
    "plt.plot(sizes,acc_val_list, color=\"orange\")\n",
    "plt.legend(['train', 'val'])\n",
    "plt.ylabel('accuracy')\n",
    "plt.xlabel('Número de ejemplos')\n",
    "plt.title(\"Evolución de la precisión\")"
   ]
  },
  {
   "cell_type": "markdown",
   "metadata": {},
   "source": [
    "A continuación, crearemos una curva de validación, para comprobar cual es el mejor valor del hiperparámetro C y gama. Una vez obtenida la mejor configuración del hiperparametro C y gamma lo aplicaremos a los datos de Test."
   ]
  },
  {
   "cell_type": "code",
   "execution_count": null,
   "metadata": {},
   "outputs": [],
   "source": [
    "C_params = [0.01, 1, 10, 30]\n",
    "gamma_params = np.logspace(-3, -1, 3)\n",
    "acc_train_list = []\n",
    "acc_val_list = []\n",
    "index = 1\n",
    "plt.subplots(3,3,figsize=(10,10))\n",
    "for C in C_params:\n",
    "    acc = []\n",
    "    for gamma in gamma_params: \n",
    "        svm = SVC(kernel='rbf', C=C, gamma=gamma)\n",
    "        svm.fit(X_train, Y_train)\n",
    "        acc_train = log_reg.score(Y_train,log_reg.predict(X_train))\n",
    "        acc_val = log_reg.score(Y_val,log_reg.predict(X_val))\n",
    "        acc_train_list.append(acc_train)\n",
    "        acc_val_list.append(acc_val)\n",
    "    plt.subplot(3, 3, index)\n",
    "    plt.tight_layout()\n",
    "    plt.plot(regs,acc_train_list, color=\"blue\")\n",
    "    plt.plot(regs,acc_val_list, color=\"orange\")\n",
    "    plt.legend(['train', 'val'])\n",
    "    plt.ylabel('accuracy')\n",
    "    plt.xlabel('C')\n",
    "    plt.title(\"Evolución de la precisión en función del parámetro C con gamma = {}\".format(sigma))\n",
    "    index +=1"
   ]
  },
  {
   "cell_type": "markdown",
   "metadata": {},
   "source": [
    "En la gráficas anteriores podemos comprobar que el mejor parámetro es (C=X) y gamma = , una vez que hemos obtenido la mejor configuración procedemos a aplicarla en los datos de test"
   ]
  },
  {
   "cell_type": "code",
   "execution_count": null,
   "metadata": {},
   "outputs": [],
   "source": [
    "svm = SVC(kernel='rbf', C=, gamma=)\n",
    "svm.fit(X_train, Y_train)\n",
    "print(\"La precisión obtenida por SVM con kernel lineal es; {}\".format(log_reg.score(Y_train,log_reg.predict(X_train)))"
   ]
  },
  {
   "cell_type": "markdown",
   "metadata": {},
   "source": [
    "## Conclusiones"
   ]
  }
 ],
 "metadata": {
  "kernelspec": {
   "display_name": "Python 3",
   "language": "python",
   "name": "python3"
  },
  "language_info": {
   "codemirror_mode": {
    "name": "ipython",
    "version": 3
   },
   "file_extension": ".py",
   "mimetype": "text/x-python",
   "name": "python",
   "nbconvert_exporter": "python",
   "pygments_lexer": "ipython3",
   "version": "3.7.4"
  }
 },
 "nbformat": 4,
 "nbformat_minor": 2
}
