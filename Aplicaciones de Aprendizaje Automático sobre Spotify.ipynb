{
 "cells": [
  {
   "cell_type": "markdown",
   "metadata": {},
   "source": [
    "# Aplicaciones de Aprendizaje Automático sobre Spotify "
   ]
  },
  {
   "cell_type": "markdown",
   "metadata": {},
   "source": [
    "## Propósito del documento"
   ]
  },
  {
   "cell_type": "markdown",
   "metadata": {},
   "source": [
    "El objetivo del documento es explicar la aplicación de diferentes técnicas de aprendizaje automático sobre el dataset de [Spotify Tracks DB](https://www.kaggle.com/zaheenhamidani/ultimate-spotify-tracks-db). El objetivo del proyecto será estudiar diferentes configuraciones de las técnicas  para determinar la popularidad que tendrá una canción."
   ]
  },
  {
   "cell_type": "markdown",
   "metadata": {},
   "source": [
    "## Descripción del Dataset"
   ]
  },
  {
   "cell_type": "markdown",
   "metadata": {},
   "source": [
    "El dataset tiene un tamaño de 32,15 MB, contiene 232,725 pistas de música. Los datos para cada una de las pistas de música son los siguientes:\n",
    "- **Genre**: Género (Película, Jazz, Reggaeton...)\n",
    "- **artist_name**: Nombre del artista\n",
    "- **track_name**: Nombre de la pista\n",
    "- **track_id**: El id de Spotify para la pista.\n",
    "- **Popularity**: Ínidice de popularidad de una pista (0- 100)\n",
    "- **Acousticness**: Una medida de confianza de 0.0 a 1.0 de si la pista es acústica. 1,0 representa una alta confianza de que la pista es acústica.\n",
    "- **Danceability**: describe lo adecuado que es un tema para el baile basado en una combinación de elementos musicales como el tempo, la estabilidad del ritmo, la fuerza del compás y la regularidad general. Un valor de 0.0 es el menos bailable y 1.0 es el más bailable. \n",
    "- **Duration_ms**: La duración de la pista en milisegundos.  \n",
    "- **Energy**: La energía es una medida de 0,0 a 1,0 y representa una medida perceptiva de la intensidad y la actividad. Típicamente, las huellas de energía se sienten rápidas, fuertes y ruidosas.\n",
    "- **Instrumentalness**: Predice si una pista no contiene voces. Los sonidos \"Ooh\" y \"aah\" son tratados como instrumentales en este contexto. Las pistas de rap o de palabra hablada son claramente \"vocales\". \n",
    "- **Key**: La clave general estimada de la pista. Los números enteros se asignan a los lanzamientos usando la notación estándar de la clase de lanzamiento. Por ejemplo, 0 = C, 1 = C♯/D♭, 2 = D, y así sucesivamente. Si no se detectó ninguna clave, el valor es -1.\n",
    "- **Liveness**: Detecta la presencia de una audiencia en la grabación ( 1 música en concierto)\n",
    "- **Loudness**: La sonoridad global de una pista en decibelios (dB)\n",
    "- **Mode**: El modo indica la modalidad (mayor o menor) de una pista, el tipo de escala de la que se deriva su contenido melódico. La mayor se representa por 1 y la menor por 0. \n",
    "- **Speechiness**:  detecta la presencia de palabras habladas en una pista\n",
    "- **Tempo**: El tempo global estimado de una pista en pulsaciones por minuto (BPM). En la terminología musical, el tempo es la velocidad o el ritmo de una pieza dada y se deriva directamente de la duración media del tiempo\n",
    "- **Time_signature**: Una firma de tiempo global estimada de una pista. La signatura de tiempo (metro) es una convención notacional para especificar cuántos latidos hay en cada barra (o medida).\n",
    "- **Valence**: Una medida de 0.0 a 1.0 que describe la positividad musical transmitida por una pista (1 muy positivo)"
   ]
  },
  {
   "cell_type": "markdown",
   "metadata": {},
   "source": [
    "## Librerías"
   ]
  },
  {
   "cell_type": "code",
   "execution_count": 1,
   "metadata": {},
   "outputs": [
    {
     "name": "stdout",
     "output_type": "stream",
     "text": [
      "Requirement already up-to-date: category_encoders in c:\\users\\manu_\\anaconda3\\lib\\site-packages (2.2.2)\n",
      "Requirement already satisfied, skipping upgrade: scipy>=1.0.0 in c:\\users\\manu_\\anaconda3\\lib\\site-packages (from category_encoders) (1.4.1)\n",
      "Requirement already satisfied, skipping upgrade: statsmodels>=0.9.0 in c:\\users\\manu_\\anaconda3\\lib\\site-packages (from category_encoders) (0.9.0)\n",
      "Requirement already satisfied, skipping upgrade: scikit-learn>=0.20.0 in c:\\users\\manu_\\anaconda3\\lib\\site-packages (from category_encoders) (0.20.3)\n",
      "Requirement already satisfied, skipping upgrade: patsy>=0.5.1 in c:\\users\\manu_\\anaconda3\\lib\\site-packages (from category_encoders) (0.5.1)\n",
      "Requirement already satisfied, skipping upgrade: pandas>=0.21.1 in c:\\users\\manu_\\anaconda3\\lib\\site-packages (from category_encoders) (0.24.2)\n",
      "Requirement already satisfied, skipping upgrade: numpy>=1.14.0 in c:\\users\\manu_\\anaconda3\\lib\\site-packages (from category_encoders) (1.16.2)\n",
      "Requirement already satisfied, skipping upgrade: six in c:\\users\\manu_\\anaconda3\\lib\\site-packages (from patsy>=0.5.1->category_encoders) (1.12.0)\n",
      "Requirement already satisfied, skipping upgrade: pytz>=2011k in c:\\users\\manu_\\anaconda3\\lib\\site-packages (from pandas>=0.21.1->category_encoders) (2018.9)\n",
      "Requirement already satisfied, skipping upgrade: python-dateutil>=2.5.0 in c:\\users\\manu_\\anaconda3\\lib\\site-packages (from pandas>=0.21.1->category_encoders) (2.8.0)\n"
     ]
    }
   ],
   "source": [
    "!pip install --upgrade category_encoders"
   ]
  },
  {
   "cell_type": "code",
   "execution_count": 2,
   "metadata": {},
   "outputs": [],
   "source": [
    "import pandas as pd\n",
    "import numpy as np\n",
    "from numpy import argmax\n",
    "from sklearn.preprocessing import LabelBinarizer\n",
    "import numpy.ma as ma\n",
    "from sklearn.linear_model import LogisticRegression\n",
    "\n",
    "from pandas.io.parsers import read_csv\n",
    "from matplotlib import pyplot as plt\n",
    "from matplotlib import cm\n",
    "from matplotlib.ticker import LinearLocator, FormatStrFormatter\n",
    "from mpl_toolkits.mplot3d import Axes3D\n",
    "import warnings\n",
    "warnings.filterwarnings('ignore')\n",
    "\n",
    "###########################\n",
    "####     OUR CLASES     ###\n",
    "###########################\n",
    "from LogisticRegression import OurLogisticRegression"
   ]
  },
  {
   "cell_type": "markdown",
   "metadata": {},
   "source": [
    "## Lectura de Datos"
   ]
  },
  {
   "cell_type": "code",
   "execution_count": 3,
   "metadata": {},
   "outputs": [],
   "source": [
    "data = pd.read_csv(\"data/SpotifyFeatures.csv\")"
   ]
  },
  {
   "cell_type": "code",
   "execution_count": 4,
   "metadata": {},
   "outputs": [
    {
     "data": {
      "text/plain": [
       "(232725, 18)"
      ]
     },
     "execution_count": 4,
     "metadata": {},
     "output_type": "execute_result"
    }
   ],
   "source": [
    "data.shape"
   ]
  },
  {
   "cell_type": "code",
   "execution_count": 5,
   "metadata": {},
   "outputs": [
    {
     "data": {
      "text/html": [
       "<div>\n",
       "<style scoped>\n",
       "    .dataframe tbody tr th:only-of-type {\n",
       "        vertical-align: middle;\n",
       "    }\n",
       "\n",
       "    .dataframe tbody tr th {\n",
       "        vertical-align: top;\n",
       "    }\n",
       "\n",
       "    .dataframe thead th {\n",
       "        text-align: right;\n",
       "    }\n",
       "</style>\n",
       "<table border=\"1\" class=\"dataframe\">\n",
       "  <thead>\n",
       "    <tr style=\"text-align: right;\">\n",
       "      <th></th>\n",
       "      <th>genre</th>\n",
       "      <th>artist_name</th>\n",
       "      <th>track_name</th>\n",
       "      <th>track_id</th>\n",
       "      <th>popularity</th>\n",
       "      <th>acousticness</th>\n",
       "      <th>danceability</th>\n",
       "      <th>duration_ms</th>\n",
       "      <th>energy</th>\n",
       "      <th>instrumentalness</th>\n",
       "      <th>key</th>\n",
       "      <th>liveness</th>\n",
       "      <th>loudness</th>\n",
       "      <th>mode</th>\n",
       "      <th>speechiness</th>\n",
       "      <th>tempo</th>\n",
       "      <th>time_signature</th>\n",
       "      <th>valence</th>\n",
       "    </tr>\n",
       "  </thead>\n",
       "  <tbody>\n",
       "    <tr>\n",
       "      <th>0</th>\n",
       "      <td>Movie</td>\n",
       "      <td>Henri Salvador</td>\n",
       "      <td>C'est beau de faire un Show</td>\n",
       "      <td>0BRjO6ga9RKCKjfDqeFgWV</td>\n",
       "      <td>0</td>\n",
       "      <td>0.611</td>\n",
       "      <td>0.389</td>\n",
       "      <td>99373</td>\n",
       "      <td>0.910</td>\n",
       "      <td>0.000</td>\n",
       "      <td>C#</td>\n",
       "      <td>0.3460</td>\n",
       "      <td>-1.828</td>\n",
       "      <td>Major</td>\n",
       "      <td>0.0525</td>\n",
       "      <td>166.969</td>\n",
       "      <td>4/4</td>\n",
       "      <td>0.814</td>\n",
       "    </tr>\n",
       "    <tr>\n",
       "      <th>1</th>\n",
       "      <td>Movie</td>\n",
       "      <td>Martin &amp; les fées</td>\n",
       "      <td>Perdu d'avance (par Gad Elmaleh)</td>\n",
       "      <td>0BjC1NfoEOOusryehmNudP</td>\n",
       "      <td>1</td>\n",
       "      <td>0.246</td>\n",
       "      <td>0.590</td>\n",
       "      <td>137373</td>\n",
       "      <td>0.737</td>\n",
       "      <td>0.000</td>\n",
       "      <td>F#</td>\n",
       "      <td>0.1510</td>\n",
       "      <td>-5.559</td>\n",
       "      <td>Minor</td>\n",
       "      <td>0.0868</td>\n",
       "      <td>174.003</td>\n",
       "      <td>4/4</td>\n",
       "      <td>0.816</td>\n",
       "    </tr>\n",
       "    <tr>\n",
       "      <th>2</th>\n",
       "      <td>Movie</td>\n",
       "      <td>Joseph Williams</td>\n",
       "      <td>Don't Let Me Be Lonely Tonight</td>\n",
       "      <td>0CoSDzoNIKCRs124s9uTVy</td>\n",
       "      <td>3</td>\n",
       "      <td>0.952</td>\n",
       "      <td>0.663</td>\n",
       "      <td>170267</td>\n",
       "      <td>0.131</td>\n",
       "      <td>0.000</td>\n",
       "      <td>C</td>\n",
       "      <td>0.1030</td>\n",
       "      <td>-13.879</td>\n",
       "      <td>Minor</td>\n",
       "      <td>0.0362</td>\n",
       "      <td>99.488</td>\n",
       "      <td>5/4</td>\n",
       "      <td>0.368</td>\n",
       "    </tr>\n",
       "    <tr>\n",
       "      <th>3</th>\n",
       "      <td>Movie</td>\n",
       "      <td>Henri Salvador</td>\n",
       "      <td>Dis-moi Monsieur Gordon Cooper</td>\n",
       "      <td>0Gc6TVm52BwZD07Ki6tIvf</td>\n",
       "      <td>0</td>\n",
       "      <td>0.703</td>\n",
       "      <td>0.240</td>\n",
       "      <td>152427</td>\n",
       "      <td>0.326</td>\n",
       "      <td>0.000</td>\n",
       "      <td>C#</td>\n",
       "      <td>0.0985</td>\n",
       "      <td>-12.178</td>\n",
       "      <td>Major</td>\n",
       "      <td>0.0395</td>\n",
       "      <td>171.758</td>\n",
       "      <td>4/4</td>\n",
       "      <td>0.227</td>\n",
       "    </tr>\n",
       "    <tr>\n",
       "      <th>4</th>\n",
       "      <td>Movie</td>\n",
       "      <td>Fabien Nataf</td>\n",
       "      <td>Ouverture</td>\n",
       "      <td>0IuslXpMROHdEPvSl1fTQK</td>\n",
       "      <td>4</td>\n",
       "      <td>0.950</td>\n",
       "      <td>0.331</td>\n",
       "      <td>82625</td>\n",
       "      <td>0.225</td>\n",
       "      <td>0.123</td>\n",
       "      <td>F</td>\n",
       "      <td>0.2020</td>\n",
       "      <td>-21.150</td>\n",
       "      <td>Major</td>\n",
       "      <td>0.0456</td>\n",
       "      <td>140.576</td>\n",
       "      <td>4/4</td>\n",
       "      <td>0.390</td>\n",
       "    </tr>\n",
       "  </tbody>\n",
       "</table>\n",
       "</div>"
      ],
      "text/plain": [
       "   genre        artist_name                        track_name  \\\n",
       "0  Movie     Henri Salvador       C'est beau de faire un Show   \n",
       "1  Movie  Martin & les fées  Perdu d'avance (par Gad Elmaleh)   \n",
       "2  Movie    Joseph Williams    Don't Let Me Be Lonely Tonight   \n",
       "3  Movie     Henri Salvador    Dis-moi Monsieur Gordon Cooper   \n",
       "4  Movie       Fabien Nataf                         Ouverture   \n",
       "\n",
       "                 track_id  popularity  acousticness  danceability  \\\n",
       "0  0BRjO6ga9RKCKjfDqeFgWV           0         0.611         0.389   \n",
       "1  0BjC1NfoEOOusryehmNudP           1         0.246         0.590   \n",
       "2  0CoSDzoNIKCRs124s9uTVy           3         0.952         0.663   \n",
       "3  0Gc6TVm52BwZD07Ki6tIvf           0         0.703         0.240   \n",
       "4  0IuslXpMROHdEPvSl1fTQK           4         0.950         0.331   \n",
       "\n",
       "   duration_ms  energy  instrumentalness key  liveness  loudness   mode  \\\n",
       "0        99373   0.910             0.000  C#    0.3460    -1.828  Major   \n",
       "1       137373   0.737             0.000  F#    0.1510    -5.559  Minor   \n",
       "2       170267   0.131             0.000   C    0.1030   -13.879  Minor   \n",
       "3       152427   0.326             0.000  C#    0.0985   -12.178  Major   \n",
       "4        82625   0.225             0.123   F    0.2020   -21.150  Major   \n",
       "\n",
       "   speechiness    tempo time_signature  valence  \n",
       "0       0.0525  166.969            4/4    0.814  \n",
       "1       0.0868  174.003            4/4    0.816  \n",
       "2       0.0362   99.488            5/4    0.368  \n",
       "3       0.0395  171.758            4/4    0.227  \n",
       "4       0.0456  140.576            4/4    0.390  "
      ]
     },
     "execution_count": 5,
     "metadata": {},
     "output_type": "execute_result"
    }
   ],
   "source": [
    "data.head(5)"
   ]
  },
  {
   "cell_type": "markdown",
   "metadata": {},
   "source": [
    "### Selección de variables dependientes ( x<sub>1 </sub>... x<sub>n </sub>) y Variable objetivo (y)"
   ]
  },
  {
   "cell_type": "markdown",
   "metadata": {},
   "source": [
    "Las varaibles dependientes serán:\n",
    "- acousticness\n",
    "- danceability\n",
    "- duration_ms\n",
    "- energy\n",
    "- instrumentalness\n",
    "- key\n",
    "- liveness \n",
    "- mode\n",
    "- speechiness\n",
    "- tempo\n",
    "- time_signature\n",
    "- valence\n",
    "- genre\n",
    "\n",
    "La variable objetivo será la popularidad de la canción"
   ]
  },
  {
   "cell_type": "code",
   "execution_count": 6,
   "metadata": {},
   "outputs": [],
   "source": [
    "features = ['acousticness', 'danceability', 'duration_ms', 'energy',\n",
    "       'instrumentalness', 'liveness', 'mode',\n",
    "       'speechiness', 'tempo', 'valence', 'A', 'A#', 'B',\n",
    "       'C', 'C#', 'D', 'D#', 'E', 'F', 'F#', 'G', 'G#', 'A Capella',\n",
    "       'Alternative', 'Anime', 'Blues', \"Children's Music\",\n",
    "       'Classical', 'Comedy', 'Country', 'Dance', 'Electronic', 'Folk',\n",
    "       'Hip-Hop', 'Indie', 'Jazz', 'Movie', 'Opera', 'Pop', 'R&B', 'Rap',\n",
    "       'Reggae', 'Reggaeton', 'Rock', 'Ska', 'Soul', 'Soundtrack', 'World']\n",
    "target = 'popularity'"
   ]
  },
  {
   "cell_type": "markdown",
   "metadata": {},
   "source": [
    "## Preprocesamiento"
   ]
  },
  {
   "cell_type": "markdown",
   "metadata": {},
   "source": [
    "Antes de la elaboración de los modelos y las prueba de los mismos con diferentes configuraciones, debemos realizar un preoprocesado de los datos, en aquellas columnas que han sido seleccionadas para pertencer a los ejemplos de entrenamiento y no son númericas"
   ]
  },
  {
   "cell_type": "markdown",
   "metadata": {},
   "source": [
    "#### Columna mode"
   ]
  },
  {
   "cell_type": "markdown",
   "metadata": {},
   "source": [
    "Primero comprobaremos los diferentesvalores que tiene la columna"
   ]
  },
  {
   "cell_type": "code",
   "execution_count": 7,
   "metadata": {},
   "outputs": [
    {
     "data": {
      "text/plain": [
       "array(['Major', 'Minor'], dtype=object)"
      ]
     },
     "execution_count": 7,
     "metadata": {},
     "output_type": "execute_result"
    }
   ],
   "source": [
    "data['mode'].unique()"
   ]
  },
  {
   "cell_type": "markdown",
   "metadata": {},
   "source": [
    "Como podemos comprobar la columna solo tiene valores Minor & Major, por ello, se colocará un 0 cuando el valor de la celda sea Minor y un 1 cuando el valor de la celda sea Major."
   ]
  },
  {
   "cell_type": "code",
   "execution_count": 8,
   "metadata": {},
   "outputs": [
    {
     "data": {
      "text/html": [
       "<div>\n",
       "<style scoped>\n",
       "    .dataframe tbody tr th:only-of-type {\n",
       "        vertical-align: middle;\n",
       "    }\n",
       "\n",
       "    .dataframe tbody tr th {\n",
       "        vertical-align: top;\n",
       "    }\n",
       "\n",
       "    .dataframe thead th {\n",
       "        text-align: right;\n",
       "    }\n",
       "</style>\n",
       "<table border=\"1\" class=\"dataframe\">\n",
       "  <thead>\n",
       "    <tr style=\"text-align: right;\">\n",
       "      <th></th>\n",
       "      <th>genre</th>\n",
       "      <th>artist_name</th>\n",
       "      <th>track_name</th>\n",
       "      <th>track_id</th>\n",
       "      <th>popularity</th>\n",
       "      <th>acousticness</th>\n",
       "      <th>danceability</th>\n",
       "      <th>duration_ms</th>\n",
       "      <th>energy</th>\n",
       "      <th>instrumentalness</th>\n",
       "      <th>key</th>\n",
       "      <th>liveness</th>\n",
       "      <th>loudness</th>\n",
       "      <th>mode</th>\n",
       "      <th>speechiness</th>\n",
       "      <th>tempo</th>\n",
       "      <th>time_signature</th>\n",
       "      <th>valence</th>\n",
       "    </tr>\n",
       "  </thead>\n",
       "  <tbody>\n",
       "    <tr>\n",
       "      <th>160977</th>\n",
       "      <td>Reggaeton</td>\n",
       "      <td>Ñejo</td>\n",
       "      <td>Quisiera Ser Santa Claus</td>\n",
       "      <td>15odV2bnHPbWOpYqgHkVhv</td>\n",
       "      <td>36</td>\n",
       "      <td>0.25200</td>\n",
       "      <td>0.722</td>\n",
       "      <td>236616</td>\n",
       "      <td>0.528</td>\n",
       "      <td>0.000000</td>\n",
       "      <td>C#</td>\n",
       "      <td>0.4700</td>\n",
       "      <td>-9.838</td>\n",
       "      <td>1</td>\n",
       "      <td>0.2620</td>\n",
       "      <td>145.978</td>\n",
       "      <td>4/4</td>\n",
       "      <td>0.5510</td>\n",
       "    </tr>\n",
       "    <tr>\n",
       "      <th>170781</th>\n",
       "      <td>Comedy</td>\n",
       "      <td>Whitney Cummings</td>\n",
       "      <td>Porn</td>\n",
       "      <td>2Zej1hAaeo4Zy4KT9ZhEzi</td>\n",
       "      <td>23</td>\n",
       "      <td>0.82500</td>\n",
       "      <td>0.562</td>\n",
       "      <td>260097</td>\n",
       "      <td>0.970</td>\n",
       "      <td>0.000000</td>\n",
       "      <td>D#</td>\n",
       "      <td>0.8010</td>\n",
       "      <td>-4.279</td>\n",
       "      <td>0</td>\n",
       "      <td>0.8850</td>\n",
       "      <td>121.631</td>\n",
       "      <td>5/4</td>\n",
       "      <td>0.2800</td>\n",
       "    </tr>\n",
       "    <tr>\n",
       "      <th>141886</th>\n",
       "      <td>Indie</td>\n",
       "      <td>Vera Blue</td>\n",
       "      <td>Mended</td>\n",
       "      <td>0jzOBl9Qm6po1hXrgqIVCF</td>\n",
       "      <td>58</td>\n",
       "      <td>0.24800</td>\n",
       "      <td>0.405</td>\n",
       "      <td>305120</td>\n",
       "      <td>0.539</td>\n",
       "      <td>0.006740</td>\n",
       "      <td>C</td>\n",
       "      <td>0.0642</td>\n",
       "      <td>-6.830</td>\n",
       "      <td>1</td>\n",
       "      <td>0.0387</td>\n",
       "      <td>78.027</td>\n",
       "      <td>4/4</td>\n",
       "      <td>0.0797</td>\n",
       "    </tr>\n",
       "    <tr>\n",
       "      <th>156148</th>\n",
       "      <td>Rock</td>\n",
       "      <td>Third Eye Blind</td>\n",
       "      <td>Jumper - 2006 Remastered Version</td>\n",
       "      <td>7BXltyNuwOX7tvOWbVWofa</td>\n",
       "      <td>49</td>\n",
       "      <td>0.00606</td>\n",
       "      <td>0.622</td>\n",
       "      <td>273467</td>\n",
       "      <td>0.590</td>\n",
       "      <td>0.000702</td>\n",
       "      <td>C</td>\n",
       "      <td>0.2860</td>\n",
       "      <td>-7.517</td>\n",
       "      <td>1</td>\n",
       "      <td>0.0363</td>\n",
       "      <td>91.089</td>\n",
       "      <td>4/4</td>\n",
       "      <td>0.5260</td>\n",
       "    </tr>\n",
       "    <tr>\n",
       "      <th>46308</th>\n",
       "      <td>Blues</td>\n",
       "      <td>Bad Company</td>\n",
       "      <td>Can't Get Enough - 2015 Remaster</td>\n",
       "      <td>6n5lHdpuBDdA7pYDpiKzEI</td>\n",
       "      <td>51</td>\n",
       "      <td>0.31400</td>\n",
       "      <td>0.638</td>\n",
       "      <td>256360</td>\n",
       "      <td>0.686</td>\n",
       "      <td>0.230000</td>\n",
       "      <td>C</td>\n",
       "      <td>0.0678</td>\n",
       "      <td>-9.876</td>\n",
       "      <td>1</td>\n",
       "      <td>0.0366</td>\n",
       "      <td>126.045</td>\n",
       "      <td>4/4</td>\n",
       "      <td>0.7660</td>\n",
       "    </tr>\n",
       "  </tbody>\n",
       "</table>\n",
       "</div>"
      ],
      "text/plain": [
       "            genre       artist_name                        track_name  \\\n",
       "160977  Reggaeton              Ñejo          Quisiera Ser Santa Claus   \n",
       "170781     Comedy  Whitney Cummings                              Porn   \n",
       "141886      Indie         Vera Blue                            Mended   \n",
       "156148       Rock   Third Eye Blind  Jumper - 2006 Remastered Version   \n",
       "46308       Blues       Bad Company  Can't Get Enough - 2015 Remaster   \n",
       "\n",
       "                      track_id  popularity  acousticness  danceability  \\\n",
       "160977  15odV2bnHPbWOpYqgHkVhv          36       0.25200         0.722   \n",
       "170781  2Zej1hAaeo4Zy4KT9ZhEzi          23       0.82500         0.562   \n",
       "141886  0jzOBl9Qm6po1hXrgqIVCF          58       0.24800         0.405   \n",
       "156148  7BXltyNuwOX7tvOWbVWofa          49       0.00606         0.622   \n",
       "46308   6n5lHdpuBDdA7pYDpiKzEI          51       0.31400         0.638   \n",
       "\n",
       "        duration_ms  energy  instrumentalness key  liveness  loudness  mode  \\\n",
       "160977       236616   0.528          0.000000  C#    0.4700    -9.838     1   \n",
       "170781       260097   0.970          0.000000  D#    0.8010    -4.279     0   \n",
       "141886       305120   0.539          0.006740   C    0.0642    -6.830     1   \n",
       "156148       273467   0.590          0.000702   C    0.2860    -7.517     1   \n",
       "46308        256360   0.686          0.230000   C    0.0678    -9.876     1   \n",
       "\n",
       "        speechiness    tempo time_signature  valence  \n",
       "160977       0.2620  145.978            4/4   0.5510  \n",
       "170781       0.8850  121.631            5/4   0.2800  \n",
       "141886       0.0387   78.027            4/4   0.0797  \n",
       "156148       0.0363   91.089            4/4   0.5260  \n",
       "46308        0.0366  126.045            4/4   0.7660  "
      ]
     },
     "execution_count": 8,
     "metadata": {},
     "output_type": "execute_result"
    }
   ],
   "source": [
    "data.loc[data['mode'] == 'Minor', 'mode'] = 0\n",
    "data.loc[data['mode'] == 'Major', 'mode'] = 1\n",
    "data.sample(5)"
   ]
  },
  {
   "cell_type": "markdown",
   "metadata": {},
   "source": [
    "#### Columna key"
   ]
  },
  {
   "cell_type": "markdown",
   "metadata": {},
   "source": [
    "Tras leer varios artículos, hemos aprendido que no es bueno que en columna con muchos posibles valores categóricos, transformarla en una columna solo con valores que representen al valor categórico, ya que los algunos modelos asignan mayor importancia a valores más altos, poor ello debemos creearnos columnas de tipo bool con nombres de los valores categóricos y poner un 1 si se trata de este valor categórico y cero en caso contrario, esta técnica se denomina OneHotEncoder. Procedemos a crearlas:"
   ]
  },
  {
   "cell_type": "code",
   "execution_count": 9,
   "metadata": {},
   "outputs": [],
   "source": [
    "lb = LabelBinarizer()\n",
    "data = data.join(pd.DataFrame(lb.fit_transform(data[\"key\"]),columns=lb.classes_,index=data.index))"
   ]
  },
  {
   "cell_type": "markdown",
   "metadata": {},
   "source": [
    "#### Columna Genre"
   ]
  },
  {
   "cell_type": "code",
   "execution_count": 10,
   "metadata": {},
   "outputs": [],
   "source": [
    "lb = LabelBinarizer()\n",
    "data = data.join(pd.DataFrame(lb.fit_transform(data[\"genre\"]),columns=lb.classes_,index=data.index))"
   ]
  },
  {
   "cell_type": "markdown",
   "metadata": {},
   "source": [
    "#### Obtener variables independienties y objetivo"
   ]
  },
  {
   "cell_type": "markdown",
   "metadata": {},
   "source": [
    "### Selección conjunto entrenamiento, validación, test"
   ]
  },
  {
   "cell_type": "markdown",
   "metadata": {},
   "source": [
    "A lo largo del proyecto se utilizarán tres conjuntos de datos para la realización de pruebas:\n",
    "- **Entrenamiento**: 70% de las pistas de música\n",
    "- **Validación**: 20% de las pistas de música\n",
    "- **Test**: 10% de las pistas de música"
   ]
  },
  {
   "cell_type": "code",
   "execution_count": 11,
   "metadata": {},
   "outputs": [],
   "source": [
    "data = data.sample(frac=1)"
   ]
  },
  {
   "cell_type": "code",
   "execution_count": 12,
   "metadata": {},
   "outputs": [
    {
     "data": {
      "text/html": [
       "<div>\n",
       "<style scoped>\n",
       "    .dataframe tbody tr th:only-of-type {\n",
       "        vertical-align: middle;\n",
       "    }\n",
       "\n",
       "    .dataframe tbody tr th {\n",
       "        vertical-align: top;\n",
       "    }\n",
       "\n",
       "    .dataframe thead th {\n",
       "        text-align: right;\n",
       "    }\n",
       "</style>\n",
       "<table border=\"1\" class=\"dataframe\">\n",
       "  <thead>\n",
       "    <tr style=\"text-align: right;\">\n",
       "      <th></th>\n",
       "      <th>genre</th>\n",
       "      <th>artist_name</th>\n",
       "      <th>track_name</th>\n",
       "      <th>track_id</th>\n",
       "      <th>popularity</th>\n",
       "      <th>acousticness</th>\n",
       "      <th>danceability</th>\n",
       "      <th>duration_ms</th>\n",
       "      <th>energy</th>\n",
       "      <th>instrumentalness</th>\n",
       "      <th>...</th>\n",
       "      <th>Pop</th>\n",
       "      <th>R&amp;B</th>\n",
       "      <th>Rap</th>\n",
       "      <th>Reggae</th>\n",
       "      <th>Reggaeton</th>\n",
       "      <th>Rock</th>\n",
       "      <th>Ska</th>\n",
       "      <th>Soul</th>\n",
       "      <th>Soundtrack</th>\n",
       "      <th>World</th>\n",
       "    </tr>\n",
       "  </thead>\n",
       "  <tbody>\n",
       "    <tr>\n",
       "      <th>179315</th>\n",
       "      <td>Jazz</td>\n",
       "      <td>Alice Coltrane</td>\n",
       "      <td>Something About John Coltrane</td>\n",
       "      <td>6p1D7kXSeW6saOJteQ7orb</td>\n",
       "      <td>29</td>\n",
       "      <td>0.15700</td>\n",
       "      <td>0.299</td>\n",
       "      <td>580827</td>\n",
       "      <td>0.551</td>\n",
       "      <td>0.027200</td>\n",
       "      <td>...</td>\n",
       "      <td>0</td>\n",
       "      <td>0</td>\n",
       "      <td>0</td>\n",
       "      <td>0</td>\n",
       "      <td>0</td>\n",
       "      <td>0</td>\n",
       "      <td>0</td>\n",
       "      <td>0</td>\n",
       "      <td>0</td>\n",
       "      <td>0</td>\n",
       "    </tr>\n",
       "    <tr>\n",
       "      <th>89143</th>\n",
       "      <td>Hip-Hop</td>\n",
       "      <td>Kid Cudi</td>\n",
       "      <td>In My Dreams (Cudder Anthem)</td>\n",
       "      <td>3Xm9jQDd8my7ui5DUtEHYf</td>\n",
       "      <td>51</td>\n",
       "      <td>0.29100</td>\n",
       "      <td>0.676</td>\n",
       "      <td>199000</td>\n",
       "      <td>0.394</td>\n",
       "      <td>0.000033</td>\n",
       "      <td>...</td>\n",
       "      <td>0</td>\n",
       "      <td>0</td>\n",
       "      <td>0</td>\n",
       "      <td>0</td>\n",
       "      <td>0</td>\n",
       "      <td>0</td>\n",
       "      <td>0</td>\n",
       "      <td>0</td>\n",
       "      <td>0</td>\n",
       "      <td>0</td>\n",
       "    </tr>\n",
       "    <tr>\n",
       "      <th>196622</th>\n",
       "      <td>Soul</td>\n",
       "      <td>John Legend</td>\n",
       "      <td>Wrap Me Up in Your Love</td>\n",
       "      <td>7EbRVU97goqzqVsRhXsXZ5</td>\n",
       "      <td>39</td>\n",
       "      <td>0.47100</td>\n",
       "      <td>0.632</td>\n",
       "      <td>225040</td>\n",
       "      <td>0.759</td>\n",
       "      <td>0.000021</td>\n",
       "      <td>...</td>\n",
       "      <td>0</td>\n",
       "      <td>0</td>\n",
       "      <td>0</td>\n",
       "      <td>0</td>\n",
       "      <td>0</td>\n",
       "      <td>0</td>\n",
       "      <td>0</td>\n",
       "      <td>1</td>\n",
       "      <td>0</td>\n",
       "      <td>0</td>\n",
       "    </tr>\n",
       "    <tr>\n",
       "      <th>136780</th>\n",
       "      <td>Reggae</td>\n",
       "      <td>Passafire</td>\n",
       "      <td>Souvenir</td>\n",
       "      <td>4d2Ul1vQQBYTIL4sNl6mI6</td>\n",
       "      <td>23</td>\n",
       "      <td>0.00134</td>\n",
       "      <td>0.499</td>\n",
       "      <td>261080</td>\n",
       "      <td>0.818</td>\n",
       "      <td>0.005270</td>\n",
       "      <td>...</td>\n",
       "      <td>0</td>\n",
       "      <td>0</td>\n",
       "      <td>0</td>\n",
       "      <td>1</td>\n",
       "      <td>0</td>\n",
       "      <td>0</td>\n",
       "      <td>0</td>\n",
       "      <td>0</td>\n",
       "      <td>0</td>\n",
       "      <td>0</td>\n",
       "    </tr>\n",
       "    <tr>\n",
       "      <th>60041</th>\n",
       "      <td>R&amp;B</td>\n",
       "      <td>Lianne La Havas</td>\n",
       "      <td>Unstoppable - FKJ Remix</td>\n",
       "      <td>0mBe4dWMRLXvrAs8ixpmbp</td>\n",
       "      <td>55</td>\n",
       "      <td>0.18300</td>\n",
       "      <td>0.647</td>\n",
       "      <td>316304</td>\n",
       "      <td>0.562</td>\n",
       "      <td>0.000504</td>\n",
       "      <td>...</td>\n",
       "      <td>0</td>\n",
       "      <td>1</td>\n",
       "      <td>0</td>\n",
       "      <td>0</td>\n",
       "      <td>0</td>\n",
       "      <td>0</td>\n",
       "      <td>0</td>\n",
       "      <td>0</td>\n",
       "      <td>0</td>\n",
       "      <td>0</td>\n",
       "    </tr>\n",
       "  </tbody>\n",
       "</table>\n",
       "<p>5 rows × 57 columns</p>\n",
       "</div>"
      ],
      "text/plain": [
       "          genre      artist_name                     track_name  \\\n",
       "179315     Jazz   Alice Coltrane  Something About John Coltrane   \n",
       "89143   Hip-Hop         Kid Cudi   In My Dreams (Cudder Anthem)   \n",
       "196622     Soul      John Legend        Wrap Me Up in Your Love   \n",
       "136780   Reggae        Passafire                       Souvenir   \n",
       "60041       R&B  Lianne La Havas        Unstoppable - FKJ Remix   \n",
       "\n",
       "                      track_id  popularity  acousticness  danceability  \\\n",
       "179315  6p1D7kXSeW6saOJteQ7orb          29       0.15700         0.299   \n",
       "89143   3Xm9jQDd8my7ui5DUtEHYf          51       0.29100         0.676   \n",
       "196622  7EbRVU97goqzqVsRhXsXZ5          39       0.47100         0.632   \n",
       "136780  4d2Ul1vQQBYTIL4sNl6mI6          23       0.00134         0.499   \n",
       "60041   0mBe4dWMRLXvrAs8ixpmbp          55       0.18300         0.647   \n",
       "\n",
       "        duration_ms  energy  instrumentalness  ... Pop  R&B  Rap  Reggae  \\\n",
       "179315       580827   0.551          0.027200  ...   0    0    0       0   \n",
       "89143        199000   0.394          0.000033  ...   0    0    0       0   \n",
       "196622       225040   0.759          0.000021  ...   0    0    0       0   \n",
       "136780       261080   0.818          0.005270  ...   0    0    0       1   \n",
       "60041        316304   0.562          0.000504  ...   0    1    0       0   \n",
       "\n",
       "        Reggaeton  Rock Ska  Soul  Soundtrack  World  \n",
       "179315          0     0   0     0           0      0  \n",
       "89143           0     0   0     0           0      0  \n",
       "196622          0     0   0     1           0      0  \n",
       "136780          0     0   0     0           0      0  \n",
       "60041           0     0   0     0           0      0  \n",
       "\n",
       "[5 rows x 57 columns]"
      ]
     },
     "execution_count": 12,
     "metadata": {},
     "output_type": "execute_result"
    }
   ],
   "source": [
    "data.sample(5)"
   ]
  },
  {
   "cell_type": "code",
   "execution_count": 13,
   "metadata": {},
   "outputs": [],
   "source": [
    "train = data[:int(data.shape[0] * 0.7)]\n",
    "val = data[int(data.shape[0] * 0.7):int(data.shape[0] * 0.9)]\n",
    "test = data[int(data.shape[0] * 0.9):]"
   ]
  },
  {
   "cell_type": "code",
   "execution_count": 14,
   "metadata": {},
   "outputs": [
    {
     "name": "stdout",
     "output_type": "stream",
     "text": [
      "La estructura del dataframe de Test es (162907, 57)\n",
      "La estructura del dataframe de Test es (46545, 57)\n",
      "La estructura del dataframe de Test es (23273, 57)\n"
     ]
    }
   ],
   "source": [
    "print('La estructura del dataframe de Test es {}'.format(train.shape))\n",
    "print('La estructura del dataframe de Test es {}'.format(val.shape))\n",
    "print('La estructura del dataframe de Test es {}'.format(test.shape))"
   ]
  },
  {
   "cell_type": "code",
   "execution_count": 15,
   "metadata": {},
   "outputs": [],
   "source": [
    "X_train = np.array(train[features])\n",
    "Y_train = np.array(train[target])\n",
    "X_val = np.array(val[features])\n",
    "Y_val = np.array(val[target])\n",
    "X_test = np.array(test[features])\n",
    "Y_test = np.array(test[target])"
   ]
  },
  {
   "cell_type": "markdown",
   "metadata": {},
   "source": [
    "## Regresión Lineal"
   ]
  },
  {
   "cell_type": "markdown",
   "metadata": {},
   "source": [
    "- Separamos datos en entrenamiento, validación y test\n",
    "- Normalizamos datos\n",
    "- Averiguamos coste y thethas optimas (linearCostGrad y después optimize)\n",
    "- ¿Se usa la funcion optimice de scipy (como en la practica 5 de Regresión Lineal Regularizada)? ¿O se hace todo con nuestro código como en la práctica 1?\n",
    "- Pintamos error en datos de entrenamiento y de validación.\n",
    "- Elegimos parámetro de regularización.\n",
    "- Creamos modelo.\n"
   ]
  },
  {
   "cell_type": "code",
   "execution_count": 16,
   "metadata": {},
   "outputs": [],
   "source": [
    "def cost(thetas, X, Y, reg=0):\n",
    "    m = X.shape[0]\n",
    "    H = np.dot(X, thetas)\n",
    "    cost = (1/(2*m)) * np.sum((H-Y.T)**2) + ( reg / (2 * m) ) * np.sum(thetas[1:]**2)\n",
    "    return cost\n",
    "\n",
    "def gradient(thetas, X, Y, reg=0):\n",
    "    tt = np.copy(thetas)\n",
    "    tt[0]=0\n",
    "    m = X.shape[0]\n",
    "    H = np.dot(X, thetas)\n",
    "    gradient = ((1 / m) * np.dot(H-Y.T,X)) + ((reg/m) * tt)\n",
    "    return gradient\n",
    "\n",
    "def linearCostGrad(thetas,X,Y,reg=0):\n",
    "    return (cost(thetas,X,Y,reg),gradient(thetas,X,Y).flatten())\n",
    "\n",
    "def polinomial_data(X,p):\n",
    "    X_poly = X\n",
    "    for i in range(1, p):\n",
    "        X_poly = np.column_stack((X_poly, np.power(X, i+1)))   \n",
    "    return X_poly\n",
    "\n",
    "def normalize(X):\n",
    "    medias = np.mean(X,axis=0)\n",
    "    sigmas = np.std(X,axis=0)\n",
    "    \n",
    "    X_normalizada = (X - medias) / sigmas\n",
    "    \n",
    "    return (X_normalizada, medias, sigmas)"
   ]
  },
  {
   "cell_type": "code",
   "execution_count": null,
   "metadata": {},
   "outputs": [],
   "source": []
  },
  {
   "cell_type": "code",
   "execution_count": null,
   "metadata": {},
   "outputs": [],
   "source": []
  },
  {
   "cell_type": "code",
   "execution_count": null,
   "metadata": {},
   "outputs": [],
   "source": []
  },
  {
   "cell_type": "markdown",
   "metadata": {},
   "source": [
    "## Regresión Logística"
   ]
  },
  {
   "cell_type": "markdown",
   "metadata": {},
   "source": [
    "#### Regresión Logística Implementada"
   ]
  },
  {
   "cell_type": "markdown",
   "metadata": {},
   "source": [
    "Previamente, dado que actuamente la variable popularidad es una variable continua deberemos discretizarla,para ello se crearán las siguientes clases:\n",
    "- Alta: Popularidad > 70\n",
    "- Popularidad Media: 40 <= Popularidad <= 70\n",
    "- Popularidad Baja : Popularidad < 40"
   ]
  },
  {
   "cell_type": "code",
   "execution_count": 17,
   "metadata": {},
   "outputs": [],
   "source": [
    "Y_train = np.array(np.where(Y_train < 50, 0, 1))\n",
    "Y_val = np.array(np.where(Y_val < 50, 0, 1))\n",
    "Y_test = np.array(np.where(Y_test < 50, 0, 1))"
   ]
  },
  {
   "cell_type": "code",
   "execution_count": 18,
   "metadata": {},
   "outputs": [],
   "source": [
    "log_reg = OurLogisticRegression(num_features=X_train.shape[1],num_labels=2)"
   ]
  },
  {
   "cell_type": "code",
   "execution_count": 19,
   "metadata": {},
   "outputs": [],
   "source": [
    "log_reg.fit(X=X_train, Y=Y_train)"
   ]
  },
  {
   "cell_type": "code",
   "execution_count": 21,
   "metadata": {},
   "outputs": [
    {
     "data": {
      "text/plain": [
       "85.05564387917329"
      ]
     },
     "execution_count": 21,
     "metadata": {},
     "output_type": "execute_result"
    }
   ],
   "source": [
    "log_reg.score(Y_test,log_reg.predict(X_test))"
   ]
  },
  {
   "cell_type": "markdown",
   "metadata": {},
   "source": [
    "Comprobamos como evoluciona la precisión en función del parámetro de regualrización:\n",
    "    "
   ]
  },
  {
   "cell_type": "code",
   "execution_count": 24,
   "metadata": {},
   "outputs": [
    {
     "data": {
      "text/plain": [
       "Text(0.5, 1.0, 'Evolución de la precisión en función de la regularización')"
      ]
     },
     "execution_count": 24,
     "metadata": {},
     "output_type": "execute_result"
    },
    {
     "data": {
      "image/png": "[encoded data removed]",
      "text/plain": [
       "<Figure size 432x288 with 1 Axes>"
      ]
     },
     "metadata": {
      "needs_background": "light"
     },
     "output_type": "display_data"
    }
   ],
   "source": [
    "regs = [0, 0.01, 0.03, 0.1, 0.3, 1, 3, 100]\n",
    "acc = []\n",
    "for reg in regs:\n",
    "    log_reg = OurLogisticRegression(num_features=X_train.shape[1],num_labels=2,reg=reg)\n",
    "    log_reg.fit(X=X_train, Y=Y_train)\n",
    "    acc.append(log_reg.score(Y_test,log_reg.predict(X_test)))\n",
    "    \n",
    "plt.plot(regs,acc)\n",
    "plt.title(\"Evolución de la precisión en función de la regularización\")"
   ]
  },
  {
   "cell_type": "markdown",
   "metadata": {},
   "source": [
    "#### Regresión Logística Scikit-learn"
   ]
  },
  {
   "cell_type": "code",
   "execution_count": 22,
   "metadata": {},
   "outputs": [],
   "source": [
    "models = ['newton-cg', 'lbfgs', 'liblinear', 'sag', 'saga']"
   ]
  },
  {
   "cell_type": "code",
   "execution_count": 23,
   "metadata": {},
   "outputs": [
    {
     "name": "stdout",
     "output_type": "stream",
     "text": [
      "La precisión con el algoritmo newton-cg es: 85.01267563270743 % \n",
      "La precisión con el algoritmo lbfgs es: 63.12465088299747 % \n",
      "La precisión con el algoritmo liblinear es: 63.12465088299747 % \n",
      "La precisión con el algoritmo sag es: 63.12465088299747 % \n",
      "La precisión con el algoritmo saga es: 63.12465088299747 % \n"
     ]
    }
   ],
   "source": [
    "for solver in models:\n",
    "    if solver == \"liblinear\":\n",
    "        model = LogisticRegression(solver=solver)\n",
    "    else: \n",
    "        model = LogisticRegression(solver=solver, multi_class =\"multinomial\")\n",
    "    model.fit(X=X_train, y=Y_train)\n",
    "    print(\"La precisión con el algoritmo {} es: {} % \".format(solver, model.score(X_test, Y_test) * 100))"
   ]
  },
  {
   "cell_type": "markdown",
   "metadata": {},
   "source": [
    "Escogemos el algoritmo de optimización newton-cg y probamos diferentes configuraciones:"
   ]
  },
  {
   "cell_type": "code",
   "execution_count": 30,
   "metadata": {},
   "outputs": [
    {
     "data": {
      "text/plain": [
       "Text(0.5, 1.0, 'Evolución de la precisión en función del parámetro C')"
      ]
     },
     "execution_count": 30,
     "metadata": {},
     "output_type": "execute_result"
    },
    {
     "data": {
      "image/png": "[encoded data removed]",
      "text/plain": [
       "<Figure size 432x288 with 1 Axes>"
      ]
     },
     "metadata": {
      "needs_background": "light"
     },
     "output_type": "display_data"
    }
   ],
   "source": [
    "C_params = [0.5,1 ,1.5, 2, 3, 5, 10]\n",
    "acc = []\n",
    "for C in C_params:\n",
    "    model = LogisticRegression(solver='newton-cg', multi_class =\"multinomial\", C=C)\n",
    "    model.fit(X=X_train, y=Y_train)\n",
    "    acc.append(log_reg.score(Y_test,model.predict(X_test)))\n",
    "    \n",
    "plt.plot(C_params,acc)\n",
    "plt.title(\"Evolución de la precisión en función del parámetro C\")"
   ]
  },
  {
   "cell_type": "markdown",
   "metadata": {},
   "source": [
    "## Redes Neuronales"
   ]
  },
  {
   "cell_type": "markdown",
   "metadata": {},
   "source": [
    "## Máquinas de vector de soporte"
   ]
  }
 ],
 "metadata": {
  "kernelspec": {
   "display_name": "Python 3",
   "language": "python",
   "name": "python3"
  },
  "language_info": {
   "codemirror_mode": {
    "name": "ipython",
    "version": 3
   },
   "file_extension": ".py",
   "mimetype": "text/x-python",
   "name": "python",
   "nbconvert_exporter": "python",
   "pygments_lexer": "ipython3",
   "version": "3.7.2"
  }
 },
 "nbformat": 4,
 "nbformat_minor": 2
}
