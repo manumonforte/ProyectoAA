{
 "cells": [
  {
   "cell_type": "markdown",
   "metadata": {},
   "source": [
    "# Aplicaciones de Aprendizaje Automático sobre Spotify "
   ]
  },
  {
   "cell_type": "markdown",
   "metadata": {},
   "source": [
    "## Propósito del documento"
   ]
  },
  {
   "cell_type": "markdown",
   "metadata": {},
   "source": [
    "El objetivo del documento es explicar la aplicación de diferentes técnicas de aprendizaje automático sobre el dataset de [Spotify Tracks DB](https://www.kaggle.com/zaheenhamidani/ultimate-spotify-tracks-db). El objetivo del proyecto será estudiar diferentes configuraciones de las técnicas  para determinar la popularidad que tendrá una canción."
   ]
  },
  {
   "cell_type": "markdown",
   "metadata": {},
   "source": [
    "## Descripción del Dataset"
   ]
  },
  {
   "cell_type": "markdown",
   "metadata": {},
   "source": [
    "El dataset tiene un tamaño de 32,15 MB, contiene 232,725 pistas de música. Los datos para cada una de las pistas de música son los siguientes:\n",
    "- **Genre**: Género (Película, Jazz, Reggaeton...)\n",
    "- **artist_name**: Nombre del artista\n",
    "- **track_name**: Nombre de la pista\n",
    "- **track_id**: El id de Spotify para la pista.\n",
    "- **Popularity**: Ínidice de popularidad de una pista (0- 100)\n",
    "- **Acousticness**: Una medida de confianza de 0.0 a 1.0 de si la pista es acústica. 1,0 representa una alta confianza de que la pista es acústica.\n",
    "- **Danceability**: describe lo adecuado que es un tema para el baile basado en una combinación de elementos musicales como el tempo, la estabilidad del ritmo, la fuerza del compás y la regularidad general. Un valor de 0.0 es el menos bailable y 1.0 es el más bailable. \n",
    "- **Duration_ms**: La duración de la pista en milisegundos.  \n",
    "- **Energy**: La energía es una medida de 0,0 a 1,0 y representa una medida perceptiva de la intensidad y la actividad. Típicamente, las huellas de energía se sienten rápidas, fuertes y ruidosas.\n",
    "- **Instrumentalness**: Predice si una pista no contiene voces. Los sonidos \"Ooh\" y \"aah\" son tratados como instrumentales en este contexto. Las pistas de rap o de palabra hablada son claramente \"vocales\". \n",
    "- **Key**: La clave general estimada de la pista. Los números enteros se asignan a los lanzamientos usando la notación estándar de la clase de lanzamiento. Por ejemplo, 0 = C, 1 = C♯/D♭, 2 = D, y así sucesivamente. Si no se detectó ninguna clave, el valor es -1.\n",
    "- **Liveness**: Detecta la presencia de una audiencia en la grabación ( 1 música en concierto)\n",
    "- **Loudness**: La sonoridad global de una pista en decibelios (dB)\n",
    "- **Mode**: El modo indica la modalidad (mayor o menor) de una pista, el tipo de escala de la que se deriva su contenido melódico. La mayor se representa por 1 y la menor por 0. \n",
    "- **Speechiness**:  detecta la presencia de palabras habladas en una pista\n",
    "- **Tempo**: El tempo global estimado de una pista en pulsaciones por minuto (BPM). En la terminología musical, el tempo es la velocidad o el ritmo de una pieza dada y se deriva directamente de la duración media del tiempo\n",
    "- **Time_signature**: Una firma de tiempo global estimada de una pista. La signatura de tiempo (metro) es una convención notacional para especificar cuántos latidos hay en cada barra (o medida).\n",
    "- **Valence**: Una medida de 0.0 a 1.0 que describe la positividad musical transmitida por una pista (1 muy positivo)"
   ]
  },
  {
   "cell_type": "markdown",
   "metadata": {},
   "source": [
    "## Librerías"
   ]
  },
  {
   "cell_type": "code",
   "execution_count": 1,
   "metadata": {},
   "outputs": [
    {
     "name": "stderr",
     "output_type": "stream",
     "text": [
      "Using TensorFlow backend.\n"
     ]
    }
   ],
   "source": [
    "import pandas as pd\n",
    "import numpy as np\n",
    "from numpy import argmax\n",
    "from sklearn.preprocessing import LabelBinarizer\n",
    "import numpy.ma as ma\n",
    "from sklearn.preprocessing import PolynomialFeatures\n",
    "from sklearn.pipeline import Pipeline\n",
    "from sklearn.preprocessing import StandardScaler\n",
    "from sklearn.linear_model import LinearRegression\n",
    "from sklearn.metrics import mean_squared_error\n",
    "from sklearn.linear_model import Ridge\n",
    "from sklearn.linear_model import LogisticRegression\n",
    "from sklearn.svm import SVC\n",
    "from sklearn.metrics import accuracy_score\n",
    "from keras.utils.vis_utils import plot_model\n",
    "from keras.optimizers import SGD\n",
    "from scipy import optimize\n",
    "import scipy.optimize as opt\n",
    "from keras.models import Sequential\n",
    "from keras.layers import Dense\n",
    "from keras.layers import Dropout\n",
    "from keras.utils.vis_utils import plot_model\n",
    "from keras.wrappers.scikit_learn import KerasClassifier\n",
    "from keras import regularizers\n",
    "from sklearn.model_selection import cross_val_score\n",
    "from sklearn.model_selection import KFold\n",
    "from keras.utils import to_categorical\n",
    "\n",
    "from numpy import inf\n",
    "from pandas.io.parsers import read_csv\n",
    "from matplotlib import pyplot as plt\n",
    "from matplotlib import cm\n",
    "from matplotlib.ticker import LinearLocator, FormatStrFormatter\n",
    "from mpl_toolkits.mplot3d import Axes3D\n",
    "import warnings\n",
    "warnings.filterwarnings('ignore')\n",
    "\n",
    "###########################\n",
    "####     OUR CLASES     ###\n",
    "###########################\n",
    "from LogisticRegression import OurLogisticRegression\n",
    "from LinearRegression import OurLinearRegression"
   ]
  },
  {
   "cell_type": "markdown",
   "metadata": {},
   "source": [
    "## Lectura de Datos"
   ]
  },
  {
   "cell_type": "code",
   "execution_count": 2,
   "metadata": {},
   "outputs": [],
   "source": [
    "data = pd.read_csv(\"data/SpotifyFeatures.csv\")"
   ]
  },
  {
   "cell_type": "code",
   "execution_count": 3,
   "metadata": {},
   "outputs": [
    {
     "data": {
      "text/plain": [
       "(232725, 18)"
      ]
     },
     "execution_count": 3,
     "metadata": {},
     "output_type": "execute_result"
    }
   ],
   "source": [
    "data.shape"
   ]
  },
  {
   "cell_type": "code",
   "execution_count": 4,
   "metadata": {},
   "outputs": [
    {
     "data": {
      "text/html": [
       "<div>\n",
       "<style scoped>\n",
       "    .dataframe tbody tr th:only-of-type {\n",
       "        vertical-align: middle;\n",
       "    }\n",
       "\n",
       "    .dataframe tbody tr th {\n",
       "        vertical-align: top;\n",
       "    }\n",
       "\n",
       "    .dataframe thead th {\n",
       "        text-align: right;\n",
       "    }\n",
       "</style>\n",
       "<table border=\"1\" class=\"dataframe\">\n",
       "  <thead>\n",
       "    <tr style=\"text-align: right;\">\n",
       "      <th></th>\n",
       "      <th>genre</th>\n",
       "      <th>artist_name</th>\n",
       "      <th>track_name</th>\n",
       "      <th>track_id</th>\n",
       "      <th>popularity</th>\n",
       "      <th>acousticness</th>\n",
       "      <th>danceability</th>\n",
       "      <th>duration_ms</th>\n",
       "      <th>energy</th>\n",
       "      <th>instrumentalness</th>\n",
       "      <th>key</th>\n",
       "      <th>liveness</th>\n",
       "      <th>loudness</th>\n",
       "      <th>mode</th>\n",
       "      <th>speechiness</th>\n",
       "      <th>tempo</th>\n",
       "      <th>time_signature</th>\n",
       "      <th>valence</th>\n",
       "    </tr>\n",
       "  </thead>\n",
       "  <tbody>\n",
       "    <tr>\n",
       "      <th>0</th>\n",
       "      <td>Movie</td>\n",
       "      <td>Henri Salvador</td>\n",
       "      <td>C'est beau de faire un Show</td>\n",
       "      <td>0BRjO6ga9RKCKjfDqeFgWV</td>\n",
       "      <td>0</td>\n",
       "      <td>0.611</td>\n",
       "      <td>0.389</td>\n",
       "      <td>99373</td>\n",
       "      <td>0.910</td>\n",
       "      <td>0.000</td>\n",
       "      <td>C#</td>\n",
       "      <td>0.3460</td>\n",
       "      <td>-1.828</td>\n",
       "      <td>Major</td>\n",
       "      <td>0.0525</td>\n",
       "      <td>166.969</td>\n",
       "      <td>4/4</td>\n",
       "      <td>0.814</td>\n",
       "    </tr>\n",
       "    <tr>\n",
       "      <th>1</th>\n",
       "      <td>Movie</td>\n",
       "      <td>Martin &amp; les fées</td>\n",
       "      <td>Perdu d'avance (par Gad Elmaleh)</td>\n",
       "      <td>0BjC1NfoEOOusryehmNudP</td>\n",
       "      <td>1</td>\n",
       "      <td>0.246</td>\n",
       "      <td>0.590</td>\n",
       "      <td>137373</td>\n",
       "      <td>0.737</td>\n",
       "      <td>0.000</td>\n",
       "      <td>F#</td>\n",
       "      <td>0.1510</td>\n",
       "      <td>-5.559</td>\n",
       "      <td>Minor</td>\n",
       "      <td>0.0868</td>\n",
       "      <td>174.003</td>\n",
       "      <td>4/4</td>\n",
       "      <td>0.816</td>\n",
       "    </tr>\n",
       "    <tr>\n",
       "      <th>2</th>\n",
       "      <td>Movie</td>\n",
       "      <td>Joseph Williams</td>\n",
       "      <td>Don't Let Me Be Lonely Tonight</td>\n",
       "      <td>0CoSDzoNIKCRs124s9uTVy</td>\n",
       "      <td>3</td>\n",
       "      <td>0.952</td>\n",
       "      <td>0.663</td>\n",
       "      <td>170267</td>\n",
       "      <td>0.131</td>\n",
       "      <td>0.000</td>\n",
       "      <td>C</td>\n",
       "      <td>0.1030</td>\n",
       "      <td>-13.879</td>\n",
       "      <td>Minor</td>\n",
       "      <td>0.0362</td>\n",
       "      <td>99.488</td>\n",
       "      <td>5/4</td>\n",
       "      <td>0.368</td>\n",
       "    </tr>\n",
       "    <tr>\n",
       "      <th>3</th>\n",
       "      <td>Movie</td>\n",
       "      <td>Henri Salvador</td>\n",
       "      <td>Dis-moi Monsieur Gordon Cooper</td>\n",
       "      <td>0Gc6TVm52BwZD07Ki6tIvf</td>\n",
       "      <td>0</td>\n",
       "      <td>0.703</td>\n",
       "      <td>0.240</td>\n",
       "      <td>152427</td>\n",
       "      <td>0.326</td>\n",
       "      <td>0.000</td>\n",
       "      <td>C#</td>\n",
       "      <td>0.0985</td>\n",
       "      <td>-12.178</td>\n",
       "      <td>Major</td>\n",
       "      <td>0.0395</td>\n",
       "      <td>171.758</td>\n",
       "      <td>4/4</td>\n",
       "      <td>0.227</td>\n",
       "    </tr>\n",
       "    <tr>\n",
       "      <th>4</th>\n",
       "      <td>Movie</td>\n",
       "      <td>Fabien Nataf</td>\n",
       "      <td>Ouverture</td>\n",
       "      <td>0IuslXpMROHdEPvSl1fTQK</td>\n",
       "      <td>4</td>\n",
       "      <td>0.950</td>\n",
       "      <td>0.331</td>\n",
       "      <td>82625</td>\n",
       "      <td>0.225</td>\n",
       "      <td>0.123</td>\n",
       "      <td>F</td>\n",
       "      <td>0.2020</td>\n",
       "      <td>-21.150</td>\n",
       "      <td>Major</td>\n",
       "      <td>0.0456</td>\n",
       "      <td>140.576</td>\n",
       "      <td>4/4</td>\n",
       "      <td>0.390</td>\n",
       "    </tr>\n",
       "  </tbody>\n",
       "</table>\n",
       "</div>"
      ],
      "text/plain": [
       "   genre        artist_name                        track_name  \\\n",
       "0  Movie     Henri Salvador       C'est beau de faire un Show   \n",
       "1  Movie  Martin & les fées  Perdu d'avance (par Gad Elmaleh)   \n",
       "2  Movie    Joseph Williams    Don't Let Me Be Lonely Tonight   \n",
       "3  Movie     Henri Salvador    Dis-moi Monsieur Gordon Cooper   \n",
       "4  Movie       Fabien Nataf                         Ouverture   \n",
       "\n",
       "                 track_id  popularity  acousticness  danceability  \\\n",
       "0  0BRjO6ga9RKCKjfDqeFgWV           0         0.611         0.389   \n",
       "1  0BjC1NfoEOOusryehmNudP           1         0.246         0.590   \n",
       "2  0CoSDzoNIKCRs124s9uTVy           3         0.952         0.663   \n",
       "3  0Gc6TVm52BwZD07Ki6tIvf           0         0.703         0.240   \n",
       "4  0IuslXpMROHdEPvSl1fTQK           4         0.950         0.331   \n",
       "\n",
       "   duration_ms  energy  instrumentalness key  liveness  loudness   mode  \\\n",
       "0        99373   0.910             0.000  C#    0.3460    -1.828  Major   \n",
       "1       137373   0.737             0.000  F#    0.1510    -5.559  Minor   \n",
       "2       170267   0.131             0.000   C    0.1030   -13.879  Minor   \n",
       "3       152427   0.326             0.000  C#    0.0985   -12.178  Major   \n",
       "4        82625   0.225             0.123   F    0.2020   -21.150  Major   \n",
       "\n",
       "   speechiness    tempo time_signature  valence  \n",
       "0       0.0525  166.969            4/4    0.814  \n",
       "1       0.0868  174.003            4/4    0.816  \n",
       "2       0.0362   99.488            5/4    0.368  \n",
       "3       0.0395  171.758            4/4    0.227  \n",
       "4       0.0456  140.576            4/4    0.390  "
      ]
     },
     "execution_count": 4,
     "metadata": {},
     "output_type": "execute_result"
    }
   ],
   "source": [
    "data.head(5)"
   ]
  },
  {
   "cell_type": "markdown",
   "metadata": {},
   "source": [
    "### Selección de variables dependientes ( x<sub>1 </sub>... x<sub>n </sub>) y Variable objetivo (y)"
   ]
  },
  {
   "cell_type": "markdown",
   "metadata": {},
   "source": [
    "Las variables dependientes serán:\n",
    "- acousticness\n",
    "- danceability\n",
    "- duration_ms\n",
    "- energy\n",
    "- instrumentalness\n",
    "- key\n",
    "- liveness \n",
    "- mode\n",
    "- speechiness\n",
    "- tempo\n",
    "- time_signature\n",
    "- valence\n",
    "- genre\n",
    "\n",
    "La variable objetivo será la popularidad de la canción"
   ]
  },
  {
   "cell_type": "code",
   "execution_count": 5,
   "metadata": {},
   "outputs": [],
   "source": [
    "features = ['acousticness', 'danceability', 'duration_ms', 'energy',\n",
    "       'instrumentalness', 'liveness', 'mode',\n",
    "       'speechiness', 'tempo', 'valence', 'A', 'A#', 'B',\n",
    "       'C', 'C#', 'D', 'D#', 'E', 'F', 'F#', 'G', 'G#', 'A Capella',\n",
    "       'Alternative', 'Anime', 'Blues', \"Children's Music\",\n",
    "       'Classical', 'Comedy', 'Country', 'Dance', 'Electronic', 'Folk',\n",
    "       'Hip-Hop', 'Indie', 'Jazz', 'Movie', 'Opera', 'Pop', 'R&B', 'Rap',\n",
    "       'Reggae', 'Reggaeton', 'Rock', 'Ska', 'Soul', 'Soundtrack', 'World']\n",
    "target = 'popularity'\n",
    "target_classified = 'popularity_class'"
   ]
  },
  {
   "cell_type": "markdown",
   "metadata": {},
   "source": [
    "## Preprocesamiento"
   ]
  },
  {
   "cell_type": "markdown",
   "metadata": {},
   "source": [
    "Antes de la elaboración de los modelos y las prueba de los mismos con diferentes configuraciones, debemos realizar un preoprocesado de los datos, en aquellas columnas que han sido seleccionadas para pertencer a los ejemplos de entrenamiento y no son númericas"
   ]
  },
  {
   "cell_type": "markdown",
   "metadata": {},
   "source": [
    "#### Columna mode"
   ]
  },
  {
   "cell_type": "markdown",
   "metadata": {},
   "source": [
    "Primero comprobaremos los diferentesvalores que tiene la columna"
   ]
  },
  {
   "cell_type": "code",
   "execution_count": 6,
   "metadata": {},
   "outputs": [
    {
     "data": {
      "text/plain": [
       "array(['Major', 'Minor'], dtype=object)"
      ]
     },
     "execution_count": 6,
     "metadata": {},
     "output_type": "execute_result"
    }
   ],
   "source": [
    "data['mode'].unique()"
   ]
  },
  {
   "cell_type": "markdown",
   "metadata": {},
   "source": [
    "Como podemos comprobar la columna solo tiene valores Minor & Major, por ello, se colocará un 0 cuando el valor de la celda sea Minor y un 1 cuando el valor de la celda sea Major."
   ]
  },
  {
   "cell_type": "code",
   "execution_count": 7,
   "metadata": {},
   "outputs": [
    {
     "data": {
      "text/html": [
       "<div>\n",
       "<style scoped>\n",
       "    .dataframe tbody tr th:only-of-type {\n",
       "        vertical-align: middle;\n",
       "    }\n",
       "\n",
       "    .dataframe tbody tr th {\n",
       "        vertical-align: top;\n",
       "    }\n",
       "\n",
       "    .dataframe thead th {\n",
       "        text-align: right;\n",
       "    }\n",
       "</style>\n",
       "<table border=\"1\" class=\"dataframe\">\n",
       "  <thead>\n",
       "    <tr style=\"text-align: right;\">\n",
       "      <th></th>\n",
       "      <th>genre</th>\n",
       "      <th>artist_name</th>\n",
       "      <th>track_name</th>\n",
       "      <th>track_id</th>\n",
       "      <th>popularity</th>\n",
       "      <th>acousticness</th>\n",
       "      <th>danceability</th>\n",
       "      <th>duration_ms</th>\n",
       "      <th>energy</th>\n",
       "      <th>instrumentalness</th>\n",
       "      <th>key</th>\n",
       "      <th>liveness</th>\n",
       "      <th>loudness</th>\n",
       "      <th>mode</th>\n",
       "      <th>speechiness</th>\n",
       "      <th>tempo</th>\n",
       "      <th>time_signature</th>\n",
       "      <th>valence</th>\n",
       "    </tr>\n",
       "  </thead>\n",
       "  <tbody>\n",
       "    <tr>\n",
       "      <th>36635</th>\n",
       "      <td>Electronic</td>\n",
       "      <td>David August</td>\n",
       "      <td>A Golden Rush</td>\n",
       "      <td>4qRVBnYIf6fMIsImHrZlID</td>\n",
       "      <td>45</td>\n",
       "      <td>0.2900</td>\n",
       "      <td>0.633</td>\n",
       "      <td>441888</td>\n",
       "      <td>0.542</td>\n",
       "      <td>0.772000</td>\n",
       "      <td>F#</td>\n",
       "      <td>0.2330</td>\n",
       "      <td>-11.475</td>\n",
       "      <td>0</td>\n",
       "      <td>0.0461</td>\n",
       "      <td>106.003</td>\n",
       "      <td>4/4</td>\n",
       "      <td>0.0597</td>\n",
       "    </tr>\n",
       "    <tr>\n",
       "      <th>111205</th>\n",
       "      <td>Pop</td>\n",
       "      <td>Jessie J</td>\n",
       "      <td>Price Tag</td>\n",
       "      <td>5mvKuE9Lf9ARVXVXA32kK9</td>\n",
       "      <td>62</td>\n",
       "      <td>0.0281</td>\n",
       "      <td>0.638</td>\n",
       "      <td>223053</td>\n",
       "      <td>0.831</td>\n",
       "      <td>0.000003</td>\n",
       "      <td>F</td>\n",
       "      <td>0.2770</td>\n",
       "      <td>-3.944</td>\n",
       "      <td>1</td>\n",
       "      <td>0.1820</td>\n",
       "      <td>175.038</td>\n",
       "      <td>4/4</td>\n",
       "      <td>0.6850</td>\n",
       "    </tr>\n",
       "    <tr>\n",
       "      <th>53912</th>\n",
       "      <td>R&amp;B</td>\n",
       "      <td>Bruno Major</td>\n",
       "      <td>Fair-Weather Friend</td>\n",
       "      <td>1I9GllIh1R3EMvTFT5Tfn7</td>\n",
       "      <td>64</td>\n",
       "      <td>0.5600</td>\n",
       "      <td>0.680</td>\n",
       "      <td>186713</td>\n",
       "      <td>0.340</td>\n",
       "      <td>0.002100</td>\n",
       "      <td>F#</td>\n",
       "      <td>0.0705</td>\n",
       "      <td>-6.985</td>\n",
       "      <td>1</td>\n",
       "      <td>0.1150</td>\n",
       "      <td>131.353</td>\n",
       "      <td>3/4</td>\n",
       "      <td>0.3910</td>\n",
       "    </tr>\n",
       "    <tr>\n",
       "      <th>110983</th>\n",
       "      <td>Pop</td>\n",
       "      <td>21 Savage</td>\n",
       "      <td>pad lock</td>\n",
       "      <td>5stbfxsPi8gcOH2LCuA4Le</td>\n",
       "      <td>68</td>\n",
       "      <td>0.0187</td>\n",
       "      <td>0.960</td>\n",
       "      <td>191360</td>\n",
       "      <td>0.550</td>\n",
       "      <td>0.000000</td>\n",
       "      <td>F</td>\n",
       "      <td>0.1120</td>\n",
       "      <td>-8.012</td>\n",
       "      <td>0</td>\n",
       "      <td>0.1970</td>\n",
       "      <td>130.022</td>\n",
       "      <td>4/4</td>\n",
       "      <td>0.7980</td>\n",
       "    </tr>\n",
       "    <tr>\n",
       "      <th>62300</th>\n",
       "      <td>Folk</td>\n",
       "      <td>David Gray</td>\n",
       "      <td>A Tight Ship - Radio Edit</td>\n",
       "      <td>0KsLmtmd5XWgXcsoZ6DIgI</td>\n",
       "      <td>52</td>\n",
       "      <td>0.2260</td>\n",
       "      <td>0.720</td>\n",
       "      <td>200570</td>\n",
       "      <td>0.544</td>\n",
       "      <td>0.004880</td>\n",
       "      <td>G#</td>\n",
       "      <td>0.2420</td>\n",
       "      <td>-9.778</td>\n",
       "      <td>1</td>\n",
       "      <td>0.0501</td>\n",
       "      <td>97.773</td>\n",
       "      <td>3/4</td>\n",
       "      <td>0.5350</td>\n",
       "    </tr>\n",
       "  </tbody>\n",
       "</table>\n",
       "</div>"
      ],
      "text/plain": [
       "             genre   artist_name                 track_name  \\\n",
       "36635   Electronic  David August              A Golden Rush   \n",
       "111205         Pop      Jessie J                  Price Tag   \n",
       "53912          R&B   Bruno Major        Fair-Weather Friend   \n",
       "110983         Pop     21 Savage                   pad lock   \n",
       "62300         Folk    David Gray  A Tight Ship - Radio Edit   \n",
       "\n",
       "                      track_id  popularity  acousticness  danceability  \\\n",
       "36635   4qRVBnYIf6fMIsImHrZlID          45        0.2900         0.633   \n",
       "111205  5mvKuE9Lf9ARVXVXA32kK9          62        0.0281         0.638   \n",
       "53912   1I9GllIh1R3EMvTFT5Tfn7          64        0.5600         0.680   \n",
       "110983  5stbfxsPi8gcOH2LCuA4Le          68        0.0187         0.960   \n",
       "62300   0KsLmtmd5XWgXcsoZ6DIgI          52        0.2260         0.720   \n",
       "\n",
       "        duration_ms  energy  instrumentalness key  liveness  loudness  mode  \\\n",
       "36635        441888   0.542          0.772000  F#    0.2330   -11.475     0   \n",
       "111205       223053   0.831          0.000003   F    0.2770    -3.944     1   \n",
       "53912        186713   0.340          0.002100  F#    0.0705    -6.985     1   \n",
       "110983       191360   0.550          0.000000   F    0.1120    -8.012     0   \n",
       "62300        200570   0.544          0.004880  G#    0.2420    -9.778     1   \n",
       "\n",
       "        speechiness    tempo time_signature  valence  \n",
       "36635        0.0461  106.003            4/4   0.0597  \n",
       "111205       0.1820  175.038            4/4   0.6850  \n",
       "53912        0.1150  131.353            3/4   0.3910  \n",
       "110983       0.1970  130.022            4/4   0.7980  \n",
       "62300        0.0501   97.773            3/4   0.5350  "
      ]
     },
     "execution_count": 7,
     "metadata": {},
     "output_type": "execute_result"
    }
   ],
   "source": [
    "data.loc[data['mode'] == 'Minor', 'mode'] = 0\n",
    "data.loc[data['mode'] == 'Major', 'mode'] = 1\n",
    "data.sample(5)"
   ]
  },
  {
   "cell_type": "markdown",
   "metadata": {},
   "source": [
    "#### Columna key"
   ]
  },
  {
   "cell_type": "markdown",
   "metadata": {},
   "source": [
    "Tras leer varios artículos, hemos aprendido que no es bueno que en columna con muchos valores categóricos, transformarla en una columna solo con valores que representen al valor categórico, ya que los algunos modelos asignan mayor importancia a valores más altos, por ello debemos creearnos columnas de tipo bool con nombres de los valores categóricos y poner un 1 si se trata de este valor categórico y cero en caso contrario, esta técnica se denomina OneHotEncoder. Procedemos a crearlas:"
   ]
  },
  {
   "cell_type": "code",
   "execution_count": 8,
   "metadata": {},
   "outputs": [],
   "source": [
    "lb = LabelBinarizer()\n",
    "data = data.join(pd.DataFrame(lb.fit_transform(data[\"key\"]),columns=lb.classes_,index=data.index))"
   ]
  },
  {
   "cell_type": "markdown",
   "metadata": {},
   "source": [
    "#### Columna Genre"
   ]
  },
  {
   "cell_type": "code",
   "execution_count": 9,
   "metadata": {},
   "outputs": [],
   "source": [
    "lb = LabelBinarizer()\n",
    "data = data.join(pd.DataFrame(lb.fit_transform(data[\"genre\"]),columns=lb.classes_,index=data.index))"
   ]
  },
  {
   "cell_type": "markdown",
   "metadata": {},
   "source": [
    "#### Generar variable objetivo multiclase"
   ]
  },
  {
   "cell_type": "markdown",
   "metadata": {},
   "source": [
    "Previamente, dado que actuamente la variable popularidad es una variable continua deberemos discretizarla,para ello se crearán las siguientes clases:\n",
    "- Alta (2): Popularidad > 70\n",
    "- Popularidad Media (1) : 40 <= Popularidad <= 70\n",
    "- Popularidad Baja (0): Popularidad < 40"
   ]
  },
  {
   "cell_type": "code",
   "execution_count": 10,
   "metadata": {},
   "outputs": [],
   "source": [
    "def label (row):\n",
    "    if row['popularity'] < 40  :\n",
    "        return 0\n",
    "    elif row['popularity'] > 70 :\n",
    "        return 2\n",
    "    return 1"
   ]
  },
  {
   "cell_type": "code",
   "execution_count": 11,
   "metadata": {},
   "outputs": [],
   "source": [
    "data['popularity_class'] = data.apply (lambda row: label(row), axis=1)"
   ]
  },
  {
   "cell_type": "markdown",
   "metadata": {},
   "source": [
    "### Selección conjunto entrenamiento, validación, test"
   ]
  },
  {
   "cell_type": "markdown",
   "metadata": {},
   "source": [
    "A lo largo del proyecto se utilizarán tres conjuntos de datos para la realización de pruebas:\n",
    "- **Entrenamiento**: 70% de las pistas de música\n",
    "- **Validación**: 20% de las pistas de música\n",
    "- **Test**: 10% de las pistas de música"
   ]
  },
  {
   "cell_type": "code",
   "execution_count": 12,
   "metadata": {},
   "outputs": [],
   "source": [
    "data = data.sample(frac=1)"
   ]
  },
  {
   "cell_type": "code",
   "execution_count": 13,
   "metadata": {},
   "outputs": [
    {
     "data": {
      "text/html": [
       "<div>\n",
       "<style scoped>\n",
       "    .dataframe tbody tr th:only-of-type {\n",
       "        vertical-align: middle;\n",
       "    }\n",
       "\n",
       "    .dataframe tbody tr th {\n",
       "        vertical-align: top;\n",
       "    }\n",
       "\n",
       "    .dataframe thead th {\n",
       "        text-align: right;\n",
       "    }\n",
       "</style>\n",
       "<table border=\"1\" class=\"dataframe\">\n",
       "  <thead>\n",
       "    <tr style=\"text-align: right;\">\n",
       "      <th></th>\n",
       "      <th>genre</th>\n",
       "      <th>artist_name</th>\n",
       "      <th>track_name</th>\n",
       "      <th>track_id</th>\n",
       "      <th>popularity</th>\n",
       "      <th>acousticness</th>\n",
       "      <th>danceability</th>\n",
       "      <th>duration_ms</th>\n",
       "      <th>energy</th>\n",
       "      <th>instrumentalness</th>\n",
       "      <th>...</th>\n",
       "      <th>R&amp;B</th>\n",
       "      <th>Rap</th>\n",
       "      <th>Reggae</th>\n",
       "      <th>Reggaeton</th>\n",
       "      <th>Rock</th>\n",
       "      <th>Ska</th>\n",
       "      <th>Soul</th>\n",
       "      <th>Soundtrack</th>\n",
       "      <th>World</th>\n",
       "      <th>popularity_class</th>\n",
       "    </tr>\n",
       "  </thead>\n",
       "  <tbody>\n",
       "    <tr>\n",
       "      <th>181882</th>\n",
       "      <td>Movie</td>\n",
       "      <td>Jodi Benson</td>\n",
       "      <td>Part of Your World (Reprise) - From \"The Littl...</td>\n",
       "      <td>3dE3LMkRw8FHBC9PPYfOSJ</td>\n",
       "      <td>49</td>\n",
       "      <td>0.943</td>\n",
       "      <td>0.130</td>\n",
       "      <td>137853</td>\n",
       "      <td>0.2020</td>\n",
       "      <td>0.019200</td>\n",
       "      <td>...</td>\n",
       "      <td>0</td>\n",
       "      <td>0</td>\n",
       "      <td>0</td>\n",
       "      <td>0</td>\n",
       "      <td>0</td>\n",
       "      <td>0</td>\n",
       "      <td>0</td>\n",
       "      <td>0</td>\n",
       "      <td>0</td>\n",
       "      <td>1</td>\n",
       "    </tr>\n",
       "    <tr>\n",
       "      <th>127914</th>\n",
       "      <td>Classical</td>\n",
       "      <td>Per Nørgård</td>\n",
       "      <td>Spaces in Time</td>\n",
       "      <td>0n1tJmj35kyYVfzXuHIueb</td>\n",
       "      <td>31</td>\n",
       "      <td>0.902</td>\n",
       "      <td>0.236</td>\n",
       "      <td>1224293</td>\n",
       "      <td>0.0485</td>\n",
       "      <td>0.339000</td>\n",
       "      <td>...</td>\n",
       "      <td>0</td>\n",
       "      <td>0</td>\n",
       "      <td>0</td>\n",
       "      <td>0</td>\n",
       "      <td>0</td>\n",
       "      <td>0</td>\n",
       "      <td>0</td>\n",
       "      <td>0</td>\n",
       "      <td>0</td>\n",
       "      <td>0</td>\n",
       "    </tr>\n",
       "    <tr>\n",
       "      <th>195075</th>\n",
       "      <td>Movie</td>\n",
       "      <td>Riders In The Sky</td>\n",
       "      <td>Compadres In The Old Sierra Madres</td>\n",
       "      <td>4FtMFYA6I0b5aQLtURgG9M</td>\n",
       "      <td>3</td>\n",
       "      <td>0.737</td>\n",
       "      <td>0.716</td>\n",
       "      <td>192533</td>\n",
       "      <td>0.4350</td>\n",
       "      <td>0.000000</td>\n",
       "      <td>...</td>\n",
       "      <td>0</td>\n",
       "      <td>0</td>\n",
       "      <td>0</td>\n",
       "      <td>0</td>\n",
       "      <td>0</td>\n",
       "      <td>0</td>\n",
       "      <td>0</td>\n",
       "      <td>0</td>\n",
       "      <td>0</td>\n",
       "      <td>0</td>\n",
       "    </tr>\n",
       "    <tr>\n",
       "      <th>188257</th>\n",
       "      <td>Ska</td>\n",
       "      <td>The Aquabats!</td>\n",
       "      <td>The Ballad of Mr. Bonkers</td>\n",
       "      <td>0Dwv3R9qGAfZOpS6ykFxct</td>\n",
       "      <td>17</td>\n",
       "      <td>0.576</td>\n",
       "      <td>0.493</td>\n",
       "      <td>223400</td>\n",
       "      <td>0.6700</td>\n",
       "      <td>0.000097</td>\n",
       "      <td>...</td>\n",
       "      <td>0</td>\n",
       "      <td>0</td>\n",
       "      <td>0</td>\n",
       "      <td>0</td>\n",
       "      <td>0</td>\n",
       "      <td>1</td>\n",
       "      <td>0</td>\n",
       "      <td>0</td>\n",
       "      <td>0</td>\n",
       "      <td>0</td>\n",
       "    </tr>\n",
       "    <tr>\n",
       "      <th>198453</th>\n",
       "      <td>Soundtrack</td>\n",
       "      <td>Carter Burwell</td>\n",
       "      <td>Dressing for Death</td>\n",
       "      <td>4iUHEjm2RwKSdfXTaTxCNC</td>\n",
       "      <td>47</td>\n",
       "      <td>0.939</td>\n",
       "      <td>0.176</td>\n",
       "      <td>71053</td>\n",
       "      <td>0.0689</td>\n",
       "      <td>0.922000</td>\n",
       "      <td>...</td>\n",
       "      <td>0</td>\n",
       "      <td>0</td>\n",
       "      <td>0</td>\n",
       "      <td>0</td>\n",
       "      <td>0</td>\n",
       "      <td>0</td>\n",
       "      <td>0</td>\n",
       "      <td>1</td>\n",
       "      <td>0</td>\n",
       "      <td>1</td>\n",
       "    </tr>\n",
       "  </tbody>\n",
       "</table>\n",
       "<p>5 rows × 58 columns</p>\n",
       "</div>"
      ],
      "text/plain": [
       "             genre        artist_name  \\\n",
       "181882       Movie        Jodi Benson   \n",
       "127914   Classical        Per Nørgård   \n",
       "195075       Movie  Riders In The Sky   \n",
       "188257         Ska      The Aquabats!   \n",
       "198453  Soundtrack     Carter Burwell   \n",
       "\n",
       "                                               track_name  \\\n",
       "181882  Part of Your World (Reprise) - From \"The Littl...   \n",
       "127914                                     Spaces in Time   \n",
       "195075                 Compadres In The Old Sierra Madres   \n",
       "188257                          The Ballad of Mr. Bonkers   \n",
       "198453                                 Dressing for Death   \n",
       "\n",
       "                      track_id  popularity  acousticness  danceability  \\\n",
       "181882  3dE3LMkRw8FHBC9PPYfOSJ          49         0.943         0.130   \n",
       "127914  0n1tJmj35kyYVfzXuHIueb          31         0.902         0.236   \n",
       "195075  4FtMFYA6I0b5aQLtURgG9M           3         0.737         0.716   \n",
       "188257  0Dwv3R9qGAfZOpS6ykFxct          17         0.576         0.493   \n",
       "198453  4iUHEjm2RwKSdfXTaTxCNC          47         0.939         0.176   \n",
       "\n",
       "        duration_ms  energy  instrumentalness  ... R&B  Rap  Reggae  \\\n",
       "181882       137853  0.2020          0.019200  ...   0    0       0   \n",
       "127914      1224293  0.0485          0.339000  ...   0    0       0   \n",
       "195075       192533  0.4350          0.000000  ...   0    0       0   \n",
       "188257       223400  0.6700          0.000097  ...   0    0       0   \n",
       "198453        71053  0.0689          0.922000  ...   0    0       0   \n",
       "\n",
       "        Reggaeton  Rock  Ska Soul  Soundtrack  World  popularity_class  \n",
       "181882          0     0    0    0           0      0                 1  \n",
       "127914          0     0    0    0           0      0                 0  \n",
       "195075          0     0    0    0           0      0                 0  \n",
       "188257          0     0    1    0           0      0                 0  \n",
       "198453          0     0    0    0           1      0                 1  \n",
       "\n",
       "[5 rows x 58 columns]"
      ]
     },
     "execution_count": 13,
     "metadata": {},
     "output_type": "execute_result"
    }
   ],
   "source": [
    "data.sample(5)"
   ]
  },
  {
   "cell_type": "code",
   "execution_count": 14,
   "metadata": {},
   "outputs": [],
   "source": [
    "train = data[:int(data.shape[0] * 0.7)]\n",
    "val = data[int(data.shape[0] * 0.7):int(data.shape[0] * 0.9)]\n",
    "test = data[int(data.shape[0] * 0.9):]"
   ]
  },
  {
   "cell_type": "code",
   "execution_count": 15,
   "metadata": {},
   "outputs": [
    {
     "name": "stdout",
     "output_type": "stream",
     "text": [
      "La estructura del dataframe de Test es (162907, 58)\n",
      "La estructura del dataframe de Test es (46545, 58)\n",
      "La estructura del dataframe de Test es (23273, 58)\n"
     ]
    }
   ],
   "source": [
    "print('La estructura del dataframe de Test es {}'.format(train.shape))\n",
    "print('La estructura del dataframe de Test es {}'.format(val.shape))\n",
    "print('La estructura del dataframe de Test es {}'.format(test.shape))"
   ]
  },
  {
   "cell_type": "markdown",
   "metadata": {},
   "source": [
    "## Regresión Lineal"
   ]
  },
  {
   "cell_type": "markdown",
   "metadata": {},
   "source": [
    "Primero, probaremos el código desarrollado en la asignatura."
   ]
  },
  {
   "cell_type": "markdown",
   "metadata": {},
   "source": [
    "### Separamos en datos de entrenamiento, validación y test"
   ]
  },
  {
   "cell_type": "code",
   "execution_count": 16,
   "metadata": {},
   "outputs": [],
   "source": [
    "X_train = np.array(train[features])\n",
    "Y_train = np.array(train[target])\n",
    "X_val = np.array(val[features])\n",
    "Y_val = np.array(val[target])\n",
    "X_test = np.array(test[features])\n",
    "Y_test = np.array(test[target])"
   ]
  },
  {
   "cell_type": "markdown",
   "metadata": {},
   "source": [
    "### Inicializamos la Clase"
   ]
  },
  {
   "cell_type": "code",
   "execution_count": 17,
   "metadata": {},
   "outputs": [],
   "source": [
    "linear_reg = OurLinearRegression(num_features=48)"
   ]
  },
  {
   "cell_type": "markdown",
   "metadata": {},
   "source": [
    "### Obtenemos las Thetas optimas"
   ]
  },
  {
   "cell_type": "code",
   "execution_count": 18,
   "metadata": {},
   "outputs": [],
   "source": [
    "linear_reg.train(X=X_train, Y=Y_train)"
   ]
  },
  {
   "cell_type": "code",
   "execution_count": 19,
   "metadata": {},
   "outputs": [
    {
     "data": {
      "text/plain": [
       "array([28.90288833, 35.95627816, 50.5951198 , ..., 61.53728561,\n",
       "       51.26156793, 13.52346207])"
      ]
     },
     "execution_count": 19,
     "metadata": {},
     "output_type": "execute_result"
    }
   ],
   "source": [
    "linear_reg.predict(X_val)"
   ]
  },
  {
   "cell_type": "markdown",
   "metadata": {},
   "source": [
    "Ahora comprobaremos el RMSE sobre los datos de validación."
   ]
  },
  {
   "cell_type": "code",
   "execution_count": 20,
   "metadata": {},
   "outputs": [
    {
     "name": "stdout",
     "output_type": "stream",
     "text": [
      "El RMSE calculado sobre los datos de validación es: 9.587313278723634\n"
     ]
    }
   ],
   "source": [
    "print(\"El RMSE calculado sobre los datos de validación es: {}\".format(np.sqrt(mean_squared_error(Y_val, linear_reg.predict(X_val)))))"
   ]
  },
  {
   "cell_type": "markdown",
   "metadata": {},
   "source": [
    "### Curva de aprendizaje"
   ]
  },
  {
   "cell_type": "markdown",
   "metadata": {},
   "source": [
    "A continuación, realizamos una curva de aprendizaje para conocer a partir de qué número de ejemplos, dejamos de obtener una mejora sustancial en la precisión del modelo:"
   ]
  },
  {
   "cell_type": "code",
   "execution_count": 21,
   "metadata": {},
   "outputs": [
    {
     "data": {
      "text/plain": [
       "Text(0.5, 1.0, 'Evolución del coste')"
      ]
     },
     "execution_count": 21,
     "metadata": {},
     "output_type": "execute_result"
    },
    {
     "data": {
      "image/png": "[encoded data removed]",
      "text/plain": [
       "<Figure size 1440x576 with 1 Axes>"
      ]
     },
     "metadata": {
      "needs_background": "light"
     },
     "output_type": "display_data"
    }
   ],
   "source": [
    "errors_train =  []\n",
    "errors_val = []\n",
    "sizes = [100,500,1000,2000,3000,4000,5000,10000,50000,100000,150000,162907]\n",
    "\n",
    "for size in sizes:\n",
    "    #Get new sets\n",
    "    new_train = train[:size]\n",
    "    new_val = val\n",
    "    X_train_local = np.array(new_train[features])\n",
    "    Y_train_local = np.array(new_train[target])\n",
    "    X_val_local = np.array(new_val[features])\n",
    "    Y_val_local = np.array(new_val[target])\n",
    "    \n",
    "    \n",
    "    #Train with this size\n",
    "    linear_reg = OurLinearRegression(num_features=48)\n",
    "    linear_reg.train(X=X_train_local, Y=Y_train_local)\n",
    "    \n",
    "    \n",
    "    #Get error\n",
    "    errors_train.append(np.sqrt(mean_squared_error(Y_train_local, linear_reg.predict(X_train_local))))\n",
    "    errors_val.append(np.sqrt(mean_squared_error(Y_val_local, linear_reg.predict(X_val_local))))\n",
    "\n",
    "plt.figure(figsize=(20,8))\n",
    "plt.plot(sizes,errors_train, color=\"blue\")\n",
    "plt.plot(sizes,errors_val, color=\"orange\")\n",
    "plt.legend(['train', 'val'])\n",
    "plt.ylabel('RMSE')\n",
    "plt.xlabel('Número de ejemplos')\n",
    "plt.title(\"Evolución del coste\")"
   ]
  },
  {
   "cell_type": "markdown",
   "metadata": {},
   "source": [
    "Como podemos observar, con 50.000 datos de entrenamiento ambos conjuntos convergen por lo que no interesaría introducir más datos para intentar aumentar la precisión. Tras esto crearemos una curva de validación para determinar el mejor hiperparámetro reg, utilizando el conjunto de entrenamiento con el tamaño de 50.000 ejemplos"
   ]
  },
  {
   "cell_type": "markdown",
   "metadata": {},
   "source": [
    "### Curva de validación"
   ]
  },
  {
   "cell_type": "code",
   "execution_count": 22,
   "metadata": {},
   "outputs": [
    {
     "data": {
      "text/plain": [
       "<matplotlib.legend.Legend at 0x23f3aa9dd68>"
      ]
     },
     "execution_count": 22,
     "metadata": {},
     "output_type": "execute_result"
    },
    {
     "data": {
      "image/png": "[encoded data removed]",
      "text/plain": [
       "<Figure size 432x288 with 1 Axes>"
      ]
     },
     "metadata": {
      "needs_background": "light"
     },
     "output_type": "display_data"
    }
   ],
   "source": [
    "reg =[0, 0.01, 0.1, 0.5, 1, 5, 10]\n",
    "errors_train = []\n",
    "errors_val = []\n",
    "\n",
    "for i in reg:\n",
    " #Train with this size\n",
    "    linear_reg = OurLinearRegression(num_features=48,reg=i)\n",
    "    linear_reg.train(X=X_train[:50000], Y=Y_train[:50000])\n",
    "    \n",
    "    \n",
    "    #Get error\n",
    "    errors_train.append(np.sqrt(mean_squared_error(Y_train, linear_reg.predict(X_train))))\n",
    "    errors_val.append(np.sqrt(mean_squared_error(Y_val, linear_reg.predict(X_val))))\n",
    "\n",
    "\n",
    "plt.plot(reg,errors_train, label='Train')\n",
    "plt.plot(reg,errors_val, label='CrossVal')\n",
    "plt.ylabel('Error')\n",
    "plt.xlabel('Término de regularización')\n",
    "plt.legend()"
   ]
  },
  {
   "cell_type": "markdown",
   "metadata": {},
   "source": [
    "Aunque tiene una mejora prácticamente nula, se puede ver que el mejor valor es sin término de regularización."
   ]
  },
  {
   "cell_type": "markdown",
   "metadata": {},
   "source": [
    "Probamos en los datos \"test\" con la mejor configuración obtenida."
   ]
  },
  {
   "cell_type": "code",
   "execution_count": 23,
   "metadata": {},
   "outputs": [],
   "source": [
    "linear_reg = OurLinearRegression(num_features=48)\n",
    "linear_reg.train(X=X_train[:50000], Y=Y_train[:50000])"
   ]
  },
  {
   "cell_type": "markdown",
   "metadata": {},
   "source": [
    "Con esta configuración y las thetas óptimas, calculamos el RMSE sobre el conjunto de datos de test."
   ]
  },
  {
   "cell_type": "code",
   "execution_count": 24,
   "metadata": {},
   "outputs": [
    {
     "name": "stdout",
     "output_type": "stream",
     "text": [
      "El RMSE calculado sobre los datos de test es: 9.678952163068496\n"
     ]
    }
   ],
   "source": [
    "print(\"El RMSE calculado sobre los datos de test es: {}\".format(np.sqrt(mean_squared_error(Y_test, linear_reg.predict(X_test)))))"
   ]
  },
  {
   "cell_type": "markdown",
   "metadata": {},
   "source": [
    "## Regresión Lineal de Scikit-learn"
   ]
  },
  {
   "cell_type": "markdown",
   "metadata": {},
   "source": [
    "En este apartado se realizarán pruebas con el algorítmo de Regresión Lineal de la librería de scikit-learn. Primero entrenaremos con los datos de entrenamiento, para después obtener obtendremos el porcentaje de precisión sobre los datos de validación y tras ello se aplicarán diferentes configuraciones, para finalmente realizar predicciones sobre el tercer conjunto de datos, Test."
   ]
  },
  {
   "cell_type": "code",
   "execution_count": 25,
   "metadata": {},
   "outputs": [],
   "source": [
    "X_train = np.array(train[features])\n",
    "Y_train = np.array(train[target])\n",
    "X_val = np.array(val[features])\n",
    "Y_val = np.array(val[target])\n",
    "X_test = np.array(test[features])\n",
    "Y_test = np.array(test[target])"
   ]
  },
  {
   "cell_type": "markdown",
   "metadata": {},
   "source": [
    "Calculamos la precisión de los datos y el RMSE"
   ]
  },
  {
   "cell_type": "code",
   "execution_count": 26,
   "metadata": {},
   "outputs": [
    {
     "name": "stdout",
     "output_type": "stream",
     "text": [
      "Obtenemos el coeficiente de determinación a partir de los datos de validación: 0.7234274783534511\n"
     ]
    }
   ],
   "source": [
    "model = LinearRegression()\n",
    "model.fit(X=X_train, y=Y_train)\n",
    "print(\"Obtenemos el coeficiente de determinación a partir de los datos de validación: {}\".format(model.score(X_val, Y_val)))"
   ]
  },
  {
   "cell_type": "code",
   "execution_count": 27,
   "metadata": {},
   "outputs": [
    {
     "name": "stdout",
     "output_type": "stream",
     "text": [
      "El RMSE calculado sobre los datos de validación es: 9.587288743440828\n"
     ]
    }
   ],
   "source": [
    "print(\"El RMSE calculado sobre los datos de validación es: {}\".format(np.sqrt(mean_squared_error(Y_val, model.predict(X_val)))))"
   ]
  },
  {
   "cell_type": "markdown",
   "metadata": {},
   "source": [
    "### Curva de aprendizaje"
   ]
  },
  {
   "cell_type": "code",
   "execution_count": 29,
   "metadata": {},
   "outputs": [
    {
     "data": {
      "text/plain": [
       "Text(0.5, 1.0, 'Evolución del RMSE')"
      ]
     },
     "execution_count": 29,
     "metadata": {},
     "output_type": "execute_result"
    },
    {
     "data": {
      "image/png": "[encoded data removed]",
      "text/plain": [
       "<Figure size 1440x576 with 1 Axes>"
      ]
     },
     "metadata": {
      "needs_background": "light"
     },
     "output_type": "display_data"
    }
   ],
   "source": [
    "rmse_train =  []\n",
    "rmse_val = []\n",
    "sizes = [100,500,1000,2000,3000,4000,5000,10000,50000,100000,150000,162907]\n",
    "\n",
    "for size in sizes:\n",
    "    #Get new sets\n",
    "    new_train = train[:size]\n",
    "    new_val = val\n",
    "    X_train_local = np.array(new_train[features])\n",
    "    Y_train_local = np.array(new_train[target])\n",
    "    X_val_local = np.array(new_val[features])\n",
    "    Y_val_local = np.array(new_val[target])\n",
    "    \n",
    "    model = LinearRegression()\n",
    "    model.fit(X=X_train_local, y=Y_train_local, sample_weight=size)\n",
    "    \n",
    "    \n",
    "    #Get error\n",
    "    rmse_train.append(np.sqrt(mean_squared_error(Y_train_local, model.predict(X_train_local))))\n",
    "    rmse_val.append(np.sqrt(mean_squared_error(Y_val_local, model.predict(X_val_local))))\n",
    "\n",
    "plt.figure(figsize=(20,8))\n",
    "plt.plot(sizes,rmse_train, color=\"blue\")\n",
    "plt.plot(sizes,rmse_val, color=\"orange\")\n",
    "plt.legend(['train', 'val'])\n",
    "plt.ylabel('RMSE')\n",
    "plt.xlabel('Número de ejemplos')\n",
    "plt.title(\"Evolución del RMSE\")"
   ]
  },
  {
   "cell_type": "markdown",
   "metadata": {},
   "source": [
    "Como podemos observar, al igual que con el algorítmo realizado por nosotros, con 50.000 datos de entrenamiento ambos conjuntos convergen por lo que no interesaría introducir más datos para intentar aumentar la precisión. Tras esto crearemos una curva de validación para determinar el mejor hiperparámetro reg, utilizando el conjunto de entrenamiento con el tamaño de 50.000 ejemplos"
   ]
  },
  {
   "cell_type": "markdown",
   "metadata": {},
   "source": [
    "### Curvas de validación"
   ]
  },
  {
   "cell_type": "markdown",
   "metadata": {},
   "source": [
    "Para realizar regresión lineal con regularización, utilizaremos Ridge Regression de Scikit-learn"
   ]
  },
  {
   "cell_type": "code",
   "execution_count": 30,
   "metadata": {},
   "outputs": [
    {
     "data": {
      "text/plain": [
       "<matplotlib.legend.Legend at 0x23f3bcd89b0>"
      ]
     },
     "execution_count": 30,
     "metadata": {},
     "output_type": "execute_result"
    },
    {
     "data": {
      "image/png": "[encoded data removed]",
      "text/plain": [
       "<Figure size 432x288 with 1 Axes>"
      ]
     },
     "metadata": {
      "needs_background": "light"
     },
     "output_type": "display_data"
    }
   ],
   "source": [
    "reg =[0.001, 0.01, 0.1, 1, 2]\n",
    "rmse_train = []\n",
    "rmse_val = []\n",
    "\n",
    "for i in reg:\n",
    "    model = None\n",
    "    model = Ridge(alpha=i)\n",
    "    model.fit(X=X_train, y=Y_train, sample_weight=50000)\n",
    "    \n",
    "    #Get error\n",
    "    rmse_train.append(np.sqrt(mean_squared_error(Y_train, model.predict(X_train))))\n",
    "    rmse_val.append(np.sqrt(mean_squared_error(Y_val, model.predict(X_val))))\n",
    "\n",
    "plt.plot(reg,rmse_train, label='Train')\n",
    "plt.plot(reg,rmse_val, label='CrossVal')\n",
    "plt.ylabel('RMSE')\n",
    "plt.xlabel('Término de regularización')\n",
    "plt.legend()"
   ]
  },
  {
   "cell_type": "markdown",
   "metadata": {},
   "source": [
    "Nos quedamos con la mejor configuración, sin parámetro de regularización.\n",
    "Y comprobamos con los datos de Test."
   ]
  },
  {
   "cell_type": "code",
   "execution_count": 31,
   "metadata": {},
   "outputs": [
    {
     "name": "stdout",
     "output_type": "stream",
     "text": [
      "Obtenemos el coeficiente de determinación a partir de los datos de validación: 0.7199417237137871\n"
     ]
    }
   ],
   "source": [
    "model = LinearRegression()\n",
    "model.fit(X=X_train, y=Y_train, sample_weight=50000)\n",
    "print(\"Obtenemos el coeficiente de determinación a partir de los datos de validación: {}\".format(model.score(X_test, Y_test)))"
   ]
  },
  {
   "cell_type": "code",
   "execution_count": 32,
   "metadata": {},
   "outputs": [
    {
     "name": "stdout",
     "output_type": "stream",
     "text": [
      "El RMSE calculado sobre los datos de test es: 9.675547822721683\n"
     ]
    }
   ],
   "source": [
    "print(\"El RMSE calculado sobre los datos de test es: {}\".format(np.sqrt(mean_squared_error(Y_test, model.predict(X_test)))))"
   ]
  },
  {
   "cell_type": "markdown",
   "metadata": {},
   "source": [
    "Como conclusión en este apartado de Regresión Lineal, podemos observar que obtenemos el mismo valor de RMSE tanto en la Regresión implementada por nosotros como con la de Scikit Learn."
   ]
  },
  {
   "cell_type": "markdown",
   "metadata": {},
   "source": [
    "## Regresión Logística"
   ]
  },
  {
   "cell_type": "markdown",
   "metadata": {},
   "source": [
    "Previamente, dado que actuamente la variable popularidad es una variable continua deberemos discretizarla,para ello se escogerá la columna 'popularity class' como variable objetivo donde:\n",
    "- Alta (2): Popularidad > 70\n",
    "- Popularidad Media (1) : 40 <= Popularidad <= 70\n",
    "- Popularidad Baja (0): Popularidad < 40"
   ]
  },
  {
   "cell_type": "code",
   "execution_count": 17,
   "metadata": {},
   "outputs": [],
   "source": [
    "X_train = np.array(train[features])\n",
    "Y_train = np.array(train[target_classified])\n",
    "X_val = np.array(val[features])\n",
    "Y_val = np.array(val[target_classified])\n",
    "X_test = np.array(test[features])\n",
    "Y_test = np.array(test[target_classified])"
   ]
  },
  {
   "cell_type": "markdown",
   "metadata": {},
   "source": [
    "### Regresión Logística Implementada"
   ]
  },
  {
   "cell_type": "markdown",
   "metadata": {},
   "source": [
    "Probaremos la precisión obtenida con la implementación realziada en las prácticas"
   ]
  },
  {
   "cell_type": "code",
   "execution_count": 19,
   "metadata": {},
   "outputs": [],
   "source": [
    "log_reg = OurLogisticRegression(num_features=X_train.shape[1],num_labels=3)"
   ]
  },
  {
   "cell_type": "code",
   "execution_count": 30,
   "metadata": {},
   "outputs": [],
   "source": [
    "log_reg.fit(X=X_train, Y=Y_train)"
   ]
  },
  {
   "cell_type": "code",
   "execution_count": 31,
   "metadata": {},
   "outputs": [
    {
     "data": {
      "text/plain": [
       "83.20120313674938"
      ]
     },
     "execution_count": 31,
     "metadata": {},
     "output_type": "execute_result"
    }
   ],
   "source": [
    "log_reg.score(Y_val,log_reg.predict(X_val))"
   ]
  },
  {
   "cell_type": "markdown",
   "metadata": {},
   "source": [
    "En esta primera prueba hemos obtenido una precisión del 83%, para estudiar distintas configuraciones aplicaremos curvas de validación, con el objetivo de ver cual es el mejor hiperparámetro reg"
   ]
  },
  {
   "cell_type": "markdown",
   "metadata": {},
   "source": [
    "#### Curva de aprendizaje"
   ]
  },
  {
   "cell_type": "code",
   "execution_count": 33,
   "metadata": {},
   "outputs": [
    {
     "data": {
      "text/plain": [
       "Text(0.5, 1.0, 'Evolución de la precisión')"
      ]
     },
     "execution_count": 33,
     "metadata": {},
     "output_type": "execute_result"
    },
    {
     "data": {
      "image/png": "[encoded data removed]",
      "text/plain": [
       "<Figure size 1440x576 with 1 Axes>"
      ]
     },
     "metadata": {
      "needs_background": "light"
     },
     "output_type": "display_data"
    }
   ],
   "source": [
    "sizes = [100,500,1000,2000,3000,4000,5000,10000,50000,100000,150000,162907]\n",
    "acc_train_list = []\n",
    "acc_val_list = []\n",
    "\n",
    "for size in sizes:\n",
    "    \n",
    "    #Get new sets\n",
    "    new_train = train[:size]\n",
    "    new_val = val \n",
    "    X_train_local = np.array(new_train[features])\n",
    "    Y_train_local = np.array(new_train[target_classified])\n",
    "    X_val_local = np.array(new_val[features])\n",
    "    Y_val_local = np.array(new_val[target_classified])\n",
    "    \n",
    "    #Train with this size\n",
    "    log_reg = OurLogisticRegression(num_features=X_train_local.shape[1],num_labels=3)\n",
    "    log_reg.fit(X_train_local, Y_train_local)\n",
    "    #Get acc\n",
    "    acc_train = log_reg.score(Y_train_local,log_reg.predict(X_train_local))\n",
    "    acc_val = log_reg.score(Y_val_local,log_reg.predict(X_val_local))\n",
    "    acc_train_list.append(acc_train)\n",
    "    acc_val_list.append(acc_val)\n",
    "\n",
    "plt.figure(figsize=(20,8))\n",
    "plt.plot(sizes,acc_train_list, color=\"blue\")\n",
    "plt.plot(sizes,acc_val_list, color=\"orange\")\n",
    "plt.legend(['train', 'val'])\n",
    "plt.ylabel('accuracy')\n",
    "plt.xlabel('Número de ejemplos')\n",
    "plt.title(\"Evolución de la precisión\")"
   ]
  },
  {
   "cell_type": "markdown",
   "metadata": {},
   "source": [
    "Como podemos observar en las gráficas anteriores a partir de conjutnos de entrenamiento de 50.000 elementos comienzan a converger la precisión en validación y entrenamiento, por lo que no interesaría introducir más datos y estudiar el modelo con esos tamaños."
   ]
  },
  {
   "cell_type": "markdown",
   "metadata": {},
   "source": [
    "#### Curvas de validación"
   ]
  },
  {
   "cell_type": "markdown",
   "metadata": {},
   "source": [
    "Comprobamos como evoluciona la precisión en función del parámetro de regualrización:\n",
    "    "
   ]
  },
  {
   "cell_type": "code",
   "execution_count": 35,
   "metadata": {},
   "outputs": [
    {
     "data": {
      "text/plain": [
       "Text(0.5, 1.0, 'Evolución de la precisión en función de la regularización')"
      ]
     },
     "execution_count": 35,
     "metadata": {},
     "output_type": "execute_result"
    },
    {
     "data": {
      "image/png": "[encoded data removed]",
      "text/plain": [
       "<Figure size 432x288 with 1 Axes>"
      ]
     },
     "metadata": {
      "needs_background": "light"
     },
     "output_type": "display_data"
    }
   ],
   "source": [
    "regs = [0, 0.01, 0.03, 0.1, 0.3, 1, 3, 5, 8, 10]\n",
    "acc_train_list = []\n",
    "acc_val_list = []\n",
    "for reg in regs:\n",
    "    log_reg = OurLogisticRegression(num_features=X_train.shape[1],num_labels=3,reg=reg)\n",
    "    log_reg.fit(X=X_train[:50000], Y=Y_train[:50000])\n",
    "    acc_train = log_reg.score(Y_train,log_reg.predict(X_train))\n",
    "    acc_val = log_reg.score(Y_val,log_reg.predict(X_val))\n",
    "    acc_train_list.append(acc_train)\n",
    "    acc_val_list.append(acc_val)\n",
    "\n",
    "plt.plot(regs,acc_train_list, color=\"blue\")\n",
    "plt.plot(regs,acc_val_list, color=\"orange\")\n",
    "plt.legend(['train', 'val'])\n",
    "plt.ylabel('accuracy')\n",
    "plt.xlabel('Reg param')\n",
    "plt.title(\"Evolución de la precisión en función de la regularización\")"
   ]
  },
  {
   "cell_type": "markdown",
   "metadata": {},
   "source": [
    "Se ha escogido como parámetro de regularización 0.01, ya que es el que mayor precisión otorga al conjunto de validación. Una vez seleccionado el parámetro de regularización procedemos a crear un modelo con dicho parámetro, entrarlo con los datos de entrenamiento y obtener resultado para el nuevo conjunto de datos de test."
   ]
  },
  {
   "cell_type": "code",
   "execution_count": 37,
   "metadata": {},
   "outputs": [
    {
     "name": "stdout",
     "output_type": "stream",
     "text": [
      "La precisión del algoritmo implementado por los alumnos es: 83.09199501568341\n"
     ]
    }
   ],
   "source": [
    "log_reg = OurLogisticRegression(num_features=X_train.shape[1],num_labels=3,reg=0.01)\n",
    "log_reg.fit(X=X_train[:50000], Y=Y_train[:50000])\n",
    "print(\"La precisión del algoritmo implementado por los alumnos es: {}\".format(log_reg.score(Y_test,log_reg.predict(X_test))))"
   ]
  },
  {
   "cell_type": "markdown",
   "metadata": {},
   "source": [
    "Como conclusión a la Regresión Logísitca implementada, se ha obtenido una precisión del 83.09%"
   ]
  },
  {
   "cell_type": "markdown",
   "metadata": {},
   "source": [
    "### Regresión Logística Scikit-learn"
   ]
  },
  {
   "cell_type": "markdown",
   "metadata": {},
   "source": [
    "En este apartado se realizarán pruebas sobre los diferentes modelos de optimización existentes en Regresión Logística en la librería de scikit-learn. Primero obtendremos el algoritmo con mayor porcentaje de precisión sobre los datos de validación y tras ello se aplicarán diferentes configuraciones, para finalmente realizar predicciones sobre el tercer conjunto de datos, Test."
   ]
  },
  {
   "cell_type": "code",
   "execution_count": 38,
   "metadata": {},
   "outputs": [],
   "source": [
    "models = ['newton-cg', 'lbfgs', 'liblinear', 'sag', 'saga']"
   ]
  },
  {
   "cell_type": "code",
   "execution_count": 39,
   "metadata": {},
   "outputs": [
    {
     "name": "stdout",
     "output_type": "stream",
     "text": [
      "La precisión con el algoritmo newton-cg sobre los datos de validación es: 83.00999033193683 % \n",
      "La precisión con el algoritmo lbfgs sobre los datos de validación es: 53.004619185734235 % \n",
      "La precisión con el algoritmo liblinear sobre los datos de validación es: 53.842517993339776 % \n",
      "La precisión con el algoritmo sag sobre los datos de validación es: 53.004619185734235 % \n",
      "La precisión con el algoritmo saga sobre los datos de validación es: 53.004619185734235 % \n"
     ]
    }
   ],
   "source": [
    "for solver in models:\n",
    "    if solver == \"liblinear\":\n",
    "        model = LogisticRegression(solver=solver)\n",
    "    else: \n",
    "        model = LogisticRegression(solver=solver, multi_class =\"multinomial\")\n",
    "    model.fit(X=X_train, y=Y_train)\n",
    "    print(\"La precisión con el algoritmo {} sobre los datos de validación es: {} % \".format(solver, model.score(X_val, Y_val) * 100))"
   ]
  },
  {
   "cell_type": "markdown",
   "metadata": {},
   "source": [
    "Escogemos el algoritmo de optimización newton-cg y creamos curva de aprendizaje"
   ]
  },
  {
   "cell_type": "markdown",
   "metadata": {},
   "source": [
    "#### Curva de aprendizaje"
   ]
  },
  {
   "cell_type": "code",
   "execution_count": 41,
   "metadata": {},
   "outputs": [
    {
     "data": {
      "text/plain": [
       "Text(0.5, 1.0, 'Evolución de la precisión')"
      ]
     },
     "execution_count": 41,
     "metadata": {},
     "output_type": "execute_result"
    },
    {
     "data": {
      "image/png": "[encoded data removed]",
      "text/plain": [
       "<Figure size 1440x576 with 1 Axes>"
      ]
     },
     "metadata": {
      "needs_background": "light"
     },
     "output_type": "display_data"
    }
   ],
   "source": [
    "sizes = [100,500,1000,2000,3000,4000,5000,10000,50000,100000,150000,162907]\n",
    "acc_train_list = []\n",
    "acc_val_list = []\n",
    "\n",
    "for size in sizes:\n",
    "    \n",
    "    #Get new sets\n",
    "    new_train = train[:size]\n",
    "    new_val = val \n",
    "    X_train_local = np.array(new_train[features])\n",
    "    Y_train_local = np.array(new_train[target_classified])\n",
    "    X_val_local = np.array(new_val[features])\n",
    "    Y_val_local = np.array(new_val[target_classified])\n",
    "    \n",
    "    #Train with this size\n",
    "    model = LogisticRegression(solver='newton-cg', multi_class =\"multinomial\", C=1.5)\n",
    "    model.fit(X=X_train_local, y=Y_train_local)\n",
    "    #Get acc\n",
    "    acc_train = log_reg.score(Y_train_local,model.predict(X_train_local))\n",
    "    acc_val = log_reg.score(Y_val_local,model.predict(X_val_local))\n",
    "    acc_train_list.append(acc_train)\n",
    "    acc_val_list.append(acc_val)\n",
    "\n",
    "plt.figure(figsize=(20,8))\n",
    "plt.plot(sizes,acc_train_list, color=\"blue\")\n",
    "plt.plot(sizes,acc_val_list, color=\"orange\")\n",
    "plt.legend(['train', 'val'])\n",
    "plt.ylabel('accuracy')\n",
    "plt.xlabel('Número de ejemplos')\n",
    "plt.title(\"Evolución de la precisión\")"
   ]
  },
  {
   "cell_type": "markdown",
   "metadata": {},
   "source": [
    "Como podemos observar en las gráficas anteriores a partir de conjutnos de entrenamiento de 50.000 elementos comienzan a converger la precisión en validación y entrenamiento, por lo que no interesaría introducir más datos y estudiar el modelo con esos tamaños."
   ]
  },
  {
   "cell_type": "markdown",
   "metadata": {},
   "source": [
    "#### Curva de validación"
   ]
  },
  {
   "cell_type": "code",
   "execution_count": 42,
   "metadata": {},
   "outputs": [],
   "source": [
    "C_params = [0.1, 0.5, 1 ,1.5, 2, 3, 5, 10]\n",
    "acc_train_list = []\n",
    "acc_val_list= []\n",
    "best_param = None\n",
    "best_acc = 0\n",
    "for C in C_params:\n",
    "    model = LogisticRegression(solver='newton-cg', multi_class =\"multinomial\", C=C)\n",
    "    model.fit(X=X_train[:50000], y=Y_train[:50000])\n",
    "    acc_train_list.append(log_reg.score(Y_train,model.predict(X_train)))\n",
    "    acc_val_list.append(log_reg.score(Y_val,model.predict(X_val)))  "
   ]
  },
  {
   "cell_type": "code",
   "execution_count": 43,
   "metadata": {},
   "outputs": [
    {
     "data": {
      "text/plain": [
       "Text(0.5, 1.0, 'Evolución de la precisión en función del parámetro C')"
      ]
     },
     "execution_count": 43,
     "metadata": {},
     "output_type": "execute_result"
    },
    {
     "data": {
      "image/png": "[encoded data removed]",
      "text/plain": [
       "<Figure size 1440x576 with 1 Axes>"
      ]
     },
     "metadata": {
      "needs_background": "light"
     },
     "output_type": "display_data"
    }
   ],
   "source": [
    "plt.figure(figsize=(20,8))\n",
    "plt.plot(C_params,acc_train_list, color=\"blue\")\n",
    "plt.plot(C_params,acc_val_list, color=\"orange\")\n",
    "plt.legend(['train', 'val'])\n",
    "plt.ylabel('accuracy')\n",
    "plt.xlabel('C param')\n",
    "plt.title(\"Evolución de la precisión en función del parámetro C\")"
   ]
  },
  {
   "cell_type": "markdown",
   "metadata": {},
   "source": [
    "Tras obtener la mejor configuración (C=10) ,la aplicamos al tercer conjunto de datos"
   ]
  },
  {
   "cell_type": "code",
   "execution_count": 23,
   "metadata": {},
   "outputs": [
    {
     "name": "stdout",
     "output_type": "stream",
     "text": [
      "La precisión del algoritmo implementado por la librería scikit-learn es: 82.85566966012117\n"
     ]
    }
   ],
   "source": [
    "model = LogisticRegression(solver='newton-cg', multi_class =\"multinomial\", C=10)\n",
    "model.fit(X=X_train[:50000], y=Y_train[:50000])\n",
    "print(\"La precisión del algoritmo implementado por la librería scikit-learn es: {}\".format(log_reg.score(Y_test,model.predict(X_test))))"
   ]
  },
  {
   "cell_type": "code",
   "execution_count": 24,
   "metadata": {},
   "outputs": [
    {
     "data": {
      "text/plain": [
       "array([0, 1], dtype=int64)"
      ]
     },
     "execution_count": 24,
     "metadata": {},
     "output_type": "execute_result"
    }
   ],
   "source": [
    "np.unique(model.predict(X_test))"
   ]
  },
  {
   "cell_type": "markdown",
   "metadata": {},
   "source": [
    "Como podemos comprobar nuestro modelo sólo predice las clases 1 y 2, esto se debe a que los datos se encuentran desbalanceados, en nuestra implementación no podemos realizar nada, pero la librería de scikit learn te permite asignar una penalización a las clases para solucionar este problema. Para ello primero contamos el número de clases que aparecen y creamos los pesos necesarios:"
   ]
  },
  {
   "cell_type": "code",
   "execution_count": 34,
   "metadata": {},
   "outputs": [
    {
     "data": {
      "text/plain": [
       "(array([0, 1, 2], dtype=int64), array([70553, 87105,  5249], dtype=int64))"
      ]
     },
     "execution_count": 34,
     "metadata": {},
     "output_type": "execute_result"
    }
   ],
   "source": [
    "np.unique(Y_train, return_counts=True)"
   ]
  },
  {
   "cell_type": "code",
   "execution_count": 53,
   "metadata": {},
   "outputs": [],
   "source": [
    "weights = {0:0.1, 1:0.1, 2:1}"
   ]
  },
  {
   "cell_type": "code",
   "execution_count": 54,
   "metadata": {},
   "outputs": [
    {
     "name": "stdout",
     "output_type": "stream",
     "text": [
      "La precisión del algoritmo implementado por la librería scikit-learn es con correción de pesos es : 75.23310273707729\n"
     ]
    }
   ],
   "source": [
    "model = LogisticRegression(solver='newton-cg', multi_class =\"multinomial\", C=10, class_weight=weights)\n",
    "model.fit(X=X_train[:50000], y=Y_train[:50000])\n",
    "print(\"La precisión del algoritmo implementado por la librería scikit-learn es con correción de pesos es : {}\".format(log_reg.score(Y_test,model.predict(X_test))))"
   ]
  },
  {
   "cell_type": "code",
   "execution_count": 55,
   "metadata": {},
   "outputs": [
    {
     "data": {
      "text/plain": [
       "array([0, 1, 2], dtype=int64)"
      ]
     },
     "execution_count": 55,
     "metadata": {},
     "output_type": "execute_result"
    }
   ],
   "source": [
    "np.unique(model.predict(X_test))"
   ]
  },
  {
   "cell_type": "markdown",
   "metadata": {},
   "source": [
    "Como podemos comprobar aunque haya disminuido la preicisión nuestro modelo ya es capaz de predecir las tres clases correspondientes."
   ]
  },
  {
   "cell_type": "markdown",
   "metadata": {},
   "source": [
    "Como conlusión a la Regresión Logísitca implementada por la librería de scikit-learn, se ha obtenido una precisión del 83.09% sin ajuste de pesos y un 75.2% con ajuste de pesos"
   ]
  },
  {
   "cell_type": "markdown",
   "metadata": {},
   "source": [
    "Como conclusión a este apartado de Regresión Logística podemos afirmar que la mejor precisión obtenida tanto por la implementación realizada por los alumnos como la librería scikit learn, otorgan una precisión del 83,09%. Si tenemos en cuenta el ajuste de pesos la precisión sería del 75.2%"
   ]
  },
  {
   "cell_type": "markdown",
   "metadata": {},
   "source": [
    "## Redes Neuronales"
   ]
  },
  {
   "cell_type": "markdown",
   "metadata": {},
   "source": [
    "Primero, realziaremos una prueba con el código desarrollado en las prácticas"
   ]
  },
  {
   "cell_type": "code",
   "execution_count": 16,
   "metadata": {},
   "outputs": [],
   "source": [
    "X_train = np.array(train[features])\n",
    "Y_train = np.array(train[target_classified])\n",
    "X_val = np.array(val[features])\n",
    "Y_val = np.array(val[target_classified])\n",
    "X_test = np.array(test[features])\n",
    "Y_test = np.array(test[target_classified])"
   ]
  },
  {
   "cell_type": "code",
   "execution_count": 17,
   "metadata": {},
   "outputs": [],
   "source": [
    "def sigmoid(X):\n",
    "    return 1 / (1 + np.exp(-X))\n",
    "\n",
    "def sigmoid_prime(z):\n",
    "    return sigmoid(z) * (1 - sigmoid(z))\n",
    "\n",
    "def random_weights(L_in, L_out, epsilon = 0.0001):\n",
    "    return np.random.random((L_in, L_out)) * (2 * epsilon) - epsilon\n",
    "\n",
    "# Forward propagation\n",
    "def forward_propagate(X, theta1, theta2):\n",
    "    m = X.shape[0]\n",
    "\n",
    "    a1 = np.hstack([np.ones([m, 1]), X])\n",
    "    z2 = np.dot(a1, theta1.T)\n",
    "    a2 = np.hstack([np.ones([m, 1]), sigmoid(z2)])\n",
    "    z3 = np.dot(a2, theta2.T)\n",
    "    h = sigmoid(z3)\n",
    "\n",
    "    return a1, z2, a2, z3, h"
   ]
  },
  {
   "cell_type": "code",
   "execution_count": 18,
   "metadata": {},
   "outputs": [],
   "source": [
    "# Gradient function\n",
    "def gradient(x, y, theta1,theta2, reg = 0):\n",
    "    m = x.shape[0]\n",
    "    \n",
    "    delta1 = np.zeros(theta1.shape)  # (25, 401)\n",
    "    delta2 = np.zeros(theta2.shape)  # (10, 26)\n",
    "\n",
    "    a1, z2, a2, z3, h = forward_propagate(x, theta1, theta2)\n",
    "\n",
    "    \n",
    "    #print(\"Theta1:{}\".format(random_theta1.shape))\n",
    "    #print(\"Theta2:{}\".format(random_theta2.shape))\n",
    "    \n",
    "    for t in range(m):    \n",
    "        a1t = a1[t, :] \n",
    "        #print(\"A1:{}\".format(a1.shape))\n",
    "        a2t = a2[t, :] \n",
    "        #print(\"A2:{}\".format(a2.shape))\n",
    "        ht = h[t, :]  \n",
    "        #print(\"H:{}\".format(ht.shape))\n",
    "        yt = y[t]  \n",
    "        #print(\"yt:{}\".format(yt.shape))        \n",
    "        d3t = ht - yt  \n",
    "        #print(\"d3t:{}\".format(d3t.shape))        \n",
    "        d2t = np.dot(theta2.T, d3t) * (a2t * (1 - a2t)) \n",
    "        #print(\"d2t:{}\".format(d2t.shape))\n",
    "        delta1 = delta1 + np.dot(d2t[1:, np.newaxis], a1t[np.newaxis, :])\n",
    "        delta1[1:, :] += (theta1[1:, :] * (reg / m))\n",
    "        #print(\"delta1:{}\".format(delta1.shape))\n",
    "        delta2 = delta2 + np.dot(d3t[:, np.newaxis], a2t[np.newaxis, :])\n",
    "        delta2[1:, :] += (theta2[1:, :] * (reg / m))\n",
    "        #print(\"delta2:{}\".format(delta2.shape))\n",
    "    \n",
    "    return np.concatenate((np.ravel(delta1 / x.shape[0]) , np.ravel(delta2 / x.shape[0])))"
   ]
  },
  {
   "cell_type": "code",
   "execution_count": 19,
   "metadata": {},
   "outputs": [],
   "source": [
    "def cost(X, y, theta1, theta2, num_etiquetas, reg=0):\n",
    "    a1, z2, a2, z3, h = forward_propagate(X, theta1, theta2)\n",
    "    m = X.shape[0]\n",
    "\n",
    "    J = 0\n",
    "    for i in range(m):\n",
    "        J += np.sum(-y[i] * np.log(h[i]) - (1 - y[i]) * np.log(1 - h[i]))\n",
    "    J = J / m\n",
    "\n",
    "    sum_theta1 = np.sum(np.square(theta1[:, 1:]))\n",
    "    sum_theta2 = np.sum(np.square(theta2[:, 1:]))\n",
    "\n",
    "    term_3 = (sum_theta1 + sum_theta2) * (reg / (2 * m))\n",
    "\n",
    "    return J + term_3\n"
   ]
  },
  {
   "cell_type": "code",
   "execution_count": 20,
   "metadata": {},
   "outputs": [],
   "source": [
    "# Cost function\n",
    "def backprop(params_rn, num_entradas, num_ocultas, num_etiquetas, X, y, reg):\n",
    "    \"\"\" backprop devuelve el coste y el gradiente de una red neuronal de dos capas \"\"\"\n",
    "    theta1 = np.reshape(params_rn[:num_ocultas * (num_entradas + 1)], (num_ocultas, (num_entradas + 1)))\n",
    "    theta2 = np.reshape(params_rn[num_ocultas * (num_entradas + 1):], (num_etiquetas, (num_ocultas + 1)))\n",
    "        \n",
    "    return cost(X, y, theta1, theta2, num_etiquetas, reg), gradient(X, y, theta1, theta2)"
   ]
  },
  {
   "cell_type": "code",
   "execution_count": 21,
   "metadata": {},
   "outputs": [],
   "source": [
    "def predict_nn(X, h):\n",
    "    return [(np.argmax(h[image]) + 1) for image in range(X.shape[0])]\n",
    "\n",
    "def get_acurracy(Y,X,h):\n",
    "    Y_pred = predict_nn(X,h)\n",
    "    return np.sum((Y == np.array(Y_pred))) / X.shape[0]"
   ]
  },
  {
   "cell_type": "code",
   "execution_count": 22,
   "metadata": {},
   "outputs": [
    {
     "name": "stdout",
     "output_type": "stream",
     "text": [
      "(8, 49)\n",
      "(3, 9)\n"
     ]
    }
   ],
   "source": [
    "input_layer_size = X_train.shape[1]\n",
    "hidden_layer_size = 8\n",
    "num_labels = 3\n",
    "theta_1 = np.random.randint(1, 10, (hidden_layer_size,X_train.shape[1]+1))\n",
    "print(theta_1.shape)\n",
    "theta_2 = np.random.randint(1, 10, (num_labels,hidden_layer_size + 1))\n",
    "print(theta_2.shape)\n",
    "params_rn = np.concatenate((np.ravel(theta_1), np.ravel(theta_2)))"
   ]
  },
  {
   "cell_type": "code",
   "execution_count": 23,
   "metadata": {},
   "outputs": [
    {
     "name": "stdout",
     "output_type": "stream",
     "text": [
      "[[1. 0. 0.]\n",
      " [0. 0. 1.]\n",
      " [0. 1. 0.]\n",
      " ...\n",
      " [0. 1. 0.]\n",
      " [0. 1. 0.]\n",
      " [1. 0. 0.]]\n"
     ]
    }
   ],
   "source": [
    "Y_train_categorical = to_categorical(Y_train)\n",
    "print(Y_train_categorical)"
   ]
  },
  {
   "cell_type": "code",
   "execution_count": 24,
   "metadata": {},
   "outputs": [],
   "source": [
    "fmin = opt.minimize(fun=backprop, x0=params_rn, args=(input_layer_size, hidden_layer_size, num_labels, X_train, Y_train_categorical, 1), method='TNC', jac=True, options={'maxiter': 70})"
   ]
  },
  {
   "cell_type": "code",
   "execution_count": 25,
   "metadata": {},
   "outputs": [],
   "source": [
    "theta1_opt = np.reshape(fmin.x[:hidden_layer_size * (input_layer_size + 1)], (hidden_layer_size, (input_layer_size + 1)))\n",
    "theta2_opt = np.reshape(fmin.x[hidden_layer_size * (input_layer_size + 1):], (num_labels, (hidden_layer_size + 1)))"
   ]
  },
  {
   "cell_type": "code",
   "execution_count": 26,
   "metadata": {},
   "outputs": [],
   "source": [
    "results = forward_propagate(X_train, theta1_opt, theta2_opt)"
   ]
  },
  {
   "cell_type": "code",
   "execution_count": 27,
   "metadata": {},
   "outputs": [
    {
     "name": "stdout",
     "output_type": "stream",
     "text": [
      "El porcentaje de acierto del modelo es: 53.2935160916083%\n"
     ]
    }
   ],
   "source": [
    "print(\"El porcentaje de acierto del modelo es: {}%\".format(get_acurracy(Y_test, X_test, results[4]) * 100))"
   ]
  },
  {
   "cell_type": "code",
   "execution_count": 28,
   "metadata": {},
   "outputs": [
    {
     "data": {
      "text/plain": [
       "array([1], dtype=int64)"
      ]
     },
     "execution_count": 28,
     "metadata": {},
     "output_type": "execute_result"
    }
   ],
   "source": [
    "np.unique(predict_nn(X_test, results[4]))"
   ]
  },
  {
   "cell_type": "markdown",
   "metadata": {},
   "source": [
    "Como podemos observar siempre se predice la misma clase, esto se debe a que a las redes neuronales no son suficientemente potentes, porobamos utilizando un mayor número de nodos."
   ]
  },
  {
   "cell_type": "code",
   "execution_count": 29,
   "metadata": {},
   "outputs": [],
   "source": [
    "hidden_list = [8,16,32,64,128]\n",
    "acc_list = []\n",
    "for hidden_layer_size in hidden_list:\n",
    "    num_labels = 3\n",
    "    input_layer_size = X_train.shape[1]\n",
    "    theta_1 = np.random.randint(1, 10, (hidden_layer_size,X_train.shape[1]+1))\n",
    "    theta_2 = np.random.randint(1, 10, (num_labels,hidden_layer_size + 1))\n",
    "    params_rn = np.concatenate((np.ravel(theta_1), np.ravel(theta_2)))\n",
    "    fmin = opt.minimize(fun=backprop, x0=params_rn, args=(input_layer_size, hidden_layer_size, num_labels, X_train, Y_train_categorical, 1), method='TNC', jac=True, options={'maxiter': 70})\n",
    "    theta1_opt = np.reshape(fmin.x[:hidden_layer_size * (input_layer_size + 1)], (hidden_layer_size, (input_layer_size + 1)))\n",
    "    theta2_opt = np.reshape(fmin.x[hidden_layer_size * (input_layer_size + 1):], (num_labels, (hidden_layer_size + 1)))\n",
    "    results = forward_propagate(X_train, theta1_opt, theta2_opt)\n",
    "    acc_list.append(get_acurracy(Y_test, X_test, results[4]) * 100)"
   ]
  },
  {
   "cell_type": "code",
   "execution_count": 30,
   "metadata": {},
   "outputs": [
    {
     "data": {
      "text/plain": [
       "Text(0.5, 1.0, 'Evolución de la precisión en del tamaño de la capa oculta')"
      ]
     },
     "execution_count": 30,
     "metadata": {},
     "output_type": "execute_result"
    },
    {
     "data": {
      "image/png": "[encoded data removed]",
      "text/plain": [
       "<Figure size 1440x576 with 1 Axes>"
      ]
     },
     "metadata": {
      "needs_background": "light"
     },
     "output_type": "display_data"
    }
   ],
   "source": [
    "plt.figure(figsize=(20,8))\n",
    "plt.plot(hidden_list,acc_list, color=\"red\")\n",
    "plt.ylabel('accuracy')\n",
    "plt.xlabel('Hidden Layer Size')\n",
    "plt.title(\"Evolución de la precisión en del tamaño de la capa oculta\")"
   ]
  },
  {
   "cell_type": "markdown",
   "metadata": {},
   "source": [
    "Podemos observar que independientemente del número de nodos, obtenemos la misma precisión ya que siempre predice la misma clase,por tanto no tiene sentido aplicar curvas de aprendizaje o validación, por ello probaremos a aplicar Redes neuronales con otras implementaciones localizadas en la librería oficial de Keras, esto se debe a que el algoritmo de optimización implementado no es bueno para este conjunto de datos."
   ]
  },
  {
   "cell_type": "markdown",
   "metadata": {},
   "source": [
    "### Redes Neuronales Keras"
   ]
  },
  {
   "cell_type": "markdown",
   "metadata": {},
   "source": [
    "Además de las redes neuronales implementadas durante las prácticas, utilizaremos las redes implementadas por la librería de Keras. Para la selección de hiperparámetros se ha seguido la siguiente página https://machinelearningmastery.com/how-to-choose-loss-functions-when-training-deep-learning-neural-networks/"
   ]
  },
  {
   "cell_type": "markdown",
   "metadata": {},
   "source": [
    "Como paso siguiente vamos a crear la estructura de la red neuronal:\n",
    "- Capa de entrada: El número de nodos de la capa de entrada de la red será el número de variables independientes, es decir, 48. \n",
    "- Capa Oculta: Para elegir el número de nodos se ha seleccionado un aleatorio.\n",
    "- Capa de salida: Tendrá tantos nodos como clases a predecir, el cual aplicará la función sigmoid. Se utilziará la función de pérdida binary_crossentropy. Se realizaron pruebas con la función de activación softmax y con la función de pérdida categorical_crossentropy pero el coste de validación y entrenamiento se mantenía constante a lo largo de las iteraciones, tras probar sigmoid + binary_crossentropy, el coste cambiaba, por tanto es la que se refleja en el presente documento."
   ]
  },
  {
   "cell_type": "code",
   "execution_count": 56,
   "metadata": {},
   "outputs": [],
   "source": [
    "model = Sequential()\n",
    "model.add(Dense(8, activation='relu', input_dim=X_train.shape[1]))\n",
    "model.add(Dense(1, activation='sigmoid'))\n",
    "model.compile(loss='binary_crossentropy',optimizer='adam', metrics=['accuracy'])"
   ]
  },
  {
   "cell_type": "code",
   "execution_count": 32,
   "metadata": {},
   "outputs": [
    {
     "name": "stdout",
     "output_type": "stream",
     "text": [
      "Model: \"sequential_2\"\n",
      "_________________________________________________________________\n",
      "Layer (type)                 Output Shape              Param #   \n",
      "=================================================================\n",
      "dense_3 (Dense)              (None, 8)                 392       \n",
      "_________________________________________________________________\n",
      "dense_4 (Dense)              (None, 1)                 9         \n",
      "=================================================================\n",
      "Total params: 401\n",
      "Trainable params: 401\n",
      "Non-trainable params: 0\n",
      "_________________________________________________________________\n"
     ]
    }
   ],
   "source": [
    "model.summary()"
   ]
  },
  {
   "cell_type": "code",
   "execution_count": 33,
   "metadata": {},
   "outputs": [
    {
     "data": {
      "image/png": "[encoded data removed]",
      "text/plain": [
       "<IPython.core.display.Image object>"
      ]
     },
     "execution_count": 33,
     "metadata": {},
     "output_type": "execute_result"
    }
   ],
   "source": [
    "plot_model(model, to_file='nn.png', show_shapes=True, show_layer_names=True)"
   ]
  },
  {
   "cell_type": "code",
   "execution_count": 34,
   "metadata": {},
   "outputs": [
    {
     "name": "stdout",
     "output_type": "stream",
     "text": [
      "Train on 162907 samples, validate on 46545 samples\n",
      "Epoch 1/200\n",
      "162907/162907 [==============================] - 2s 10us/step - loss: 59.4791 - accuracy: 0.4923 - val_loss: 68.1630 - val_accuracy: 0.4320\n",
      "Epoch 2/200\n",
      "162907/162907 [==============================] - 1s 9us/step - loss: 23.6931 - accuracy: 0.5027 - val_loss: 22.1048 - val_accuracy: 0.5349\n",
      "Epoch 3/200\n",
      "162907/162907 [==============================] - 1s 9us/step - loss: 27.7556 - accuracy: 0.5030 - val_loss: 48.2295 - val_accuracy: 0.5349\n",
      "Epoch 4/200\n",
      "162907/162907 [==============================] - 1s 9us/step - loss: 20.6065 - accuracy: 0.5122 - val_loss: 27.4796 - val_accuracy: 0.5349\n",
      "Epoch 5/200\n",
      "162907/162907 [==============================] - 1s 9us/step - loss: 21.4539 - accuracy: 0.5181 - val_loss: 25.8373 - val_accuracy: 0.5349\n",
      "Epoch 6/200\n",
      "162907/162907 [==============================] - 1s 9us/step - loss: 20.4170 - accuracy: 0.5290 - val_loss: 26.1993 - val_accuracy: 0.4325\n",
      "Epoch 7/200\n",
      "162907/162907 [==============================] - 1s 9us/step - loss: 16.1077 - accuracy: 0.5437 - val_loss: 50.9943 - val_accuracy: 0.5349\n",
      "Epoch 8/200\n",
      "162907/162907 [==============================] - 1s 9us/step - loss: 21.1775 - accuracy: 0.5476 - val_loss: 21.2365 - val_accuracy: 0.4333\n",
      "Epoch 9/200\n",
      "162907/162907 [==============================] - 1s 9us/step - loss: 15.7270 - accuracy: 0.5637 - val_loss: 17.4427 - val_accuracy: 0.4350\n",
      "Epoch 10/200\n",
      "162907/162907 [==============================] - 1s 9us/step - loss: 14.0839 - accuracy: 0.5696 - val_loss: 2.0567 - val_accuracy: 0.6469\n",
      "Epoch 11/200\n",
      "162907/162907 [==============================] - 1s 9us/step - loss: 13.4072 - accuracy: 0.5993 - val_loss: 24.5257 - val_accuracy: 0.5360\n",
      "Epoch 12/200\n",
      "162907/162907 [==============================] - 1s 9us/step - loss: 11.4191 - accuracy: 0.6009 - val_loss: 2.3913 - val_accuracy: 0.7285\n",
      "Epoch 13/200\n",
      "162907/162907 [==============================] - 2s 9us/step - loss: 11.2993 - accuracy: 0.6074 - val_loss: 35.9814 - val_accuracy: 0.4324\n",
      "Epoch 14/200\n",
      "162907/162907 [==============================] - 1s 9us/step - loss: 13.6891 - accuracy: 0.6182 - val_loss: 26.3913 - val_accuracy: 0.4336\n",
      "Epoch 15/200\n",
      "162907/162907 [==============================] - 1s 9us/step - loss: 10.2537 - accuracy: 0.6355 - val_loss: 3.5674 - val_accuracy: 0.6915\n",
      "Epoch 16/200\n",
      "162907/162907 [==============================] - 1s 9us/step - loss: 8.6900 - accuracy: 0.6419 - val_loss: 23.4072 - val_accuracy: 0.4347\n",
      "Epoch 17/200\n",
      "162907/162907 [==============================] - 1s 9us/step - loss: 9.6581 - accuracy: 0.6367 - val_loss: 1.2922 - val_accuracy: 0.8024\n",
      "Epoch 18/200\n",
      "162907/162907 [==============================] - 1s 9us/step - loss: 10.1614 - accuracy: 0.6394 - val_loss: 11.9737 - val_accuracy: 0.5562\n",
      "Epoch 19/200\n",
      "162907/162907 [==============================] - 1s 9us/step - loss: 7.8874 - accuracy: 0.6559 - val_loss: 1.3990 - val_accuracy: 0.8024\n",
      "Epoch 20/200\n",
      "162907/162907 [==============================] - 1s 9us/step - loss: 8.4808 - accuracy: 0.6506 - val_loss: 25.5043 - val_accuracy: 0.5404\n",
      "Epoch 21/200\n",
      "162907/162907 [==============================] - 1s 9us/step - loss: 6.0852 - accuracy: 0.6762 - val_loss: 3.3714 - val_accuracy: 0.6476\n",
      "Epoch 22/200\n",
      "162907/162907 [==============================] - 1s 9us/step - loss: 6.0622 - accuracy: 0.6833 - val_loss: 3.3409 - val_accuracy: 0.7407\n",
      "Epoch 23/200\n",
      "162907/162907 [==============================] - 1s 9us/step - loss: 8.1241 - accuracy: 0.6698 - val_loss: 1.9679 - val_accuracy: 0.7907\n",
      "Epoch 24/200\n",
      "162907/162907 [==============================] - 1s 9us/step - loss: 4.9683 - accuracy: 0.6978 - val_loss: 4.3672 - val_accuracy: 0.7117\n",
      "Epoch 25/200\n",
      "162907/162907 [==============================] - 1s 9us/step - loss: 6.5822 - accuracy: 0.6705 - val_loss: 12.0161 - val_accuracy: 0.5102\n",
      "Epoch 26/200\n",
      "162907/162907 [==============================] - 1s 9us/step - loss: 5.2543 - accuracy: 0.6919 - val_loss: 0.6337 - val_accuracy: 0.7584\n",
      "Epoch 27/200\n",
      "162907/162907 [==============================] - 2s 10us/step - loss: 5.8623 - accuracy: 0.6867 - val_loss: 1.9465 - val_accuracy: 0.7960\n",
      "Epoch 28/200\n",
      "162907/162907 [==============================] - 2s 10us/step - loss: 5.3189 - accuracy: 0.6963 - val_loss: 13.3556 - val_accuracy: 0.5035\n",
      "Epoch 29/200\n",
      "162907/162907 [==============================] - 2s 10us/step - loss: 4.9871 - accuracy: 0.7023 - val_loss: 0.8002 - val_accuracy: 0.8212\n",
      "Epoch 30/200\n",
      "162907/162907 [==============================] - 2s 9us/step - loss: 6.4708 - accuracy: 0.6944 - val_loss: 0.2591 - val_accuracy: 0.8098\n",
      "Epoch 31/200\n",
      "162907/162907 [==============================] - 2s 10us/step - loss: 3.8312 - accuracy: 0.7201 - val_loss: 1.3327 - val_accuracy: 0.8141\n",
      "Epoch 32/200\n",
      "162907/162907 [==============================] - 2s 10us/step - loss: 5.1451 - accuracy: 0.7113 - val_loss: 1.3867 - val_accuracy: 0.7191\n",
      "Epoch 33/200\n",
      "162907/162907 [==============================] - 2s 9us/step - loss: 5.3327 - accuracy: 0.7058 - val_loss: 1.8721 - val_accuracy: 0.8007\n",
      "Epoch 34/200\n",
      "162907/162907 [==============================] - 2s 10us/step - loss: 4.3911 - accuracy: 0.7139 - val_loss: 5.9296 - val_accuracy: 0.6994\n",
      "Epoch 35/200\n",
      "162907/162907 [==============================] - 2s 10us/step - loss: 4.2499 - accuracy: 0.7174 - val_loss: 2.0051 - val_accuracy: 0.7984\n",
      "Epoch 36/200\n",
      "162907/162907 [==============================] - 2s 9us/step - loss: 4.1327 - accuracy: 0.7221 - val_loss: 24.1254 - val_accuracy: 0.4515\n",
      "Epoch 37/200\n",
      "162907/162907 [==============================] - 2s 9us/step - loss: 4.5205 - accuracy: 0.7176 - val_loss: 0.9513 - val_accuracy: 0.8212\n",
      "Epoch 38/200\n",
      "162907/162907 [==============================] - 1s 9us/step - loss: 4.1082 - accuracy: 0.7240 - val_loss: 0.0877 - val_accuracy: 0.8037\n",
      "Epoch 39/200\n",
      "162907/162907 [==============================] - 1s 9us/step - loss: 4.9830 - accuracy: 0.7136 - val_loss: 0.1974 - val_accuracy: 0.7829\n",
      "Epoch 40/200\n",
      "162907/162907 [==============================] - 1s 9us/step - loss: 4.3425 - accuracy: 0.7278 - val_loss: 6.8801 - val_accuracy: 0.6114\n",
      "Epoch 41/200\n",
      "162907/162907 [==============================] - 1s 9us/step - loss: 4.0587 - accuracy: 0.7302 - val_loss: 9.0528 - val_accuracy: 0.5923\n",
      "Epoch 42/200\n",
      "162907/162907 [==============================] - 1s 9us/step - loss: 3.6779 - accuracy: 0.7321 - val_loss: 0.0087 - val_accuracy: 0.8029\n",
      "Epoch 43/200\n",
      "162907/162907 [==============================] - 1s 9us/step - loss: 3.3503 - accuracy: 0.7417 - val_loss: 7.2337 - val_accuracy: 0.6087\n",
      "Epoch 44/200\n",
      "162907/162907 [==============================] - 1s 9us/step - loss: 3.8224 - accuracy: 0.7287 - val_loss: 2.7357 - val_accuracy: 0.6767\n",
      "Epoch 45/200\n",
      "162907/162907 [==============================] - 1s 9us/step - loss: 3.9589 - accuracy: 0.7313 - val_loss: 12.4603 - val_accuracy: 0.5753\n",
      "Epoch 46/200\n",
      "162907/162907 [==============================] - 2s 9us/step - loss: 4.0964 - accuracy: 0.7283 - val_loss: 5.6910 - val_accuracy: 0.6269\n",
      "Epoch 47/200\n",
      "162907/162907 [==============================] - 1s 9us/step - loss: 3.0914 - accuracy: 0.7458 - val_loss: 1.9287 - val_accuracy: 0.6984\n",
      "Epoch 48/200\n",
      "162907/162907 [==============================] - 1s 9us/step - loss: 4.3794 - accuracy: 0.7204 - val_loss: 1.5725 - val_accuracy: 0.7102\n",
      "Epoch 49/200\n",
      "162907/162907 [==============================] - 1s 9us/step - loss: 2.9459 - accuracy: 0.7461 - val_loss: 0.4298 - val_accuracy: 0.8256\n",
      "Epoch 50/200\n",
      "162907/162907 [==============================] - 1s 9us/step - loss: 3.2575 - accuracy: 0.7446 - val_loss: 1.9537 - val_accuracy: 0.6968\n",
      "Epoch 51/200\n",
      "162907/162907 [==============================] - 1s 9us/step - loss: 3.8722 - accuracy: 0.7361 - val_loss: 1.1967 - val_accuracy: 0.8180\n",
      "Epoch 52/200\n",
      "162907/162907 [==============================] - 1s 9us/step - loss: 3.5495 - accuracy: 0.7402 - val_loss: 0.0080 - val_accuracy: 0.7769\n",
      "Epoch 53/200\n",
      "162907/162907 [==============================] - 1s 9us/step - loss: 4.1002 - accuracy: 0.7326 - val_loss: 6.7122 - val_accuracy: 0.7168\n",
      "Epoch 54/200\n",
      "162907/162907 [==============================] - 1s 9us/step - loss: 2.6571 - accuracy: 0.7524 - val_loss: -0.2680 - val_accuracy: 0.8098\n",
      "Epoch 55/200\n"
     ]
    },
    {
     "name": "stdout",
     "output_type": "stream",
     "text": [
      "162907/162907 [==============================] - 1s 9us/step - loss: 2.9666 - accuracy: 0.7483 - val_loss: 0.2722 - val_accuracy: 0.7577\n",
      "Epoch 56/200\n",
      "162907/162907 [==============================] - 1s 9us/step - loss: 4.3063 - accuracy: 0.7325 - val_loss: 13.0443 - val_accuracy: 0.6188\n",
      "Epoch 57/200\n",
      "162907/162907 [==============================] - 2s 9us/step - loss: 2.9278 - accuracy: 0.7533 - val_loss: -0.2184 - val_accuracy: 0.7858\n",
      "Epoch 58/200\n",
      "162907/162907 [==============================] - 1s 9us/step - loss: 5.7972 - accuracy: 0.7162 - val_loss: 5.5955 - val_accuracy: 0.6289\n",
      "Epoch 59/200\n",
      "162907/162907 [==============================] - 1s 9us/step - loss: 5.9713 - accuracy: 0.7141 - val_loss: -0.0541 - val_accuracy: 0.8241\n",
      "Epoch 60/200\n",
      "162907/162907 [==============================] - 1s 9us/step - loss: 3.2616 - accuracy: 0.7500 - val_loss: 1.3352 - val_accuracy: 0.8158\n",
      "Epoch 61/200\n",
      "162907/162907 [==============================] - 1s 9us/step - loss: 4.0608 - accuracy: 0.7386 - val_loss: 0.0386 - val_accuracy: 0.8254\n",
      "Epoch 62/200\n",
      "162907/162907 [==============================] - 1s 9us/step - loss: 3.2762 - accuracy: 0.7468 - val_loss: 2.9992 - val_accuracy: 0.7808\n",
      "Epoch 63/200\n",
      "162907/162907 [==============================] - 1s 9us/step - loss: 4.7946 - accuracy: 0.7274 - val_loss: 13.2276 - val_accuracy: 0.6325\n",
      "Epoch 64/200\n",
      "162907/162907 [==============================] - 1s 9us/step - loss: 3.8343 - accuracy: 0.7427 - val_loss: -0.3016 - val_accuracy: 0.8222\n",
      "Epoch 65/200\n",
      "162907/162907 [==============================] - 1s 9us/step - loss: 4.0276 - accuracy: 0.7394 - val_loss: 7.5382 - val_accuracy: 0.7163\n",
      "Epoch 66/200\n",
      "162907/162907 [==============================] - 1s 9us/step - loss: 4.9386 - accuracy: 0.7305 - val_loss: 1.2241 - val_accuracy: 0.8173\n",
      "Epoch 67/200\n",
      "162907/162907 [==============================] - 1s 9us/step - loss: 3.7016 - accuracy: 0.7442 - val_loss: 10.6644 - val_accuracy: 0.6762\n",
      "Epoch 68/200\n",
      "162907/162907 [==============================] - 2s 9us/step - loss: 4.4427 - accuracy: 0.7336 - val_loss: 17.8484 - val_accuracy: 0.5829\n",
      "Epoch 69/200\n",
      "162907/162907 [==============================] - 1s 9us/step - loss: 4.0829 - accuracy: 0.7416 - val_loss: 3.4635 - val_accuracy: 0.7742\n",
      "Epoch 70/200\n",
      "162907/162907 [==============================] - 1s 9us/step - loss: 2.9443 - accuracy: 0.7557 - val_loss: -0.4609 - val_accuracy: 0.8205\n",
      "Epoch 71/200\n",
      "162907/162907 [==============================] - 1s 9us/step - loss: 3.0810 - accuracy: 0.7541 - val_loss: -0.1823 - val_accuracy: 0.7676\n",
      "Epoch 72/200\n",
      "162907/162907 [==============================] - 1s 9us/step - loss: 3.6475 - accuracy: 0.7459 - val_loss: -0.6344 - val_accuracy: 0.8043\n",
      "Epoch 73/200\n",
      "162907/162907 [==============================] - 1s 9us/step - loss: 2.6435 - accuracy: 0.7562 - val_loss: -0.0407 - val_accuracy: 0.7605\n",
      "Epoch 74/200\n",
      "162907/162907 [==============================] - 1s 9us/step - loss: 5.0842 - accuracy: 0.7331 - val_loss: 1.6192 - val_accuracy: 0.8094\n",
      "Epoch 75/200\n",
      "162907/162907 [==============================] - 1s 9us/step - loss: 3.8541 - accuracy: 0.7412 - val_loss: -0.6331 - val_accuracy: 0.7931\n",
      "Epoch 76/200\n",
      "162907/162907 [==============================] - 1s 9us/step - loss: 3.0091 - accuracy: 0.7518 - val_loss: 15.2710 - val_accuracy: 0.5726\n",
      "Epoch 77/200\n",
      "162907/162907 [==============================] - 1s 9us/step - loss: 3.5646 - accuracy: 0.7456 - val_loss: 6.4350 - val_accuracy: 0.6268\n",
      "Epoch 78/200\n",
      "162907/162907 [==============================] - 1s 9us/step - loss: 3.6968 - accuracy: 0.7458 - val_loss: 0.8656 - val_accuracy: 0.8209\n",
      "Epoch 79/200\n",
      "162907/162907 [==============================] - 2s 9us/step - loss: 3.9208 - accuracy: 0.7440 - val_loss: 5.2280 - val_accuracy: 0.7497\n",
      "Epoch 80/200\n",
      "162907/162907 [==============================] - 1s 9us/step - loss: 3.0799 - accuracy: 0.7515 - val_loss: -0.1778 - val_accuracy: 0.8264\n",
      "Epoch 81/200\n",
      "162907/162907 [==============================] - 1s 9us/step - loss: 3.1085 - accuracy: 0.7533 - val_loss: 2.0201 - val_accuracy: 0.6910\n",
      "Epoch 82/200\n",
      "162907/162907 [==============================] - 1s 9us/step - loss: 2.9685 - accuracy: 0.7506 - val_loss: 12.9000 - val_accuracy: 0.6646\n",
      "Epoch 83/200\n",
      "162907/162907 [==============================] - 1s 9us/step - loss: 3.5970 - accuracy: 0.7453 - val_loss: 1.4306 - val_accuracy: 0.8114\n",
      "Epoch 84/200\n",
      "162907/162907 [==============================] - 1s 9us/step - loss: 2.9952 - accuracy: 0.7544 - val_loss: 0.4586 - val_accuracy: 0.7332\n",
      "Epoch 85/200\n",
      "162907/162907 [==============================] - 1s 9us/step - loss: 3.3425 - accuracy: 0.7496 - val_loss: 3.2589 - val_accuracy: 0.6671\n",
      "Epoch 86/200\n",
      "162907/162907 [==============================] - 1s 9us/step - loss: 2.9475 - accuracy: 0.7538 - val_loss: 0.6351 - val_accuracy: 0.8223\n",
      "Epoch 87/200\n",
      "162907/162907 [==============================] - 1s 9us/step - loss: 3.2976 - accuracy: 0.7494 - val_loss: -0.3939 - val_accuracy: 0.8267\n",
      "Epoch 88/200\n",
      "162907/162907 [==============================] - 1s 9us/step - loss: 2.9605 - accuracy: 0.7516 - val_loss: 2.1042 - val_accuracy: 0.7973\n",
      "Epoch 89/200\n",
      "162907/162907 [==============================] - 1s 9us/step - loss: 2.2813 - accuracy: 0.7617 - val_loss: -0.2729 - val_accuracy: 0.7566\n",
      "Epoch 90/200\n",
      "162907/162907 [==============================] - 2s 9us/step - loss: 3.4819 - accuracy: 0.7448 - val_loss: 16.3882 - val_accuracy: 0.6344\n",
      "Epoch 91/200\n",
      "162907/162907 [==============================] - 1s 9us/step - loss: 2.9206 - accuracy: 0.7528 - val_loss: 10.0448 - val_accuracy: 0.7027\n",
      "Epoch 92/200\n",
      "162907/162907 [==============================] - 1s 9us/step - loss: 2.6081 - accuracy: 0.7562 - val_loss: 0.8675 - val_accuracy: 0.7157\n",
      "Epoch 93/200\n",
      "162907/162907 [==============================] - 1s 9us/step - loss: 2.6718 - accuracy: 0.7555 - val_loss: 2.9965 - val_accuracy: 0.6695\n",
      "Epoch 94/200\n",
      "162907/162907 [==============================] - 1s 9us/step - loss: 2.7723 - accuracy: 0.7566 - val_loss: -0.9573 - val_accuracy: 0.8212\n",
      "Epoch 95/200\n",
      "162907/162907 [==============================] - 1s 9us/step - loss: 3.4587 - accuracy: 0.7443 - val_loss: 0.2816 - val_accuracy: 0.7333\n",
      "Epoch 96/200\n",
      "162907/162907 [==============================] - 1s 9us/step - loss: 2.3313 - accuracy: 0.7590 - val_loss: 16.8335 - val_accuracy: 0.5711\n",
      "Epoch 97/200\n",
      "162907/162907 [==============================] - 1s 9us/step - loss: 3.2197 - accuracy: 0.7501 - val_loss: 5.7016 - val_accuracy: 0.6353\n",
      "Epoch 98/200\n",
      "162907/162907 [==============================] - 1s 9us/step - loss: 2.9768 - accuracy: 0.7519 - val_loss: 1.0794 - val_accuracy: 0.8150\n",
      "Epoch 99/200\n",
      "162907/162907 [==============================] - 1s 9us/step - loss: 1.5929 - accuracy: 0.7692 - val_loss: -1.1941 - val_accuracy: 0.8160\n",
      "Epoch 100/200\n",
      "162907/162907 [==============================] - 1s 9us/step - loss: 2.9281 - accuracy: 0.7548 - val_loss: 0.3739 - val_accuracy: 0.8233\n",
      "Epoch 101/200\n",
      "162907/162907 [==============================] - 2s 9us/step - loss: 2.7163 - accuracy: 0.7557 - val_loss: 1.7356 - val_accuracy: 0.8023\n",
      "Epoch 102/200\n",
      "162907/162907 [==============================] - 1s 9us/step - loss: 2.8240 - accuracy: 0.7528 - val_loss: -0.8679 - val_accuracy: 0.8253\n",
      "Epoch 103/200\n",
      "162907/162907 [==============================] - 1s 9us/step - loss: 2.3743 - accuracy: 0.7588 - val_loss: 2.6828 - val_accuracy: 0.6729\n",
      "Epoch 104/200\n",
      "162907/162907 [==============================] - 1s 9us/step - loss: 2.3593 - accuracy: 0.7581 - val_loss: -1.1509 - val_accuracy: 0.7833\n",
      "Epoch 105/200\n",
      "162907/162907 [==============================] - 1s 9us/step - loss: 2.8037 - accuracy: 0.7533 - val_loss: -0.4693 - val_accuracy: 0.8278\n",
      "Epoch 106/200\n",
      "162907/162907 [==============================] - 1s 9us/step - loss: 2.2006 - accuracy: 0.7628 - val_loss: 9.7857 - val_accuracy: 0.6025\n",
      "Epoch 107/200\n",
      "162907/162907 [==============================] - 1s 9us/step - loss: 2.9614 - accuracy: 0.7507 - val_loss: 4.6754 - val_accuracy: 0.7568\n",
      "Epoch 108/200\n",
      "162907/162907 [==============================] - 1s 9us/step - loss: 2.6333 - accuracy: 0.7545 - val_loss: 1.1538 - val_accuracy: 0.7018\n",
      "Epoch 109/200\n",
      "162907/162907 [==============================] - 1s 9us/step - loss: 2.1408 - accuracy: 0.7594 - val_loss: 6.7782 - val_accuracy: 0.6250\n",
      "Epoch 110/200\n",
      "162907/162907 [==============================] - 1s 9us/step - loss: 2.4462 - accuracy: 0.7573 - val_loss: 1.6029 - val_accuracy: 0.8033\n",
      "Epoch 111/200\n",
      "162907/162907 [==============================] - 1s 9us/step - loss: 2.3144 - accuracy: 0.7584 - val_loss: -0.7834 - val_accuracy: 0.7567\n",
      "Epoch 112/200\n",
      "162907/162907 [==============================] - 2s 9us/step - loss: 2.2477 - accuracy: 0.7592 - val_loss: -0.1055 - val_accuracy: 0.7343\n",
      "Epoch 113/200\n",
      "162907/162907 [==============================] - 1s 9us/step - loss: 2.4490 - accuracy: 0.7571 - val_loss: 11.6890 - val_accuracy: 0.6965\n",
      "Epoch 114/200\n",
      "162907/162907 [==============================] - 1s 9us/step - loss: 2.3354 - accuracy: 0.7565 - val_loss: -1.5475 - val_accuracy: 0.7979\n",
      "Epoch 115/200\n",
      "162907/162907 [==============================] - 1s 9us/step - loss: 2.3954 - accuracy: 0.7564 - val_loss: 7.5457 - val_accuracy: 0.7317\n",
      "Epoch 116/200\n",
      "162907/162907 [==============================] - 2s 9us/step - loss: 2.5281 - accuracy: 0.7553 - val_loss: 5.7492 - val_accuracy: 0.7470\n",
      "Epoch 117/200\n",
      "162907/162907 [==============================] - 1s 9us/step - loss: 1.4222 - accuracy: 0.7679 - val_loss: 17.8362 - val_accuracy: 0.5694\n",
      "Epoch 118/200\n",
      "162907/162907 [==============================] - 1s 9us/step - loss: 2.8262 - accuracy: 0.7527 - val_loss: 12.1850 - val_accuracy: 0.5893\n",
      "Epoch 119/200\n",
      "162907/162907 [==============================] - 1s 9us/step - loss: 1.9936 - accuracy: 0.7598 - val_loss: 3.1130 - val_accuracy: 0.7764\n",
      "Epoch 120/200\n",
      "162907/162907 [==============================] - 1s 9us/step - loss: 1.7633 - accuracy: 0.7632 - val_loss: -0.9642 - val_accuracy: 0.7570\n",
      "Epoch 121/200\n",
      "162907/162907 [==============================] - 1s 9us/step - loss: 2.4523 - accuracy: 0.7554 - val_loss: 2.8140 - val_accuracy: 0.7818\n",
      "Epoch 122/200\n",
      "162907/162907 [==============================] - 1s 9us/step - loss: 1.9239 - accuracy: 0.7602 - val_loss: -0.5708 - val_accuracy: 0.8277\n",
      "Epoch 123/200\n",
      "162907/162907 [==============================] - 2s 10us/step - loss: 2.2192 - accuracy: 0.7584 - val_loss: -1.2735 - val_accuracy: 0.8267\n",
      "Epoch 124/200\n",
      "162907/162907 [==============================] - 1s 9us/step - loss: 1.9384 - accuracy: 0.7609 - val_loss: 0.6810 - val_accuracy: 0.8157\n",
      "Epoch 125/200\n",
      "162907/162907 [==============================] - 1s 9us/step - loss: 1.8861 - accuracy: 0.7612 - val_loss: -0.2839 - val_accuracy: 0.8258\n",
      "Epoch 126/200\n",
      "162907/162907 [==============================] - 1s 9us/step - loss: 2.1196 - accuracy: 0.7582 - val_loss: 3.2640 - val_accuracy: 0.7741\n",
      "Epoch 127/200\n",
      "162907/162907 [==============================] - 1s 9us/step - loss: 2.4169 - accuracy: 0.7531 - val_loss: 9.6176 - val_accuracy: 0.6038\n",
      "Epoch 128/200\n",
      "162907/162907 [==============================] - 2s 10us/step - loss: 1.7042 - accuracy: 0.7629 - val_loss: 9.7691 - val_accuracy: 0.7164\n",
      "Epoch 129/200\n",
      "162907/162907 [==============================] - 1s 9us/step - loss: 2.1125 - accuracy: 0.7577 - val_loss: 2.4141 - val_accuracy: 0.6716\n",
      "Epoch 130/200\n",
      "162907/162907 [==============================] - 1s 9us/step - loss: 1.9611 - accuracy: 0.7574 - val_loss: -0.2198 - val_accuracy: 0.7270\n",
      "Epoch 131/200\n",
      "162907/162907 [==============================] - 1s 9us/step - loss: 1.8620 - accuracy: 0.7596 - val_loss: -0.0497 - val_accuracy: 0.7208\n",
      "Epoch 132/200\n",
      "162907/162907 [==============================] - 1s 9us/step - loss: 1.3388 - accuracy: 0.7679 - val_loss: -1.9947 - val_accuracy: 0.8070\n",
      "Epoch 133/200\n",
      "162907/162907 [==============================] - 1s 9us/step - loss: 1.7279 - accuracy: 0.7619 - val_loss: 5.3686 - val_accuracy: 0.6378\n",
      "Epoch 134/200\n",
      "162907/162907 [==============================] - 2s 9us/step - loss: 1.5111 - accuracy: 0.7624 - val_loss: 1.8465 - val_accuracy: 0.7959\n",
      "Epoch 135/200\n",
      "162907/162907 [==============================] - 1s 9us/step - loss: 1.5627 - accuracy: 0.7658 - val_loss: -0.7592 - val_accuracy: 0.7390\n",
      "Epoch 136/200\n",
      "162907/162907 [==============================] - 1s 9us/step - loss: 1.9903 - accuracy: 0.7576 - val_loss: 10.7612 - val_accuracy: 0.5975\n",
      "Epoch 137/200\n",
      "162907/162907 [==============================] - 1s 9us/step - loss: 1.1990 - accuracy: 0.7657 - val_loss: -1.7174 - val_accuracy: 0.8256\n",
      "Epoch 138/200\n",
      "162907/162907 [==============================] - 1s 9us/step - loss: 1.7697 - accuracy: 0.7615 - val_loss: -1.1173 - val_accuracy: 0.7465\n",
      "Epoch 139/200\n",
      "162907/162907 [==============================] - 1s 9us/step - loss: 2.2920 - accuracy: 0.7541 - val_loss: -0.5232 - val_accuracy: 0.8257\n",
      "Epoch 140/200\n",
      "162907/162907 [==============================] - 1s 9us/step - loss: 1.3687 - accuracy: 0.7633 - val_loss: -1.9241 - val_accuracy: 0.8231\n",
      "Epoch 141/200\n",
      "162907/162907 [==============================] - 1s 9us/step - loss: 1.8255 - accuracy: 0.7590 - val_loss: -0.5616 - val_accuracy: 0.7294\n",
      "Epoch 142/200\n",
      "162907/162907 [==============================] - 1s 9us/step - loss: 1.5214 - accuracy: 0.7643 - val_loss: -0.8828 - val_accuracy: 0.7384\n",
      "Epoch 143/200\n",
      "162907/162907 [==============================] - 1s 9us/step - loss: 1.1723 - accuracy: 0.7656 - val_loss: 6.6117 - val_accuracy: 0.7404\n",
      "Epoch 144/200\n",
      "162907/162907 [==============================] - 1s 9us/step - loss: 1.2971 - accuracy: 0.7670 - val_loss: -2.2537 - val_accuracy: 0.8160\n",
      "Epoch 145/200\n",
      "162907/162907 [==============================] - 2s 9us/step - loss: 1.0677 - accuracy: 0.7672 - val_loss: -1.2476 - val_accuracy: 0.7465\n",
      "Epoch 146/200\n",
      "162907/162907 [==============================] - 1s 9us/step - loss: 1.3026 - accuracy: 0.7623 - val_loss: -1.2567 - val_accuracy: 0.8284\n",
      "Epoch 147/200\n",
      "162907/162907 [==============================] - 1s 9us/step - loss: 1.3953 - accuracy: 0.7618 - val_loss: 1.6502 - val_accuracy: 0.7965\n",
      "Epoch 148/200\n",
      "162907/162907 [==============================] - 1s 9us/step - loss: 0.3914 - accuracy: 0.7733 - val_loss: 5.9431 - val_accuracy: 0.6322\n",
      "Epoch 149/200\n",
      "162907/162907 [==============================] - 1s 9us/step - loss: 1.9772 - accuracy: 0.7572 - val_loss: 8.2450 - val_accuracy: 0.6131\n",
      "Epoch 150/200\n",
      "162907/162907 [==============================] - 1s 9us/step - loss: 1.0006 - accuracy: 0.7656 - val_loss: 2.1496 - val_accuracy: 0.6708\n",
      "Epoch 151/200\n",
      "162907/162907 [==============================] - 1s 9us/step - loss: 1.1405 - accuracy: 0.7652 - val_loss: -1.8661 - val_accuracy: 0.8272\n",
      "Epoch 152/200\n",
      "162907/162907 [==============================] - 1s 9us/step - loss: 1.5120 - accuracy: 0.7610 - val_loss: 10.6348 - val_accuracy: 0.7139\n",
      "Epoch 153/200\n",
      "162907/162907 [==============================] - 2s 9us/step - loss: 1.0459 - accuracy: 0.7653 - val_loss: 1.9058 - val_accuracy: 0.7916\n",
      "Epoch 154/200\n",
      "162907/162907 [==============================] - 1s 9us/step - loss: 1.1596 - accuracy: 0.7653 - val_loss: -2.5682 - val_accuracy: 0.8099\n",
      "Epoch 155/200\n",
      "162907/162907 [==============================] - 1s 9us/step - loss: 0.9373 - accuracy: 0.7663 - val_loss: -2.4641 - val_accuracy: 0.7870\n",
      "Epoch 156/200\n",
      "162907/162907 [==============================] - 2s 9us/step - loss: 1.1256 - accuracy: 0.7632 - val_loss: -2.3442 - val_accuracy: 0.7770\n",
      "Epoch 157/200\n",
      "162907/162907 [==============================] - 1s 9us/step - loss: 1.0883 - accuracy: 0.7638 - val_loss: 2.4983 - val_accuracy: 0.6632\n",
      "Epoch 158/200\n",
      "162907/162907 [==============================] - 1s 9us/step - loss: 0.7034 - accuracy: 0.7680 - val_loss: -2.5866 - val_accuracy: 0.8189\n",
      "Epoch 159/200\n",
      "162907/162907 [==============================] - 1s 9us/step - loss: 0.7948 - accuracy: 0.7678 - val_loss: 2.1849 - val_accuracy: 0.6665\n",
      "Epoch 160/200\n",
      "162907/162907 [==============================] - 1s 9us/step - loss: 1.4190 - accuracy: 0.7625 - val_loss: 4.1458 - val_accuracy: 0.6451\n",
      "Epoch 161/200\n",
      "162907/162907 [==============================] - 1s 9us/step - loss: 0.8554 - accuracy: 0.7662 - val_loss: 2.2004 - val_accuracy: 0.7853\n",
      "Epoch 162/200\n",
      "162907/162907 [==============================] - 1s 9us/step - loss: 1.2315 - accuracy: 0.7610 - val_loss: -2.4501 - val_accuracy: 0.8250\n",
      "Epoch 163/200\n"
     ]
    },
    {
     "name": "stdout",
     "output_type": "stream",
     "text": [
      "162907/162907 [==============================] - 1s 9us/step - loss: 0.9076 - accuracy: 0.7684 - val_loss: -1.2920 - val_accuracy: 0.8273\n",
      "Epoch 164/200\n",
      "162907/162907 [==============================] - 1s 9us/step - loss: 0.9134 - accuracy: 0.7650 - val_loss: -0.6669 - val_accuracy: 0.7188\n",
      "Epoch 165/200\n",
      "162907/162907 [==============================] - 1s 9us/step - loss: 0.8899 - accuracy: 0.7656 - val_loss: 0.5076 - val_accuracy: 0.6912\n",
      "Epoch 166/200\n",
      "162907/162907 [==============================] - 1s 9us/step - loss: 0.4549 - accuracy: 0.7701 - val_loss: 0.4156 - val_accuracy: 0.6932\n",
      "Epoch 167/200\n",
      "162907/162907 [==============================] - 2s 9us/step - loss: 0.4324 - accuracy: 0.7697 - val_loss: 6.7444 - val_accuracy: 0.7402\n",
      "Epoch 168/200\n",
      "162907/162907 [==============================] - 1s 9us/step - loss: 0.7329 - accuracy: 0.7668 - val_loss: -2.9331 - val_accuracy: 0.8147\n",
      "Epoch 169/200\n",
      "162907/162907 [==============================] - 1s 9us/step - loss: 0.9584 - accuracy: 0.7641 - val_loss: 2.3280 - val_accuracy: 0.7824\n",
      "Epoch 170/200\n",
      "162907/162907 [==============================] - 1s 9us/step - loss: 0.1044 - accuracy: 0.7717 - val_loss: -2.9738 - val_accuracy: 0.8162\n",
      "Epoch 171/200\n",
      "162907/162907 [==============================] - 1s 9us/step - loss: 1.1111 - accuracy: 0.7618 - val_loss: -2.1584 - val_accuracy: 0.8284\n",
      "Epoch 172/200\n",
      "162907/162907 [==============================] - 1s 9us/step - loss: 0.9538 - accuracy: 0.7644 - val_loss: 5.4030 - val_accuracy: 0.6322\n",
      "Epoch 173/200\n",
      "162907/162907 [==============================] - 1s 9us/step - loss: 0.9281 - accuracy: 0.7623 - val_loss: 5.3529 - val_accuracy: 0.7506\n",
      "Epoch 174/200\n",
      "162907/162907 [==============================] - 1s 9us/step - loss: 0.2150 - accuracy: 0.7694 - val_loss: -1.4615 - val_accuracy: 0.8271\n",
      "Epoch 175/200\n",
      "162907/162907 [==============================] - 1s 9us/step - loss: 0.3747 - accuracy: 0.7687 - val_loss: -2.9625 - val_accuracy: 0.7815\n",
      "Epoch 176/200\n",
      "162907/162907 [==============================] - 1s 9us/step - loss: 0.3599 - accuracy: 0.7676 - val_loss: -2.3021 - val_accuracy: 0.7529\n",
      "Epoch 177/200\n",
      "162907/162907 [==============================] - 1s 9us/step - loss: 0.6265 - accuracy: 0.7671 - val_loss: 3.6800 - val_accuracy: 0.7654\n",
      "Epoch 178/200\n",
      "162907/162907 [==============================] - 2s 9us/step - loss: 0.2403 - accuracy: 0.7699 - val_loss: -2.8844 - val_accuracy: 0.8254\n",
      "Epoch 179/200\n",
      "162907/162907 [==============================] - 1s 9us/step - loss: 1.1602 - accuracy: 0.7611 - val_loss: -0.7443 - val_accuracy: 0.7085\n",
      "Epoch 180/200\n",
      "162907/162907 [==============================] - 1s 9us/step - loss: 0.2351 - accuracy: 0.7671 - val_loss: -2.4161 - val_accuracy: 0.8288\n",
      "Epoch 181/200\n",
      "162907/162907 [==============================] - 1s 9us/step - loss: 0.6566 - accuracy: 0.7623 - val_loss: -2.3060 - val_accuracy: 0.8284\n",
      "Epoch 182/200\n",
      "162907/162907 [==============================] - 1s 9us/step - loss: -0.1849 - accuracy: 0.7722 - val_loss: -2.1898 - val_accuracy: 0.7448\n",
      "Epoch 183/200\n",
      "162907/162907 [==============================] - 1s 9us/step - loss: 0.7634 - accuracy: 0.7638 - val_loss: 1.5320 - val_accuracy: 0.7917\n",
      "Epoch 184/200\n",
      "162907/162907 [==============================] - 1s 9us/step - loss: 0.4501 - accuracy: 0.7660 - val_loss: -2.9579 - val_accuracy: 0.8262\n",
      "Epoch 185/200\n",
      "162907/162907 [==============================] - 1s 9us/step - loss: -0.2090 - accuracy: 0.7713 - val_loss: 0.7319 - val_accuracy: 0.8008\n",
      "Epoch 186/200\n",
      "162907/162907 [==============================] - 1s 9us/step - loss: 0.1649 - accuracy: 0.7672 - val_loss: 9.6152 - val_accuracy: 0.6044\n",
      "Epoch 187/200\n",
      "162907/162907 [==============================] - 1s 9us/step - loss: 0.6382 - accuracy: 0.7648 - val_loss: 10.9684 - val_accuracy: 0.7161\n",
      "Epoch 188/200\n",
      "162907/162907 [==============================] - 1s 9us/step - loss: 0.2634 - accuracy: 0.7664 - val_loss: -3.4213 - val_accuracy: 0.8209\n",
      "Epoch 189/200\n",
      "162907/162907 [==============================] - 2s 9us/step - loss: -0.3438 - accuracy: 0.7714 - val_loss: -3.6469 - val_accuracy: 0.8091\n",
      "Epoch 190/200\n",
      "162907/162907 [==============================] - 1s 9us/step - loss: 0.1923 - accuracy: 0.7669 - val_loss: -2.9266 - val_accuracy: 0.8276\n",
      "Epoch 191/200\n",
      "162907/162907 [==============================] - 1s 9us/step - loss: 0.4259 - accuracy: 0.7655 - val_loss: 4.4865 - val_accuracy: 0.7581\n",
      "Epoch 192/200\n",
      "162907/162907 [==============================] - 1s 9us/step - loss: 0.0456 - accuracy: 0.7684 - val_loss: -3.3908 - val_accuracy: 0.7735\n",
      "Epoch 193/200\n",
      "162907/162907 [==============================] - 1s 9us/step - loss: -0.0914 - accuracy: 0.7696 - val_loss: -2.1884 - val_accuracy: 0.7354\n",
      "Epoch 194/200\n",
      "162907/162907 [==============================] - 1s 9us/step - loss: -0.1746 - accuracy: 0.7693 - val_loss: -3.7221 - val_accuracy: 0.7895\n",
      "Epoch 195/200\n",
      "162907/162907 [==============================] - 1s 9us/step - loss: 0.3203 - accuracy: 0.7645 - val_loss: -3.6857 - val_accuracy: 0.8200\n",
      "Epoch 196/200\n",
      "162907/162907 [==============================] - 1s 9us/step - loss: -0.1298 - accuracy: 0.7685 - val_loss: 2.2912 - val_accuracy: 0.7797\n",
      "Epoch 197/200\n",
      "162907/162907 [==============================] - 1s 9us/step - loss: 0.3948 - accuracy: 0.7623 - val_loss: -0.7784 - val_accuracy: 0.8163\n",
      "Epoch 198/200\n",
      "162907/162907 [==============================] - 1s 9us/step - loss: -1.0095 - accuracy: 0.7760 - val_loss: -1.8502 - val_accuracy: 0.8253\n",
      "Epoch 199/200\n",
      "162907/162907 [==============================] - 1s 9us/step - loss: 0.1299 - accuracy: 0.7662 - val_loss: -3.4736 - val_accuracy: 0.8261\n",
      "Epoch 200/200\n",
      "162907/162907 [==============================] - 2s 9us/step - loss: -0.3377 - accuracy: 0.7695 - val_loss: 0.7284 - val_accuracy: 0.7981\n"
     ]
    }
   ],
   "source": [
    "history = model.fit(X_train, Y_train, epochs=200, batch_size=128, validation_data=(X_val, Y_val))"
   ]
  },
  {
   "cell_type": "code",
   "execution_count": 35,
   "metadata": {},
   "outputs": [
    {
     "name": "stdout",
     "output_type": "stream",
     "text": [
      "Train: 0.799, Test: 0.795\n"
     ]
    },
    {
     "data": {
      "image/png": "[encoded data removed]",
      "text/plain": [
       "<Figure size 1080x720 with 2 Axes>"
      ]
     },
     "metadata": {
      "needs_background": "light"
     },
     "output_type": "display_data"
    }
   ],
   "source": [
    "from matplotlib import pyplot\n",
    "# evaluate the model\n",
    "_, train_acc = model.evaluate(X_train, Y_train, verbose=0)\n",
    "_, test_acc = model.evaluate(X_test, Y_test, verbose=0)\n",
    "print('Train: %.3f, Test: %.3f' % (train_acc, test_acc))\n",
    "plt.figure(figsize=(15,10))\n",
    "# plot loss during training\n",
    "pyplot.subplot(211)\n",
    "pyplot.title('Loss')\n",
    "pyplot.plot(history.history['loss'], label='train')\n",
    "pyplot.plot(history.history['val_loss'], label='test')\n",
    "pyplot.legend()\n",
    "# plot accuracy during training\n",
    "pyplot.subplot(212)\n",
    "pyplot.title('Accuracy')\n",
    "pyplot.plot(history.history['accuracy'], label='train')\n",
    "pyplot.plot(history.history['val_accuracy'], label='test')\n",
    "pyplot.legend()\n",
    "pyplot.show()"
   ]
  },
  {
   "cell_type": "markdown",
   "metadata": {},
   "source": [
    "Como podemos ver en las gráficas anteriores, el coste en ambos conjuntos decrece.\n",
    "\n",
    "Como podemos ver entrono a las 180 epochs, el coste de train y val parece estar relativamente cerca por lo que se se entrenará la red con esas vueltas pare predecir en los datos de test"
   ]
  },
  {
   "cell_type": "code",
   "execution_count": 57,
   "metadata": {},
   "outputs": [],
   "source": [
    "history = model.fit(X_train, Y_train, epochs=180, batch_size=128, validation_data=(X_val, Y_val), verbose = 0)"
   ]
  },
  {
   "cell_type": "code",
   "execution_count": 58,
   "metadata": {},
   "outputs": [],
   "source": [
    "Y_pred = model.predict_classes(X_test)"
   ]
  },
  {
   "cell_type": "code",
   "execution_count": 40,
   "metadata": {},
   "outputs": [
    {
     "name": "stdout",
     "output_type": "stream",
     "text": [
      "La precisión obtenida con redes neuronales de Keras es : 81.98771108151077%\n"
     ]
    }
   ],
   "source": [
    "print(\"La precisión obtenida con redes neuronales de Keras es : {}%\".format(accuracy_score(Y_test,Y_pred) * 100))"
   ]
  },
  {
   "cell_type": "code",
   "execution_count": 59,
   "metadata": {},
   "outputs": [
    {
     "data": {
      "text/plain": [
       "array([0, 1])"
      ]
     },
     "execution_count": 59,
     "metadata": {},
     "output_type": "execute_result"
    }
   ],
   "source": [
    "np.unique(Y_pred)"
   ]
  },
  {
   "cell_type": "markdown",
   "metadata": {},
   "source": [
    "Como podemos comprobar nuestro modelo sólo predice las clases 1 y 2, esto se debe a que los datos se encuentran desbalanceados, en nuestra implementación no podemos realizar nada, pero la librería de keras te permite asignar una penalización a las clases para solucionar este problema. Para ello primero contamos el número de clases que aparecen y creamos los pesos necesarios:"
   ]
  },
  {
   "cell_type": "code",
   "execution_count": 60,
   "metadata": {},
   "outputs": [],
   "source": [
    "weights = {0:0.1, 1:0.1, 2:1}"
   ]
  },
  {
   "cell_type": "code",
   "execution_count": 61,
   "metadata": {},
   "outputs": [],
   "source": [
    "history = model.fit(X_train, Y_train, epochs=180, batch_size=128, validation_data=(X_val, Y_val), verbose = 0, class_weight=weights)"
   ]
  },
  {
   "cell_type": "code",
   "execution_count": 62,
   "metadata": {},
   "outputs": [],
   "source": [
    "Y_pred = model.predict_classes(X_test)"
   ]
  },
  {
   "cell_type": "code",
   "execution_count": 63,
   "metadata": {},
   "outputs": [
    {
     "name": "stdout",
     "output_type": "stream",
     "text": [
      "La precisión obtenida con redes neuronales de Keras con ajuste de pesos es  : 70.40347183431444%\n"
     ]
    }
   ],
   "source": [
    "print(\"La precisión obtenida con redes neuronales de Keras con ajuste de pesos es  : {}%\".format(accuracy_score(Y_test,Y_pred) * 100))"
   ]
  },
  {
   "cell_type": "markdown",
   "metadata": {},
   "source": [
    "Como conlusión a las Redes Neuronales implementadas por la librería de keras, se ha obtenido una precisión del 81.98% sin ajuste de pesos y un 70.4% con ajuste de pesos"
   ]
  },
  {
   "cell_type": "markdown",
   "metadata": {},
   "source": [
    "Como conclusión a este apartado de Redes Neuronales podemos afirmar que la mejor precisión obtenida  por la implementación realizada por los alumnos es de 53% y con la librería Keras una precisión del 81.98%. Si tenemos en cuenta el ajuste de pesos la precisión sería del 70.4%"
   ]
  },
  {
   "cell_type": "markdown",
   "metadata": {},
   "source": [
    "## Máquinas de vector de soporte"
   ]
  },
  {
   "cell_type": "markdown",
   "metadata": {},
   "source": [
    "Previamente, dado que actuamente la variable popularidad es una variable continua deberemos discretizarla,para ello se escogerá la columna 'popularity class' como variable objetivo donde:\n",
    "- Alta (2): Popularidad > 70\n",
    "- Popularidad Media (1) : 40 <= Popularidad <= 70\n",
    "- Popularidad Baja (0): Popularidad < 40"
   ]
  },
  {
   "cell_type": "markdown",
   "metadata": {},
   "source": [
    "Dado que esta técnica tiene un coste en tiempo muy elevado, antes de realizar curvas de validación se ha optado por añadir curvas de aprendizaje para conocer a partir de qué cantidad de datos no se adquiere una mejora sustancial del modelo.Se estudiará el comportamiento de dos algoritmos de optimización:"
   ]
  },
  {
   "cell_type": "markdown",
   "metadata": {},
   "source": [
    "#### Kernel Lineal"
   ]
  },
  {
   "cell_type": "markdown",
   "metadata": {},
   "source": [
    "Primero, realizamos una curva de aprendizaje para conocer a partir de qué número de ejemplos, dejamos de obtener una mejora sustancial en la precisión del modelo:"
   ]
  },
  {
   "cell_type": "markdown",
   "metadata": {},
   "source": [
    "##### Curva de aprendizaje"
   ]
  },
  {
   "cell_type": "code",
   "execution_count": 53,
   "metadata": {},
   "outputs": [
    {
     "data": {
      "text/plain": [
       "Text(0.5, 1.0, 'Evolución de la precisión')"
      ]
     },
     "execution_count": 53,
     "metadata": {},
     "output_type": "execute_result"
    },
    {
     "data": {
      "image/png": "[encoded data removed]",
      "text/plain": [
       "<Figure size 432x288 with 1 Axes>"
      ]
     },
     "metadata": {
      "needs_background": "light"
     },
     "output_type": "display_data"
    }
   ],
   "source": [
    "acc_train_list = []\n",
    "acc_val_list = []\n",
    "sizes = [100,500,1000,2000,3000]\n",
    "\n",
    "for size in sizes:\n",
    "    #Get new sets\n",
    "    new_train = train[:size]\n",
    "    new_val = val\n",
    "    X_train_local = np.array(new_train[features])\n",
    "    Y_train_local = np.array(new_train[target_classified])\n",
    "    X_val_local = np.array(new_val[features])\n",
    "    Y_val_local = np.array(new_val[target_classified])\n",
    "    #Train with this size\n",
    "    svm = SVC(kernel='linear')\n",
    "    svm.fit(X_train_local, Y_train_local)\n",
    "    #Get acc\n",
    "    acc_train = accuracy_score(Y_train_local,svm.predict(X_train_local))\n",
    "    acc_val = accuracy_score(Y_val_local,svm.predict(X_val_local))\n",
    "    acc_train_list.append(acc_train)\n",
    "    acc_val_list.append(acc_val)\n",
    "    \n",
    "plt.plot(sizes,acc_train_list, color=\"blue\")\n",
    "plt.plot(sizes,acc_val_list, color=\"orange\")\n",
    "plt.legend(['train', 'val'])\n",
    "plt.ylabel('accuracy')\n",
    "plt.xlabel('Número de ejemplos')\n",
    "plt.title(\"Evolución de la precisión\")"
   ]
  },
  {
   "cell_type": "markdown",
   "metadata": {},
   "source": [
    "Como podemos ver en la gráfica anterior, los valores no terminan de converger hacia un mismo punto, por lo que probando con conjuntos mas grándes podamos obtener una mayor precisión, sin embargo no se probará conjutnos de mayor tamaño dado el coste en tiempo de realizarlo"
   ]
  },
  {
   "cell_type": "markdown",
   "metadata": {},
   "source": [
    "A continuacion, debido a la complejidad en tiempo no se realiza una gráfica de validación, pero si se prueba con valores típicos del parámetro C (C=1, C= 0.01)"
   ]
  },
  {
   "cell_type": "code",
   "execution_count": 57,
   "metadata": {},
   "outputs": [
    {
     "name": "stdout",
     "output_type": "stream",
     "text": [
      "La precisión obtenida por SVM con kernel lineal y C=1 es: 0.5702640156653797\n"
     ]
    }
   ],
   "source": [
    "svm = SVC(kernel='linear', C=1)\n",
    "svm.fit(X_train[:2000], Y_train[:2000])\n",
    "print(\"La precisión obtenida por SVM con kernel lineal y C=1 es: {}\".format(accuracy_score(Y_train,svm.predict(X_train))))"
   ]
  },
  {
   "cell_type": "code",
   "execution_count": 58,
   "metadata": {},
   "outputs": [
    {
     "name": "stdout",
     "output_type": "stream",
     "text": [
      "La precisión obtenida por SVM con kernel lineal y C=0.01 es  0.568987213563567\n"
     ]
    }
   ],
   "source": [
    "svm = SVC(kernel='linear', C=0.01)\n",
    "svm.fit(X_train[:2000], Y_train[:2000])\n",
    "print(\"La precisión obtenida por SVM con kernel lineal y C=0.01 es  {}\".format(accuracy_score(Y_train,svm.predict(X_train))))"
   ]
  },
  {
   "cell_type": "markdown",
   "metadata": {},
   "source": [
    "#### Kernel rbf"
   ]
  },
  {
   "cell_type": "markdown",
   "metadata": {},
   "source": [
    "Primero, realizamos una curva de aprendizaje para conocer a partir de qué número de ejemplos, dejamos de obtener una mejora sustancial en la precisión del modelo con las configuraciones predeterminadas de la librería de scikit learn"
   ]
  },
  {
   "cell_type": "code",
   "execution_count": 47,
   "metadata": {},
   "outputs": [
    {
     "data": {
      "text/plain": [
       "Text(0.5, 1.0, 'Curva de aprendizaje')"
      ]
     },
     "execution_count": 47,
     "metadata": {},
     "output_type": "execute_result"
    },
    {
     "data": {
      "image/png": "[encoded data removed]",
      "text/plain": [
       "<Figure size 432x288 with 1 Axes>"
      ]
     },
     "metadata": {
      "needs_background": "light"
     },
     "output_type": "display_data"
    }
   ],
   "source": [
    "acc_train_list = []\n",
    "acc_val_list = []\n",
    "sizes = [100,500,1000,2000,3000,10000]\n",
    "\n",
    "for size in sizes:\n",
    "    #Get new sets\n",
    "    new_train = train[:size]\n",
    "    new_val = val\n",
    "    X_train_local = np.array(new_train[features])\n",
    "    Y_train_local = np.array(new_train[target_classified])\n",
    "    X_val_local = np.array(new_val[features])\n",
    "    Y_val_local = np.array(new_val[target_classified])\n",
    "    #Train with this size\n",
    "    svm = SVC(kernel='rbf')\n",
    "    svm.fit(X_train_local, Y_train_local)\n",
    "    #Get acc\n",
    "    acc_train = accuracy_score(Y_train_local,svm.predict(X_train_local))\n",
    "    acc_val = accuracy_score(Y_val_local,svm.predict(X_val_local))\n",
    "    acc_train_list.append(acc_train)\n",
    "    acc_val_list.append(acc_val)\n",
    "\n",
    "plt.plot(sizes,acc_train_list, color=\"blue\")\n",
    "plt.plot(sizes,acc_val_list, color=\"orange\")\n",
    "plt.legend(['train', 'val'])\n",
    "plt.ylabel('accuracy')\n",
    "plt.xlabel('Número de ejemplos')\n",
    "plt.title(\"Curva de aprendizaje\")\n",
    "    "
   ]
  },
  {
   "cell_type": "markdown",
   "metadata": {},
   "source": [
    "Como podemos ver en la gráfica anterior, a partir de X ejemplos, la precisión en el conjunto de validación no cambia en gran medida. A continuación procedemos a realziar gráficas de validación para conocer el mejor hiperparámetro gamma y C, en estas gráficas se utilzará de tamaño de conjunto de entrenamiento 10000, se ha elegido este puntocomo se podía haber elegido 6000,7000... ya que con todos se obtiene prácticamente la misma precisión en el conjunto de valdiación de la gráfica anterior."
   ]
  },
  {
   "cell_type": "markdown",
   "metadata": {},
   "source": [
    "Buscamos el mejor hiperparámetro C"
   ]
  },
  {
   "cell_type": "code",
   "execution_count": 49,
   "metadata": {},
   "outputs": [
    {
     "data": {
      "text/plain": [
       "Text(0.5, 1.0, 'Evolución de la precisión en función del parámetro C')"
      ]
     },
     "execution_count": 49,
     "metadata": {},
     "output_type": "execute_result"
    },
    {
     "data": {
      "image/png": "[encoded data removed]",
      "text/plain": [
       "<Figure size 1440x576 with 1 Axes>"
      ]
     },
     "metadata": {
      "needs_background": "light"
     },
     "output_type": "display_data"
    }
   ],
   "source": [
    "C_params = [0.01,0.1, 10]\n",
    "acc_train_list = []\n",
    "acc_val_list= []\n",
    "for C in C_params:\n",
    "    svm = SVC(kernel='rbf', C=C)\n",
    "    svm.fit(X_train[:10000], Y_train[:10000])\n",
    "    acc_train_list.append(accuracy_score(Y_train,svm.predict(X_train)))\n",
    "    acc_val_list.append(accuracy_score(Y_val,svm.predict(X_val)))  \n",
    "\n",
    "plt.figure(figsize=(20,8))\n",
    "plt.plot(C_params,acc_train_list, color=\"blue\")\n",
    "plt.plot(C_params,acc_val_list, color=\"orange\")\n",
    "plt.legend(['train', 'val'])\n",
    "plt.ylabel('accuracy')\n",
    "plt.xlabel('C param')\n",
    "plt.title(\"Evolución de la precisión en función del parámetro C\")"
   ]
  },
  {
   "cell_type": "markdown",
   "metadata": {},
   "source": [
    "Buscamos el mejor hiperparámetro gamma, utilziando el mejor C obtenido, enbese caso la mejor precisión se obtiene con C = 0.01."
   ]
  },
  {
   "cell_type": "code",
   "execution_count": 50,
   "metadata": {},
   "outputs": [
    {
     "name": "stdout",
     "output_type": "stream",
     "text": [
      "La precisión con C=0.01 y gamma =0.1 es : 0.5300461918573424%\n",
      "La precisión con C=0.01 y gamma =auto es : 0.5300461918573424%\n",
      "La precisión con C=0.01 y gamma =scale es : 0.5866580728327425%\n"
     ]
    }
   ],
   "source": [
    "gamma_params = [0.1,'auto','scale']\n",
    "acc_train_list = []\n",
    "acc_val_list= []\n",
    "best_param = None\n",
    "best_acc = 0\n",
    "for g in gamma_params:\n",
    "    svm = SVC(kernel='rbf', C=0.01, gamma=g)\n",
    "    svm.fit(X_train[:10000], Y_train[:10000])\n",
    "    acc_val_list.append(accuracy_score(Y_val,svm.predict(X_val)))  \n",
    "    print(\"La precisión con C=0.01 y gamma ={} es : {}%\".format(g,accuracy_score(Y_val,svm.predict(X_val))))"
   ]
  },
  {
   "cell_type": "markdown",
   "metadata": {},
   "source": [
    "Le mejor configuración obtenida por tanto es utilizar el conjutno de entrenamientro con 10.000 ejemplos, hiperparámetros:\n",
    "- C = 0.01\n",
    "- gamma= 1 / (n_features * X.var())  (sckiti-learn metric)"
   ]
  },
  {
   "cell_type": "code",
   "execution_count": 51,
   "metadata": {},
   "outputs": [
    {
     "name": "stdout",
     "output_type": "stream",
     "text": [
      "La precisión obtenida por SVM con kernel rbf con C=0.01  y gamma=scale es 0.5866580728327425\n"
     ]
    }
   ],
   "source": [
    "svm = SVC(kernel='rbf', C=0.01, gamma='scale')\n",
    "svm.fit(X_train[:10000], Y_train[:10000])\n",
    "print(\"La precisión obtenida por SVM con kernel rbf con C={}  y gamma={} es {}\".format(0.01,'scale',accuracy_score(Y_val,svm.predict(X_val))))"
   ]
  },
  {
   "cell_type": "markdown",
   "metadata": {},
   "source": [
    "La precisión obtenida con Kernel RBF y su mejor configruación C=0.01, gamma=scale es 58.66%"
   ]
  },
  {
   "cell_type": "markdown",
   "metadata": {},
   "source": [
    "## Tabla de Resultados"
   ]
  },
  {
   "cell_type": "markdown",
   "metadata": {},
   "source": [
    "A continuación, a modo de resumen de las técnicas aplicadas, se adjunta una tabla con todos los resultados."
   ]
  },
  {
   "cell_type": "markdown",
   "metadata": {},
   "source": [
    "| Técnica Empleada                                     | Métrica  | Valor |\n",
    "|------------------------------------------------------|----------|-------|\n",
    "| Regresión Lineal Implementada                        | RMSE     |   9.67    |\n",
    "| Regresión Lineal Scikit Learn                        | RMSE     |   9.67    |\n",
    "| Regresión Logística Implementada                     | Accuracy |   83.09%    |\n",
    "| Regresión Logística Scikit Learn                     | Accuracy |   83.09%    |\n",
    "| Regresión Logística Scikit Learn con ajuste de pesos | Accuracy |    75.20%   |\n",
    "| Redes Neuronales Implementada                        | Accuracy |    53.29%   |\n",
    "| Redes Neronales Keras                                | Accuracy |  81.98%     |\n",
    "| Redes Neuronales ajustes de peso                     | Accuracy |  70.40%     |\n",
    "| SVM Scikit Learn                                     | Accuracy |    58.66%   |"
   ]
  }
 ],
 "metadata": {
  "kernelspec": {
   "display_name": "Python 3",
   "language": "python",
   "name": "python3"
  },
  "language_info": {
   "codemirror_mode": {
    "name": "ipython",
    "version": 3
   },
   "file_extension": ".py",
   "mimetype": "text/x-python",
   "name": "python",
   "nbconvert_exporter": "python",
   "pygments_lexer": "ipython3",
   "version": "3.7.2"
  }
 },
 "nbformat": 4,
 "nbformat_minor": 2
}
