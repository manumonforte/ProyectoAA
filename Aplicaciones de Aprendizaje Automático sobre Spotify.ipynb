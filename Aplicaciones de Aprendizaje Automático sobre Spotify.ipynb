{
 "cells": [
  {
   "cell_type": "markdown",
   "metadata": {},
   "source": [
    "# Aplicaciones de Aprendizaje Automático sobre Spotify "
   ]
  },
  {
   "cell_type": "markdown",
   "metadata": {},
   "source": [
    "## Propósito del documento"
   ]
  },
  {
   "cell_type": "markdown",
   "metadata": {},
   "source": [
    "El objetivo del documento es explicar la aplicación de diferentes técnicas de aprendizaje automático sobre el dataset de [Spotify Tracks DB](https://www.kaggle.com/zaheenhamidani/ultimate-spotify-tracks-db). El objetivo del proyecto será estudiar diferentes configuraciones de las técnicas  para determinar la popularidad que tendrá una canción."
   ]
  },
  {
   "cell_type": "markdown",
   "metadata": {},
   "source": [
    "## Descripción del Dataset"
   ]
  },
  {
   "cell_type": "markdown",
   "metadata": {},
   "source": [
    "El dataset tiene un tamaño de 32,15 MB, contiene 232,725 pistas de música. Los datos para cada una de las pistas de música son los siguientes:\n",
    "- **Genre**: Género (Película, Jazz, Reggaeton...)\n",
    "- **artist_name**: Nombre del artista\n",
    "- **track_name**: Nombre de la pista\n",
    "- **track_id**: El id de Spotify para la pista.\n",
    "- **Popularity**: Ínidice de popularidad de una pista (0- 100)\n",
    "- **Acousticness**: Una medida de confianza de 0.0 a 1.0 de si la pista es acústica. 1,0 representa una alta confianza de que la pista es acústica.\n",
    "- **Danceability**: describe lo adecuado que es un tema para el baile basado en una combinación de elementos musicales como el tempo, la estabilidad del ritmo, la fuerza del compás y la regularidad general. Un valor de 0.0 es el menos bailable y 1.0 es el más bailable. \n",
    "- **Duration_ms**: La duración de la pista en milisegundos.  \n",
    "- **Energy**: La energía es una medida de 0,0 a 1,0 y representa una medida perceptiva de la intensidad y la actividad. Típicamente, las huellas de energía se sienten rápidas, fuertes y ruidosas.\n",
    "- **Instrumentalness**: Predice si una pista no contiene voces. Los sonidos \"Ooh\" y \"aah\" son tratados como instrumentales en este contexto. Las pistas de rap o de palabra hablada son claramente \"vocales\". \n",
    "- **Key**: La clave general estimada de la pista. Los números enteros se asignan a los lanzamientos usando la notación estándar de la clase de lanzamiento. Por ejemplo, 0 = C, 1 = C♯/D♭, 2 = D, y así sucesivamente. Si no se detectó ninguna clave, el valor es -1.\n",
    "- **Liveness**: Detecta la presencia de una audiencia en la grabación ( 1 música en concierto)\n",
    "- **Loudness**: La sonoridad global de una pista en decibelios (dB)\n",
    "- **Mode**: El modo indica la modalidad (mayor o menor) de una pista, el tipo de escala de la que se deriva su contenido melódico. La mayor se representa por 1 y la menor por 0. \n",
    "- **Speechiness**:  detecta la presencia de palabras habladas en una pista\n",
    "- **Tempo**: El tempo global estimado de una pista en pulsaciones por minuto (BPM). En la terminología musical, el tempo es la velocidad o el ritmo de una pieza dada y se deriva directamente de la duración media del tiempo\n",
    "- **Time_signature**: Una firma de tiempo global estimada de una pista. La signatura de tiempo (metro) es una convención notacional para especificar cuántos latidos hay en cada barra (o medida).\n",
    "- **Valence**: Una medida de 0.0 a 1.0 que describe la positividad musical transmitida por una pista (1 muy positivo)"
   ]
  },
  {
   "cell_type": "markdown",
   "metadata": {},
   "source": [
    "## Librerías"
   ]
  },
  {
   "cell_type": "code",
   "execution_count": 101,
   "metadata": {},
   "outputs": [
    {
     "name": "stdout",
     "output_type": "stream",
     "text": [
      "WARNING: pip is being invoked by an old script wrapper. This will fail in a future version of pip.\n",
      "Please see https://github.com/pypa/pip/issues/5599 for advice on fixing the underlying issue.\n",
      "To avoid this problem you can invoke Python with '-m pip' instead of running pip directly.\n",
      "Requirement already up-to-date: category_encoders in /home/rvindel/anaconda3/lib/python3.7/site-packages (2.2.2)\n",
      "Requirement already satisfied, skipping upgrade: statsmodels>=0.9.0 in /home/rvindel/anaconda3/lib/python3.7/site-packages (from category_encoders) (0.10.1)\n",
      "Requirement already satisfied, skipping upgrade: scikit-learn>=0.20.0 in /home/rvindel/anaconda3/lib/python3.7/site-packages (from category_encoders) (0.21.3)\n",
      "Requirement already satisfied, skipping upgrade: pandas>=0.21.1 in /home/rvindel/anaconda3/lib/python3.7/site-packages (from category_encoders) (0.25.1)\n",
      "Requirement already satisfied, skipping upgrade: scipy>=1.0.0 in /home/rvindel/anaconda3/lib/python3.7/site-packages (from category_encoders) (1.3.1)\n",
      "Requirement already satisfied, skipping upgrade: numpy>=1.14.0 in /home/rvindel/anaconda3/lib/python3.7/site-packages (from category_encoders) (1.17.2)\n",
      "Requirement already satisfied, skipping upgrade: patsy>=0.5.1 in /home/rvindel/anaconda3/lib/python3.7/site-packages (from category_encoders) (0.5.1)\n",
      "Requirement already satisfied, skipping upgrade: joblib>=0.11 in /home/rvindel/anaconda3/lib/python3.7/site-packages (from scikit-learn>=0.20.0->category_encoders) (0.13.2)\n",
      "Requirement already satisfied, skipping upgrade: pytz>=2017.2 in /home/rvindel/anaconda3/lib/python3.7/site-packages (from pandas>=0.21.1->category_encoders) (2019.3)\n",
      "Requirement already satisfied, skipping upgrade: python-dateutil>=2.6.1 in /home/rvindel/anaconda3/lib/python3.7/site-packages (from pandas>=0.21.1->category_encoders) (2.8.0)\n",
      "Requirement already satisfied, skipping upgrade: six in /home/rvindel/anaconda3/lib/python3.7/site-packages (from patsy>=0.5.1->category_encoders) (1.12.0)\n",
      "\u001b[33mWARNING: You are using pip version 20.0.2; however, version 20.1.1 is available.\n",
      "You should consider upgrading via the '/home/rvindel/anaconda3/bin/python -m pip install --upgrade pip' command.\u001b[0m\n"
     ]
    }
   ],
   "source": [
    "!pip install --upgrade category_encoders"
   ]
  },
  {
   "cell_type": "code",
   "execution_count": 102,
   "metadata": {},
   "outputs": [],
   "source": [
    "import pandas as pd\n",
    "import numpy as np\n",
    "from numpy import argmax\n",
    "from sklearn.preprocessing import LabelBinarizer\n",
    "import numpy.ma as ma\n",
    "from sklearn.preprocessing import PolynomialFeatures\n",
    "from sklearn.pipeline import Pipeline\n",
    "from sklearn.preprocessing import StandardScaler\n",
    "from sklearn.linear_model import LinearRegression\n",
    "from sklearn.linear_model import Ridge\n",
    "from sklearn.linear_model import LogisticRegression\n",
    "from sklearn.svm import SVC\n",
    "from sklearn.metrics import accuracy_score\n",
    "from scipy import optimize\n",
    "\n",
    "from numpy import inf\n",
    "from pandas.io.parsers import read_csv\n",
    "from matplotlib import pyplot as plt\n",
    "from matplotlib import cm\n",
    "from matplotlib.ticker import LinearLocator, FormatStrFormatter\n",
    "from mpl_toolkits.mplot3d import Axes3D\n",
    "import warnings\n",
    "warnings.filterwarnings('ignore')\n",
    "\n",
    "###########################\n",
    "####     OUR CLASES     ###\n",
    "###########################\n",
    "from LogisticRegression import OurLogisticRegression"
   ]
  },
  {
   "cell_type": "markdown",
   "metadata": {},
   "source": [
    "## Lectura de Datos"
   ]
  },
  {
   "cell_type": "code",
   "execution_count": 103,
   "metadata": {},
   "outputs": [],
   "source": [
    "data = pd.read_csv(\"data/SpotifyFeatures.csv\")"
   ]
  },
  {
   "cell_type": "code",
   "execution_count": 104,
   "metadata": {},
   "outputs": [
    {
     "data": {
      "text/plain": [
       "(232725, 18)"
      ]
     },
     "execution_count": 104,
     "metadata": {},
     "output_type": "execute_result"
    }
   ],
   "source": [
    "data.shape"
   ]
  },
  {
   "cell_type": "code",
   "execution_count": 105,
   "metadata": {},
   "outputs": [
    {
     "data": {
      "text/html": [
       "<div>\n",
       "<style scoped>\n",
       "    .dataframe tbody tr th:only-of-type {\n",
       "        vertical-align: middle;\n",
       "    }\n",
       "\n",
       "    .dataframe tbody tr th {\n",
       "        vertical-align: top;\n",
       "    }\n",
       "\n",
       "    .dataframe thead th {\n",
       "        text-align: right;\n",
       "    }\n",
       "</style>\n",
       "<table border=\"1\" class=\"dataframe\">\n",
       "  <thead>\n",
       "    <tr style=\"text-align: right;\">\n",
       "      <th></th>\n",
       "      <th>genre</th>\n",
       "      <th>artist_name</th>\n",
       "      <th>track_name</th>\n",
       "      <th>track_id</th>\n",
       "      <th>popularity</th>\n",
       "      <th>acousticness</th>\n",
       "      <th>danceability</th>\n",
       "      <th>duration_ms</th>\n",
       "      <th>energy</th>\n",
       "      <th>instrumentalness</th>\n",
       "      <th>key</th>\n",
       "      <th>liveness</th>\n",
       "      <th>loudness</th>\n",
       "      <th>mode</th>\n",
       "      <th>speechiness</th>\n",
       "      <th>tempo</th>\n",
       "      <th>time_signature</th>\n",
       "      <th>valence</th>\n",
       "    </tr>\n",
       "  </thead>\n",
       "  <tbody>\n",
       "    <tr>\n",
       "      <td>0</td>\n",
       "      <td>Movie</td>\n",
       "      <td>Henri Salvador</td>\n",
       "      <td>C'est beau de faire un Show</td>\n",
       "      <td>0BRjO6ga9RKCKjfDqeFgWV</td>\n",
       "      <td>0</td>\n",
       "      <td>0.611</td>\n",
       "      <td>0.389</td>\n",
       "      <td>99373</td>\n",
       "      <td>0.910</td>\n",
       "      <td>0.000</td>\n",
       "      <td>C#</td>\n",
       "      <td>0.3460</td>\n",
       "      <td>-1.828</td>\n",
       "      <td>Major</td>\n",
       "      <td>0.0525</td>\n",
       "      <td>166.969</td>\n",
       "      <td>4/4</td>\n",
       "      <td>0.814</td>\n",
       "    </tr>\n",
       "    <tr>\n",
       "      <td>1</td>\n",
       "      <td>Movie</td>\n",
       "      <td>Martin &amp; les fées</td>\n",
       "      <td>Perdu d'avance (par Gad Elmaleh)</td>\n",
       "      <td>0BjC1NfoEOOusryehmNudP</td>\n",
       "      <td>1</td>\n",
       "      <td>0.246</td>\n",
       "      <td>0.590</td>\n",
       "      <td>137373</td>\n",
       "      <td>0.737</td>\n",
       "      <td>0.000</td>\n",
       "      <td>F#</td>\n",
       "      <td>0.1510</td>\n",
       "      <td>-5.559</td>\n",
       "      <td>Minor</td>\n",
       "      <td>0.0868</td>\n",
       "      <td>174.003</td>\n",
       "      <td>4/4</td>\n",
       "      <td>0.816</td>\n",
       "    </tr>\n",
       "    <tr>\n",
       "      <td>2</td>\n",
       "      <td>Movie</td>\n",
       "      <td>Joseph Williams</td>\n",
       "      <td>Don't Let Me Be Lonely Tonight</td>\n",
       "      <td>0CoSDzoNIKCRs124s9uTVy</td>\n",
       "      <td>3</td>\n",
       "      <td>0.952</td>\n",
       "      <td>0.663</td>\n",
       "      <td>170267</td>\n",
       "      <td>0.131</td>\n",
       "      <td>0.000</td>\n",
       "      <td>C</td>\n",
       "      <td>0.1030</td>\n",
       "      <td>-13.879</td>\n",
       "      <td>Minor</td>\n",
       "      <td>0.0362</td>\n",
       "      <td>99.488</td>\n",
       "      <td>5/4</td>\n",
       "      <td>0.368</td>\n",
       "    </tr>\n",
       "    <tr>\n",
       "      <td>3</td>\n",
       "      <td>Movie</td>\n",
       "      <td>Henri Salvador</td>\n",
       "      <td>Dis-moi Monsieur Gordon Cooper</td>\n",
       "      <td>0Gc6TVm52BwZD07Ki6tIvf</td>\n",
       "      <td>0</td>\n",
       "      <td>0.703</td>\n",
       "      <td>0.240</td>\n",
       "      <td>152427</td>\n",
       "      <td>0.326</td>\n",
       "      <td>0.000</td>\n",
       "      <td>C#</td>\n",
       "      <td>0.0985</td>\n",
       "      <td>-12.178</td>\n",
       "      <td>Major</td>\n",
       "      <td>0.0395</td>\n",
       "      <td>171.758</td>\n",
       "      <td>4/4</td>\n",
       "      <td>0.227</td>\n",
       "    </tr>\n",
       "    <tr>\n",
       "      <td>4</td>\n",
       "      <td>Movie</td>\n",
       "      <td>Fabien Nataf</td>\n",
       "      <td>Ouverture</td>\n",
       "      <td>0IuslXpMROHdEPvSl1fTQK</td>\n",
       "      <td>4</td>\n",
       "      <td>0.950</td>\n",
       "      <td>0.331</td>\n",
       "      <td>82625</td>\n",
       "      <td>0.225</td>\n",
       "      <td>0.123</td>\n",
       "      <td>F</td>\n",
       "      <td>0.2020</td>\n",
       "      <td>-21.150</td>\n",
       "      <td>Major</td>\n",
       "      <td>0.0456</td>\n",
       "      <td>140.576</td>\n",
       "      <td>4/4</td>\n",
       "      <td>0.390</td>\n",
       "    </tr>\n",
       "  </tbody>\n",
       "</table>\n",
       "</div>"
      ],
      "text/plain": [
       "   genre        artist_name                        track_name  \\\n",
       "0  Movie     Henri Salvador       C'est beau de faire un Show   \n",
       "1  Movie  Martin & les fées  Perdu d'avance (par Gad Elmaleh)   \n",
       "2  Movie    Joseph Williams    Don't Let Me Be Lonely Tonight   \n",
       "3  Movie     Henri Salvador    Dis-moi Monsieur Gordon Cooper   \n",
       "4  Movie       Fabien Nataf                         Ouverture   \n",
       "\n",
       "                 track_id  popularity  acousticness  danceability  \\\n",
       "0  0BRjO6ga9RKCKjfDqeFgWV           0         0.611         0.389   \n",
       "1  0BjC1NfoEOOusryehmNudP           1         0.246         0.590   \n",
       "2  0CoSDzoNIKCRs124s9uTVy           3         0.952         0.663   \n",
       "3  0Gc6TVm52BwZD07Ki6tIvf           0         0.703         0.240   \n",
       "4  0IuslXpMROHdEPvSl1fTQK           4         0.950         0.331   \n",
       "\n",
       "   duration_ms  energy  instrumentalness key  liveness  loudness   mode  \\\n",
       "0        99373   0.910             0.000  C#    0.3460    -1.828  Major   \n",
       "1       137373   0.737             0.000  F#    0.1510    -5.559  Minor   \n",
       "2       170267   0.131             0.000   C    0.1030   -13.879  Minor   \n",
       "3       152427   0.326             0.000  C#    0.0985   -12.178  Major   \n",
       "4        82625   0.225             0.123   F    0.2020   -21.150  Major   \n",
       "\n",
       "   speechiness    tempo time_signature  valence  \n",
       "0       0.0525  166.969            4/4    0.814  \n",
       "1       0.0868  174.003            4/4    0.816  \n",
       "2       0.0362   99.488            5/4    0.368  \n",
       "3       0.0395  171.758            4/4    0.227  \n",
       "4       0.0456  140.576            4/4    0.390  "
      ]
     },
     "execution_count": 105,
     "metadata": {},
     "output_type": "execute_result"
    }
   ],
   "source": [
    "data.head(5)"
   ]
  },
  {
   "cell_type": "markdown",
   "metadata": {},
   "source": [
    "### Selección de variables dependientes ( x<sub>1 </sub>... x<sub>n </sub>) y Variable objetivo (y)"
   ]
  },
  {
   "cell_type": "markdown",
   "metadata": {},
   "source": [
    "Las variables dependientes serán:\n",
    "- acousticness\n",
    "- danceability\n",
    "- duration_ms\n",
    "- energy\n",
    "- instrumentalness\n",
    "- key\n",
    "- liveness \n",
    "- mode\n",
    "- speechiness\n",
    "- tempo\n",
    "- time_signature\n",
    "- valence\n",
    "- genre\n",
    "\n",
    "La variable objetivo será la popularidad de la canción"
   ]
  },
  {
   "cell_type": "code",
   "execution_count": 106,
   "metadata": {},
   "outputs": [],
   "source": [
    "features = ['acousticness', 'danceability', 'duration_ms', 'energy',\n",
    "       'instrumentalness', 'liveness', 'mode',\n",
    "       'speechiness', 'tempo', 'valence', 'A', 'A#', 'B',\n",
    "       'C', 'C#', 'D', 'D#', 'E', 'F', 'F#', 'G', 'G#', 'A Capella',\n",
    "       'Alternative', 'Anime', 'Blues', \"Children's Music\",\n",
    "       'Classical', 'Comedy', 'Country', 'Dance', 'Electronic', 'Folk',\n",
    "       'Hip-Hop', 'Indie', 'Jazz', 'Movie', 'Opera', 'Pop', 'R&B', 'Rap',\n",
    "       'Reggae', 'Reggaeton', 'Rock', 'Ska', 'Soul', 'Soundtrack', 'World']\n",
    "target = 'popularity'\n",
    "target_classified = 'popularity_class'"
   ]
  },
  {
   "cell_type": "markdown",
   "metadata": {},
   "source": [
    "## Preprocesamiento"
   ]
  },
  {
   "cell_type": "markdown",
   "metadata": {},
   "source": [
    "Antes de la elaboración de los modelos y las prueba de los mismos con diferentes configuraciones, debemos realizar un preoprocesado de los datos, en aquellas columnas que han sido seleccionadas para pertencer a los ejemplos de entrenamiento y no son númericas"
   ]
  },
  {
   "cell_type": "markdown",
   "metadata": {},
   "source": [
    "#### Columna mode"
   ]
  },
  {
   "cell_type": "markdown",
   "metadata": {},
   "source": [
    "Primero comprobaremos los diferentesvalores que tiene la columna"
   ]
  },
  {
   "cell_type": "code",
   "execution_count": 107,
   "metadata": {},
   "outputs": [
    {
     "data": {
      "text/plain": [
       "array(['Major', 'Minor'], dtype=object)"
      ]
     },
     "execution_count": 107,
     "metadata": {},
     "output_type": "execute_result"
    }
   ],
   "source": [
    "data['mode'].unique()"
   ]
  },
  {
   "cell_type": "markdown",
   "metadata": {},
   "source": [
    "Como podemos comprobar la columna solo tiene valores Minor & Major, por ello, se colocará un 0 cuando el valor de la celda sea Minor y un 1 cuando el valor de la celda sea Major."
   ]
  },
  {
   "cell_type": "code",
   "execution_count": 108,
   "metadata": {},
   "outputs": [
    {
     "data": {
      "text/html": [
       "<div>\n",
       "<style scoped>\n",
       "    .dataframe tbody tr th:only-of-type {\n",
       "        vertical-align: middle;\n",
       "    }\n",
       "\n",
       "    .dataframe tbody tr th {\n",
       "        vertical-align: top;\n",
       "    }\n",
       "\n",
       "    .dataframe thead th {\n",
       "        text-align: right;\n",
       "    }\n",
       "</style>\n",
       "<table border=\"1\" class=\"dataframe\">\n",
       "  <thead>\n",
       "    <tr style=\"text-align: right;\">\n",
       "      <th></th>\n",
       "      <th>genre</th>\n",
       "      <th>artist_name</th>\n",
       "      <th>track_name</th>\n",
       "      <th>track_id</th>\n",
       "      <th>popularity</th>\n",
       "      <th>acousticness</th>\n",
       "      <th>danceability</th>\n",
       "      <th>duration_ms</th>\n",
       "      <th>energy</th>\n",
       "      <th>instrumentalness</th>\n",
       "      <th>key</th>\n",
       "      <th>liveness</th>\n",
       "      <th>loudness</th>\n",
       "      <th>mode</th>\n",
       "      <th>speechiness</th>\n",
       "      <th>tempo</th>\n",
       "      <th>time_signature</th>\n",
       "      <th>valence</th>\n",
       "    </tr>\n",
       "  </thead>\n",
       "  <tbody>\n",
       "    <tr>\n",
       "      <td>166753</td>\n",
       "      <td>Rock</td>\n",
       "      <td>Neil Young</td>\n",
       "      <td>Harvest Moon</td>\n",
       "      <td>5l9c6bJmzvftumhz4TMPgk</td>\n",
       "      <td>71</td>\n",
       "      <td>0.5260</td>\n",
       "      <td>0.648</td>\n",
       "      <td>303213</td>\n",
       "      <td>0.3090</td>\n",
       "      <td>0.000249</td>\n",
       "      <td>D</td>\n",
       "      <td>0.124</td>\n",
       "      <td>-12.432</td>\n",
       "      <td>1</td>\n",
       "      <td>0.0264</td>\n",
       "      <td>112.929</td>\n",
       "      <td>4/4</td>\n",
       "      <td>0.4070</td>\n",
       "    </tr>\n",
       "    <tr>\n",
       "      <td>213573</td>\n",
       "      <td>Country</td>\n",
       "      <td>Waylon Jennings</td>\n",
       "      <td>Are You Sure Hank Done It This Way</td>\n",
       "      <td>4eH47ofIZbrbKwmLJSu5hb</td>\n",
       "      <td>56</td>\n",
       "      <td>0.4610</td>\n",
       "      <td>0.834</td>\n",
       "      <td>175440</td>\n",
       "      <td>0.5510</td>\n",
       "      <td>0.135000</td>\n",
       "      <td>E</td>\n",
       "      <td>0.116</td>\n",
       "      <td>-11.130</td>\n",
       "      <td>1</td>\n",
       "      <td>0.0295</td>\n",
       "      <td>113.843</td>\n",
       "      <td>4/4</td>\n",
       "      <td>0.7300</td>\n",
       "    </tr>\n",
       "    <tr>\n",
       "      <td>198657</td>\n",
       "      <td>Soundtrack</td>\n",
       "      <td>Gabriel Yared</td>\n",
       "      <td>Ada Plays</td>\n",
       "      <td>1sOFNCVPPtz4OBRi0PTBFf</td>\n",
       "      <td>42</td>\n",
       "      <td>0.9680</td>\n",
       "      <td>0.252</td>\n",
       "      <td>198160</td>\n",
       "      <td>0.0425</td>\n",
       "      <td>0.935000</td>\n",
       "      <td>D</td>\n",
       "      <td>0.134</td>\n",
       "      <td>-21.916</td>\n",
       "      <td>1</td>\n",
       "      <td>0.0329</td>\n",
       "      <td>79.339</td>\n",
       "      <td>4/4</td>\n",
       "      <td>0.0599</td>\n",
       "    </tr>\n",
       "    <tr>\n",
       "      <td>41287</td>\n",
       "      <td>Folk</td>\n",
       "      <td>Billy Joel</td>\n",
       "      <td>Just the Way You Are</td>\n",
       "      <td>49MHCPzvMLXhRjDantBMVH</td>\n",
       "      <td>67</td>\n",
       "      <td>0.7030</td>\n",
       "      <td>0.589</td>\n",
       "      <td>290573</td>\n",
       "      <td>0.4530</td>\n",
       "      <td>0.000025</td>\n",
       "      <td>G</td>\n",
       "      <td>0.134</td>\n",
       "      <td>-8.912</td>\n",
       "      <td>1</td>\n",
       "      <td>0.0397</td>\n",
       "      <td>139.148</td>\n",
       "      <td>4/4</td>\n",
       "      <td>0.5130</td>\n",
       "    </tr>\n",
       "    <tr>\n",
       "      <td>157424</td>\n",
       "      <td>Ska</td>\n",
       "      <td>Transplants</td>\n",
       "      <td>Not Today</td>\n",
       "      <td>6wgl5m9ORVqAgXIosVcq1F</td>\n",
       "      <td>37</td>\n",
       "      <td>0.0416</td>\n",
       "      <td>0.707</td>\n",
       "      <td>161405</td>\n",
       "      <td>0.9310</td>\n",
       "      <td>0.000000</td>\n",
       "      <td>C#</td>\n",
       "      <td>0.169</td>\n",
       "      <td>-2.806</td>\n",
       "      <td>1</td>\n",
       "      <td>0.0412</td>\n",
       "      <td>104.188</td>\n",
       "      <td>4/4</td>\n",
       "      <td>0.7790</td>\n",
       "    </tr>\n",
       "  </tbody>\n",
       "</table>\n",
       "</div>"
      ],
      "text/plain": [
       "             genre      artist_name                          track_name  \\\n",
       "166753        Rock       Neil Young                        Harvest Moon   \n",
       "213573     Country  Waylon Jennings  Are You Sure Hank Done It This Way   \n",
       "198657  Soundtrack    Gabriel Yared                           Ada Plays   \n",
       "41287         Folk       Billy Joel                Just the Way You Are   \n",
       "157424         Ska      Transplants                           Not Today   \n",
       "\n",
       "                      track_id  popularity  acousticness  danceability  \\\n",
       "166753  5l9c6bJmzvftumhz4TMPgk          71        0.5260         0.648   \n",
       "213573  4eH47ofIZbrbKwmLJSu5hb          56        0.4610         0.834   \n",
       "198657  1sOFNCVPPtz4OBRi0PTBFf          42        0.9680         0.252   \n",
       "41287   49MHCPzvMLXhRjDantBMVH          67        0.7030         0.589   \n",
       "157424  6wgl5m9ORVqAgXIosVcq1F          37        0.0416         0.707   \n",
       "\n",
       "        duration_ms  energy  instrumentalness key  liveness  loudness  mode  \\\n",
       "166753       303213  0.3090          0.000249   D     0.124   -12.432     1   \n",
       "213573       175440  0.5510          0.135000   E     0.116   -11.130     1   \n",
       "198657       198160  0.0425          0.935000   D     0.134   -21.916     1   \n",
       "41287        290573  0.4530          0.000025   G     0.134    -8.912     1   \n",
       "157424       161405  0.9310          0.000000  C#     0.169    -2.806     1   \n",
       "\n",
       "        speechiness    tempo time_signature  valence  \n",
       "166753       0.0264  112.929            4/4   0.4070  \n",
       "213573       0.0295  113.843            4/4   0.7300  \n",
       "198657       0.0329   79.339            4/4   0.0599  \n",
       "41287        0.0397  139.148            4/4   0.5130  \n",
       "157424       0.0412  104.188            4/4   0.7790  "
      ]
     },
     "execution_count": 108,
     "metadata": {},
     "output_type": "execute_result"
    }
   ],
   "source": [
    "data.loc[data['mode'] == 'Minor', 'mode'] = 0\n",
    "data.loc[data['mode'] == 'Major', 'mode'] = 1\n",
    "data.sample(5)"
   ]
  },
  {
   "cell_type": "markdown",
   "metadata": {},
   "source": [
    "#### Columna key"
   ]
  },
  {
   "cell_type": "markdown",
   "metadata": {},
   "source": [
    "Tras leer varios artículos, hemos aprendido que no es bueno que en columna con muchos posibles valores categóricos, transformarla en una columna solo con valores que representen al valor categórico, ya que los algunos modelos asignan mayor importancia a valores más altos, poor ello debemos creearnos columnas de tipo bool con nombres de los valores categóricos y poner un 1 si se trata de este valor categórico y cero en caso contrario, esta técnica se denomina OneHotEncoder. Procedemos a crearlas:"
   ]
  },
  {
   "cell_type": "code",
   "execution_count": 109,
   "metadata": {},
   "outputs": [],
   "source": [
    "lb = LabelBinarizer()\n",
    "data = data.join(pd.DataFrame(lb.fit_transform(data[\"key\"]),columns=lb.classes_,index=data.index))"
   ]
  },
  {
   "cell_type": "markdown",
   "metadata": {},
   "source": [
    "#### Columna Genre"
   ]
  },
  {
   "cell_type": "code",
   "execution_count": 110,
   "metadata": {},
   "outputs": [],
   "source": [
    "lb = LabelBinarizer()\n",
    "data = data.join(pd.DataFrame(lb.fit_transform(data[\"genre\"]),columns=lb.classes_,index=data.index))"
   ]
  },
  {
   "cell_type": "markdown",
   "metadata": {},
   "source": [
    "#### Generar variable objetivo multiclase"
   ]
  },
  {
   "cell_type": "markdown",
   "metadata": {},
   "source": [
    "Previamente, dado que actuamente la variable popularidad es una variable continua deberemos discretizarla,para ello se crearán las siguientes clases:\n",
    "- Alta (2): Popularidad > 70\n",
    "- Popularidad Media (1) : 40 <= Popularidad <= 70\n",
    "- Popularidad Baja (0): Popularidad < 40"
   ]
  },
  {
   "cell_type": "code",
   "execution_count": 11,
   "metadata": {},
   "outputs": [],
   "source": [
    "def label (row):\n",
    "    if row['popularity'] < 40  :\n",
    "        return 0\n",
    "    elif row['popularity'] > 70 :\n",
    "        return 2\n",
    "    return 1"
   ]
  },
  {
   "cell_type": "code",
   "execution_count": 12,
   "metadata": {},
   "outputs": [],
   "source": [
    "data['popularity_class'] = data.apply (lambda row: label(row), axis=1)"
   ]
  },
  {
   "cell_type": "markdown",
   "metadata": {},
   "source": [
    "### Selección conjunto entrenamiento, validación, test"
   ]
  },
  {
   "cell_type": "markdown",
   "metadata": {},
   "source": [
    "A lo largo del proyecto se utilizarán tres conjuntos de datos para la realización de pruebas:\n",
    "- **Entrenamiento**: 70% de las pistas de música\n",
    "- **Validación**: 20% de las pistas de música\n",
    "- **Test**: 10% de las pistas de música"
   ]
  },
  {
   "cell_type": "code",
   "execution_count": 111,
   "metadata": {},
   "outputs": [],
   "source": [
    "data = data.sample(frac=1)"
   ]
  },
  {
   "cell_type": "code",
   "execution_count": 112,
   "metadata": {},
   "outputs": [
    {
     "data": {
      "text/html": [
       "<div>\n",
       "<style scoped>\n",
       "    .dataframe tbody tr th:only-of-type {\n",
       "        vertical-align: middle;\n",
       "    }\n",
       "\n",
       "    .dataframe tbody tr th {\n",
       "        vertical-align: top;\n",
       "    }\n",
       "\n",
       "    .dataframe thead th {\n",
       "        text-align: right;\n",
       "    }\n",
       "</style>\n",
       "<table border=\"1\" class=\"dataframe\">\n",
       "  <thead>\n",
       "    <tr style=\"text-align: right;\">\n",
       "      <th></th>\n",
       "      <th>genre</th>\n",
       "      <th>artist_name</th>\n",
       "      <th>track_name</th>\n",
       "      <th>track_id</th>\n",
       "      <th>popularity</th>\n",
       "      <th>acousticness</th>\n",
       "      <th>danceability</th>\n",
       "      <th>duration_ms</th>\n",
       "      <th>energy</th>\n",
       "      <th>instrumentalness</th>\n",
       "      <th>...</th>\n",
       "      <th>Pop</th>\n",
       "      <th>R&amp;B</th>\n",
       "      <th>Rap</th>\n",
       "      <th>Reggae</th>\n",
       "      <th>Reggaeton</th>\n",
       "      <th>Rock</th>\n",
       "      <th>Ska</th>\n",
       "      <th>Soul</th>\n",
       "      <th>Soundtrack</th>\n",
       "      <th>World</th>\n",
       "    </tr>\n",
       "  </thead>\n",
       "  <tbody>\n",
       "    <tr>\n",
       "      <td>170711</td>\n",
       "      <td>Comedy</td>\n",
       "      <td>Louis Katz</td>\n",
       "      <td>D.A.R.E. &amp; Sex Ed</td>\n",
       "      <td>6slreLCBlVVMw4muDXhsPn</td>\n",
       "      <td>22</td>\n",
       "      <td>0.8140</td>\n",
       "      <td>0.612</td>\n",
       "      <td>180533</td>\n",
       "      <td>0.8920</td>\n",
       "      <td>0.0000</td>\n",
       "      <td>...</td>\n",
       "      <td>0</td>\n",
       "      <td>0</td>\n",
       "      <td>0</td>\n",
       "      <td>0</td>\n",
       "      <td>0</td>\n",
       "      <td>0</td>\n",
       "      <td>0</td>\n",
       "      <td>0</td>\n",
       "      <td>0</td>\n",
       "      <td>0</td>\n",
       "    </tr>\n",
       "    <tr>\n",
       "      <td>21341</td>\n",
       "      <td>Dance</td>\n",
       "      <td>Nicki Minaj</td>\n",
       "      <td>The Crying Game</td>\n",
       "      <td>4OgSKgxZqty3qQMtKU44Ah</td>\n",
       "      <td>46</td>\n",
       "      <td>0.0686</td>\n",
       "      <td>0.600</td>\n",
       "      <td>265227</td>\n",
       "      <td>0.5050</td>\n",
       "      <td>0.0263</td>\n",
       "      <td>...</td>\n",
       "      <td>0</td>\n",
       "      <td>0</td>\n",
       "      <td>0</td>\n",
       "      <td>0</td>\n",
       "      <td>0</td>\n",
       "      <td>0</td>\n",
       "      <td>0</td>\n",
       "      <td>0</td>\n",
       "      <td>0</td>\n",
       "      <td>0</td>\n",
       "    </tr>\n",
       "    <tr>\n",
       "      <td>199080</td>\n",
       "      <td>Soundtrack</td>\n",
       "      <td>Max Richter</td>\n",
       "      <td>Summer 2</td>\n",
       "      <td>6t2EkCZnvylR82FbHTA3eg</td>\n",
       "      <td>38</td>\n",
       "      <td>0.1070</td>\n",
       "      <td>0.195</td>\n",
       "      <td>239333</td>\n",
       "      <td>0.2020</td>\n",
       "      <td>0.8060</td>\n",
       "      <td>...</td>\n",
       "      <td>0</td>\n",
       "      <td>0</td>\n",
       "      <td>0</td>\n",
       "      <td>0</td>\n",
       "      <td>0</td>\n",
       "      <td>0</td>\n",
       "      <td>0</td>\n",
       "      <td>0</td>\n",
       "      <td>1</td>\n",
       "      <td>0</td>\n",
       "    </tr>\n",
       "    <tr>\n",
       "      <td>126491</td>\n",
       "      <td>Classical</td>\n",
       "      <td>Antonio Vivaldi</td>\n",
       "      <td>Vivaldi: Violin Concerto in E Major, RV 269 \"L...</td>\n",
       "      <td>2qgO0N6UBmitUik8nW19zz</td>\n",
       "      <td>41</td>\n",
       "      <td>0.8500</td>\n",
       "      <td>0.295</td>\n",
       "      <td>248733</td>\n",
       "      <td>0.0968</td>\n",
       "      <td>0.9340</td>\n",
       "      <td>...</td>\n",
       "      <td>0</td>\n",
       "      <td>0</td>\n",
       "      <td>0</td>\n",
       "      <td>0</td>\n",
       "      <td>0</td>\n",
       "      <td>0</td>\n",
       "      <td>0</td>\n",
       "      <td>0</td>\n",
       "      <td>0</td>\n",
       "      <td>0</td>\n",
       "    </tr>\n",
       "    <tr>\n",
       "      <td>48896</td>\n",
       "      <td>Blues</td>\n",
       "      <td>The Allman Brothers Band</td>\n",
       "      <td>Les Brers In A Minor</td>\n",
       "      <td>1Ir0qn7wNZ636Q4WUHKZZp</td>\n",
       "      <td>36</td>\n",
       "      <td>0.0245</td>\n",
       "      <td>0.314</td>\n",
       "      <td>547063</td>\n",
       "      <td>0.5670</td>\n",
       "      <td>0.8040</td>\n",
       "      <td>...</td>\n",
       "      <td>0</td>\n",
       "      <td>0</td>\n",
       "      <td>0</td>\n",
       "      <td>0</td>\n",
       "      <td>0</td>\n",
       "      <td>0</td>\n",
       "      <td>0</td>\n",
       "      <td>0</td>\n",
       "      <td>0</td>\n",
       "      <td>0</td>\n",
       "    </tr>\n",
       "  </tbody>\n",
       "</table>\n",
       "<p>5 rows × 57 columns</p>\n",
       "</div>"
      ],
      "text/plain": [
       "             genre               artist_name  \\\n",
       "170711      Comedy                Louis Katz   \n",
       "21341        Dance               Nicki Minaj   \n",
       "199080  Soundtrack               Max Richter   \n",
       "126491   Classical           Antonio Vivaldi   \n",
       "48896        Blues  The Allman Brothers Band   \n",
       "\n",
       "                                               track_name  \\\n",
       "170711                                  D.A.R.E. & Sex Ed   \n",
       "21341                                     The Crying Game   \n",
       "199080                                           Summer 2   \n",
       "126491  Vivaldi: Violin Concerto in E Major, RV 269 \"L...   \n",
       "48896                                Les Brers In A Minor   \n",
       "\n",
       "                      track_id  popularity  acousticness  danceability  \\\n",
       "170711  6slreLCBlVVMw4muDXhsPn          22        0.8140         0.612   \n",
       "21341   4OgSKgxZqty3qQMtKU44Ah          46        0.0686         0.600   \n",
       "199080  6t2EkCZnvylR82FbHTA3eg          38        0.1070         0.195   \n",
       "126491  2qgO0N6UBmitUik8nW19zz          41        0.8500         0.295   \n",
       "48896   1Ir0qn7wNZ636Q4WUHKZZp          36        0.0245         0.314   \n",
       "\n",
       "        duration_ms  energy  instrumentalness  ... Pop  R&B  Rap  Reggae  \\\n",
       "170711       180533  0.8920            0.0000  ...   0    0    0       0   \n",
       "21341        265227  0.5050            0.0263  ...   0    0    0       0   \n",
       "199080       239333  0.2020            0.8060  ...   0    0    0       0   \n",
       "126491       248733  0.0968            0.9340  ...   0    0    0       0   \n",
       "48896        547063  0.5670            0.8040  ...   0    0    0       0   \n",
       "\n",
       "        Reggaeton  Rock Ska  Soul  Soundtrack  World  \n",
       "170711          0     0   0     0           0      0  \n",
       "21341           0     0   0     0           0      0  \n",
       "199080          0     0   0     0           1      0  \n",
       "126491          0     0   0     0           0      0  \n",
       "48896           0     0   0     0           0      0  \n",
       "\n",
       "[5 rows x 57 columns]"
      ]
     },
     "execution_count": 112,
     "metadata": {},
     "output_type": "execute_result"
    }
   ],
   "source": [
    "data.sample(5)"
   ]
  },
  {
   "cell_type": "code",
   "execution_count": 113,
   "metadata": {},
   "outputs": [],
   "source": [
    "train = data[:int(data.shape[0] * 0.7)]\n",
    "val = data[int(data.shape[0] * 0.7):int(data.shape[0] * 0.9)]\n",
    "test = data[int(data.shape[0] * 0.9):]"
   ]
  },
  {
   "cell_type": "code",
   "execution_count": 114,
   "metadata": {},
   "outputs": [
    {
     "name": "stdout",
     "output_type": "stream",
     "text": [
      "La estructura del dataframe de Test es (162907, 57)\n",
      "La estructura del dataframe de Test es (46545, 57)\n",
      "La estructura del dataframe de Test es (23273, 57)\n"
     ]
    }
   ],
   "source": [
    "print('La estructura del dataframe de Test es {}'.format(train.shape))\n",
    "print('La estructura del dataframe de Test es {}'.format(val.shape))\n",
    "print('La estructura del dataframe de Test es {}'.format(test.shape))"
   ]
  },
  {
   "cell_type": "markdown",
   "metadata": {},
   "source": [
    "## Regresión Lineal"
   ]
  },
  {
   "cell_type": "markdown",
   "metadata": {},
   "source": [
    "- Separamos datos en entrenamiento, validación y test\n",
    "- Normalizamos datos\n",
    "- Averiguamos coste y thethas optimas (linearCostGrad y después optimize)\n",
    "- ¿Se usa la funcion optimice de scipy (como en la practica 5 de Regresión Lineal Regularizada)? ¿O se hace todo con nuestro código como en la práctica 1?\n",
    "- Pintamos error en datos de entrenamiento y de validación.\n",
    "- Elegimos parámetro de regularización.\n",
    "- Creamos modelo.\n"
   ]
  },
  {
   "cell_type": "code",
   "execution_count": 15,
   "metadata": {},
   "outputs": [],
   "source": [
    "def cost(thetas, X, Y, reg=0):\n",
    "    m = X.shape[0]\n",
    "    H = np.dot(X, thetas)\n",
    "    cost = (1/(2*m)) * np.sum((H-Y.T)**2) + ( reg / (2 * m) ) * np.sum(thetas[1:]**2)\n",
    "    return cost\n",
    "\n",
    "def gradient(thetas, X, Y, reg=0):\n",
    "    tt = np.copy(thetas)\n",
    "    tt[0]=0\n",
    "    m = X.shape[0]\n",
    "    H = np.dot(X, thetas)\n",
    "    gradient = ((1 / m) * np.dot(H-Y.T,X)) + ((reg/m) * tt)\n",
    "    return gradient\n",
    "\n",
    "def linearCostGrad(thetas,X,Y,reg=0):\n",
    "    return (cost(thetas,X,Y,reg),gradient(thetas,X,Y).flatten())"
   ]
  },
  {
   "cell_type": "markdown",
   "metadata": {},
   "source": [
    "### Separamos en datos de entrenamiento, validación y test"
   ]
  },
  {
   "cell_type": "code",
   "execution_count": 16,
   "metadata": {},
   "outputs": [],
   "source": [
    "X_train = np.array(train[features])\n",
    "Y_train = np.array(train[target])\n",
    "X_val = np.array(val[features])\n",
    "Y_val = np.array(val[target])\n",
    "X_test = np.array(test[features])\n",
    "Y_test = np.array(test[target])"
   ]
  },
  {
   "cell_type": "markdown",
   "metadata": {},
   "source": [
    "### Inicializamos las Thetas"
   ]
  },
  {
   "cell_type": "code",
   "execution_count": 19,
   "metadata": {},
   "outputs": [],
   "source": [
    "thetas = np.ones(X_train.shape[1])\n",
    "initial_thetas = np.zeros(X_train.shape[1])"
   ]
  },
  {
   "cell_type": "code",
   "execution_count": 20,
   "metadata": {},
   "outputs": [
    {
     "data": {
      "text/plain": [
       "(34703085310.589905,\n",
       " array([8.70468181e+04, 1.27683370e+05, 6.93870965e+10, 1.33388897e+05,\n",
       "        3.76457939e+04, 5.11576353e+04, 1.52595463e+05, 2.80769639e+04,\n",
       "        2.75809964e+07, 1.02710879e+05, 2.30772385e+04, 1.57819118e+04,\n",
       "        1.78991442e+04, 2.79053719e+04, 2.34181326e+04, 2.44051609e+04,\n",
       "        7.63845698e+03, 1.79341709e+04, 2.05147485e+04, 1.52717064e+04,\n",
       "        2.61975278e+04, 1.52250584e+04, 1.00749225e+02, 9.36895433e+03,\n",
       "        8.80615789e+03, 9.70050582e+03, 3.32186883e+03, 1.24600402e+04,\n",
       "        9.92596317e+03, 8.07827185e+03, 8.43125082e+03, 1.09020595e+04,\n",
       "        9.36498310e+03, 8.90895611e+03, 9.14978536e+03, 1.07085321e+04,\n",
       "        7.00031590e+03, 9.20839735e+03, 8.93837081e+03, 8.74958116e+03,\n",
       "        8.70468605e+03, 9.01048119e+03, 8.76659354e+03, 9.48522316e+03,\n",
       "        7.32502558e+03, 9.15743745e+03, 7.92070982e+03, 1.23697972e+04]))"
      ]
     },
     "execution_count": 20,
     "metadata": {},
     "output_type": "execute_result"
    }
   ],
   "source": [
    "linearCostGrad(thetas,X_train,Y_train)"
   ]
  },
  {
   "cell_type": "markdown",
   "metadata": {},
   "source": [
    "### Obtenemos las Thetas optimas"
   ]
  },
  {
   "cell_type": "code",
   "execution_count": 21,
   "metadata": {},
   "outputs": [],
   "source": [
    "thetas_opt = optimize.minimize(fun=linearCostGrad,\n",
    "                       x0=initial_thetas,\n",
    "                       args=(X_train,Y_train),\n",
    "                       method='TNC',\n",
    "                       jac=True).x"
   ]
  },
  {
   "cell_type": "code",
   "execution_count": 22,
   "metadata": {},
   "outputs": [
    {
     "data": {
      "text/plain": [
       "array([ 2.99453651e-01,  2.66871448e+00,  1.05015715e-06,  1.69970335e+00,\n",
       "       -1.62351334e+00, -2.64966957e+00, -2.79610261e-01, -4.38819243e+00,\n",
       "       -1.85205296e-03, -1.57882409e+00,  5.37108555e+01,  5.37716447e+01,\n",
       "        5.38423676e+01,  5.37512232e+01,  5.38671974e+01,  5.38463134e+01,\n",
       "        5.39581172e+01,  5.38564238e+01,  5.39424749e+01,  5.41843240e+01,\n",
       "        5.38697510e+01,  5.39974636e+01, -4.47723853e+01, -4.50089116e+00,\n",
       "       -2.99812207e+01, -1.96038012e+01, -4.96189828e+01, -2.38719258e+01,\n",
       "       -2.89743083e+01, -8.76425683e+00,  2.36651083e+00, -1.64110621e+01,\n",
       "       -4.65598575e+00,  3.80913631e+00, -1.75132786e-03, -1.33666007e+01,\n",
       "       -4.17416610e+01, -4.02390548e+01,  1.17082886e+01, -2.52281804e+00,\n",
       "        5.88674509e+00, -1.88863585e+01, -1.70649569e+01,  4.94713117e+00,\n",
       "       -2.55679654e+01, -7.62120838e+00, -1.89981067e+01, -1.87921165e+01])"
      ]
     },
     "execution_count": 22,
     "metadata": {},
     "output_type": "execute_result"
    }
   ],
   "source": [
    "thetas_opt"
   ]
  },
  {
   "cell_type": "code",
   "execution_count": 23,
   "metadata": {},
   "outputs": [
    {
     "data": {
      "text/plain": [
       "(45.8338304074522,\n",
       " array([ 4.99871792e-04,  5.14964614e-05,  1.46475139e-08, -6.54580347e-05,\n",
       "         2.42944613e-04,  1.28124869e-04, -5.32618433e-04, -4.34375396e-05,\n",
       "         5.05693291e-06, -7.41110075e-05, -2.06278857e-04, -1.05731230e-04,\n",
       "        -1.53242541e-04, -3.97004441e-04, -2.49962241e-04, -2.38914991e-04,\n",
       "        -5.10357378e-05, -1.40958203e-04, -1.27482742e-04, -1.49844700e-04,\n",
       "        -6.86890498e-05, -2.51277138e-04, -7.68463969e-05, -1.18786027e-04,\n",
       "        -8.34879555e-05, -3.34238114e-05,  6.75183880e-05,  2.20827380e-04,\n",
       "         3.00674870e-04, -1.33841286e-04, -1.07302174e-04, -1.12674752e-04,\n",
       "        -2.20406214e-05, -4.04579621e-05, -7.02314750e-05,  1.19506172e-04,\n",
       "        -6.89621936e-05,  1.06660927e-04, -8.66139870e-05, -3.40536524e-05,\n",
       "        -5.44279466e-05, -4.04975650e-05, -7.88288311e-05, -1.18273787e-04,\n",
       "        -9.91769051e-05, -4.29565129e-05,  3.52227576e-05, -1.84955576e-04]))"
      ]
     },
     "execution_count": 23,
     "metadata": {},
     "output_type": "execute_result"
    }
   ],
   "source": [
    "linearCostGrad(thetas_opt,X_train,Y_train)"
   ]
  },
  {
   "cell_type": "markdown",
   "metadata": {},
   "source": [
    "### Curva de aprendizaje"
   ]
  },
  {
   "cell_type": "markdown",
   "metadata": {},
   "source": [
    "Primero, realizamos una curva de aprendizaje para conocer a partir de qué número de ejemplos, dejamos de obtener una mejora sustancial en la precisión del modelo:"
   ]
  },
  {
   "cell_type": "code",
   "execution_count": 25,
   "metadata": {},
   "outputs": [
    {
     "data": {
      "text/plain": [
       "Text(0.5, 1.0, 'Evolución del coste')"
      ]
     },
     "execution_count": 25,
     "metadata": {},
     "output_type": "execute_result"
    },
    {
     "data": {
      "image/png": "[encoded data removed]",
      "text/plain": [
       "<Figure size 1440x576 with 1 Axes>"
      ]
     },
     "metadata": {
      "needs_background": "light"
     },
     "output_type": "display_data"
    }
   ],
   "source": [
    "errors_train =  []\n",
    "errors_val = []\n",
    "sizes = [100,500,1000,2000,3000,4000,5000,10000,50000,100000,150000,162907]\n",
    "\n",
    "for size in sizes:\n",
    "    #Get new sets\n",
    "    new_train = train[:size]\n",
    "    new_val = val\n",
    "    X_train_local = np.array(new_train[features])\n",
    "    Y_train_local = np.array(new_train[target])\n",
    "    X_val_local = np.array(new_val[features])\n",
    "    Y_val_local = np.array(new_val[target])\n",
    "    \n",
    "    \n",
    "    #Train with this size\n",
    "    initial_thetas = np.zeros(X_train.shape[1])\n",
    "    thetas = optimize.minimize(fun=linearCostGrad,\n",
    "                                   x0=initial_thetas,\n",
    "                                   args=(X_train_local,Y_train_local),\n",
    "                                   method='TNC',\n",
    "                                   jac=True).x\n",
    "    \n",
    "    \n",
    "    #Get error\n",
    "    errors_train.append(cost(thetas,X_train_local,Y_train_local))\n",
    "    errors_val.append(cost(thetas,X_val_local,Y_val_local))\n",
    "\n",
    "plt.figure(figsize=(20,8))\n",
    "plt.plot(sizes,errors_train, color=\"blue\")\n",
    "plt.plot(sizes,errors_val, color=\"orange\")\n",
    "plt.legend(['train', 'val'])\n",
    "plt.ylabel('Error')\n",
    "plt.xlabel('Número de ejemplos')\n",
    "plt.title(\"Evolución del coste\")"
   ]
  },
  {
   "cell_type": "markdown",
   "metadata": {},
   "source": [
    "Como podemos observar, con 50.000 datos de entrenamiento ambos conjuntos convergen por lo que no interesaría introducir más datos para intentar aumentar la precisión. Tras esto crearemos una curva de validación para determinar el mejor hiperparámetro reg, utilizando el conjunto de entrenamiento con el tamaño de 50.000 ejemplos"
   ]
  },
  {
   "cell_type": "markdown",
   "metadata": {},
   "source": [
    "### Curva de validación"
   ]
  },
  {
   "cell_type": "code",
   "execution_count": 26,
   "metadata": {},
   "outputs": [
    {
     "data": {
      "text/plain": [
       "<matplotlib.legend.Legend at 0x1bd516efef0>"
      ]
     },
     "execution_count": 26,
     "metadata": {},
     "output_type": "execute_result"
    },
    {
     "data": {
      "image/png": "[encoded data removed]",
      "text/plain": [
       "<Figure size 432x288 with 1 Axes>"
      ]
     },
     "metadata": {
      "needs_background": "light"
     },
     "output_type": "display_data"
    }
   ],
   "source": [
    "reg =[0, 0.01, 0.1, 0.5, 1, 5, 10]\n",
    "errors_train = []\n",
    "errors_val = []\n",
    "\n",
    "for i in reg:\n",
    "    initial_thetas = np.zeros(X_train.shape[1])\n",
    "    thetas = optimize.minimize(fun=linearCostGrad,\n",
    "               x0=initial_thetas,\n",
    "               args=(X_train,Y_train,i),\n",
    "               method='TNC',\n",
    "               jac=True).x\n",
    "\n",
    "    errors_train.append(cost(thetas,X_train[:50000],Y_train[:50000],0))\n",
    "    errors_val.append(cost(thetas,X_val,Y_val,0))\n",
    "\n",
    "plt.plot(reg,errors_train, label='Train')\n",
    "plt.plot(reg,errors_val, label='CrossVal')\n",
    "plt.ylabel('Error')\n",
    "plt.xlabel('Término de regularización')\n",
    "plt.legend()"
   ]
  },
  {
   "cell_type": "markdown",
   "metadata": {},
   "source": [
    "Aunque tiene una mejora prácticamente nula, se puede ver que el mejor valor es sin término de regularización."
   ]
  },
  {
   "cell_type": "markdown",
   "metadata": {},
   "source": [
    "Probamos en los datos \"test\" con la mejor configuración obtenida."
   ]
  },
  {
   "cell_type": "code",
   "execution_count": 27,
   "metadata": {},
   "outputs": [
    {
     "data": {
      "text/plain": [
       "(46.884648074815054,\n",
       " array([ 2.35118590e-02,  5.36124517e-02,  2.84992374e+04,  4.87465219e-02,\n",
       "         4.28033507e-03,  7.87433057e-03,  4.66343898e-02,  1.10109260e-02,\n",
       "         8.11912707e+00,  2.75074429e-02,  1.99177668e-02, -1.54242367e-02,\n",
       "         2.17565201e-02,  2.83411973e-02, -1.15422705e-02,  7.97334880e-03,\n",
       "         4.91227481e-04, -1.79693830e-02,  3.45628591e-02,  1.37315009e-02,\n",
       "        -1.92833027e-02,  1.82504930e-02,  4.56784980e-04, -5.27603720e-03,\n",
       "         1.37060638e-02, -8.59079952e-03,  8.77716254e-03,  2.41451886e-02,\n",
       "         3.80127614e-03, -1.64664001e-02,  1.36921287e-03,  9.60210661e-03,\n",
       "         1.16082469e-03, -6.18699645e-03, -1.55010562e-03,  1.45926338e-03,\n",
       "        -1.53044903e-02, -4.30988552e-03,  2.26427481e-03, -8.67153612e-03,\n",
       "         1.66594994e-03,  2.40148996e-03,  3.47049209e-02,  5.72756010e-03,\n",
       "         8.57179356e-03,  2.27075023e-02, -2.24639409e-04, -7.88811764e-03]))"
      ]
     },
     "execution_count": 27,
     "metadata": {},
     "output_type": "execute_result"
    }
   ],
   "source": [
    "initial_thetas = np.zeros(X_train.shape[1])\n",
    "thetas = optimize.minimize(fun=linearCostGrad,\n",
    "                           x0=initial_thetas,\n",
    "                           args=(X_train[:50000],Y_train[:50000],0),\n",
    "                           method='TNC',\n",
    "                           jac=True).x\n",
    "linearCostGrad(thetas_opt,X_test,Y_test)"
   ]
  },
  {
   "cell_type": "markdown",
   "metadata": {},
   "source": [
    "La mejor configuración obtenida es utilizar 50.000 ejemplos del conjunto de entrenamiento y utilizar como parámtro de regularización = 0, obteniendo un error de 46.8"
   ]
  },
  {
   "cell_type": "markdown",
   "metadata": {},
   "source": [
    "## Regresión Lineal de Scikit-learn"
   ]
  },
  {
   "cell_type": "markdown",
   "metadata": {},
   "source": [
    "En este apartado se realizarán pruebas con el algorítmo de Regresión Lineal de la librería de scikit-learn. Primero entrenaremos con los datos de entrenamiento, para después obtener obtendremos el porcentaje de precisión sobre los datos de validación y tras ello se aplicarán diferentes configuraciones, para finalmente realizar predicciones sobre el tercer conjunto de datos, Test."
   ]
  },
  {
   "cell_type": "code",
   "execution_count": 115,
   "metadata": {},
   "outputs": [
    {
     "name": "stdout",
     "output_type": "stream",
     "text": [
      "La precisión sobre los datos de validación es: 71.94061702866178 % \n"
     ]
    }
   ],
   "source": [
    "model = LinearRegression()\n",
    "model.fit(X=X_train, y=Y_train)\n",
    "print(\"La precisión sobre los datos de validación es: {} % \".format(model.score(X_val, Y_val) * 100))"
   ]
  },
  {
   "cell_type": "markdown",
   "metadata": {},
   "source": [
    "### Curva de aprendizaje"
   ]
  },
  {
   "cell_type": "code",
   "execution_count": 116,
   "metadata": {},
   "outputs": [
    {
     "data": {
      "text/plain": [
       "Text(0.5, 1.0, 'Evolución de la precisión')"
      ]
     },
     "execution_count": 116,
     "metadata": {},
     "output_type": "execute_result"
    },
    {
     "data": {
      "image/png": "[encoded data removed]",
      "text/plain": [
       "<Figure size 1440x576 with 1 Axes>"
      ]
     },
     "metadata": {
      "needs_background": "light"
     },
     "output_type": "display_data"
    }
   ],
   "source": [
    "acc_train =  []\n",
    "acc_val = []\n",
    "sizes = [100,500,1000,2000,3000,4000,5000,10000,50000,100000,150000,162907]\n",
    "\n",
    "for size in sizes:\n",
    "    #Get new sets\n",
    "    new_train = train[:size]\n",
    "    new_val = val\n",
    "    X_train_local = np.array(new_train[features])\n",
    "    Y_train_local = np.array(new_train[target])\n",
    "    X_val_local = np.array(new_val[features])\n",
    "    Y_val_local = np.array(new_val[target])\n",
    "    \n",
    "    model = LinearRegression()\n",
    "    model.fit(X=X_train_local, y=Y_train_local, sample_weight=size)\n",
    "    \n",
    "    \n",
    "    #Get error\n",
    "    acc_train.append(model.score(X_train_local, Y_train_local))\n",
    "    acc_val.append(model.score(X_val_local, Y_val_local))\n",
    "\n",
    "plt.figure(figsize=(20,8))\n",
    "plt.plot(sizes,acc_train, color=\"blue\")\n",
    "plt.plot(sizes,acc_val, color=\"orange\")\n",
    "plt.legend(['train', 'val'])\n",
    "plt.ylabel('Accuracy')\n",
    "plt.xlabel('Número de ejemplos')\n",
    "plt.title(\"Evolución de la precisión\")"
   ]
  },
  {
   "cell_type": "markdown",
   "metadata": {},
   "source": [
    "Como podemos observar, al igual que con el algorítmo realizado por nosotros, con 50.000 datos de entrenamiento ambos conjuntos convergen por lo que no interesaría introducir más datos para intentar aumentar la precisión. Tras esto crearemos una curva de validación para determinar el mejor hiperparámetro reg, utilizando el conjunto de entrenamiento con el tamaño de 50.000 ejemplos"
   ]
  },
  {
   "cell_type": "markdown",
   "metadata": {},
   "source": [
    "### Curvas de validación"
   ]
  },
  {
   "cell_type": "markdown",
   "metadata": {},
   "source": [
    "Para realizar regresión lineal con regularización, utilizaremos Ridge Regression de Scikit-learn"
   ]
  },
  {
   "cell_type": "code",
   "execution_count": 117,
   "metadata": {},
   "outputs": [
    {
     "data": {
      "text/plain": [
       "<matplotlib.legend.Legend at 0x7fecc935bf50>"
      ]
     },
     "execution_count": 117,
     "metadata": {},
     "output_type": "execute_result"
    },
    {
     "data": {
      "image/png": "[encoded data removed]",
      "text/plain": [
       "<Figure size 432x288 with 1 Axes>"
      ]
     },
     "metadata": {
      "needs_background": "light"
     },
     "output_type": "display_data"
    }
   ],
   "source": [
    "reg =[0.001, 0.01, 0.1, 1, 2]\n",
    "acc_train = []\n",
    "acc_val = []\n",
    "\n",
    "for i in reg:\n",
    "    model = None\n",
    "    model = Ridge(alpha=i)\n",
    "    model.fit(X=X_train, y=Y_train, sample_weight=50000)\n",
    "    \n",
    "    #Get error\n",
    "    acc_train.append(model.score(X_train, Y_train))\n",
    "    acc_val.append(model.score(X_val, Y_val))\n",
    "\n",
    "plt.plot(reg,acc_train, label='Train')\n",
    "plt.plot(reg,acc_val, label='CrossVal')\n",
    "plt.ylabel('Accuracy')\n",
    "plt.xlabel('Término de regularización')\n",
    "plt.legend()"
   ]
  },
  {
   "cell_type": "markdown",
   "metadata": {},
   "source": [
    "Nos quedamos con la mejor configuración, sin parámetro de regularización.\n",
    "Y comprobamos con los datos de Test."
   ]
  },
  {
   "cell_type": "code",
   "execution_count": 118,
   "metadata": {},
   "outputs": [
    {
     "data": {
      "text/plain": [
       "0.7227773629331583"
      ]
     },
     "execution_count": 118,
     "metadata": {},
     "output_type": "execute_result"
    }
   ],
   "source": [
    "model = LinearRegression()\n",
    "model.fit(X=X_train, y=Y_train, sample_weight=50000)\n",
    "model.score(X_test, Y_test)"
   ]
  },
  {
   "cell_type": "markdown",
   "metadata": {},
   "source": [
    "## Regresión Logística"
   ]
  },
  {
   "cell_type": "markdown",
   "metadata": {},
   "source": [
    "Previamente, dado que actuamente la variable popularidad es una variable continua deberemos discretizarla,para ello se escogerá la columna 'popularity class' como variable objetivo donde:\n",
    "- Alta (2): Popularidad > 70\n",
    "- Popularidad Media (1) : 40 <= Popularidad <= 70\n",
    "- Popularidad Baja (0): Popularidad < 40"
   ]
  },
  {
   "cell_type": "code",
   "execution_count": 28,
   "metadata": {},
   "outputs": [],
   "source": [
    "X_train = np.array(train[features])\n",
    "Y_train = np.array(train[target_classified])\n",
    "X_val = np.array(val[features])\n",
    "Y_val = np.array(val[target_classified])\n",
    "X_test = np.array(test[features])\n",
    "Y_test = np.array(test[target_classified])"
   ]
  },
  {
   "cell_type": "markdown",
   "metadata": {},
   "source": [
    "### Regresión Logística Implementada"
   ]
  },
  {
   "cell_type": "markdown",
   "metadata": {},
   "source": [
    "Probaremos la precisión obtenida con la implementación realziada en las prácticas"
   ]
  },
  {
   "cell_type": "code",
   "execution_count": 29,
   "metadata": {},
   "outputs": [],
   "source": [
    "log_reg = OurLogisticRegression(num_features=X_train.shape[1],num_labels=3)"
   ]
  },
  {
   "cell_type": "code",
   "execution_count": 30,
   "metadata": {},
   "outputs": [],
   "source": [
    "log_reg.fit(X=X_train, Y=Y_train)"
   ]
  },
  {
   "cell_type": "code",
   "execution_count": 31,
   "metadata": {},
   "outputs": [
    {
     "data": {
      "text/plain": [
       "83.20120313674938"
      ]
     },
     "execution_count": 31,
     "metadata": {},
     "output_type": "execute_result"
    }
   ],
   "source": [
    "log_reg.score(Y_val,log_reg.predict(X_val))"
   ]
  },
  {
   "cell_type": "markdown",
   "metadata": {},
   "source": [
    "En esta primera prueba hemos obtenido una precisión del 83%, para estudiar distintas configuraciones aplicaremos curvas de validación, con el objetivo de ver cual es el mejor hiperparámetro reg"
   ]
  },
  {
   "cell_type": "markdown",
   "metadata": {},
   "source": [
    "#### Curva de aprendizaje"
   ]
  },
  {
   "cell_type": "code",
   "execution_count": 33,
   "metadata": {},
   "outputs": [
    {
     "data": {
      "text/plain": [
       "Text(0.5, 1.0, 'Evolución de la precisión')"
      ]
     },
     "execution_count": 33,
     "metadata": {},
     "output_type": "execute_result"
    },
    {
     "data": {
      "image/png": "[encoded data removed]",
      "text/plain": [
       "<Figure size 1440x576 with 1 Axes>"
      ]
     },
     "metadata": {
      "needs_background": "light"
     },
     "output_type": "display_data"
    }
   ],
   "source": [
    "sizes = [100,500,1000,2000,3000,4000,5000,10000,50000,100000,150000,162907]\n",
    "acc_train_list = []\n",
    "acc_val_list = []\n",
    "\n",
    "for size in sizes:\n",
    "    \n",
    "    #Get new sets\n",
    "    new_train = train[:size]\n",
    "    new_val = val \n",
    "    X_train_local = np.array(new_train[features])\n",
    "    Y_train_local = np.array(new_train[target_classified])\n",
    "    X_val_local = np.array(new_val[features])\n",
    "    Y_val_local = np.array(new_val[target_classified])\n",
    "    \n",
    "    #Train with this size\n",
    "    log_reg = OurLogisticRegression(num_features=X_train_local.shape[1],num_labels=3)\n",
    "    log_reg.fit(X_train_local, Y_train_local)\n",
    "    #Get acc\n",
    "    acc_train = log_reg.score(Y_train_local,log_reg.predict(X_train_local))\n",
    "    acc_val = log_reg.score(Y_val_local,log_reg.predict(X_val_local))\n",
    "    acc_train_list.append(acc_train)\n",
    "    acc_val_list.append(acc_val)\n",
    "\n",
    "plt.figure(figsize=(20,8))\n",
    "plt.plot(sizes,acc_train_list, color=\"blue\")\n",
    "plt.plot(sizes,acc_val_list, color=\"orange\")\n",
    "plt.legend(['train', 'val'])\n",
    "plt.ylabel('accuracy')\n",
    "plt.xlabel('Número de ejemplos')\n",
    "plt.title(\"Evolución de la precisión\")"
   ]
  },
  {
   "cell_type": "markdown",
   "metadata": {},
   "source": [
    "Como podemos observar en las gráficas anteriores a partir de conjutnos de entrenamiento de 50.000 elementos comienzan a converger la precisión en validación y entrenamiento, por lo que no interesaría introducir más datos y estudiar el modelo con esos tamaños."
   ]
  },
  {
   "cell_type": "markdown",
   "metadata": {},
   "source": [
    "#### Curvas de validación"
   ]
  },
  {
   "cell_type": "markdown",
   "metadata": {},
   "source": [
    "Comprobamos como evoluciona la precisión en función del parámetro de regualrización:\n",
    "    "
   ]
  },
  {
   "cell_type": "code",
   "execution_count": 35,
   "metadata": {},
   "outputs": [
    {
     "data": {
      "text/plain": [
       "Text(0.5, 1.0, 'Evolución de la precisión en función de la regularización')"
      ]
     },
     "execution_count": 35,
     "metadata": {},
     "output_type": "execute_result"
    },
    {
     "data": {
      "image/png": "[encoded data removed]",
      "text/plain": [
       "<Figure size 432x288 with 1 Axes>"
      ]
     },
     "metadata": {
      "needs_background": "light"
     },
     "output_type": "display_data"
    }
   ],
   "source": [
    "regs = [0, 0.01, 0.03, 0.1, 0.3, 1, 3, 5, 8, 10]\n",
    "acc_train_list = []\n",
    "acc_val_list = []\n",
    "for reg in regs:\n",
    "    log_reg = OurLogisticRegression(num_features=X_train.shape[1],num_labels=3,reg=reg)\n",
    "    log_reg.fit(X=X_train[:50000], Y=Y_train[:50000])\n",
    "    acc_train = log_reg.score(Y_train,log_reg.predict(X_train))\n",
    "    acc_val = log_reg.score(Y_val,log_reg.predict(X_val))\n",
    "    acc_train_list.append(acc_train)\n",
    "    acc_val_list.append(acc_val)\n",
    "\n",
    "plt.plot(regs,acc_train_list, color=\"blue\")\n",
    "plt.plot(regs,acc_val_list, color=\"orange\")\n",
    "plt.legend(['train', 'val'])\n",
    "plt.ylabel('accuracy')\n",
    "plt.xlabel('Reg param')\n",
    "plt.title(\"Evolución de la precisión en función de la regularización\")"
   ]
  },
  {
   "cell_type": "markdown",
   "metadata": {},
   "source": [
    "Se ha escogido como parámetro de regularización 0.01, ya que es el que mayor precisión otorga al conjunto de validación. Una vez seleccionado el parámetro de regularización procedemos a crear un modelo con dicho parámetro, entrarlo con los datos de entrenamiento y obtener resultado para el nuevo conjunto de datos de test."
   ]
  },
  {
   "cell_type": "code",
   "execution_count": 37,
   "metadata": {},
   "outputs": [
    {
     "name": "stdout",
     "output_type": "stream",
     "text": [
      "La precisión del algoritmo implementado por los alumnos es: 83.09199501568341\n"
     ]
    }
   ],
   "source": [
    "log_reg = OurLogisticRegression(num_features=X_train.shape[1],num_labels=3,reg=0.01)\n",
    "log_reg.fit(X=X_train[:50000], Y=Y_train[:50000])\n",
    "print(\"La precisión del algoritmo implementado por los alumnos es: {}\".format(log_reg.score(Y_test,log_reg.predict(X_test))))"
   ]
  },
  {
   "cell_type": "markdown",
   "metadata": {},
   "source": [
    "Como conclusión a la Regresión Logísitca implementada, se ha obtenido una precisión del 83.09%"
   ]
  },
  {
   "cell_type": "markdown",
   "metadata": {},
   "source": [
    "### Regresión Logística Scikit-learn"
   ]
  },
  {
   "cell_type": "markdown",
   "metadata": {},
   "source": [
    "En este apartado se realizarán pruebas sobre los diferentes modelos de optimización existentes en Regresión Logística en la librería de scikit-learn. Primero obtendremos el algoritmo con mayor porcentaje de precisión sobre los datos de validación y tras ello se aplicarán diferentes configuraciones, para finalmente realizar predicciones sobre el tercer conjunto de datos, Test."
   ]
  },
  {
   "cell_type": "code",
   "execution_count": 38,
   "metadata": {},
   "outputs": [],
   "source": [
    "models = ['newton-cg', 'lbfgs', 'liblinear', 'sag', 'saga']"
   ]
  },
  {
   "cell_type": "code",
   "execution_count": 39,
   "metadata": {},
   "outputs": [
    {
     "name": "stdout",
     "output_type": "stream",
     "text": [
      "La precisión con el algoritmo newton-cg sobre los datos de validación es: 83.00999033193683 % \n",
      "La precisión con el algoritmo lbfgs sobre los datos de validación es: 53.004619185734235 % \n",
      "La precisión con el algoritmo liblinear sobre los datos de validación es: 53.842517993339776 % \n",
      "La precisión con el algoritmo sag sobre los datos de validación es: 53.004619185734235 % \n",
      "La precisión con el algoritmo saga sobre los datos de validación es: 53.004619185734235 % \n"
     ]
    }
   ],
   "source": [
    "for solver in models:\n",
    "    if solver == \"liblinear\":\n",
    "        model = LogisticRegression(solver=solver)\n",
    "    else: \n",
    "        model = LogisticRegression(solver=solver, multi_class =\"multinomial\")\n",
    "    model.fit(X=X_train, y=Y_train)\n",
    "    print(\"La precisión con el algoritmo {} sobre los datos de validación es: {} % \".format(solver, model.score(X_val, Y_val) * 100))"
   ]
  },
  {
   "cell_type": "markdown",
   "metadata": {},
   "source": [
    "Escogemos el algoritmo de optimización newton-cg y creamos curva de aprendizaje"
   ]
  },
  {
   "cell_type": "markdown",
   "metadata": {},
   "source": [
    "#### Curva de aprendizaje"
   ]
  },
  {
   "cell_type": "code",
   "execution_count": 41,
   "metadata": {},
   "outputs": [
    {
     "data": {
      "text/plain": [
       "Text(0.5, 1.0, 'Evolución de la precisión')"
      ]
     },
     "execution_count": 41,
     "metadata": {},
     "output_type": "execute_result"
    },
    {
     "data": {
      "image/png": "[encoded data removed]",
      "text/plain": [
       "<Figure size 1440x576 with 1 Axes>"
      ]
     },
     "metadata": {
      "needs_background": "light"
     },
     "output_type": "display_data"
    }
   ],
   "source": [
    "sizes = [100,500,1000,2000,3000,4000,5000,10000,50000,100000,150000,162907]\n",
    "acc_train_list = []\n",
    "acc_val_list = []\n",
    "\n",
    "for size in sizes:\n",
    "    \n",
    "    #Get new sets\n",
    "    new_train = train[:size]\n",
    "    new_val = val \n",
    "    X_train_local = np.array(new_train[features])\n",
    "    Y_train_local = np.array(new_train[target_classified])\n",
    "    X_val_local = np.array(new_val[features])\n",
    "    Y_val_local = np.array(new_val[target_classified])\n",
    "    \n",
    "    #Train with this size\n",
    "    model = LogisticRegression(solver='newton-cg', multi_class =\"multinomial\", C=1.5)\n",
    "    model.fit(X=X_train_local, y=Y_train_local)\n",
    "    #Get acc\n",
    "    acc_train = log_reg.score(Y_train_local,model.predict(X_train_local))\n",
    "    acc_val = log_reg.score(Y_val_local,model.predict(X_val_local))\n",
    "    acc_train_list.append(acc_train)\n",
    "    acc_val_list.append(acc_val)\n",
    "\n",
    "plt.figure(figsize=(20,8))\n",
    "plt.plot(sizes,acc_train_list, color=\"blue\")\n",
    "plt.plot(sizes,acc_val_list, color=\"orange\")\n",
    "plt.legend(['train', 'val'])\n",
    "plt.ylabel('accuracy')\n",
    "plt.xlabel('Número de ejemplos')\n",
    "plt.title(\"Evolución de la precisión\")"
   ]
  },
  {
   "cell_type": "markdown",
   "metadata": {},
   "source": [
    "Como podemos observar en las gráficas anteriores a partir de conjutnos de entrenamiento de 50.000 elementos comienzan a converger la precisión en validación y entrenamiento, por lo que no interesaría introducir más datos y estudiar el modelo con esos tamaños."
   ]
  },
  {
   "cell_type": "markdown",
   "metadata": {},
   "source": [
    "#### Curva de validación"
   ]
  },
  {
   "cell_type": "code",
   "execution_count": 42,
   "metadata": {},
   "outputs": [],
   "source": [
    "C_params = [0.1, 0.5, 1 ,1.5, 2, 3, 5, 10]\n",
    "acc_train_list = []\n",
    "acc_val_list= []\n",
    "best_param = None\n",
    "best_acc = 0\n",
    "for C in C_params:\n",
    "    model = LogisticRegression(solver='newton-cg', multi_class =\"multinomial\", C=C)\n",
    "    model.fit(X=X_train[:50000], y=Y_train[:50000])\n",
    "    acc_train_list.append(log_reg.score(Y_train,model.predict(X_train)))\n",
    "    acc_val_list.append(log_reg.score(Y_val,model.predict(X_val)))  "
   ]
  },
  {
   "cell_type": "code",
   "execution_count": 43,
   "metadata": {},
   "outputs": [
    {
     "data": {
      "text/plain": [
       "Text(0.5, 1.0, 'Evolución de la precisión en función del parámetro C')"
      ]
     },
     "execution_count": 43,
     "metadata": {},
     "output_type": "execute_result"
    },
    {
     "data": {
      "image/png": "[encoded data removed]",
      "text/plain": [
       "<Figure size 1440x576 with 1 Axes>"
      ]
     },
     "metadata": {
      "needs_background": "light"
     },
     "output_type": "display_data"
    }
   ],
   "source": [
    "plt.figure(figsize=(20,8))\n",
    "plt.plot(C_params,acc_train_list, color=\"blue\")\n",
    "plt.plot(C_params,acc_val_list, color=\"orange\")\n",
    "plt.legend(['train', 'val'])\n",
    "plt.ylabel('accuracy')\n",
    "plt.xlabel('C param')\n",
    "plt.title(\"Evolución de la precisión en función del parámetro C\")"
   ]
  },
  {
   "cell_type": "markdown",
   "metadata": {},
   "source": [
    "Tras obtener la mejor configuración (C=10) ,la aplicamos al tercer conjunto de datos"
   ]
  },
  {
   "cell_type": "code",
   "execution_count": 45,
   "metadata": {},
   "outputs": [
    {
     "name": "stdout",
     "output_type": "stream",
     "text": [
      "La precisión del algoritmo implementado por la librería scikit-learn es: 83.09199501568341\n"
     ]
    }
   ],
   "source": [
    "model = LogisticRegression(solver='newton-cg', multi_class =\"multinomial\", C=10)\n",
    "model.fit(X=X_train[:50000], y=Y_train[:50000])\n",
    "print(\"La precisión del algoritmo implementado por la librería scikit-learn es: {}\".format(log_reg.score(Y_test,log_reg.predict(X_test))))"
   ]
  },
  {
   "cell_type": "markdown",
   "metadata": {},
   "source": [
    "Como conlusión a la Regresión Logísitca implementada por la librería de scikit-learn, se ha obtenido una precisión del 83.09%"
   ]
  },
  {
   "cell_type": "markdown",
   "metadata": {},
   "source": [
    "Como conclusión a este apartado de Regresión Logística podemos afirmar que la mejor precisión obtenida tanto por la implementación realizada por los alumnos como la librería scikit learn, otorgan una precisión del 83,09%."
   ]
  },
  {
   "cell_type": "markdown",
   "metadata": {},
   "source": [
    "## Redes Neuronales"
   ]
  },
  {
   "cell_type": "code",
   "execution_count": 119,
   "metadata": {},
   "outputs": [],
   "source": [
    "def sigmoid(X):\n",
    "    return 1 / (1 + np.exp(-X))\n",
    "\n",
    "def sigmoid_prime(z):\n",
    "    return sigmoid(z) * (1 - sigmoid(z))\n",
    "\n",
    "def random_weights(L_in, L_out, epsilon = 0.0001):\n",
    "    return np.random.random((L_in, L_out)) * (2 * epsilon) - epsilon\n",
    "\n",
    "# Forward propagation\n",
    "def forward_propagate(X, theta1, theta2):\n",
    "    m = X.shape[0]\n",
    "\n",
    "    a1 = np.hstack([np.ones([m, 1]), X])\n",
    "    z2 = np.dot(a1, theta1.T)\n",
    "    a2 = np.hstack([np.ones([m, 1]), sigmoid(z2)])\n",
    "    z3 = np.dot(a2, theta2.T)\n",
    "    h = sigmoid(z3)\n",
    "\n",
    "    return a1, z2, a2, z3, h"
   ]
  },
  {
   "cell_type": "code",
   "execution_count": null,
   "metadata": {},
   "outputs": [],
   "source": [
    "# Gradient function\n",
    "def gradient(x, y, theta1,theta2, reg = 0):\n",
    "    m = x.shape[0]\n",
    "    \n",
    "    delta1 = np.zeros(theta1.shape)  # (25, 401)\n",
    "    delta2 = np.zeros(theta2.shape)  # (10, 26)\n",
    "\n",
    "    a1, z2, a2, z3, h = forward_propagate(x, theta1, theta2)\n",
    "\n",
    "    \n",
    "    #print(\"Theta1:{}\".format(random_theta1.shape))\n",
    "    #print(\"Theta2:{}\".format(random_theta2.shape))\n",
    "    \n",
    "    for t in range(m):    \n",
    "        a1t = a1[t, :] \n",
    "        #print(\"A1:{}\".format(a1.shape))\n",
    "        a2t = a2[t, :] \n",
    "        #print(\"A2:{}\".format(a2.shape))\n",
    "        ht = h[t, :]  \n",
    "        #print(\"H:{}\".format(ht.shape))\n",
    "        yt = y[t]  \n",
    "        #print(\"yt:{}\".format(yt.shape))        \n",
    "        d3t = ht - yt  \n",
    "        #print(\"d3t:{}\".format(d3t.shape))        \n",
    "        d2t = np.dot(theta2.T, d3t) * (a2t * (1 - a2t)) \n",
    "        #print(\"d2t:{}\".format(d2t.shape))\n",
    "        delta1 = delta1 + np.dot(d2t[1:, np.newaxis], a1t[np.newaxis, :])\n",
    "        delta1[1:, :] += (theta1[1:, :] * (reg / m))\n",
    "        #print(\"delta1:{}\".format(delta1.shape))\n",
    "        delta2 = delta2 + np.dot(d3t[:, np.newaxis], a2t[np.newaxis, :])\n",
    "        delta2[1:, :] += (theta2[1:, :] * (reg / m))\n",
    "        #print(\"delta2:{}\".format(delta2.shape))\n",
    "    \n",
    "    return np.concatenate((np.ravel(delta1 / x.shape[0]) , np.ravel(delta2 / x.shape[0])))"
   ]
  },
  {
   "cell_type": "code",
   "execution_count": null,
   "metadata": {},
   "outputs": [],
   "source": [
    "def cost(X, y, theta1, theta2, num_etiquetas, reg=0):\n",
    "    a1, z2, a2, z3, h = forward_propagate(X, theta1, theta2)\n",
    "    m = X.shape[0]\n",
    "\n",
    "    J = 0\n",
    "    for i in range(m):\n",
    "        J += np.sum(-y[i] * np.log(h[i]) - (1 - y[i]) * np.log(1 - h[i]))\n",
    "    J = J / m\n",
    "\n",
    "    sum_theta1 = np.sum(np.square(theta1[:, 1:]))\n",
    "    sum_theta2 = np.sum(np.square(theta2[:, 1:]))\n",
    "\n",
    "    term_3 = (sum_theta1 + sum_theta2) * (reg / (2 * m))\n",
    "\n",
    "    return J + term_3\n"
   ]
  },
  {
   "cell_type": "code",
   "execution_count": null,
   "metadata": {},
   "outputs": [],
   "source": [
    "# Cost function\n",
    "def backprop(params_rn, num_entradas, num_ocultas, num_etiquetas, X, y, reg):\n",
    "    \"\"\" backprop devuelve el coste y el gradiente de una red neuronal de dos capas \"\"\"\n",
    "    theta1 = np.reshape(params_rn[:num_ocultas * (num_entradas + 1)], (num_ocultas, (num_entradas + 1)))\n",
    "    theta2 = np.reshape(params_rn[num_ocultas * (num_entradas + 1):], (num_etiquetas, (num_ocultas + 1)))\n",
    "\n",
    "    return cost(X, y, theta1, theta2, num_etiquetas, reg), gradient(X, y, theta1, theta2)"
   ]
  },
  {
   "cell_type": "code",
   "execution_count": 120,
   "metadata": {},
   "outputs": [],
   "source": [
    "def predict_nn(X, h):\n",
    "    return [(np.argmax(h[image]) + 1) for image in range(X.shape[0])]"
   ]
  },
  {
   "cell_type": "code",
   "execution_count": null,
   "metadata": {},
   "outputs": [],
   "source": []
  },
  {
   "cell_type": "code",
   "execution_count": null,
   "metadata": {},
   "outputs": [],
   "source": []
  },
  {
   "cell_type": "code",
   "execution_count": null,
   "metadata": {},
   "outputs": [],
   "source": []
  },
  {
   "cell_type": "code",
   "execution_count": null,
   "metadata": {},
   "outputs": [],
   "source": []
  },
  {
   "cell_type": "code",
   "execution_count": null,
   "metadata": {},
   "outputs": [],
   "source": []
  },
  {
   "cell_type": "markdown",
   "metadata": {},
   "source": [
    "## Máquinas de vector de soporte"
   ]
  },
  {
   "cell_type": "markdown",
   "metadata": {},
   "source": [
    "Previamente, dado que actuamente la variable popularidad es una variable continua deberemos discretizarla,para ello se escogerá la columna 'popularity class' como variable objetivo donde:\n",
    "- Alta (2): Popularidad > 70\n",
    "- Popularidad Media (1) : 40 <= Popularidad <= 70\n",
    "- Popularidad Baja (0): Popularidad < 40"
   ]
  },
  {
   "cell_type": "markdown",
   "metadata": {},
   "source": [
    "Dado que esta técnica tiene un coste en tiempo muy elevado, antes de realizar curvas de validación se ha optado por añadir curvas de aprendizaje para conocer a partir de qué cantidad de datos no se adquiere una mejora sustancial del modelo.Se estudiará el comportamiento de dos algoritmos de optimización:"
   ]
  },
  {
   "cell_type": "markdown",
   "metadata": {},
   "source": [
    "#### Kernel Lineal"
   ]
  },
  {
   "cell_type": "markdown",
   "metadata": {},
   "source": [
    "Primero, realizamos una curva de aprendizaje para conocer a partir de qué número de ejemplos, dejamos de obtener una mejora sustancial en la precisión del modelo:"
   ]
  },
  {
   "cell_type": "markdown",
   "metadata": {},
   "source": [
    "##### Curva de aprendizaje"
   ]
  },
  {
   "cell_type": "code",
   "execution_count": 53,
   "metadata": {},
   "outputs": [
    {
     "data": {
      "text/plain": [
       "Text(0.5, 1.0, 'Evolución de la precisión')"
      ]
     },
     "execution_count": 53,
     "metadata": {},
     "output_type": "execute_result"
    },
    {
     "data": {
      "image/png": "[encoded data removed]",
      "text/plain": [
       "<Figure size 432x288 with 1 Axes>"
      ]
     },
     "metadata": {
      "needs_background": "light"
     },
     "output_type": "display_data"
    }
   ],
   "source": [
    "acc_train_list = []\n",
    "acc_val_list = []\n",
    "sizes = [100,500,1000,2000,3000]\n",
    "\n",
    "for size in sizes:\n",
    "    #Get new sets\n",
    "    new_train = train[:size]\n",
    "    new_val = val\n",
    "    X_train_local = np.array(new_train[features])\n",
    "    Y_train_local = np.array(new_train[target_classified])\n",
    "    X_val_local = np.array(new_val[features])\n",
    "    Y_val_local = np.array(new_val[target_classified])\n",
    "    #Train with this size\n",
    "    svm = SVC(kernel='linear')\n",
    "    svm.fit(X_train_local, Y_train_local)\n",
    "    #Get acc\n",
    "    acc_train = accuracy_score(Y_train_local,svm.predict(X_train_local))\n",
    "    acc_val = accuracy_score(Y_val_local,svm.predict(X_val_local))\n",
    "    acc_train_list.append(acc_train)\n",
    "    acc_val_list.append(acc_val)\n",
    "    \n",
    "plt.plot(sizes,acc_train_list, color=\"blue\")\n",
    "plt.plot(sizes,acc_val_list, color=\"orange\")\n",
    "plt.legend(['train', 'val'])\n",
    "plt.ylabel('accuracy')\n",
    "plt.xlabel('Número de ejemplos')\n",
    "plt.title(\"Evolución de la precisión\")"
   ]
  },
  {
   "cell_type": "markdown",
   "metadata": {},
   "source": [
    "Como podemos ver en la gráfica anterior, los valores no terminan de converger hacia un mismo punto, por lo que probando con conjuntos mas grándes podamos obtener una mayor precisión, sin embargo no se probará conjutnos de mayor tamaño dado el coste en tiempo de realizarlo"
   ]
  },
  {
   "cell_type": "markdown",
   "metadata": {},
   "source": [
    "A continuacion, debido a la complejidad en tiempo no se realiza una gráfica de validación, pero si se prueba con valores típicos del parámetro C (C=1, C= 0.01)"
   ]
  },
  {
   "cell_type": "code",
   "execution_count": 57,
   "metadata": {},
   "outputs": [
    {
     "name": "stdout",
     "output_type": "stream",
     "text": [
      "La precisión obtenida por SVM con kernel lineal y C=1 es: 0.5702640156653797\n"
     ]
    }
   ],
   "source": [
    "svm = SVC(kernel='linear', C=1)\n",
    "svm.fit(X_train[:2000], Y_train[:2000])\n",
    "print(\"La precisión obtenida por SVM con kernel lineal y C=1 es: {}\".format(accuracy_score(Y_train,svm.predict(X_train))))"
   ]
  },
  {
   "cell_type": "code",
   "execution_count": 58,
   "metadata": {},
   "outputs": [
    {
     "name": "stdout",
     "output_type": "stream",
     "text": [
      "La precisión obtenida por SVM con kernel lineal y C=0.01 es  0.568987213563567\n"
     ]
    }
   ],
   "source": [
    "svm = SVC(kernel='linear', C=0.01)\n",
    "svm.fit(X_train[:2000], Y_train[:2000])\n",
    "print(\"La precisión obtenida por SVM con kernel lineal y C=0.01 es  {}\".format(accuracy_score(Y_train,svm.predict(X_train))))"
   ]
  },
  {
   "cell_type": "markdown",
   "metadata": {},
   "source": [
    "#### Kernel rbf"
   ]
  },
  {
   "cell_type": "markdown",
   "metadata": {},
   "source": [
    "Primero, realizamos una curva de aprendizaje para conocer a partir de qué número de ejemplos, dejamos de obtener una mejora sustancial en la precisión del modelo con las configuraciones predeterminadas de la librería de scikit learn"
   ]
  },
  {
   "cell_type": "code",
   "execution_count": 47,
   "metadata": {},
   "outputs": [
    {
     "data": {
      "text/plain": [
       "Text(0.5, 1.0, 'Curva de aprendizaje')"
      ]
     },
     "execution_count": 47,
     "metadata": {},
     "output_type": "execute_result"
    },
    {
     "data": {
      "image/png": "[encoded data removed]",
      "text/plain": [
       "<Figure size 432x288 with 1 Axes>"
      ]
     },
     "metadata": {
      "needs_background": "light"
     },
     "output_type": "display_data"
    }
   ],
   "source": [
    "acc_train_list = []\n",
    "acc_val_list = []\n",
    "sizes = [100,500,1000,2000,3000,10000]\n",
    "\n",
    "for size in sizes:\n",
    "    #Get new sets\n",
    "    new_train = train[:size]\n",
    "    new_val = val\n",
    "    X_train_local = np.array(new_train[features])\n",
    "    Y_train_local = np.array(new_train[target_classified])\n",
    "    X_val_local = np.array(new_val[features])\n",
    "    Y_val_local = np.array(new_val[target_classified])\n",
    "    #Train with this size\n",
    "    svm = SVC(kernel='rbf')\n",
    "    svm.fit(X_train_local, Y_train_local)\n",
    "    #Get acc\n",
    "    acc_train = accuracy_score(Y_train_local,svm.predict(X_train_local))\n",
    "    acc_val = accuracy_score(Y_val_local,svm.predict(X_val_local))\n",
    "    acc_train_list.append(acc_train)\n",
    "    acc_val_list.append(acc_val)\n",
    "\n",
    "plt.plot(sizes,acc_train_list, color=\"blue\")\n",
    "plt.plot(sizes,acc_val_list, color=\"orange\")\n",
    "plt.legend(['train', 'val'])\n",
    "plt.ylabel('accuracy')\n",
    "plt.xlabel('Número de ejemplos')\n",
    "plt.title(\"Curva de aprendizaje\")\n",
    "    "
   ]
  },
  {
   "cell_type": "markdown",
   "metadata": {},
   "source": [
    "Como podemos ver en la gráfica anterior, a partir de X ejemplos, la precisión en el conjunto de validación no cambia en gran medida. A continuación procedemos a realziar gráficas de validación para conocer el mejor hiperparámetro gamma y C, en estas gráficas se utilzará de tamaño de conjunto de entrenamiento 10000, se ha elegido este puntocomo se podía haber elegido 6000,7000... ya que con todos se obtiene prácticamente la misma precisión en el conjunto de valdiación de la gráfica anterior."
   ]
  },
  {
   "cell_type": "markdown",
   "metadata": {},
   "source": [
    "Buscamos el mejor hiperparámetro C"
   ]
  },
  {
   "cell_type": "code",
   "execution_count": 49,
   "metadata": {},
   "outputs": [
    {
     "data": {
      "text/plain": [
       "Text(0.5, 1.0, 'Evolución de la precisión en función del parámetro C')"
      ]
     },
     "execution_count": 49,
     "metadata": {},
     "output_type": "execute_result"
    },
    {
     "data": {
      "image/png": "[encoded data removed]",
      "text/plain": [
       "<Figure size 1440x576 with 1 Axes>"
      ]
     },
     "metadata": {
      "needs_background": "light"
     },
     "output_type": "display_data"
    }
   ],
   "source": [
    "C_params = [0.01,0.1, 10]\n",
    "acc_train_list = []\n",
    "acc_val_list= []\n",
    "for C in C_params:\n",
    "    svm = SVC(kernel='rbf', C=C)\n",
    "    svm.fit(X_train[:10000], Y_train[:10000])\n",
    "    acc_train_list.append(accuracy_score(Y_train,svm.predict(X_train)))\n",
    "    acc_val_list.append(accuracy_score(Y_val,svm.predict(X_val)))  \n",
    "\n",
    "plt.figure(figsize=(20,8))\n",
    "plt.plot(C_params,acc_train_list, color=\"blue\")\n",
    "plt.plot(C_params,acc_val_list, color=\"orange\")\n",
    "plt.legend(['train', 'val'])\n",
    "plt.ylabel('accuracy')\n",
    "plt.xlabel('C param')\n",
    "plt.title(\"Evolución de la precisión en función del parámetro C\")"
   ]
  },
  {
   "cell_type": "markdown",
   "metadata": {},
   "source": [
    "Buscamos el mejor hiperparámetro gamma, utilziando el mejor C obtenido, enbese caso la mejor precisión se obtiene con C = 0.01."
   ]
  },
  {
   "cell_type": "code",
   "execution_count": 50,
   "metadata": {},
   "outputs": [
    {
     "name": "stdout",
     "output_type": "stream",
     "text": [
      "La precisión con C=0.01 y gamma =0.1 es : 0.5300461918573424%\n",
      "La precisión con C=0.01 y gamma =auto es : 0.5300461918573424%\n",
      "La precisión con C=0.01 y gamma =scale es : 0.5866580728327425%\n"
     ]
    }
   ],
   "source": [
    "gamma_params = [0.1,'auto','scale']\n",
    "acc_train_list = []\n",
    "acc_val_list= []\n",
    "best_param = None\n",
    "best_acc = 0\n",
    "for g in gamma_params:\n",
    "    svm = SVC(kernel='rbf', C=0.01, gamma=g)\n",
    "    svm.fit(X_train[:10000], Y_train[:10000])\n",
    "    acc_val_list.append(accuracy_score(Y_val,svm.predict(X_val)))  \n",
    "    print(\"La precisión con C=0.01 y gamma ={} es : {}%\".format(g,accuracy_score(Y_val,svm.predict(X_val))))"
   ]
  },
  {
   "cell_type": "markdown",
   "metadata": {},
   "source": [
    "Le mejor configuración obtenida por tanto es utilizar el conjutno de entrenamientro con 10.000 ejemplos, hiperparámetros:\n",
    "- C = 0.01\n",
    "- gamma= 1 / (n_features * X.var())  (sckiti-learn metric)"
   ]
  },
  {
   "cell_type": "code",
   "execution_count": 51,
   "metadata": {},
   "outputs": [
    {
     "name": "stdout",
     "output_type": "stream",
     "text": [
      "La precisión obtenida por SVM con kernel rbf con C=0.01  y gamma=scale es 0.5866580728327425\n"
     ]
    }
   ],
   "source": [
    "svm = SVC(kernel='rbf', C=0.01, gamma='scale')\n",
    "svm.fit(X_train[:10000], Y_train[:10000])\n",
    "print(\"La precisión obtenida por SVM con kernel rbf con C={}  y gamma={} es {}\".format(0.01,'scale',accuracy_score(Y_val,svm.predict(X_val))))"
   ]
  },
  {
   "cell_type": "markdown",
   "metadata": {},
   "source": [
    "La precisión obtenida con Kernel RBF y su mejor configruación C=0.01, gamma=scale es 58.66%"
   ]
  },
  {
   "cell_type": "markdown",
   "metadata": {},
   "source": [
    "## Conclusiones"
   ]
  }
 ],
 "metadata": {
  "kernelspec": {
   "display_name": "Python 3",
   "language": "python",
   "name": "python3"
  },
  "language_info": {
   "codemirror_mode": {
    "name": "ipython",
    "version": 3
   },
   "file_extension": ".py",
   "mimetype": "text/x-python",
   "name": "python",
   "nbconvert_exporter": "python",
   "pygments_lexer": "ipython3",
   "version": "3.7.4"
  }
 },
 "nbformat": 4,
 "nbformat_minor": 2
}
